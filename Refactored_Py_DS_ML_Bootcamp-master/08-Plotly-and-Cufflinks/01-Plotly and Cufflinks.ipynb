{
 "cells": [
  {
   "cell_type": "markdown",
   "metadata": {},
   "source": [
    "___\n",
    "\n",
    "<a href='http://www.pieriandata.com'> <img src='../Pierian_Data_Logo.png' /></a>\n",
    "___\n",
    "# Plotly and Cufflinks"
   ]
  },
  {
   "cell_type": "markdown",
   "metadata": {},
   "source": [
    "Plotly is a library that allows you to create interactive plots that you can use in dashboards or websites (you can save them as html files or static images).\n",
    "\n",
    "## Installation\n",
    "\n",
    "In order for this all to work, you'll need to install plotly and cufflinks to call plots directly off of a pandas dataframe. These libraries are not currently available through **conda** but are available through **pip**. Install the libraries at your command line/terminal using:\n",
    "\n",
    "    pip install plotly\n",
    "    pip install cufflinks\n",
    "\n",
    "** NOTE: Make sure you only have one installation of Python on your computer when you do this, otherwise the installation may not work. **\n",
    "\n",
    "## Imports and Set-up"
   ]
  },
  {
   "cell_type": "code",
   "execution_count": 1,
   "metadata": {},
   "outputs": [],
   "source": [
    "import pandas as pd\n",
    "import numpy as np\n",
    "%matplotlib inline"
   ]
  },
  {
   "cell_type": "code",
   "execution_count": 2,
   "metadata": {},
   "outputs": [
    {
     "name": "stdout",
     "output_type": "stream",
     "text": [
      "5.9.0\n"
     ]
    }
   ],
   "source": [
    "from plotly import __version__\n",
    "from plotly.offline import download_plotlyjs, init_notebook_mode, plot, iplot\n",
    "\n",
    "print(__version__) # requires version >= 1.9.0"
   ]
  },
  {
   "cell_type": "code",
   "execution_count": 4,
   "metadata": {},
   "outputs": [],
   "source": [
    "import cufflinks as cf"
   ]
  },
  {
   "cell_type": "code",
   "execution_count": 5,
   "metadata": {},
   "outputs": [
    {
     "data": {
      "text/html": [
       "        <script type=\"text/javascript\">\n",
       "        window.PlotlyConfig = {MathJaxConfig: 'local'};\n",
       "        if (window.MathJax && window.MathJax.Hub && window.MathJax.Hub.Config) {window.MathJax.Hub.Config({SVG: {font: \"STIX-Web\"}});}\n",
       "        if (typeof require !== 'undefined') {\n",
       "        require.undef(\"plotly\");\n",
       "        requirejs.config({\n",
       "            paths: {\n",
       "                'plotly': ['https://cdn.plot.ly/plotly-2.12.1.min']\n",
       "            }\n",
       "        });\n",
       "        require(['plotly'], function(Plotly) {\n",
       "            window._Plotly = Plotly;\n",
       "        });\n",
       "        }\n",
       "        </script>\n",
       "        "
      ]
     },
     "metadata": {},
     "output_type": "display_data"
    }
   ],
   "source": [
    "# For Notebooks\n",
    "init_notebook_mode(connected=True)"
   ]
  },
  {
   "cell_type": "code",
   "execution_count": 6,
   "metadata": {},
   "outputs": [
    {
     "data": {
      "text/html": [
       "        <script type=\"text/javascript\">\n",
       "        window.PlotlyConfig = {MathJaxConfig: 'local'};\n",
       "        if (window.MathJax && window.MathJax.Hub && window.MathJax.Hub.Config) {window.MathJax.Hub.Config({SVG: {font: \"STIX-Web\"}});}\n",
       "        if (typeof require !== 'undefined') {\n",
       "        require.undef(\"plotly\");\n",
       "        requirejs.config({\n",
       "            paths: {\n",
       "                'plotly': ['https://cdn.plot.ly/plotly-2.12.1.min']\n",
       "            }\n",
       "        });\n",
       "        require(['plotly'], function(Plotly) {\n",
       "            window._Plotly = Plotly;\n",
       "        });\n",
       "        }\n",
       "        </script>\n",
       "        "
      ]
     },
     "metadata": {},
     "output_type": "display_data"
    }
   ],
   "source": [
    "# For offline use\n",
    "cf.go_offline()"
   ]
  },
  {
   "cell_type": "markdown",
   "metadata": {},
   "source": [
    "### Fake Data"
   ]
  },
  {
   "cell_type": "code",
   "execution_count": 7,
   "metadata": {},
   "outputs": [],
   "source": [
    "df = pd.DataFrame(np.random.randn(100,4),columns='A B C D'.split())"
   ]
  },
  {
   "cell_type": "code",
   "execution_count": 8,
   "metadata": {},
   "outputs": [
    {
     "data": {
      "text/html": [
       "<div>\n",
       "<style scoped>\n",
       "    .dataframe tbody tr th:only-of-type {\n",
       "        vertical-align: middle;\n",
       "    }\n",
       "\n",
       "    .dataframe tbody tr th {\n",
       "        vertical-align: top;\n",
       "    }\n",
       "\n",
       "    .dataframe thead th {\n",
       "        text-align: right;\n",
       "    }\n",
       "</style>\n",
       "<table border=\"1\" class=\"dataframe\">\n",
       "  <thead>\n",
       "    <tr style=\"text-align: right;\">\n",
       "      <th></th>\n",
       "      <th>A</th>\n",
       "      <th>B</th>\n",
       "      <th>C</th>\n",
       "      <th>D</th>\n",
       "    </tr>\n",
       "  </thead>\n",
       "  <tbody>\n",
       "    <tr>\n",
       "      <th>0</th>\n",
       "      <td>-0.565641</td>\n",
       "      <td>0.564517</td>\n",
       "      <td>-2.146740</td>\n",
       "      <td>-0.615162</td>\n",
       "    </tr>\n",
       "    <tr>\n",
       "      <th>1</th>\n",
       "      <td>1.036079</td>\n",
       "      <td>-0.339324</td>\n",
       "      <td>-0.253013</td>\n",
       "      <td>0.864218</td>\n",
       "    </tr>\n",
       "    <tr>\n",
       "      <th>2</th>\n",
       "      <td>-0.034412</td>\n",
       "      <td>-1.121520</td>\n",
       "      <td>-0.467801</td>\n",
       "      <td>1.615008</td>\n",
       "    </tr>\n",
       "    <tr>\n",
       "      <th>3</th>\n",
       "      <td>0.231823</td>\n",
       "      <td>1.600272</td>\n",
       "      <td>1.460636</td>\n",
       "      <td>-0.280295</td>\n",
       "    </tr>\n",
       "    <tr>\n",
       "      <th>4</th>\n",
       "      <td>1.008899</td>\n",
       "      <td>1.501621</td>\n",
       "      <td>-1.053029</td>\n",
       "      <td>-0.641989</td>\n",
       "    </tr>\n",
       "  </tbody>\n",
       "</table>\n",
       "</div>"
      ],
      "text/plain": [
       "          A         B         C         D\n",
       "0 -0.565641  0.564517 -2.146740 -0.615162\n",
       "1  1.036079 -0.339324 -0.253013  0.864218\n",
       "2 -0.034412 -1.121520 -0.467801  1.615008\n",
       "3  0.231823  1.600272  1.460636 -0.280295\n",
       "4  1.008899  1.501621 -1.053029 -0.641989"
      ]
     },
     "execution_count": 8,
     "metadata": {},
     "output_type": "execute_result"
    }
   ],
   "source": [
    "df.head()"
   ]
  },
  {
   "cell_type": "code",
   "execution_count": 9,
   "metadata": {},
   "outputs": [],
   "source": [
    "df2 = pd.DataFrame({'Category':['A','B','C'],'Values':[32,43,50]})"
   ]
  },
  {
   "cell_type": "code",
   "execution_count": 10,
   "metadata": {},
   "outputs": [
    {
     "data": {
      "text/html": [
       "<div>\n",
       "<style scoped>\n",
       "    .dataframe tbody tr th:only-of-type {\n",
       "        vertical-align: middle;\n",
       "    }\n",
       "\n",
       "    .dataframe tbody tr th {\n",
       "        vertical-align: top;\n",
       "    }\n",
       "\n",
       "    .dataframe thead th {\n",
       "        text-align: right;\n",
       "    }\n",
       "</style>\n",
       "<table border=\"1\" class=\"dataframe\">\n",
       "  <thead>\n",
       "    <tr style=\"text-align: right;\">\n",
       "      <th></th>\n",
       "      <th>Category</th>\n",
       "      <th>Values</th>\n",
       "    </tr>\n",
       "  </thead>\n",
       "  <tbody>\n",
       "    <tr>\n",
       "      <th>0</th>\n",
       "      <td>A</td>\n",
       "      <td>32</td>\n",
       "    </tr>\n",
       "    <tr>\n",
       "      <th>1</th>\n",
       "      <td>B</td>\n",
       "      <td>43</td>\n",
       "    </tr>\n",
       "    <tr>\n",
       "      <th>2</th>\n",
       "      <td>C</td>\n",
       "      <td>50</td>\n",
       "    </tr>\n",
       "  </tbody>\n",
       "</table>\n",
       "</div>"
      ],
      "text/plain": [
       "  Category  Values\n",
       "0        A      32\n",
       "1        B      43\n",
       "2        C      50"
      ]
     },
     "execution_count": 10,
     "metadata": {},
     "output_type": "execute_result"
    }
   ],
   "source": [
    "df2.head()"
   ]
  },
  {
   "cell_type": "markdown",
   "metadata": {},
   "source": [
    "## Using Cufflinks and iplot()\n",
    "\n",
    "* scatter\n",
    "* bar\n",
    "* box\n",
    "* spread\n",
    "* ratio\n",
    "* heatmap\n",
    "* surface\n",
    "* histogram\n",
    "* bubble"
   ]
  },
  {
   "cell_type": "markdown",
   "metadata": {},
   "source": [
    "## Scatter"
   ]
  },
  {
   "cell_type": "code",
   "execution_count": 13,
   "metadata": {},
   "outputs": [
    {
     "data": {
      "application/vnd.plotly.v1+json": {
       "config": {
        "linkText": "Export to plot.ly",
        "plotlyServerURL": "https://plot.ly",
        "showLink": true
       },
       "data": [
        {
         "line": {
          "color": "rgba(255, 153, 51, 1.0)",
          "dash": "solid",
          "shape": "linear",
          "width": 1.3
         },
         "marker": {
          "size": 10,
          "symbol": "circle"
         },
         "mode": "markers",
         "name": "B",
         "text": "",
         "type": "scatter",
         "x": [
          -0.5656412823360386,
          1.0360792852296468,
          -0.03441248758142155,
          0.23182280061860472,
          1.0088992008914284,
          -0.026715148537010024,
          -0.20315796235413472,
          0.5245229236865366,
          -3.2191295497186694,
          0.17164228604067813,
          0.582247745637063,
          0.9289059114631611,
          -0.7591861803041988,
          -0.24277993570070505,
          -0.1323275276500544,
          -0.5466769746668216,
          0.7177731503109126,
          -0.8191814660705794,
          -1.4310336841345486,
          0.2573153328506282,
          1.3408244257300779,
          0.486032440581521,
          -1.2308345803153686,
          -1.4608107584460366,
          0.8732239163610039,
          0.4567394249492647,
          -1.899861957922655,
          0.28173525063683097,
          -0.21805371925692918,
          1.2626935583320715,
          0.49886751555253367,
          1.4174111664802422,
          0.22660528690867696,
          -0.6502747916185775,
          0.16897409062805457,
          1.21279856642119,
          1.1143424086245766,
          -0.3483420722554928,
          -0.6696543666981883,
          -1.0632252096403403,
          -0.15225141923354557,
          1.316625588404699,
          1.1720151527353133,
          -0.027287875274585364,
          -1.0293154035381185,
          -0.37492772031126287,
          -0.04096023078323834,
          1.182570779299944,
          -1.376390923724631,
          -0.799936281543547,
          -0.707307351593801,
          0.02001897453784066,
          -0.978294769085192,
          0.8508279002602976,
          -0.5342831423012391,
          -0.36185037495602906,
          -0.8056130603514121,
          0.4111895792611264,
          0.004379479525213149,
          0.21780913118781245,
          0.6211677456201348,
          -0.7793003130748717,
          1.103489152734224,
          -1.7904817940423041,
          1.0010689343246126,
          1.8918588281108983,
          1.2977984640817777,
          0.3259841032981575,
          2.0815712057108744,
          0.8383496802803703,
          1.7472868342739443,
          -0.07719520587663783,
          0.9413390291554022,
          1.3834950208674481,
          -0.5569585432839406,
          -1.819230204577346,
          0.12169655584130164,
          1.5616824263876785,
          -0.45356471914135854,
          0.19676060898221412,
          0.009000319539798945,
          -0.2249124640829556,
          -0.2188737751900468,
          0.10764137132759453,
          0.11196929653740105,
          1.1665818342784908,
          -2.020826309495809,
          2.793163479046665,
          0.30526228066973804,
          -0.565887028976998,
          -0.2001466520368511,
          -0.5436753674793958,
          -1.343875859753172,
          0.6112457603338765,
          -0.7813886684840383,
          -1.22303424769474,
          0.4600825033400545,
          0.1383873846734834,
          -0.08138809268576497,
          0.8471112760129539
         ],
         "y": [
          0.5645172566075981,
          -0.33932437899341966,
          -1.121520210991983,
          1.6002719901100757,
          1.5016206296259804,
          2.2959127591084303,
          0.6159086177819855,
          -0.7571132946788054,
          -1.8527379210880608,
          -1.1387426139167482,
          -1.1802914715008073,
          0.4863930279547499,
          -0.1972727517360925,
          -0.7045335740979844,
          0.11636261009340494,
          1.1218343682379364,
          0.07716204469597837,
          1.6172483692207498,
          -0.6227123975706295,
          -0.8638472923389473,
          0.7772239006064957,
          -1.0875868898305794,
          -0.8172213602844036,
          -1.6344710636517614,
          0.4380072171404136,
          -0.7353431531149569,
          -1.3292240246460292,
          2.64076103804586,
          -0.29720784590850985,
          1.3985332624862092,
          -0.05460103642841293,
          -1.7202047580904671,
          -2.307117527573707,
          0.26916881133700654,
          -1.7677313247111384,
          0.6385315213928748,
          1.059188957948073,
          -0.671379236360241,
          -1.3058207439934062,
          -0.15458145256593406,
          0.06995526962442203,
          2.5835499038790664,
          -1.046700114776581,
          0.44717854638131416,
          3.0509553348921687,
          1.1735076138718559,
          0.8596597027344738,
          -2.254815679656594,
          0.9087384098230576,
          1.4794324312196547,
          -0.5279978184819706,
          0.11428912177813569,
          -0.3206006243579793,
          0.6369155364690917,
          0.7040933544865097,
          2.1455364197699187,
          -0.310185129037482,
          -1.1884618328539198,
          -0.15786482315368378,
          3.2186195666514505,
          -0.10773828423557187,
          0.002865138432579824,
          -1.1621439679443992,
          1.8796177622458385,
          -1.011011249558588,
          1.26112692119876,
          0.8353625334967835,
          0.2787037798133771,
          -0.29289336451730547,
          -1.210875011885804,
          -0.25852796048510923,
          0.6324642492884567,
          1.8235740793505282,
          0.3069505716985952,
          -2.329145297007603,
          -1.2353938452853468,
          -1.0033728108153268,
          0.0558782491122532,
          -0.004269293450762822,
          -0.5134075458464393,
          0.8650144157816739,
          0.9575917608001567,
          -0.37212330519918413,
          0.22569767089282858,
          -1.4353961812767824,
          0.6047693356914953,
          0.831598022335903,
          0.3532044398283273,
          -0.6478073247627921,
          0.2147827207375652,
          1.1972101878705765,
          -0.12637330565608457,
          1.3462423783258188,
          -0.03648857415205832,
          0.10886015509104147,
          0.31893671014852615,
          0.10171193001652372,
          0.975923288760046,
          0.4650211235038087,
          -0.6218275280285074
         ]
        }
       ],
       "layout": {
        "legend": {
         "bgcolor": "#F5F6F9",
         "font": {
          "color": "#4D5663"
         }
        },
        "paper_bgcolor": "#F5F6F9",
        "plot_bgcolor": "#F5F6F9",
        "template": {
         "data": {
          "bar": [
           {
            "error_x": {
             "color": "#2a3f5f"
            },
            "error_y": {
             "color": "#2a3f5f"
            },
            "marker": {
             "line": {
              "color": "#E5ECF6",
              "width": 0.5
             },
             "pattern": {
              "fillmode": "overlay",
              "size": 10,
              "solidity": 0.2
             }
            },
            "type": "bar"
           }
          ],
          "barpolar": [
           {
            "marker": {
             "line": {
              "color": "#E5ECF6",
              "width": 0.5
             },
             "pattern": {
              "fillmode": "overlay",
              "size": 10,
              "solidity": 0.2
             }
            },
            "type": "barpolar"
           }
          ],
          "carpet": [
           {
            "aaxis": {
             "endlinecolor": "#2a3f5f",
             "gridcolor": "white",
             "linecolor": "white",
             "minorgridcolor": "white",
             "startlinecolor": "#2a3f5f"
            },
            "baxis": {
             "endlinecolor": "#2a3f5f",
             "gridcolor": "white",
             "linecolor": "white",
             "minorgridcolor": "white",
             "startlinecolor": "#2a3f5f"
            },
            "type": "carpet"
           }
          ],
          "choropleth": [
           {
            "colorbar": {
             "outlinewidth": 0,
             "ticks": ""
            },
            "type": "choropleth"
           }
          ],
          "contour": [
           {
            "colorbar": {
             "outlinewidth": 0,
             "ticks": ""
            },
            "colorscale": [
             [
              0,
              "#0d0887"
             ],
             [
              0.1111111111111111,
              "#46039f"
             ],
             [
              0.2222222222222222,
              "#7201a8"
             ],
             [
              0.3333333333333333,
              "#9c179e"
             ],
             [
              0.4444444444444444,
              "#bd3786"
             ],
             [
              0.5555555555555556,
              "#d8576b"
             ],
             [
              0.6666666666666666,
              "#ed7953"
             ],
             [
              0.7777777777777778,
              "#fb9f3a"
             ],
             [
              0.8888888888888888,
              "#fdca26"
             ],
             [
              1,
              "#f0f921"
             ]
            ],
            "type": "contour"
           }
          ],
          "contourcarpet": [
           {
            "colorbar": {
             "outlinewidth": 0,
             "ticks": ""
            },
            "type": "contourcarpet"
           }
          ],
          "heatmap": [
           {
            "colorbar": {
             "outlinewidth": 0,
             "ticks": ""
            },
            "colorscale": [
             [
              0,
              "#0d0887"
             ],
             [
              0.1111111111111111,
              "#46039f"
             ],
             [
              0.2222222222222222,
              "#7201a8"
             ],
             [
              0.3333333333333333,
              "#9c179e"
             ],
             [
              0.4444444444444444,
              "#bd3786"
             ],
             [
              0.5555555555555556,
              "#d8576b"
             ],
             [
              0.6666666666666666,
              "#ed7953"
             ],
             [
              0.7777777777777778,
              "#fb9f3a"
             ],
             [
              0.8888888888888888,
              "#fdca26"
             ],
             [
              1,
              "#f0f921"
             ]
            ],
            "type": "heatmap"
           }
          ],
          "heatmapgl": [
           {
            "colorbar": {
             "outlinewidth": 0,
             "ticks": ""
            },
            "colorscale": [
             [
              0,
              "#0d0887"
             ],
             [
              0.1111111111111111,
              "#46039f"
             ],
             [
              0.2222222222222222,
              "#7201a8"
             ],
             [
              0.3333333333333333,
              "#9c179e"
             ],
             [
              0.4444444444444444,
              "#bd3786"
             ],
             [
              0.5555555555555556,
              "#d8576b"
             ],
             [
              0.6666666666666666,
              "#ed7953"
             ],
             [
              0.7777777777777778,
              "#fb9f3a"
             ],
             [
              0.8888888888888888,
              "#fdca26"
             ],
             [
              1,
              "#f0f921"
             ]
            ],
            "type": "heatmapgl"
           }
          ],
          "histogram": [
           {
            "marker": {
             "pattern": {
              "fillmode": "overlay",
              "size": 10,
              "solidity": 0.2
             }
            },
            "type": "histogram"
           }
          ],
          "histogram2d": [
           {
            "colorbar": {
             "outlinewidth": 0,
             "ticks": ""
            },
            "colorscale": [
             [
              0,
              "#0d0887"
             ],
             [
              0.1111111111111111,
              "#46039f"
             ],
             [
              0.2222222222222222,
              "#7201a8"
             ],
             [
              0.3333333333333333,
              "#9c179e"
             ],
             [
              0.4444444444444444,
              "#bd3786"
             ],
             [
              0.5555555555555556,
              "#d8576b"
             ],
             [
              0.6666666666666666,
              "#ed7953"
             ],
             [
              0.7777777777777778,
              "#fb9f3a"
             ],
             [
              0.8888888888888888,
              "#fdca26"
             ],
             [
              1,
              "#f0f921"
             ]
            ],
            "type": "histogram2d"
           }
          ],
          "histogram2dcontour": [
           {
            "colorbar": {
             "outlinewidth": 0,
             "ticks": ""
            },
            "colorscale": [
             [
              0,
              "#0d0887"
             ],
             [
              0.1111111111111111,
              "#46039f"
             ],
             [
              0.2222222222222222,
              "#7201a8"
             ],
             [
              0.3333333333333333,
              "#9c179e"
             ],
             [
              0.4444444444444444,
              "#bd3786"
             ],
             [
              0.5555555555555556,
              "#d8576b"
             ],
             [
              0.6666666666666666,
              "#ed7953"
             ],
             [
              0.7777777777777778,
              "#fb9f3a"
             ],
             [
              0.8888888888888888,
              "#fdca26"
             ],
             [
              1,
              "#f0f921"
             ]
            ],
            "type": "histogram2dcontour"
           }
          ],
          "mesh3d": [
           {
            "colorbar": {
             "outlinewidth": 0,
             "ticks": ""
            },
            "type": "mesh3d"
           }
          ],
          "parcoords": [
           {
            "line": {
             "colorbar": {
              "outlinewidth": 0,
              "ticks": ""
             }
            },
            "type": "parcoords"
           }
          ],
          "pie": [
           {
            "automargin": true,
            "type": "pie"
           }
          ],
          "scatter": [
           {
            "fillpattern": {
             "fillmode": "overlay",
             "size": 10,
             "solidity": 0.2
            },
            "type": "scatter"
           }
          ],
          "scatter3d": [
           {
            "line": {
             "colorbar": {
              "outlinewidth": 0,
              "ticks": ""
             }
            },
            "marker": {
             "colorbar": {
              "outlinewidth": 0,
              "ticks": ""
             }
            },
            "type": "scatter3d"
           }
          ],
          "scattercarpet": [
           {
            "marker": {
             "colorbar": {
              "outlinewidth": 0,
              "ticks": ""
             }
            },
            "type": "scattercarpet"
           }
          ],
          "scattergeo": [
           {
            "marker": {
             "colorbar": {
              "outlinewidth": 0,
              "ticks": ""
             }
            },
            "type": "scattergeo"
           }
          ],
          "scattergl": [
           {
            "marker": {
             "colorbar": {
              "outlinewidth": 0,
              "ticks": ""
             }
            },
            "type": "scattergl"
           }
          ],
          "scattermapbox": [
           {
            "marker": {
             "colorbar": {
              "outlinewidth": 0,
              "ticks": ""
             }
            },
            "type": "scattermapbox"
           }
          ],
          "scatterpolar": [
           {
            "marker": {
             "colorbar": {
              "outlinewidth": 0,
              "ticks": ""
             }
            },
            "type": "scatterpolar"
           }
          ],
          "scatterpolargl": [
           {
            "marker": {
             "colorbar": {
              "outlinewidth": 0,
              "ticks": ""
             }
            },
            "type": "scatterpolargl"
           }
          ],
          "scatterternary": [
           {
            "marker": {
             "colorbar": {
              "outlinewidth": 0,
              "ticks": ""
             }
            },
            "type": "scatterternary"
           }
          ],
          "surface": [
           {
            "colorbar": {
             "outlinewidth": 0,
             "ticks": ""
            },
            "colorscale": [
             [
              0,
              "#0d0887"
             ],
             [
              0.1111111111111111,
              "#46039f"
             ],
             [
              0.2222222222222222,
              "#7201a8"
             ],
             [
              0.3333333333333333,
              "#9c179e"
             ],
             [
              0.4444444444444444,
              "#bd3786"
             ],
             [
              0.5555555555555556,
              "#d8576b"
             ],
             [
              0.6666666666666666,
              "#ed7953"
             ],
             [
              0.7777777777777778,
              "#fb9f3a"
             ],
             [
              0.8888888888888888,
              "#fdca26"
             ],
             [
              1,
              "#f0f921"
             ]
            ],
            "type": "surface"
           }
          ],
          "table": [
           {
            "cells": {
             "fill": {
              "color": "#EBF0F8"
             },
             "line": {
              "color": "white"
             }
            },
            "header": {
             "fill": {
              "color": "#C8D4E3"
             },
             "line": {
              "color": "white"
             }
            },
            "type": "table"
           }
          ]
         },
         "layout": {
          "annotationdefaults": {
           "arrowcolor": "#2a3f5f",
           "arrowhead": 0,
           "arrowwidth": 1
          },
          "autotypenumbers": "strict",
          "coloraxis": {
           "colorbar": {
            "outlinewidth": 0,
            "ticks": ""
           }
          },
          "colorscale": {
           "diverging": [
            [
             0,
             "#8e0152"
            ],
            [
             0.1,
             "#c51b7d"
            ],
            [
             0.2,
             "#de77ae"
            ],
            [
             0.3,
             "#f1b6da"
            ],
            [
             0.4,
             "#fde0ef"
            ],
            [
             0.5,
             "#f7f7f7"
            ],
            [
             0.6,
             "#e6f5d0"
            ],
            [
             0.7,
             "#b8e186"
            ],
            [
             0.8,
             "#7fbc41"
            ],
            [
             0.9,
             "#4d9221"
            ],
            [
             1,
             "#276419"
            ]
           ],
           "sequential": [
            [
             0,
             "#0d0887"
            ],
            [
             0.1111111111111111,
             "#46039f"
            ],
            [
             0.2222222222222222,
             "#7201a8"
            ],
            [
             0.3333333333333333,
             "#9c179e"
            ],
            [
             0.4444444444444444,
             "#bd3786"
            ],
            [
             0.5555555555555556,
             "#d8576b"
            ],
            [
             0.6666666666666666,
             "#ed7953"
            ],
            [
             0.7777777777777778,
             "#fb9f3a"
            ],
            [
             0.8888888888888888,
             "#fdca26"
            ],
            [
             1,
             "#f0f921"
            ]
           ],
           "sequentialminus": [
            [
             0,
             "#0d0887"
            ],
            [
             0.1111111111111111,
             "#46039f"
            ],
            [
             0.2222222222222222,
             "#7201a8"
            ],
            [
             0.3333333333333333,
             "#9c179e"
            ],
            [
             0.4444444444444444,
             "#bd3786"
            ],
            [
             0.5555555555555556,
             "#d8576b"
            ],
            [
             0.6666666666666666,
             "#ed7953"
            ],
            [
             0.7777777777777778,
             "#fb9f3a"
            ],
            [
             0.8888888888888888,
             "#fdca26"
            ],
            [
             1,
             "#f0f921"
            ]
           ]
          },
          "colorway": [
           "#636efa",
           "#EF553B",
           "#00cc96",
           "#ab63fa",
           "#FFA15A",
           "#19d3f3",
           "#FF6692",
           "#B6E880",
           "#FF97FF",
           "#FECB52"
          ],
          "font": {
           "color": "#2a3f5f"
          },
          "geo": {
           "bgcolor": "white",
           "lakecolor": "white",
           "landcolor": "#E5ECF6",
           "showlakes": true,
           "showland": true,
           "subunitcolor": "white"
          },
          "hoverlabel": {
           "align": "left"
          },
          "hovermode": "closest",
          "mapbox": {
           "style": "light"
          },
          "paper_bgcolor": "white",
          "plot_bgcolor": "#E5ECF6",
          "polar": {
           "angularaxis": {
            "gridcolor": "white",
            "linecolor": "white",
            "ticks": ""
           },
           "bgcolor": "#E5ECF6",
           "radialaxis": {
            "gridcolor": "white",
            "linecolor": "white",
            "ticks": ""
           }
          },
          "scene": {
           "xaxis": {
            "backgroundcolor": "#E5ECF6",
            "gridcolor": "white",
            "gridwidth": 2,
            "linecolor": "white",
            "showbackground": true,
            "ticks": "",
            "zerolinecolor": "white"
           },
           "yaxis": {
            "backgroundcolor": "#E5ECF6",
            "gridcolor": "white",
            "gridwidth": 2,
            "linecolor": "white",
            "showbackground": true,
            "ticks": "",
            "zerolinecolor": "white"
           },
           "zaxis": {
            "backgroundcolor": "#E5ECF6",
            "gridcolor": "white",
            "gridwidth": 2,
            "linecolor": "white",
            "showbackground": true,
            "ticks": "",
            "zerolinecolor": "white"
           }
          },
          "shapedefaults": {
           "line": {
            "color": "#2a3f5f"
           }
          },
          "ternary": {
           "aaxis": {
            "gridcolor": "white",
            "linecolor": "white",
            "ticks": ""
           },
           "baxis": {
            "gridcolor": "white",
            "linecolor": "white",
            "ticks": ""
           },
           "bgcolor": "#E5ECF6",
           "caxis": {
            "gridcolor": "white",
            "linecolor": "white",
            "ticks": ""
           }
          },
          "title": {
           "x": 0.05
          },
          "xaxis": {
           "automargin": true,
           "gridcolor": "white",
           "linecolor": "white",
           "ticks": "",
           "title": {
            "standoff": 15
           },
           "zerolinecolor": "white",
           "zerolinewidth": 2
          },
          "yaxis": {
           "automargin": true,
           "gridcolor": "white",
           "linecolor": "white",
           "ticks": "",
           "title": {
            "standoff": 15
           },
           "zerolinecolor": "white",
           "zerolinewidth": 2
          }
         }
        },
        "title": {
         "font": {
          "color": "#4D5663"
         }
        },
        "xaxis": {
         "gridcolor": "#E1E5ED",
         "showgrid": true,
         "tickfont": {
          "color": "#4D5663"
         },
         "title": {
          "font": {
           "color": "#4D5663"
          },
          "text": ""
         },
         "zerolinecolor": "#E1E5ED"
        },
        "yaxis": {
         "gridcolor": "#E1E5ED",
         "showgrid": true,
         "tickfont": {
          "color": "#4D5663"
         },
         "title": {
          "font": {
           "color": "#4D5663"
          },
          "text": ""
         },
         "zerolinecolor": "#E1E5ED"
        }
       }
      },
      "text/html": [
       "<div>                            <div id=\"4ac7c891-ba81-4a6f-a875-ef41cafc3754\" class=\"plotly-graph-div\" style=\"height:525px; width:100%;\"></div>            <script type=\"text/javascript\">                require([\"plotly\"], function(Plotly) {                    window.PLOTLYENV=window.PLOTLYENV || {};\n",
       "                    window.PLOTLYENV.BASE_URL='https://plot.ly';                                    if (document.getElementById(\"4ac7c891-ba81-4a6f-a875-ef41cafc3754\")) {                    Plotly.newPlot(                        \"4ac7c891-ba81-4a6f-a875-ef41cafc3754\",                        [{\"line\":{\"color\":\"rgba(255, 153, 51, 1.0)\",\"dash\":\"solid\",\"shape\":\"linear\",\"width\":1.3},\"marker\":{\"size\":10,\"symbol\":\"circle\"},\"mode\":\"markers\",\"name\":\"B\",\"text\":\"\",\"x\":[-0.5656412823360386,1.0360792852296468,-0.03441248758142155,0.23182280061860472,1.0088992008914284,-0.026715148537010024,-0.20315796235413472,0.5245229236865366,-3.2191295497186694,0.17164228604067813,0.582247745637063,0.9289059114631611,-0.7591861803041988,-0.24277993570070505,-0.1323275276500544,-0.5466769746668216,0.7177731503109126,-0.8191814660705794,-1.4310336841345486,0.2573153328506282,1.3408244257300779,0.486032440581521,-1.2308345803153686,-1.4608107584460366,0.8732239163610039,0.4567394249492647,-1.899861957922655,0.28173525063683097,-0.21805371925692918,1.2626935583320715,0.49886751555253367,1.4174111664802422,0.22660528690867696,-0.6502747916185775,0.16897409062805457,1.21279856642119,1.1143424086245766,-0.3483420722554928,-0.6696543666981883,-1.0632252096403403,-0.15225141923354557,1.316625588404699,1.1720151527353133,-0.027287875274585364,-1.0293154035381185,-0.37492772031126287,-0.04096023078323834,1.182570779299944,-1.376390923724631,-0.799936281543547,-0.707307351593801,0.02001897453784066,-0.978294769085192,0.8508279002602976,-0.5342831423012391,-0.36185037495602906,-0.8056130603514121,0.4111895792611264,0.004379479525213149,0.21780913118781245,0.6211677456201348,-0.7793003130748717,1.103489152734224,-1.7904817940423041,1.0010689343246126,1.8918588281108983,1.2977984640817777,0.3259841032981575,2.0815712057108744,0.8383496802803703,1.7472868342739443,-0.07719520587663783,0.9413390291554022,1.3834950208674481,-0.5569585432839406,-1.819230204577346,0.12169655584130164,1.5616824263876785,-0.45356471914135854,0.19676060898221412,0.009000319539798945,-0.2249124640829556,-0.2188737751900468,0.10764137132759453,0.11196929653740105,1.1665818342784908,-2.020826309495809,2.793163479046665,0.30526228066973804,-0.565887028976998,-0.2001466520368511,-0.5436753674793958,-1.343875859753172,0.6112457603338765,-0.7813886684840383,-1.22303424769474,0.4600825033400545,0.1383873846734834,-0.08138809268576497,0.8471112760129539],\"y\":[0.5645172566075981,-0.33932437899341966,-1.121520210991983,1.6002719901100757,1.5016206296259804,2.2959127591084303,0.6159086177819855,-0.7571132946788054,-1.8527379210880608,-1.1387426139167482,-1.1802914715008073,0.4863930279547499,-0.1972727517360925,-0.7045335740979844,0.11636261009340494,1.1218343682379364,0.07716204469597837,1.6172483692207498,-0.6227123975706295,-0.8638472923389473,0.7772239006064957,-1.0875868898305794,-0.8172213602844036,-1.6344710636517614,0.4380072171404136,-0.7353431531149569,-1.3292240246460292,2.64076103804586,-0.29720784590850985,1.3985332624862092,-0.05460103642841293,-1.7202047580904671,-2.307117527573707,0.26916881133700654,-1.7677313247111384,0.6385315213928748,1.059188957948073,-0.671379236360241,-1.3058207439934062,-0.15458145256593406,0.06995526962442203,2.5835499038790664,-1.046700114776581,0.44717854638131416,3.0509553348921687,1.1735076138718559,0.8596597027344738,-2.254815679656594,0.9087384098230576,1.4794324312196547,-0.5279978184819706,0.11428912177813569,-0.3206006243579793,0.6369155364690917,0.7040933544865097,2.1455364197699187,-0.310185129037482,-1.1884618328539198,-0.15786482315368378,3.2186195666514505,-0.10773828423557187,0.002865138432579824,-1.1621439679443992,1.8796177622458385,-1.011011249558588,1.26112692119876,0.8353625334967835,0.2787037798133771,-0.29289336451730547,-1.210875011885804,-0.25852796048510923,0.6324642492884567,1.8235740793505282,0.3069505716985952,-2.329145297007603,-1.2353938452853468,-1.0033728108153268,0.0558782491122532,-0.004269293450762822,-0.5134075458464393,0.8650144157816739,0.9575917608001567,-0.37212330519918413,0.22569767089282858,-1.4353961812767824,0.6047693356914953,0.831598022335903,0.3532044398283273,-0.6478073247627921,0.2147827207375652,1.1972101878705765,-0.12637330565608457,1.3462423783258188,-0.03648857415205832,0.10886015509104147,0.31893671014852615,0.10171193001652372,0.975923288760046,0.4650211235038087,-0.6218275280285074],\"type\":\"scatter\"}],                        {\"legend\":{\"bgcolor\":\"#F5F6F9\",\"font\":{\"color\":\"#4D5663\"}},\"paper_bgcolor\":\"#F5F6F9\",\"plot_bgcolor\":\"#F5F6F9\",\"template\":{\"data\":{\"barpolar\":[{\"marker\":{\"line\":{\"color\":\"#E5ECF6\",\"width\":0.5},\"pattern\":{\"fillmode\":\"overlay\",\"size\":10,\"solidity\":0.2}},\"type\":\"barpolar\"}],\"bar\":[{\"error_x\":{\"color\":\"#2a3f5f\"},\"error_y\":{\"color\":\"#2a3f5f\"},\"marker\":{\"line\":{\"color\":\"#E5ECF6\",\"width\":0.5},\"pattern\":{\"fillmode\":\"overlay\",\"size\":10,\"solidity\":0.2}},\"type\":\"bar\"}],\"carpet\":[{\"aaxis\":{\"endlinecolor\":\"#2a3f5f\",\"gridcolor\":\"white\",\"linecolor\":\"white\",\"minorgridcolor\":\"white\",\"startlinecolor\":\"#2a3f5f\"},\"baxis\":{\"endlinecolor\":\"#2a3f5f\",\"gridcolor\":\"white\",\"linecolor\":\"white\",\"minorgridcolor\":\"white\",\"startlinecolor\":\"#2a3f5f\"},\"type\":\"carpet\"}],\"choropleth\":[{\"colorbar\":{\"outlinewidth\":0,\"ticks\":\"\"},\"type\":\"choropleth\"}],\"contourcarpet\":[{\"colorbar\":{\"outlinewidth\":0,\"ticks\":\"\"},\"type\":\"contourcarpet\"}],\"contour\":[{\"colorbar\":{\"outlinewidth\":0,\"ticks\":\"\"},\"colorscale\":[[0.0,\"#0d0887\"],[0.1111111111111111,\"#46039f\"],[0.2222222222222222,\"#7201a8\"],[0.3333333333333333,\"#9c179e\"],[0.4444444444444444,\"#bd3786\"],[0.5555555555555556,\"#d8576b\"],[0.6666666666666666,\"#ed7953\"],[0.7777777777777778,\"#fb9f3a\"],[0.8888888888888888,\"#fdca26\"],[1.0,\"#f0f921\"]],\"type\":\"contour\"}],\"heatmapgl\":[{\"colorbar\":{\"outlinewidth\":0,\"ticks\":\"\"},\"colorscale\":[[0.0,\"#0d0887\"],[0.1111111111111111,\"#46039f\"],[0.2222222222222222,\"#7201a8\"],[0.3333333333333333,\"#9c179e\"],[0.4444444444444444,\"#bd3786\"],[0.5555555555555556,\"#d8576b\"],[0.6666666666666666,\"#ed7953\"],[0.7777777777777778,\"#fb9f3a\"],[0.8888888888888888,\"#fdca26\"],[1.0,\"#f0f921\"]],\"type\":\"heatmapgl\"}],\"heatmap\":[{\"colorbar\":{\"outlinewidth\":0,\"ticks\":\"\"},\"colorscale\":[[0.0,\"#0d0887\"],[0.1111111111111111,\"#46039f\"],[0.2222222222222222,\"#7201a8\"],[0.3333333333333333,\"#9c179e\"],[0.4444444444444444,\"#bd3786\"],[0.5555555555555556,\"#d8576b\"],[0.6666666666666666,\"#ed7953\"],[0.7777777777777778,\"#fb9f3a\"],[0.8888888888888888,\"#fdca26\"],[1.0,\"#f0f921\"]],\"type\":\"heatmap\"}],\"histogram2dcontour\":[{\"colorbar\":{\"outlinewidth\":0,\"ticks\":\"\"},\"colorscale\":[[0.0,\"#0d0887\"],[0.1111111111111111,\"#46039f\"],[0.2222222222222222,\"#7201a8\"],[0.3333333333333333,\"#9c179e\"],[0.4444444444444444,\"#bd3786\"],[0.5555555555555556,\"#d8576b\"],[0.6666666666666666,\"#ed7953\"],[0.7777777777777778,\"#fb9f3a\"],[0.8888888888888888,\"#fdca26\"],[1.0,\"#f0f921\"]],\"type\":\"histogram2dcontour\"}],\"histogram2d\":[{\"colorbar\":{\"outlinewidth\":0,\"ticks\":\"\"},\"colorscale\":[[0.0,\"#0d0887\"],[0.1111111111111111,\"#46039f\"],[0.2222222222222222,\"#7201a8\"],[0.3333333333333333,\"#9c179e\"],[0.4444444444444444,\"#bd3786\"],[0.5555555555555556,\"#d8576b\"],[0.6666666666666666,\"#ed7953\"],[0.7777777777777778,\"#fb9f3a\"],[0.8888888888888888,\"#fdca26\"],[1.0,\"#f0f921\"]],\"type\":\"histogram2d\"}],\"histogram\":[{\"marker\":{\"pattern\":{\"fillmode\":\"overlay\",\"size\":10,\"solidity\":0.2}},\"type\":\"histogram\"}],\"mesh3d\":[{\"colorbar\":{\"outlinewidth\":0,\"ticks\":\"\"},\"type\":\"mesh3d\"}],\"parcoords\":[{\"line\":{\"colorbar\":{\"outlinewidth\":0,\"ticks\":\"\"}},\"type\":\"parcoords\"}],\"pie\":[{\"automargin\":true,\"type\":\"pie\"}],\"scatter3d\":[{\"line\":{\"colorbar\":{\"outlinewidth\":0,\"ticks\":\"\"}},\"marker\":{\"colorbar\":{\"outlinewidth\":0,\"ticks\":\"\"}},\"type\":\"scatter3d\"}],\"scattercarpet\":[{\"marker\":{\"colorbar\":{\"outlinewidth\":0,\"ticks\":\"\"}},\"type\":\"scattercarpet\"}],\"scattergeo\":[{\"marker\":{\"colorbar\":{\"outlinewidth\":0,\"ticks\":\"\"}},\"type\":\"scattergeo\"}],\"scattergl\":[{\"marker\":{\"colorbar\":{\"outlinewidth\":0,\"ticks\":\"\"}},\"type\":\"scattergl\"}],\"scattermapbox\":[{\"marker\":{\"colorbar\":{\"outlinewidth\":0,\"ticks\":\"\"}},\"type\":\"scattermapbox\"}],\"scatterpolargl\":[{\"marker\":{\"colorbar\":{\"outlinewidth\":0,\"ticks\":\"\"}},\"type\":\"scatterpolargl\"}],\"scatterpolar\":[{\"marker\":{\"colorbar\":{\"outlinewidth\":0,\"ticks\":\"\"}},\"type\":\"scatterpolar\"}],\"scatter\":[{\"fillpattern\":{\"fillmode\":\"overlay\",\"size\":10,\"solidity\":0.2},\"type\":\"scatter\"}],\"scatterternary\":[{\"marker\":{\"colorbar\":{\"outlinewidth\":0,\"ticks\":\"\"}},\"type\":\"scatterternary\"}],\"surface\":[{\"colorbar\":{\"outlinewidth\":0,\"ticks\":\"\"},\"colorscale\":[[0.0,\"#0d0887\"],[0.1111111111111111,\"#46039f\"],[0.2222222222222222,\"#7201a8\"],[0.3333333333333333,\"#9c179e\"],[0.4444444444444444,\"#bd3786\"],[0.5555555555555556,\"#d8576b\"],[0.6666666666666666,\"#ed7953\"],[0.7777777777777778,\"#fb9f3a\"],[0.8888888888888888,\"#fdca26\"],[1.0,\"#f0f921\"]],\"type\":\"surface\"}],\"table\":[{\"cells\":{\"fill\":{\"color\":\"#EBF0F8\"},\"line\":{\"color\":\"white\"}},\"header\":{\"fill\":{\"color\":\"#C8D4E3\"},\"line\":{\"color\":\"white\"}},\"type\":\"table\"}]},\"layout\":{\"annotationdefaults\":{\"arrowcolor\":\"#2a3f5f\",\"arrowhead\":0,\"arrowwidth\":1},\"autotypenumbers\":\"strict\",\"coloraxis\":{\"colorbar\":{\"outlinewidth\":0,\"ticks\":\"\"}},\"colorscale\":{\"diverging\":[[0,\"#8e0152\"],[0.1,\"#c51b7d\"],[0.2,\"#de77ae\"],[0.3,\"#f1b6da\"],[0.4,\"#fde0ef\"],[0.5,\"#f7f7f7\"],[0.6,\"#e6f5d0\"],[0.7,\"#b8e186\"],[0.8,\"#7fbc41\"],[0.9,\"#4d9221\"],[1,\"#276419\"]],\"sequential\":[[0.0,\"#0d0887\"],[0.1111111111111111,\"#46039f\"],[0.2222222222222222,\"#7201a8\"],[0.3333333333333333,\"#9c179e\"],[0.4444444444444444,\"#bd3786\"],[0.5555555555555556,\"#d8576b\"],[0.6666666666666666,\"#ed7953\"],[0.7777777777777778,\"#fb9f3a\"],[0.8888888888888888,\"#fdca26\"],[1.0,\"#f0f921\"]],\"sequentialminus\":[[0.0,\"#0d0887\"],[0.1111111111111111,\"#46039f\"],[0.2222222222222222,\"#7201a8\"],[0.3333333333333333,\"#9c179e\"],[0.4444444444444444,\"#bd3786\"],[0.5555555555555556,\"#d8576b\"],[0.6666666666666666,\"#ed7953\"],[0.7777777777777778,\"#fb9f3a\"],[0.8888888888888888,\"#fdca26\"],[1.0,\"#f0f921\"]]},\"colorway\":[\"#636efa\",\"#EF553B\",\"#00cc96\",\"#ab63fa\",\"#FFA15A\",\"#19d3f3\",\"#FF6692\",\"#B6E880\",\"#FF97FF\",\"#FECB52\"],\"font\":{\"color\":\"#2a3f5f\"},\"geo\":{\"bgcolor\":\"white\",\"lakecolor\":\"white\",\"landcolor\":\"#E5ECF6\",\"showlakes\":true,\"showland\":true,\"subunitcolor\":\"white\"},\"hoverlabel\":{\"align\":\"left\"},\"hovermode\":\"closest\",\"mapbox\":{\"style\":\"light\"},\"paper_bgcolor\":\"white\",\"plot_bgcolor\":\"#E5ECF6\",\"polar\":{\"angularaxis\":{\"gridcolor\":\"white\",\"linecolor\":\"white\",\"ticks\":\"\"},\"bgcolor\":\"#E5ECF6\",\"radialaxis\":{\"gridcolor\":\"white\",\"linecolor\":\"white\",\"ticks\":\"\"}},\"scene\":{\"xaxis\":{\"backgroundcolor\":\"#E5ECF6\",\"gridcolor\":\"white\",\"gridwidth\":2,\"linecolor\":\"white\",\"showbackground\":true,\"ticks\":\"\",\"zerolinecolor\":\"white\"},\"yaxis\":{\"backgroundcolor\":\"#E5ECF6\",\"gridcolor\":\"white\",\"gridwidth\":2,\"linecolor\":\"white\",\"showbackground\":true,\"ticks\":\"\",\"zerolinecolor\":\"white\"},\"zaxis\":{\"backgroundcolor\":\"#E5ECF6\",\"gridcolor\":\"white\",\"gridwidth\":2,\"linecolor\":\"white\",\"showbackground\":true,\"ticks\":\"\",\"zerolinecolor\":\"white\"}},\"shapedefaults\":{\"line\":{\"color\":\"#2a3f5f\"}},\"ternary\":{\"aaxis\":{\"gridcolor\":\"white\",\"linecolor\":\"white\",\"ticks\":\"\"},\"baxis\":{\"gridcolor\":\"white\",\"linecolor\":\"white\",\"ticks\":\"\"},\"bgcolor\":\"#E5ECF6\",\"caxis\":{\"gridcolor\":\"white\",\"linecolor\":\"white\",\"ticks\":\"\"}},\"title\":{\"x\":0.05},\"xaxis\":{\"automargin\":true,\"gridcolor\":\"white\",\"linecolor\":\"white\",\"ticks\":\"\",\"title\":{\"standoff\":15},\"zerolinecolor\":\"white\",\"zerolinewidth\":2},\"yaxis\":{\"automargin\":true,\"gridcolor\":\"white\",\"linecolor\":\"white\",\"ticks\":\"\",\"title\":{\"standoff\":15},\"zerolinecolor\":\"white\",\"zerolinewidth\":2}}},\"title\":{\"font\":{\"color\":\"#4D5663\"}},\"xaxis\":{\"gridcolor\":\"#E1E5ED\",\"showgrid\":true,\"tickfont\":{\"color\":\"#4D5663\"},\"title\":{\"font\":{\"color\":\"#4D5663\"},\"text\":\"\"},\"zerolinecolor\":\"#E1E5ED\"},\"yaxis\":{\"gridcolor\":\"#E1E5ED\",\"showgrid\":true,\"tickfont\":{\"color\":\"#4D5663\"},\"title\":{\"font\":{\"color\":\"#4D5663\"},\"text\":\"\"},\"zerolinecolor\":\"#E1E5ED\"}},                        {\"showLink\": true, \"linkText\": \"Export to plot.ly\", \"plotlyServerURL\": \"https://plot.ly\", \"responsive\": true}                    ).then(function(){\n",
       "                            \n",
       "var gd = document.getElementById('4ac7c891-ba81-4a6f-a875-ef41cafc3754');\n",
       "var x = new MutationObserver(function (mutations, observer) {{\n",
       "        var display = window.getComputedStyle(gd).display;\n",
       "        if (!display || display === 'none') {{\n",
       "            console.log([gd, 'removed!']);\n",
       "            Plotly.purge(gd);\n",
       "            observer.disconnect();\n",
       "        }}\n",
       "}});\n",
       "\n",
       "// Listen for the removal of the full notebook cells\n",
       "var notebookContainer = gd.closest('#notebook-container');\n",
       "if (notebookContainer) {{\n",
       "    x.observe(notebookContainer, {childList: true});\n",
       "}}\n",
       "\n",
       "// Listen for the clearing of the current output cell\n",
       "var outputEl = gd.closest('.output');\n",
       "if (outputEl) {{\n",
       "    x.observe(outputEl, {childList: true});\n",
       "}}\n",
       "\n",
       "                        })                };                });            </script>        </div>"
      ]
     },
     "metadata": {},
     "output_type": "display_data"
    }
   ],
   "source": [
    "df.iplot(kind='scatter',x='A',y='B',mode='markers',size=10)"
   ]
  },
  {
   "cell_type": "markdown",
   "metadata": {},
   "source": [
    "## Bar Plots"
   ]
  },
  {
   "cell_type": "code",
   "execution_count": 14,
   "metadata": {},
   "outputs": [
    {
     "data": {
      "application/vnd.plotly.v1+json": {
       "config": {
        "linkText": "Export to plot.ly",
        "plotlyServerURL": "https://plot.ly",
        "showLink": true
       },
       "data": [
        {
         "marker": {
          "color": "rgba(255, 153, 51, 0.6)",
          "line": {
           "color": "rgba(255, 153, 51, 1.0)",
           "width": 1
          }
         },
         "name": "Values",
         "orientation": "v",
         "text": "",
         "type": "bar",
         "x": [
          "A",
          "B",
          "C"
         ],
         "y": [
          32,
          43,
          50
         ]
        }
       ],
       "layout": {
        "legend": {
         "bgcolor": "#F5F6F9",
         "font": {
          "color": "#4D5663"
         }
        },
        "paper_bgcolor": "#F5F6F9",
        "plot_bgcolor": "#F5F6F9",
        "template": {
         "data": {
          "bar": [
           {
            "error_x": {
             "color": "#2a3f5f"
            },
            "error_y": {
             "color": "#2a3f5f"
            },
            "marker": {
             "line": {
              "color": "#E5ECF6",
              "width": 0.5
             },
             "pattern": {
              "fillmode": "overlay",
              "size": 10,
              "solidity": 0.2
             }
            },
            "type": "bar"
           }
          ],
          "barpolar": [
           {
            "marker": {
             "line": {
              "color": "#E5ECF6",
              "width": 0.5
             },
             "pattern": {
              "fillmode": "overlay",
              "size": 10,
              "solidity": 0.2
             }
            },
            "type": "barpolar"
           }
          ],
          "carpet": [
           {
            "aaxis": {
             "endlinecolor": "#2a3f5f",
             "gridcolor": "white",
             "linecolor": "white",
             "minorgridcolor": "white",
             "startlinecolor": "#2a3f5f"
            },
            "baxis": {
             "endlinecolor": "#2a3f5f",
             "gridcolor": "white",
             "linecolor": "white",
             "minorgridcolor": "white",
             "startlinecolor": "#2a3f5f"
            },
            "type": "carpet"
           }
          ],
          "choropleth": [
           {
            "colorbar": {
             "outlinewidth": 0,
             "ticks": ""
            },
            "type": "choropleth"
           }
          ],
          "contour": [
           {
            "colorbar": {
             "outlinewidth": 0,
             "ticks": ""
            },
            "colorscale": [
             [
              0,
              "#0d0887"
             ],
             [
              0.1111111111111111,
              "#46039f"
             ],
             [
              0.2222222222222222,
              "#7201a8"
             ],
             [
              0.3333333333333333,
              "#9c179e"
             ],
             [
              0.4444444444444444,
              "#bd3786"
             ],
             [
              0.5555555555555556,
              "#d8576b"
             ],
             [
              0.6666666666666666,
              "#ed7953"
             ],
             [
              0.7777777777777778,
              "#fb9f3a"
             ],
             [
              0.8888888888888888,
              "#fdca26"
             ],
             [
              1,
              "#f0f921"
             ]
            ],
            "type": "contour"
           }
          ],
          "contourcarpet": [
           {
            "colorbar": {
             "outlinewidth": 0,
             "ticks": ""
            },
            "type": "contourcarpet"
           }
          ],
          "heatmap": [
           {
            "colorbar": {
             "outlinewidth": 0,
             "ticks": ""
            },
            "colorscale": [
             [
              0,
              "#0d0887"
             ],
             [
              0.1111111111111111,
              "#46039f"
             ],
             [
              0.2222222222222222,
              "#7201a8"
             ],
             [
              0.3333333333333333,
              "#9c179e"
             ],
             [
              0.4444444444444444,
              "#bd3786"
             ],
             [
              0.5555555555555556,
              "#d8576b"
             ],
             [
              0.6666666666666666,
              "#ed7953"
             ],
             [
              0.7777777777777778,
              "#fb9f3a"
             ],
             [
              0.8888888888888888,
              "#fdca26"
             ],
             [
              1,
              "#f0f921"
             ]
            ],
            "type": "heatmap"
           }
          ],
          "heatmapgl": [
           {
            "colorbar": {
             "outlinewidth": 0,
             "ticks": ""
            },
            "colorscale": [
             [
              0,
              "#0d0887"
             ],
             [
              0.1111111111111111,
              "#46039f"
             ],
             [
              0.2222222222222222,
              "#7201a8"
             ],
             [
              0.3333333333333333,
              "#9c179e"
             ],
             [
              0.4444444444444444,
              "#bd3786"
             ],
             [
              0.5555555555555556,
              "#d8576b"
             ],
             [
              0.6666666666666666,
              "#ed7953"
             ],
             [
              0.7777777777777778,
              "#fb9f3a"
             ],
             [
              0.8888888888888888,
              "#fdca26"
             ],
             [
              1,
              "#f0f921"
             ]
            ],
            "type": "heatmapgl"
           }
          ],
          "histogram": [
           {
            "marker": {
             "pattern": {
              "fillmode": "overlay",
              "size": 10,
              "solidity": 0.2
             }
            },
            "type": "histogram"
           }
          ],
          "histogram2d": [
           {
            "colorbar": {
             "outlinewidth": 0,
             "ticks": ""
            },
            "colorscale": [
             [
              0,
              "#0d0887"
             ],
             [
              0.1111111111111111,
              "#46039f"
             ],
             [
              0.2222222222222222,
              "#7201a8"
             ],
             [
              0.3333333333333333,
              "#9c179e"
             ],
             [
              0.4444444444444444,
              "#bd3786"
             ],
             [
              0.5555555555555556,
              "#d8576b"
             ],
             [
              0.6666666666666666,
              "#ed7953"
             ],
             [
              0.7777777777777778,
              "#fb9f3a"
             ],
             [
              0.8888888888888888,
              "#fdca26"
             ],
             [
              1,
              "#f0f921"
             ]
            ],
            "type": "histogram2d"
           }
          ],
          "histogram2dcontour": [
           {
            "colorbar": {
             "outlinewidth": 0,
             "ticks": ""
            },
            "colorscale": [
             [
              0,
              "#0d0887"
             ],
             [
              0.1111111111111111,
              "#46039f"
             ],
             [
              0.2222222222222222,
              "#7201a8"
             ],
             [
              0.3333333333333333,
              "#9c179e"
             ],
             [
              0.4444444444444444,
              "#bd3786"
             ],
             [
              0.5555555555555556,
              "#d8576b"
             ],
             [
              0.6666666666666666,
              "#ed7953"
             ],
             [
              0.7777777777777778,
              "#fb9f3a"
             ],
             [
              0.8888888888888888,
              "#fdca26"
             ],
             [
              1,
              "#f0f921"
             ]
            ],
            "type": "histogram2dcontour"
           }
          ],
          "mesh3d": [
           {
            "colorbar": {
             "outlinewidth": 0,
             "ticks": ""
            },
            "type": "mesh3d"
           }
          ],
          "parcoords": [
           {
            "line": {
             "colorbar": {
              "outlinewidth": 0,
              "ticks": ""
             }
            },
            "type": "parcoords"
           }
          ],
          "pie": [
           {
            "automargin": true,
            "type": "pie"
           }
          ],
          "scatter": [
           {
            "fillpattern": {
             "fillmode": "overlay",
             "size": 10,
             "solidity": 0.2
            },
            "type": "scatter"
           }
          ],
          "scatter3d": [
           {
            "line": {
             "colorbar": {
              "outlinewidth": 0,
              "ticks": ""
             }
            },
            "marker": {
             "colorbar": {
              "outlinewidth": 0,
              "ticks": ""
             }
            },
            "type": "scatter3d"
           }
          ],
          "scattercarpet": [
           {
            "marker": {
             "colorbar": {
              "outlinewidth": 0,
              "ticks": ""
             }
            },
            "type": "scattercarpet"
           }
          ],
          "scattergeo": [
           {
            "marker": {
             "colorbar": {
              "outlinewidth": 0,
              "ticks": ""
             }
            },
            "type": "scattergeo"
           }
          ],
          "scattergl": [
           {
            "marker": {
             "colorbar": {
              "outlinewidth": 0,
              "ticks": ""
             }
            },
            "type": "scattergl"
           }
          ],
          "scattermapbox": [
           {
            "marker": {
             "colorbar": {
              "outlinewidth": 0,
              "ticks": ""
             }
            },
            "type": "scattermapbox"
           }
          ],
          "scatterpolar": [
           {
            "marker": {
             "colorbar": {
              "outlinewidth": 0,
              "ticks": ""
             }
            },
            "type": "scatterpolar"
           }
          ],
          "scatterpolargl": [
           {
            "marker": {
             "colorbar": {
              "outlinewidth": 0,
              "ticks": ""
             }
            },
            "type": "scatterpolargl"
           }
          ],
          "scatterternary": [
           {
            "marker": {
             "colorbar": {
              "outlinewidth": 0,
              "ticks": ""
             }
            },
            "type": "scatterternary"
           }
          ],
          "surface": [
           {
            "colorbar": {
             "outlinewidth": 0,
             "ticks": ""
            },
            "colorscale": [
             [
              0,
              "#0d0887"
             ],
             [
              0.1111111111111111,
              "#46039f"
             ],
             [
              0.2222222222222222,
              "#7201a8"
             ],
             [
              0.3333333333333333,
              "#9c179e"
             ],
             [
              0.4444444444444444,
              "#bd3786"
             ],
             [
              0.5555555555555556,
              "#d8576b"
             ],
             [
              0.6666666666666666,
              "#ed7953"
             ],
             [
              0.7777777777777778,
              "#fb9f3a"
             ],
             [
              0.8888888888888888,
              "#fdca26"
             ],
             [
              1,
              "#f0f921"
             ]
            ],
            "type": "surface"
           }
          ],
          "table": [
           {
            "cells": {
             "fill": {
              "color": "#EBF0F8"
             },
             "line": {
              "color": "white"
             }
            },
            "header": {
             "fill": {
              "color": "#C8D4E3"
             },
             "line": {
              "color": "white"
             }
            },
            "type": "table"
           }
          ]
         },
         "layout": {
          "annotationdefaults": {
           "arrowcolor": "#2a3f5f",
           "arrowhead": 0,
           "arrowwidth": 1
          },
          "autotypenumbers": "strict",
          "coloraxis": {
           "colorbar": {
            "outlinewidth": 0,
            "ticks": ""
           }
          },
          "colorscale": {
           "diverging": [
            [
             0,
             "#8e0152"
            ],
            [
             0.1,
             "#c51b7d"
            ],
            [
             0.2,
             "#de77ae"
            ],
            [
             0.3,
             "#f1b6da"
            ],
            [
             0.4,
             "#fde0ef"
            ],
            [
             0.5,
             "#f7f7f7"
            ],
            [
             0.6,
             "#e6f5d0"
            ],
            [
             0.7,
             "#b8e186"
            ],
            [
             0.8,
             "#7fbc41"
            ],
            [
             0.9,
             "#4d9221"
            ],
            [
             1,
             "#276419"
            ]
           ],
           "sequential": [
            [
             0,
             "#0d0887"
            ],
            [
             0.1111111111111111,
             "#46039f"
            ],
            [
             0.2222222222222222,
             "#7201a8"
            ],
            [
             0.3333333333333333,
             "#9c179e"
            ],
            [
             0.4444444444444444,
             "#bd3786"
            ],
            [
             0.5555555555555556,
             "#d8576b"
            ],
            [
             0.6666666666666666,
             "#ed7953"
            ],
            [
             0.7777777777777778,
             "#fb9f3a"
            ],
            [
             0.8888888888888888,
             "#fdca26"
            ],
            [
             1,
             "#f0f921"
            ]
           ],
           "sequentialminus": [
            [
             0,
             "#0d0887"
            ],
            [
             0.1111111111111111,
             "#46039f"
            ],
            [
             0.2222222222222222,
             "#7201a8"
            ],
            [
             0.3333333333333333,
             "#9c179e"
            ],
            [
             0.4444444444444444,
             "#bd3786"
            ],
            [
             0.5555555555555556,
             "#d8576b"
            ],
            [
             0.6666666666666666,
             "#ed7953"
            ],
            [
             0.7777777777777778,
             "#fb9f3a"
            ],
            [
             0.8888888888888888,
             "#fdca26"
            ],
            [
             1,
             "#f0f921"
            ]
           ]
          },
          "colorway": [
           "#636efa",
           "#EF553B",
           "#00cc96",
           "#ab63fa",
           "#FFA15A",
           "#19d3f3",
           "#FF6692",
           "#B6E880",
           "#FF97FF",
           "#FECB52"
          ],
          "font": {
           "color": "#2a3f5f"
          },
          "geo": {
           "bgcolor": "white",
           "lakecolor": "white",
           "landcolor": "#E5ECF6",
           "showlakes": true,
           "showland": true,
           "subunitcolor": "white"
          },
          "hoverlabel": {
           "align": "left"
          },
          "hovermode": "closest",
          "mapbox": {
           "style": "light"
          },
          "paper_bgcolor": "white",
          "plot_bgcolor": "#E5ECF6",
          "polar": {
           "angularaxis": {
            "gridcolor": "white",
            "linecolor": "white",
            "ticks": ""
           },
           "bgcolor": "#E5ECF6",
           "radialaxis": {
            "gridcolor": "white",
            "linecolor": "white",
            "ticks": ""
           }
          },
          "scene": {
           "xaxis": {
            "backgroundcolor": "#E5ECF6",
            "gridcolor": "white",
            "gridwidth": 2,
            "linecolor": "white",
            "showbackground": true,
            "ticks": "",
            "zerolinecolor": "white"
           },
           "yaxis": {
            "backgroundcolor": "#E5ECF6",
            "gridcolor": "white",
            "gridwidth": 2,
            "linecolor": "white",
            "showbackground": true,
            "ticks": "",
            "zerolinecolor": "white"
           },
           "zaxis": {
            "backgroundcolor": "#E5ECF6",
            "gridcolor": "white",
            "gridwidth": 2,
            "linecolor": "white",
            "showbackground": true,
            "ticks": "",
            "zerolinecolor": "white"
           }
          },
          "shapedefaults": {
           "line": {
            "color": "#2a3f5f"
           }
          },
          "ternary": {
           "aaxis": {
            "gridcolor": "white",
            "linecolor": "white",
            "ticks": ""
           },
           "baxis": {
            "gridcolor": "white",
            "linecolor": "white",
            "ticks": ""
           },
           "bgcolor": "#E5ECF6",
           "caxis": {
            "gridcolor": "white",
            "linecolor": "white",
            "ticks": ""
           }
          },
          "title": {
           "x": 0.05
          },
          "xaxis": {
           "automargin": true,
           "gridcolor": "white",
           "linecolor": "white",
           "ticks": "",
           "title": {
            "standoff": 15
           },
           "zerolinecolor": "white",
           "zerolinewidth": 2
          },
          "yaxis": {
           "automargin": true,
           "gridcolor": "white",
           "linecolor": "white",
           "ticks": "",
           "title": {
            "standoff": 15
           },
           "zerolinecolor": "white",
           "zerolinewidth": 2
          }
         }
        },
        "title": {
         "font": {
          "color": "#4D5663"
         }
        },
        "xaxis": {
         "gridcolor": "#E1E5ED",
         "showgrid": true,
         "tickfont": {
          "color": "#4D5663"
         },
         "title": {
          "font": {
           "color": "#4D5663"
          },
          "text": ""
         },
         "zerolinecolor": "#E1E5ED"
        },
        "yaxis": {
         "gridcolor": "#E1E5ED",
         "showgrid": true,
         "tickfont": {
          "color": "#4D5663"
         },
         "title": {
          "font": {
           "color": "#4D5663"
          },
          "text": ""
         },
         "zerolinecolor": "#E1E5ED"
        }
       }
      },
      "text/html": [
       "<div>                            <div id=\"2f4dfebf-2624-465a-baa0-3a3cbd874dc6\" class=\"plotly-graph-div\" style=\"height:525px; width:100%;\"></div>            <script type=\"text/javascript\">                require([\"plotly\"], function(Plotly) {                    window.PLOTLYENV=window.PLOTLYENV || {};\n",
       "                    window.PLOTLYENV.BASE_URL='https://plot.ly';                                    if (document.getElementById(\"2f4dfebf-2624-465a-baa0-3a3cbd874dc6\")) {                    Plotly.newPlot(                        \"2f4dfebf-2624-465a-baa0-3a3cbd874dc6\",                        [{\"marker\":{\"color\":\"rgba(255, 153, 51, 0.6)\",\"line\":{\"color\":\"rgba(255, 153, 51, 1.0)\",\"width\":1}},\"name\":\"Values\",\"orientation\":\"v\",\"text\":\"\",\"x\":[\"A\",\"B\",\"C\"],\"y\":[32,43,50],\"type\":\"bar\"}],                        {\"legend\":{\"bgcolor\":\"#F5F6F9\",\"font\":{\"color\":\"#4D5663\"}},\"paper_bgcolor\":\"#F5F6F9\",\"plot_bgcolor\":\"#F5F6F9\",\"template\":{\"data\":{\"barpolar\":[{\"marker\":{\"line\":{\"color\":\"#E5ECF6\",\"width\":0.5},\"pattern\":{\"fillmode\":\"overlay\",\"size\":10,\"solidity\":0.2}},\"type\":\"barpolar\"}],\"bar\":[{\"error_x\":{\"color\":\"#2a3f5f\"},\"error_y\":{\"color\":\"#2a3f5f\"},\"marker\":{\"line\":{\"color\":\"#E5ECF6\",\"width\":0.5},\"pattern\":{\"fillmode\":\"overlay\",\"size\":10,\"solidity\":0.2}},\"type\":\"bar\"}],\"carpet\":[{\"aaxis\":{\"endlinecolor\":\"#2a3f5f\",\"gridcolor\":\"white\",\"linecolor\":\"white\",\"minorgridcolor\":\"white\",\"startlinecolor\":\"#2a3f5f\"},\"baxis\":{\"endlinecolor\":\"#2a3f5f\",\"gridcolor\":\"white\",\"linecolor\":\"white\",\"minorgridcolor\":\"white\",\"startlinecolor\":\"#2a3f5f\"},\"type\":\"carpet\"}],\"choropleth\":[{\"colorbar\":{\"outlinewidth\":0,\"ticks\":\"\"},\"type\":\"choropleth\"}],\"contourcarpet\":[{\"colorbar\":{\"outlinewidth\":0,\"ticks\":\"\"},\"type\":\"contourcarpet\"}],\"contour\":[{\"colorbar\":{\"outlinewidth\":0,\"ticks\":\"\"},\"colorscale\":[[0.0,\"#0d0887\"],[0.1111111111111111,\"#46039f\"],[0.2222222222222222,\"#7201a8\"],[0.3333333333333333,\"#9c179e\"],[0.4444444444444444,\"#bd3786\"],[0.5555555555555556,\"#d8576b\"],[0.6666666666666666,\"#ed7953\"],[0.7777777777777778,\"#fb9f3a\"],[0.8888888888888888,\"#fdca26\"],[1.0,\"#f0f921\"]],\"type\":\"contour\"}],\"heatmapgl\":[{\"colorbar\":{\"outlinewidth\":0,\"ticks\":\"\"},\"colorscale\":[[0.0,\"#0d0887\"],[0.1111111111111111,\"#46039f\"],[0.2222222222222222,\"#7201a8\"],[0.3333333333333333,\"#9c179e\"],[0.4444444444444444,\"#bd3786\"],[0.5555555555555556,\"#d8576b\"],[0.6666666666666666,\"#ed7953\"],[0.7777777777777778,\"#fb9f3a\"],[0.8888888888888888,\"#fdca26\"],[1.0,\"#f0f921\"]],\"type\":\"heatmapgl\"}],\"heatmap\":[{\"colorbar\":{\"outlinewidth\":0,\"ticks\":\"\"},\"colorscale\":[[0.0,\"#0d0887\"],[0.1111111111111111,\"#46039f\"],[0.2222222222222222,\"#7201a8\"],[0.3333333333333333,\"#9c179e\"],[0.4444444444444444,\"#bd3786\"],[0.5555555555555556,\"#d8576b\"],[0.6666666666666666,\"#ed7953\"],[0.7777777777777778,\"#fb9f3a\"],[0.8888888888888888,\"#fdca26\"],[1.0,\"#f0f921\"]],\"type\":\"heatmap\"}],\"histogram2dcontour\":[{\"colorbar\":{\"outlinewidth\":0,\"ticks\":\"\"},\"colorscale\":[[0.0,\"#0d0887\"],[0.1111111111111111,\"#46039f\"],[0.2222222222222222,\"#7201a8\"],[0.3333333333333333,\"#9c179e\"],[0.4444444444444444,\"#bd3786\"],[0.5555555555555556,\"#d8576b\"],[0.6666666666666666,\"#ed7953\"],[0.7777777777777778,\"#fb9f3a\"],[0.8888888888888888,\"#fdca26\"],[1.0,\"#f0f921\"]],\"type\":\"histogram2dcontour\"}],\"histogram2d\":[{\"colorbar\":{\"outlinewidth\":0,\"ticks\":\"\"},\"colorscale\":[[0.0,\"#0d0887\"],[0.1111111111111111,\"#46039f\"],[0.2222222222222222,\"#7201a8\"],[0.3333333333333333,\"#9c179e\"],[0.4444444444444444,\"#bd3786\"],[0.5555555555555556,\"#d8576b\"],[0.6666666666666666,\"#ed7953\"],[0.7777777777777778,\"#fb9f3a\"],[0.8888888888888888,\"#fdca26\"],[1.0,\"#f0f921\"]],\"type\":\"histogram2d\"}],\"histogram\":[{\"marker\":{\"pattern\":{\"fillmode\":\"overlay\",\"size\":10,\"solidity\":0.2}},\"type\":\"histogram\"}],\"mesh3d\":[{\"colorbar\":{\"outlinewidth\":0,\"ticks\":\"\"},\"type\":\"mesh3d\"}],\"parcoords\":[{\"line\":{\"colorbar\":{\"outlinewidth\":0,\"ticks\":\"\"}},\"type\":\"parcoords\"}],\"pie\":[{\"automargin\":true,\"type\":\"pie\"}],\"scatter3d\":[{\"line\":{\"colorbar\":{\"outlinewidth\":0,\"ticks\":\"\"}},\"marker\":{\"colorbar\":{\"outlinewidth\":0,\"ticks\":\"\"}},\"type\":\"scatter3d\"}],\"scattercarpet\":[{\"marker\":{\"colorbar\":{\"outlinewidth\":0,\"ticks\":\"\"}},\"type\":\"scattercarpet\"}],\"scattergeo\":[{\"marker\":{\"colorbar\":{\"outlinewidth\":0,\"ticks\":\"\"}},\"type\":\"scattergeo\"}],\"scattergl\":[{\"marker\":{\"colorbar\":{\"outlinewidth\":0,\"ticks\":\"\"}},\"type\":\"scattergl\"}],\"scattermapbox\":[{\"marker\":{\"colorbar\":{\"outlinewidth\":0,\"ticks\":\"\"}},\"type\":\"scattermapbox\"}],\"scatterpolargl\":[{\"marker\":{\"colorbar\":{\"outlinewidth\":0,\"ticks\":\"\"}},\"type\":\"scatterpolargl\"}],\"scatterpolar\":[{\"marker\":{\"colorbar\":{\"outlinewidth\":0,\"ticks\":\"\"}},\"type\":\"scatterpolar\"}],\"scatter\":[{\"fillpattern\":{\"fillmode\":\"overlay\",\"size\":10,\"solidity\":0.2},\"type\":\"scatter\"}],\"scatterternary\":[{\"marker\":{\"colorbar\":{\"outlinewidth\":0,\"ticks\":\"\"}},\"type\":\"scatterternary\"}],\"surface\":[{\"colorbar\":{\"outlinewidth\":0,\"ticks\":\"\"},\"colorscale\":[[0.0,\"#0d0887\"],[0.1111111111111111,\"#46039f\"],[0.2222222222222222,\"#7201a8\"],[0.3333333333333333,\"#9c179e\"],[0.4444444444444444,\"#bd3786\"],[0.5555555555555556,\"#d8576b\"],[0.6666666666666666,\"#ed7953\"],[0.7777777777777778,\"#fb9f3a\"],[0.8888888888888888,\"#fdca26\"],[1.0,\"#f0f921\"]],\"type\":\"surface\"}],\"table\":[{\"cells\":{\"fill\":{\"color\":\"#EBF0F8\"},\"line\":{\"color\":\"white\"}},\"header\":{\"fill\":{\"color\":\"#C8D4E3\"},\"line\":{\"color\":\"white\"}},\"type\":\"table\"}]},\"layout\":{\"annotationdefaults\":{\"arrowcolor\":\"#2a3f5f\",\"arrowhead\":0,\"arrowwidth\":1},\"autotypenumbers\":\"strict\",\"coloraxis\":{\"colorbar\":{\"outlinewidth\":0,\"ticks\":\"\"}},\"colorscale\":{\"diverging\":[[0,\"#8e0152\"],[0.1,\"#c51b7d\"],[0.2,\"#de77ae\"],[0.3,\"#f1b6da\"],[0.4,\"#fde0ef\"],[0.5,\"#f7f7f7\"],[0.6,\"#e6f5d0\"],[0.7,\"#b8e186\"],[0.8,\"#7fbc41\"],[0.9,\"#4d9221\"],[1,\"#276419\"]],\"sequential\":[[0.0,\"#0d0887\"],[0.1111111111111111,\"#46039f\"],[0.2222222222222222,\"#7201a8\"],[0.3333333333333333,\"#9c179e\"],[0.4444444444444444,\"#bd3786\"],[0.5555555555555556,\"#d8576b\"],[0.6666666666666666,\"#ed7953\"],[0.7777777777777778,\"#fb9f3a\"],[0.8888888888888888,\"#fdca26\"],[1.0,\"#f0f921\"]],\"sequentialminus\":[[0.0,\"#0d0887\"],[0.1111111111111111,\"#46039f\"],[0.2222222222222222,\"#7201a8\"],[0.3333333333333333,\"#9c179e\"],[0.4444444444444444,\"#bd3786\"],[0.5555555555555556,\"#d8576b\"],[0.6666666666666666,\"#ed7953\"],[0.7777777777777778,\"#fb9f3a\"],[0.8888888888888888,\"#fdca26\"],[1.0,\"#f0f921\"]]},\"colorway\":[\"#636efa\",\"#EF553B\",\"#00cc96\",\"#ab63fa\",\"#FFA15A\",\"#19d3f3\",\"#FF6692\",\"#B6E880\",\"#FF97FF\",\"#FECB52\"],\"font\":{\"color\":\"#2a3f5f\"},\"geo\":{\"bgcolor\":\"white\",\"lakecolor\":\"white\",\"landcolor\":\"#E5ECF6\",\"showlakes\":true,\"showland\":true,\"subunitcolor\":\"white\"},\"hoverlabel\":{\"align\":\"left\"},\"hovermode\":\"closest\",\"mapbox\":{\"style\":\"light\"},\"paper_bgcolor\":\"white\",\"plot_bgcolor\":\"#E5ECF6\",\"polar\":{\"angularaxis\":{\"gridcolor\":\"white\",\"linecolor\":\"white\",\"ticks\":\"\"},\"bgcolor\":\"#E5ECF6\",\"radialaxis\":{\"gridcolor\":\"white\",\"linecolor\":\"white\",\"ticks\":\"\"}},\"scene\":{\"xaxis\":{\"backgroundcolor\":\"#E5ECF6\",\"gridcolor\":\"white\",\"gridwidth\":2,\"linecolor\":\"white\",\"showbackground\":true,\"ticks\":\"\",\"zerolinecolor\":\"white\"},\"yaxis\":{\"backgroundcolor\":\"#E5ECF6\",\"gridcolor\":\"white\",\"gridwidth\":2,\"linecolor\":\"white\",\"showbackground\":true,\"ticks\":\"\",\"zerolinecolor\":\"white\"},\"zaxis\":{\"backgroundcolor\":\"#E5ECF6\",\"gridcolor\":\"white\",\"gridwidth\":2,\"linecolor\":\"white\",\"showbackground\":true,\"ticks\":\"\",\"zerolinecolor\":\"white\"}},\"shapedefaults\":{\"line\":{\"color\":\"#2a3f5f\"}},\"ternary\":{\"aaxis\":{\"gridcolor\":\"white\",\"linecolor\":\"white\",\"ticks\":\"\"},\"baxis\":{\"gridcolor\":\"white\",\"linecolor\":\"white\",\"ticks\":\"\"},\"bgcolor\":\"#E5ECF6\",\"caxis\":{\"gridcolor\":\"white\",\"linecolor\":\"white\",\"ticks\":\"\"}},\"title\":{\"x\":0.05},\"xaxis\":{\"automargin\":true,\"gridcolor\":\"white\",\"linecolor\":\"white\",\"ticks\":\"\",\"title\":{\"standoff\":15},\"zerolinecolor\":\"white\",\"zerolinewidth\":2},\"yaxis\":{\"automargin\":true,\"gridcolor\":\"white\",\"linecolor\":\"white\",\"ticks\":\"\",\"title\":{\"standoff\":15},\"zerolinecolor\":\"white\",\"zerolinewidth\":2}}},\"title\":{\"font\":{\"color\":\"#4D5663\"}},\"xaxis\":{\"gridcolor\":\"#E1E5ED\",\"showgrid\":true,\"tickfont\":{\"color\":\"#4D5663\"},\"title\":{\"font\":{\"color\":\"#4D5663\"},\"text\":\"\"},\"zerolinecolor\":\"#E1E5ED\"},\"yaxis\":{\"gridcolor\":\"#E1E5ED\",\"showgrid\":true,\"tickfont\":{\"color\":\"#4D5663\"},\"title\":{\"font\":{\"color\":\"#4D5663\"},\"text\":\"\"},\"zerolinecolor\":\"#E1E5ED\"}},                        {\"showLink\": true, \"linkText\": \"Export to plot.ly\", \"plotlyServerURL\": \"https://plot.ly\", \"responsive\": true}                    ).then(function(){\n",
       "                            \n",
       "var gd = document.getElementById('2f4dfebf-2624-465a-baa0-3a3cbd874dc6');\n",
       "var x = new MutationObserver(function (mutations, observer) {{\n",
       "        var display = window.getComputedStyle(gd).display;\n",
       "        if (!display || display === 'none') {{\n",
       "            console.log([gd, 'removed!']);\n",
       "            Plotly.purge(gd);\n",
       "            observer.disconnect();\n",
       "        }}\n",
       "}});\n",
       "\n",
       "// Listen for the removal of the full notebook cells\n",
       "var notebookContainer = gd.closest('#notebook-container');\n",
       "if (notebookContainer) {{\n",
       "    x.observe(notebookContainer, {childList: true});\n",
       "}}\n",
       "\n",
       "// Listen for the clearing of the current output cell\n",
       "var outputEl = gd.closest('.output');\n",
       "if (outputEl) {{\n",
       "    x.observe(outputEl, {childList: true});\n",
       "}}\n",
       "\n",
       "                        })                };                });            </script>        </div>"
      ]
     },
     "metadata": {},
     "output_type": "display_data"
    }
   ],
   "source": [
    "df2.iplot(kind='bar',x='Category',y='Values')"
   ]
  },
  {
   "cell_type": "code",
   "execution_count": 16,
   "metadata": {},
   "outputs": [
    {
     "data": {
      "application/vnd.plotly.v1+json": {
       "config": {
        "linkText": "Export to plot.ly",
        "plotlyServerURL": "https://plot.ly",
        "showLink": true
       },
       "data": [
        {
         "marker": {
          "color": "rgba(255, 153, 51, 0.6)",
          "line": {
           "color": "rgba(255, 153, 51, 1.0)",
           "width": 1
          }
         },
         "name": "None",
         "orientation": "v",
         "text": "",
         "type": "bar",
         "x": [
          "A",
          "B",
          "C",
          "D"
         ],
         "y": [
          6.248429914795444,
          9.418177821897507,
          1.3711614429241952,
          -0.13382052053954996
         ]
        }
       ],
       "layout": {
        "legend": {
         "bgcolor": "#F5F6F9",
         "font": {
          "color": "#4D5663"
         }
        },
        "paper_bgcolor": "#F5F6F9",
        "plot_bgcolor": "#F5F6F9",
        "template": {
         "data": {
          "bar": [
           {
            "error_x": {
             "color": "#2a3f5f"
            },
            "error_y": {
             "color": "#2a3f5f"
            },
            "marker": {
             "line": {
              "color": "#E5ECF6",
              "width": 0.5
             },
             "pattern": {
              "fillmode": "overlay",
              "size": 10,
              "solidity": 0.2
             }
            },
            "type": "bar"
           }
          ],
          "barpolar": [
           {
            "marker": {
             "line": {
              "color": "#E5ECF6",
              "width": 0.5
             },
             "pattern": {
              "fillmode": "overlay",
              "size": 10,
              "solidity": 0.2
             }
            },
            "type": "barpolar"
           }
          ],
          "carpet": [
           {
            "aaxis": {
             "endlinecolor": "#2a3f5f",
             "gridcolor": "white",
             "linecolor": "white",
             "minorgridcolor": "white",
             "startlinecolor": "#2a3f5f"
            },
            "baxis": {
             "endlinecolor": "#2a3f5f",
             "gridcolor": "white",
             "linecolor": "white",
             "minorgridcolor": "white",
             "startlinecolor": "#2a3f5f"
            },
            "type": "carpet"
           }
          ],
          "choropleth": [
           {
            "colorbar": {
             "outlinewidth": 0,
             "ticks": ""
            },
            "type": "choropleth"
           }
          ],
          "contour": [
           {
            "colorbar": {
             "outlinewidth": 0,
             "ticks": ""
            },
            "colorscale": [
             [
              0,
              "#0d0887"
             ],
             [
              0.1111111111111111,
              "#46039f"
             ],
             [
              0.2222222222222222,
              "#7201a8"
             ],
             [
              0.3333333333333333,
              "#9c179e"
             ],
             [
              0.4444444444444444,
              "#bd3786"
             ],
             [
              0.5555555555555556,
              "#d8576b"
             ],
             [
              0.6666666666666666,
              "#ed7953"
             ],
             [
              0.7777777777777778,
              "#fb9f3a"
             ],
             [
              0.8888888888888888,
              "#fdca26"
             ],
             [
              1,
              "#f0f921"
             ]
            ],
            "type": "contour"
           }
          ],
          "contourcarpet": [
           {
            "colorbar": {
             "outlinewidth": 0,
             "ticks": ""
            },
            "type": "contourcarpet"
           }
          ],
          "heatmap": [
           {
            "colorbar": {
             "outlinewidth": 0,
             "ticks": ""
            },
            "colorscale": [
             [
              0,
              "#0d0887"
             ],
             [
              0.1111111111111111,
              "#46039f"
             ],
             [
              0.2222222222222222,
              "#7201a8"
             ],
             [
              0.3333333333333333,
              "#9c179e"
             ],
             [
              0.4444444444444444,
              "#bd3786"
             ],
             [
              0.5555555555555556,
              "#d8576b"
             ],
             [
              0.6666666666666666,
              "#ed7953"
             ],
             [
              0.7777777777777778,
              "#fb9f3a"
             ],
             [
              0.8888888888888888,
              "#fdca26"
             ],
             [
              1,
              "#f0f921"
             ]
            ],
            "type": "heatmap"
           }
          ],
          "heatmapgl": [
           {
            "colorbar": {
             "outlinewidth": 0,
             "ticks": ""
            },
            "colorscale": [
             [
              0,
              "#0d0887"
             ],
             [
              0.1111111111111111,
              "#46039f"
             ],
             [
              0.2222222222222222,
              "#7201a8"
             ],
             [
              0.3333333333333333,
              "#9c179e"
             ],
             [
              0.4444444444444444,
              "#bd3786"
             ],
             [
              0.5555555555555556,
              "#d8576b"
             ],
             [
              0.6666666666666666,
              "#ed7953"
             ],
             [
              0.7777777777777778,
              "#fb9f3a"
             ],
             [
              0.8888888888888888,
              "#fdca26"
             ],
             [
              1,
              "#f0f921"
             ]
            ],
            "type": "heatmapgl"
           }
          ],
          "histogram": [
           {
            "marker": {
             "pattern": {
              "fillmode": "overlay",
              "size": 10,
              "solidity": 0.2
             }
            },
            "type": "histogram"
           }
          ],
          "histogram2d": [
           {
            "colorbar": {
             "outlinewidth": 0,
             "ticks": ""
            },
            "colorscale": [
             [
              0,
              "#0d0887"
             ],
             [
              0.1111111111111111,
              "#46039f"
             ],
             [
              0.2222222222222222,
              "#7201a8"
             ],
             [
              0.3333333333333333,
              "#9c179e"
             ],
             [
              0.4444444444444444,
              "#bd3786"
             ],
             [
              0.5555555555555556,
              "#d8576b"
             ],
             [
              0.6666666666666666,
              "#ed7953"
             ],
             [
              0.7777777777777778,
              "#fb9f3a"
             ],
             [
              0.8888888888888888,
              "#fdca26"
             ],
             [
              1,
              "#f0f921"
             ]
            ],
            "type": "histogram2d"
           }
          ],
          "histogram2dcontour": [
           {
            "colorbar": {
             "outlinewidth": 0,
             "ticks": ""
            },
            "colorscale": [
             [
              0,
              "#0d0887"
             ],
             [
              0.1111111111111111,
              "#46039f"
             ],
             [
              0.2222222222222222,
              "#7201a8"
             ],
             [
              0.3333333333333333,
              "#9c179e"
             ],
             [
              0.4444444444444444,
              "#bd3786"
             ],
             [
              0.5555555555555556,
              "#d8576b"
             ],
             [
              0.6666666666666666,
              "#ed7953"
             ],
             [
              0.7777777777777778,
              "#fb9f3a"
             ],
             [
              0.8888888888888888,
              "#fdca26"
             ],
             [
              1,
              "#f0f921"
             ]
            ],
            "type": "histogram2dcontour"
           }
          ],
          "mesh3d": [
           {
            "colorbar": {
             "outlinewidth": 0,
             "ticks": ""
            },
            "type": "mesh3d"
           }
          ],
          "parcoords": [
           {
            "line": {
             "colorbar": {
              "outlinewidth": 0,
              "ticks": ""
             }
            },
            "type": "parcoords"
           }
          ],
          "pie": [
           {
            "automargin": true,
            "type": "pie"
           }
          ],
          "scatter": [
           {
            "fillpattern": {
             "fillmode": "overlay",
             "size": 10,
             "solidity": 0.2
            },
            "type": "scatter"
           }
          ],
          "scatter3d": [
           {
            "line": {
             "colorbar": {
              "outlinewidth": 0,
              "ticks": ""
             }
            },
            "marker": {
             "colorbar": {
              "outlinewidth": 0,
              "ticks": ""
             }
            },
            "type": "scatter3d"
           }
          ],
          "scattercarpet": [
           {
            "marker": {
             "colorbar": {
              "outlinewidth": 0,
              "ticks": ""
             }
            },
            "type": "scattercarpet"
           }
          ],
          "scattergeo": [
           {
            "marker": {
             "colorbar": {
              "outlinewidth": 0,
              "ticks": ""
             }
            },
            "type": "scattergeo"
           }
          ],
          "scattergl": [
           {
            "marker": {
             "colorbar": {
              "outlinewidth": 0,
              "ticks": ""
             }
            },
            "type": "scattergl"
           }
          ],
          "scattermapbox": [
           {
            "marker": {
             "colorbar": {
              "outlinewidth": 0,
              "ticks": ""
             }
            },
            "type": "scattermapbox"
           }
          ],
          "scatterpolar": [
           {
            "marker": {
             "colorbar": {
              "outlinewidth": 0,
              "ticks": ""
             }
            },
            "type": "scatterpolar"
           }
          ],
          "scatterpolargl": [
           {
            "marker": {
             "colorbar": {
              "outlinewidth": 0,
              "ticks": ""
             }
            },
            "type": "scatterpolargl"
           }
          ],
          "scatterternary": [
           {
            "marker": {
             "colorbar": {
              "outlinewidth": 0,
              "ticks": ""
             }
            },
            "type": "scatterternary"
           }
          ],
          "surface": [
           {
            "colorbar": {
             "outlinewidth": 0,
             "ticks": ""
            },
            "colorscale": [
             [
              0,
              "#0d0887"
             ],
             [
              0.1111111111111111,
              "#46039f"
             ],
             [
              0.2222222222222222,
              "#7201a8"
             ],
             [
              0.3333333333333333,
              "#9c179e"
             ],
             [
              0.4444444444444444,
              "#bd3786"
             ],
             [
              0.5555555555555556,
              "#d8576b"
             ],
             [
              0.6666666666666666,
              "#ed7953"
             ],
             [
              0.7777777777777778,
              "#fb9f3a"
             ],
             [
              0.8888888888888888,
              "#fdca26"
             ],
             [
              1,
              "#f0f921"
             ]
            ],
            "type": "surface"
           }
          ],
          "table": [
           {
            "cells": {
             "fill": {
              "color": "#EBF0F8"
             },
             "line": {
              "color": "white"
             }
            },
            "header": {
             "fill": {
              "color": "#C8D4E3"
             },
             "line": {
              "color": "white"
             }
            },
            "type": "table"
           }
          ]
         },
         "layout": {
          "annotationdefaults": {
           "arrowcolor": "#2a3f5f",
           "arrowhead": 0,
           "arrowwidth": 1
          },
          "autotypenumbers": "strict",
          "coloraxis": {
           "colorbar": {
            "outlinewidth": 0,
            "ticks": ""
           }
          },
          "colorscale": {
           "diverging": [
            [
             0,
             "#8e0152"
            ],
            [
             0.1,
             "#c51b7d"
            ],
            [
             0.2,
             "#de77ae"
            ],
            [
             0.3,
             "#f1b6da"
            ],
            [
             0.4,
             "#fde0ef"
            ],
            [
             0.5,
             "#f7f7f7"
            ],
            [
             0.6,
             "#e6f5d0"
            ],
            [
             0.7,
             "#b8e186"
            ],
            [
             0.8,
             "#7fbc41"
            ],
            [
             0.9,
             "#4d9221"
            ],
            [
             1,
             "#276419"
            ]
           ],
           "sequential": [
            [
             0,
             "#0d0887"
            ],
            [
             0.1111111111111111,
             "#46039f"
            ],
            [
             0.2222222222222222,
             "#7201a8"
            ],
            [
             0.3333333333333333,
             "#9c179e"
            ],
            [
             0.4444444444444444,
             "#bd3786"
            ],
            [
             0.5555555555555556,
             "#d8576b"
            ],
            [
             0.6666666666666666,
             "#ed7953"
            ],
            [
             0.7777777777777778,
             "#fb9f3a"
            ],
            [
             0.8888888888888888,
             "#fdca26"
            ],
            [
             1,
             "#f0f921"
            ]
           ],
           "sequentialminus": [
            [
             0,
             "#0d0887"
            ],
            [
             0.1111111111111111,
             "#46039f"
            ],
            [
             0.2222222222222222,
             "#7201a8"
            ],
            [
             0.3333333333333333,
             "#9c179e"
            ],
            [
             0.4444444444444444,
             "#bd3786"
            ],
            [
             0.5555555555555556,
             "#d8576b"
            ],
            [
             0.6666666666666666,
             "#ed7953"
            ],
            [
             0.7777777777777778,
             "#fb9f3a"
            ],
            [
             0.8888888888888888,
             "#fdca26"
            ],
            [
             1,
             "#f0f921"
            ]
           ]
          },
          "colorway": [
           "#636efa",
           "#EF553B",
           "#00cc96",
           "#ab63fa",
           "#FFA15A",
           "#19d3f3",
           "#FF6692",
           "#B6E880",
           "#FF97FF",
           "#FECB52"
          ],
          "font": {
           "color": "#2a3f5f"
          },
          "geo": {
           "bgcolor": "white",
           "lakecolor": "white",
           "landcolor": "#E5ECF6",
           "showlakes": true,
           "showland": true,
           "subunitcolor": "white"
          },
          "hoverlabel": {
           "align": "left"
          },
          "hovermode": "closest",
          "mapbox": {
           "style": "light"
          },
          "paper_bgcolor": "white",
          "plot_bgcolor": "#E5ECF6",
          "polar": {
           "angularaxis": {
            "gridcolor": "white",
            "linecolor": "white",
            "ticks": ""
           },
           "bgcolor": "#E5ECF6",
           "radialaxis": {
            "gridcolor": "white",
            "linecolor": "white",
            "ticks": ""
           }
          },
          "scene": {
           "xaxis": {
            "backgroundcolor": "#E5ECF6",
            "gridcolor": "white",
            "gridwidth": 2,
            "linecolor": "white",
            "showbackground": true,
            "ticks": "",
            "zerolinecolor": "white"
           },
           "yaxis": {
            "backgroundcolor": "#E5ECF6",
            "gridcolor": "white",
            "gridwidth": 2,
            "linecolor": "white",
            "showbackground": true,
            "ticks": "",
            "zerolinecolor": "white"
           },
           "zaxis": {
            "backgroundcolor": "#E5ECF6",
            "gridcolor": "white",
            "gridwidth": 2,
            "linecolor": "white",
            "showbackground": true,
            "ticks": "",
            "zerolinecolor": "white"
           }
          },
          "shapedefaults": {
           "line": {
            "color": "#2a3f5f"
           }
          },
          "ternary": {
           "aaxis": {
            "gridcolor": "white",
            "linecolor": "white",
            "ticks": ""
           },
           "baxis": {
            "gridcolor": "white",
            "linecolor": "white",
            "ticks": ""
           },
           "bgcolor": "#E5ECF6",
           "caxis": {
            "gridcolor": "white",
            "linecolor": "white",
            "ticks": ""
           }
          },
          "title": {
           "x": 0.05
          },
          "xaxis": {
           "automargin": true,
           "gridcolor": "white",
           "linecolor": "white",
           "ticks": "",
           "title": {
            "standoff": 15
           },
           "zerolinecolor": "white",
           "zerolinewidth": 2
          },
          "yaxis": {
           "automargin": true,
           "gridcolor": "white",
           "linecolor": "white",
           "ticks": "",
           "title": {
            "standoff": 15
           },
           "zerolinecolor": "white",
           "zerolinewidth": 2
          }
         }
        },
        "title": {
         "font": {
          "color": "#4D5663"
         }
        },
        "xaxis": {
         "gridcolor": "#E1E5ED",
         "showgrid": true,
         "tickfont": {
          "color": "#4D5663"
         },
         "title": {
          "font": {
           "color": "#4D5663"
          },
          "text": ""
         },
         "zerolinecolor": "#E1E5ED"
        },
        "yaxis": {
         "gridcolor": "#E1E5ED",
         "showgrid": true,
         "tickfont": {
          "color": "#4D5663"
         },
         "title": {
          "font": {
           "color": "#4D5663"
          },
          "text": ""
         },
         "zerolinecolor": "#E1E5ED"
        }
       }
      },
      "text/html": [
       "<div>                            <div id=\"1c96ad11-4520-48dc-895d-accd729fc437\" class=\"plotly-graph-div\" style=\"height:525px; width:100%;\"></div>            <script type=\"text/javascript\">                require([\"plotly\"], function(Plotly) {                    window.PLOTLYENV=window.PLOTLYENV || {};\n",
       "                    window.PLOTLYENV.BASE_URL='https://plot.ly';                                    if (document.getElementById(\"1c96ad11-4520-48dc-895d-accd729fc437\")) {                    Plotly.newPlot(                        \"1c96ad11-4520-48dc-895d-accd729fc437\",                        [{\"marker\":{\"color\":\"rgba(255, 153, 51, 0.6)\",\"line\":{\"color\":\"rgba(255, 153, 51, 1.0)\",\"width\":1}},\"name\":\"None\",\"orientation\":\"v\",\"text\":\"\",\"x\":[\"A\",\"B\",\"C\",\"D\"],\"y\":[6.248429914795444,9.418177821897507,1.3711614429241952,-0.13382052053954996],\"type\":\"bar\"}],                        {\"legend\":{\"bgcolor\":\"#F5F6F9\",\"font\":{\"color\":\"#4D5663\"}},\"paper_bgcolor\":\"#F5F6F9\",\"plot_bgcolor\":\"#F5F6F9\",\"template\":{\"data\":{\"barpolar\":[{\"marker\":{\"line\":{\"color\":\"#E5ECF6\",\"width\":0.5},\"pattern\":{\"fillmode\":\"overlay\",\"size\":10,\"solidity\":0.2}},\"type\":\"barpolar\"}],\"bar\":[{\"error_x\":{\"color\":\"#2a3f5f\"},\"error_y\":{\"color\":\"#2a3f5f\"},\"marker\":{\"line\":{\"color\":\"#E5ECF6\",\"width\":0.5},\"pattern\":{\"fillmode\":\"overlay\",\"size\":10,\"solidity\":0.2}},\"type\":\"bar\"}],\"carpet\":[{\"aaxis\":{\"endlinecolor\":\"#2a3f5f\",\"gridcolor\":\"white\",\"linecolor\":\"white\",\"minorgridcolor\":\"white\",\"startlinecolor\":\"#2a3f5f\"},\"baxis\":{\"endlinecolor\":\"#2a3f5f\",\"gridcolor\":\"white\",\"linecolor\":\"white\",\"minorgridcolor\":\"white\",\"startlinecolor\":\"#2a3f5f\"},\"type\":\"carpet\"}],\"choropleth\":[{\"colorbar\":{\"outlinewidth\":0,\"ticks\":\"\"},\"type\":\"choropleth\"}],\"contourcarpet\":[{\"colorbar\":{\"outlinewidth\":0,\"ticks\":\"\"},\"type\":\"contourcarpet\"}],\"contour\":[{\"colorbar\":{\"outlinewidth\":0,\"ticks\":\"\"},\"colorscale\":[[0.0,\"#0d0887\"],[0.1111111111111111,\"#46039f\"],[0.2222222222222222,\"#7201a8\"],[0.3333333333333333,\"#9c179e\"],[0.4444444444444444,\"#bd3786\"],[0.5555555555555556,\"#d8576b\"],[0.6666666666666666,\"#ed7953\"],[0.7777777777777778,\"#fb9f3a\"],[0.8888888888888888,\"#fdca26\"],[1.0,\"#f0f921\"]],\"type\":\"contour\"}],\"heatmapgl\":[{\"colorbar\":{\"outlinewidth\":0,\"ticks\":\"\"},\"colorscale\":[[0.0,\"#0d0887\"],[0.1111111111111111,\"#46039f\"],[0.2222222222222222,\"#7201a8\"],[0.3333333333333333,\"#9c179e\"],[0.4444444444444444,\"#bd3786\"],[0.5555555555555556,\"#d8576b\"],[0.6666666666666666,\"#ed7953\"],[0.7777777777777778,\"#fb9f3a\"],[0.8888888888888888,\"#fdca26\"],[1.0,\"#f0f921\"]],\"type\":\"heatmapgl\"}],\"heatmap\":[{\"colorbar\":{\"outlinewidth\":0,\"ticks\":\"\"},\"colorscale\":[[0.0,\"#0d0887\"],[0.1111111111111111,\"#46039f\"],[0.2222222222222222,\"#7201a8\"],[0.3333333333333333,\"#9c179e\"],[0.4444444444444444,\"#bd3786\"],[0.5555555555555556,\"#d8576b\"],[0.6666666666666666,\"#ed7953\"],[0.7777777777777778,\"#fb9f3a\"],[0.8888888888888888,\"#fdca26\"],[1.0,\"#f0f921\"]],\"type\":\"heatmap\"}],\"histogram2dcontour\":[{\"colorbar\":{\"outlinewidth\":0,\"ticks\":\"\"},\"colorscale\":[[0.0,\"#0d0887\"],[0.1111111111111111,\"#46039f\"],[0.2222222222222222,\"#7201a8\"],[0.3333333333333333,\"#9c179e\"],[0.4444444444444444,\"#bd3786\"],[0.5555555555555556,\"#d8576b\"],[0.6666666666666666,\"#ed7953\"],[0.7777777777777778,\"#fb9f3a\"],[0.8888888888888888,\"#fdca26\"],[1.0,\"#f0f921\"]],\"type\":\"histogram2dcontour\"}],\"histogram2d\":[{\"colorbar\":{\"outlinewidth\":0,\"ticks\":\"\"},\"colorscale\":[[0.0,\"#0d0887\"],[0.1111111111111111,\"#46039f\"],[0.2222222222222222,\"#7201a8\"],[0.3333333333333333,\"#9c179e\"],[0.4444444444444444,\"#bd3786\"],[0.5555555555555556,\"#d8576b\"],[0.6666666666666666,\"#ed7953\"],[0.7777777777777778,\"#fb9f3a\"],[0.8888888888888888,\"#fdca26\"],[1.0,\"#f0f921\"]],\"type\":\"histogram2d\"}],\"histogram\":[{\"marker\":{\"pattern\":{\"fillmode\":\"overlay\",\"size\":10,\"solidity\":0.2}},\"type\":\"histogram\"}],\"mesh3d\":[{\"colorbar\":{\"outlinewidth\":0,\"ticks\":\"\"},\"type\":\"mesh3d\"}],\"parcoords\":[{\"line\":{\"colorbar\":{\"outlinewidth\":0,\"ticks\":\"\"}},\"type\":\"parcoords\"}],\"pie\":[{\"automargin\":true,\"type\":\"pie\"}],\"scatter3d\":[{\"line\":{\"colorbar\":{\"outlinewidth\":0,\"ticks\":\"\"}},\"marker\":{\"colorbar\":{\"outlinewidth\":0,\"ticks\":\"\"}},\"type\":\"scatter3d\"}],\"scattercarpet\":[{\"marker\":{\"colorbar\":{\"outlinewidth\":0,\"ticks\":\"\"}},\"type\":\"scattercarpet\"}],\"scattergeo\":[{\"marker\":{\"colorbar\":{\"outlinewidth\":0,\"ticks\":\"\"}},\"type\":\"scattergeo\"}],\"scattergl\":[{\"marker\":{\"colorbar\":{\"outlinewidth\":0,\"ticks\":\"\"}},\"type\":\"scattergl\"}],\"scattermapbox\":[{\"marker\":{\"colorbar\":{\"outlinewidth\":0,\"ticks\":\"\"}},\"type\":\"scattermapbox\"}],\"scatterpolargl\":[{\"marker\":{\"colorbar\":{\"outlinewidth\":0,\"ticks\":\"\"}},\"type\":\"scatterpolargl\"}],\"scatterpolar\":[{\"marker\":{\"colorbar\":{\"outlinewidth\":0,\"ticks\":\"\"}},\"type\":\"scatterpolar\"}],\"scatter\":[{\"fillpattern\":{\"fillmode\":\"overlay\",\"size\":10,\"solidity\":0.2},\"type\":\"scatter\"}],\"scatterternary\":[{\"marker\":{\"colorbar\":{\"outlinewidth\":0,\"ticks\":\"\"}},\"type\":\"scatterternary\"}],\"surface\":[{\"colorbar\":{\"outlinewidth\":0,\"ticks\":\"\"},\"colorscale\":[[0.0,\"#0d0887\"],[0.1111111111111111,\"#46039f\"],[0.2222222222222222,\"#7201a8\"],[0.3333333333333333,\"#9c179e\"],[0.4444444444444444,\"#bd3786\"],[0.5555555555555556,\"#d8576b\"],[0.6666666666666666,\"#ed7953\"],[0.7777777777777778,\"#fb9f3a\"],[0.8888888888888888,\"#fdca26\"],[1.0,\"#f0f921\"]],\"type\":\"surface\"}],\"table\":[{\"cells\":{\"fill\":{\"color\":\"#EBF0F8\"},\"line\":{\"color\":\"white\"}},\"header\":{\"fill\":{\"color\":\"#C8D4E3\"},\"line\":{\"color\":\"white\"}},\"type\":\"table\"}]},\"layout\":{\"annotationdefaults\":{\"arrowcolor\":\"#2a3f5f\",\"arrowhead\":0,\"arrowwidth\":1},\"autotypenumbers\":\"strict\",\"coloraxis\":{\"colorbar\":{\"outlinewidth\":0,\"ticks\":\"\"}},\"colorscale\":{\"diverging\":[[0,\"#8e0152\"],[0.1,\"#c51b7d\"],[0.2,\"#de77ae\"],[0.3,\"#f1b6da\"],[0.4,\"#fde0ef\"],[0.5,\"#f7f7f7\"],[0.6,\"#e6f5d0\"],[0.7,\"#b8e186\"],[0.8,\"#7fbc41\"],[0.9,\"#4d9221\"],[1,\"#276419\"]],\"sequential\":[[0.0,\"#0d0887\"],[0.1111111111111111,\"#46039f\"],[0.2222222222222222,\"#7201a8\"],[0.3333333333333333,\"#9c179e\"],[0.4444444444444444,\"#bd3786\"],[0.5555555555555556,\"#d8576b\"],[0.6666666666666666,\"#ed7953\"],[0.7777777777777778,\"#fb9f3a\"],[0.8888888888888888,\"#fdca26\"],[1.0,\"#f0f921\"]],\"sequentialminus\":[[0.0,\"#0d0887\"],[0.1111111111111111,\"#46039f\"],[0.2222222222222222,\"#7201a8\"],[0.3333333333333333,\"#9c179e\"],[0.4444444444444444,\"#bd3786\"],[0.5555555555555556,\"#d8576b\"],[0.6666666666666666,\"#ed7953\"],[0.7777777777777778,\"#fb9f3a\"],[0.8888888888888888,\"#fdca26\"],[1.0,\"#f0f921\"]]},\"colorway\":[\"#636efa\",\"#EF553B\",\"#00cc96\",\"#ab63fa\",\"#FFA15A\",\"#19d3f3\",\"#FF6692\",\"#B6E880\",\"#FF97FF\",\"#FECB52\"],\"font\":{\"color\":\"#2a3f5f\"},\"geo\":{\"bgcolor\":\"white\",\"lakecolor\":\"white\",\"landcolor\":\"#E5ECF6\",\"showlakes\":true,\"showland\":true,\"subunitcolor\":\"white\"},\"hoverlabel\":{\"align\":\"left\"},\"hovermode\":\"closest\",\"mapbox\":{\"style\":\"light\"},\"paper_bgcolor\":\"white\",\"plot_bgcolor\":\"#E5ECF6\",\"polar\":{\"angularaxis\":{\"gridcolor\":\"white\",\"linecolor\":\"white\",\"ticks\":\"\"},\"bgcolor\":\"#E5ECF6\",\"radialaxis\":{\"gridcolor\":\"white\",\"linecolor\":\"white\",\"ticks\":\"\"}},\"scene\":{\"xaxis\":{\"backgroundcolor\":\"#E5ECF6\",\"gridcolor\":\"white\",\"gridwidth\":2,\"linecolor\":\"white\",\"showbackground\":true,\"ticks\":\"\",\"zerolinecolor\":\"white\"},\"yaxis\":{\"backgroundcolor\":\"#E5ECF6\",\"gridcolor\":\"white\",\"gridwidth\":2,\"linecolor\":\"white\",\"showbackground\":true,\"ticks\":\"\",\"zerolinecolor\":\"white\"},\"zaxis\":{\"backgroundcolor\":\"#E5ECF6\",\"gridcolor\":\"white\",\"gridwidth\":2,\"linecolor\":\"white\",\"showbackground\":true,\"ticks\":\"\",\"zerolinecolor\":\"white\"}},\"shapedefaults\":{\"line\":{\"color\":\"#2a3f5f\"}},\"ternary\":{\"aaxis\":{\"gridcolor\":\"white\",\"linecolor\":\"white\",\"ticks\":\"\"},\"baxis\":{\"gridcolor\":\"white\",\"linecolor\":\"white\",\"ticks\":\"\"},\"bgcolor\":\"#E5ECF6\",\"caxis\":{\"gridcolor\":\"white\",\"linecolor\":\"white\",\"ticks\":\"\"}},\"title\":{\"x\":0.05},\"xaxis\":{\"automargin\":true,\"gridcolor\":\"white\",\"linecolor\":\"white\",\"ticks\":\"\",\"title\":{\"standoff\":15},\"zerolinecolor\":\"white\",\"zerolinewidth\":2},\"yaxis\":{\"automargin\":true,\"gridcolor\":\"white\",\"linecolor\":\"white\",\"ticks\":\"\",\"title\":{\"standoff\":15},\"zerolinecolor\":\"white\",\"zerolinewidth\":2}}},\"title\":{\"font\":{\"color\":\"#4D5663\"}},\"xaxis\":{\"gridcolor\":\"#E1E5ED\",\"showgrid\":true,\"tickfont\":{\"color\":\"#4D5663\"},\"title\":{\"font\":{\"color\":\"#4D5663\"},\"text\":\"\"},\"zerolinecolor\":\"#E1E5ED\"},\"yaxis\":{\"gridcolor\":\"#E1E5ED\",\"showgrid\":true,\"tickfont\":{\"color\":\"#4D5663\"},\"title\":{\"font\":{\"color\":\"#4D5663\"},\"text\":\"\"},\"zerolinecolor\":\"#E1E5ED\"}},                        {\"showLink\": true, \"linkText\": \"Export to plot.ly\", \"plotlyServerURL\": \"https://plot.ly\", \"responsive\": true}                    ).then(function(){\n",
       "                            \n",
       "var gd = document.getElementById('1c96ad11-4520-48dc-895d-accd729fc437');\n",
       "var x = new MutationObserver(function (mutations, observer) {{\n",
       "        var display = window.getComputedStyle(gd).display;\n",
       "        if (!display || display === 'none') {{\n",
       "            console.log([gd, 'removed!']);\n",
       "            Plotly.purge(gd);\n",
       "            observer.disconnect();\n",
       "        }}\n",
       "}});\n",
       "\n",
       "// Listen for the removal of the full notebook cells\n",
       "var notebookContainer = gd.closest('#notebook-container');\n",
       "if (notebookContainer) {{\n",
       "    x.observe(notebookContainer, {childList: true});\n",
       "}}\n",
       "\n",
       "// Listen for the clearing of the current output cell\n",
       "var outputEl = gd.closest('.output');\n",
       "if (outputEl) {{\n",
       "    x.observe(outputEl, {childList: true});\n",
       "}}\n",
       "\n",
       "                        })                };                });            </script>        </div>"
      ]
     },
     "metadata": {},
     "output_type": "display_data"
    }
   ],
   "source": [
    "df.sum().iplot(kind='bar')"
   ]
  },
  {
   "cell_type": "markdown",
   "metadata": {},
   "source": [
    "## Boxplots"
   ]
  },
  {
   "cell_type": "code",
   "execution_count": 17,
   "metadata": {},
   "outputs": [
    {
     "data": {
      "application/vnd.plotly.v1+json": {
       "config": {
        "linkText": "Export to plot.ly",
        "plotlyServerURL": "https://plot.ly",
        "showLink": true
       },
       "data": [
        {
         "boxpoints": false,
         "line": {
          "width": 1.3
         },
         "marker": {
          "color": "rgba(255, 153, 51, 1.0)"
         },
         "name": "A",
         "orientation": "v",
         "type": "box",
         "y": [
          -0.5656412823360386,
          1.0360792852296468,
          -0.03441248758142155,
          0.23182280061860472,
          1.0088992008914284,
          -0.026715148537010024,
          -0.20315796235413472,
          0.5245229236865366,
          -3.2191295497186694,
          0.17164228604067813,
          0.582247745637063,
          0.9289059114631611,
          -0.7591861803041988,
          -0.24277993570070505,
          -0.1323275276500544,
          -0.5466769746668216,
          0.7177731503109126,
          -0.8191814660705794,
          -1.4310336841345486,
          0.2573153328506282,
          1.3408244257300779,
          0.486032440581521,
          -1.2308345803153686,
          -1.4608107584460366,
          0.8732239163610039,
          0.4567394249492647,
          -1.899861957922655,
          0.28173525063683097,
          -0.21805371925692918,
          1.2626935583320715,
          0.49886751555253367,
          1.4174111664802422,
          0.22660528690867696,
          -0.6502747916185775,
          0.16897409062805457,
          1.21279856642119,
          1.1143424086245766,
          -0.3483420722554928,
          -0.6696543666981883,
          -1.0632252096403403,
          -0.15225141923354557,
          1.316625588404699,
          1.1720151527353133,
          -0.027287875274585364,
          -1.0293154035381185,
          -0.37492772031126287,
          -0.04096023078323834,
          1.182570779299944,
          -1.376390923724631,
          -0.799936281543547,
          -0.707307351593801,
          0.02001897453784066,
          -0.978294769085192,
          0.8508279002602976,
          -0.5342831423012391,
          -0.36185037495602906,
          -0.8056130603514121,
          0.4111895792611264,
          0.004379479525213149,
          0.21780913118781245,
          0.6211677456201348,
          -0.7793003130748717,
          1.103489152734224,
          -1.7904817940423041,
          1.0010689343246126,
          1.8918588281108983,
          1.2977984640817777,
          0.3259841032981575,
          2.0815712057108744,
          0.8383496802803703,
          1.7472868342739443,
          -0.07719520587663783,
          0.9413390291554022,
          1.3834950208674481,
          -0.5569585432839406,
          -1.819230204577346,
          0.12169655584130164,
          1.5616824263876785,
          -0.45356471914135854,
          0.19676060898221412,
          0.009000319539798945,
          -0.2249124640829556,
          -0.2188737751900468,
          0.10764137132759453,
          0.11196929653740105,
          1.1665818342784908,
          -2.020826309495809,
          2.793163479046665,
          0.30526228066973804,
          -0.565887028976998,
          -0.2001466520368511,
          -0.5436753674793958,
          -1.343875859753172,
          0.6112457603338765,
          -0.7813886684840383,
          -1.22303424769474,
          0.4600825033400545,
          0.1383873846734834,
          -0.08138809268576497,
          0.8471112760129539
         ]
        },
        {
         "boxpoints": false,
         "line": {
          "width": 1.3
         },
         "marker": {
          "color": "rgba(55, 128, 191, 1.0)"
         },
         "name": "B",
         "orientation": "v",
         "type": "box",
         "y": [
          0.5645172566075981,
          -0.33932437899341966,
          -1.121520210991983,
          1.6002719901100757,
          1.5016206296259804,
          2.2959127591084303,
          0.6159086177819855,
          -0.7571132946788054,
          -1.8527379210880608,
          -1.1387426139167482,
          -1.1802914715008073,
          0.4863930279547499,
          -0.1972727517360925,
          -0.7045335740979844,
          0.11636261009340494,
          1.1218343682379364,
          0.07716204469597837,
          1.6172483692207498,
          -0.6227123975706295,
          -0.8638472923389473,
          0.7772239006064957,
          -1.0875868898305794,
          -0.8172213602844036,
          -1.6344710636517614,
          0.4380072171404136,
          -0.7353431531149569,
          -1.3292240246460292,
          2.64076103804586,
          -0.29720784590850985,
          1.3985332624862092,
          -0.05460103642841293,
          -1.7202047580904671,
          -2.307117527573707,
          0.26916881133700654,
          -1.7677313247111384,
          0.6385315213928748,
          1.059188957948073,
          -0.671379236360241,
          -1.3058207439934062,
          -0.15458145256593406,
          0.06995526962442203,
          2.5835499038790664,
          -1.046700114776581,
          0.44717854638131416,
          3.0509553348921687,
          1.1735076138718559,
          0.8596597027344738,
          -2.254815679656594,
          0.9087384098230576,
          1.4794324312196547,
          -0.5279978184819706,
          0.11428912177813569,
          -0.3206006243579793,
          0.6369155364690917,
          0.7040933544865097,
          2.1455364197699187,
          -0.310185129037482,
          -1.1884618328539198,
          -0.15786482315368378,
          3.2186195666514505,
          -0.10773828423557187,
          0.002865138432579824,
          -1.1621439679443992,
          1.8796177622458385,
          -1.011011249558588,
          1.26112692119876,
          0.8353625334967835,
          0.2787037798133771,
          -0.29289336451730547,
          -1.210875011885804,
          -0.25852796048510923,
          0.6324642492884567,
          1.8235740793505282,
          0.3069505716985952,
          -2.329145297007603,
          -1.2353938452853468,
          -1.0033728108153268,
          0.0558782491122532,
          -0.004269293450762822,
          -0.5134075458464393,
          0.8650144157816739,
          0.9575917608001567,
          -0.37212330519918413,
          0.22569767089282858,
          -1.4353961812767824,
          0.6047693356914953,
          0.831598022335903,
          0.3532044398283273,
          -0.6478073247627921,
          0.2147827207375652,
          1.1972101878705765,
          -0.12637330565608457,
          1.3462423783258188,
          -0.03648857415205832,
          0.10886015509104147,
          0.31893671014852615,
          0.10171193001652372,
          0.975923288760046,
          0.4650211235038087,
          -0.6218275280285074
         ]
        },
        {
         "boxpoints": false,
         "line": {
          "width": 1.3
         },
         "marker": {
          "color": "rgba(50, 171, 96, 1.0)"
         },
         "name": "C",
         "orientation": "v",
         "type": "box",
         "y": [
          -2.146739958101434,
          -0.25301348382365135,
          -0.4678006529789959,
          1.4606355389564618,
          -1.053029059187858,
          0.6583564309383253,
          1.2557003967779428,
          -0.3901218292667429,
          -1.768170831602827,
          1.232214512579578,
          0.4953012904572992,
          0.10626163855495853,
          -0.9062865487957101,
          1.4377033817031488,
          0.12966714167566729,
          -0.49631683240136537,
          0.10118022232583321,
          1.2050920920572787,
          -0.033851344727340964,
          -0.3031727588393859,
          1.795626787097041,
          1.6590999074748964,
          1.184703108828757,
          -0.09339121146934552,
          0.1318140522807218,
          -0.271329903075333,
          -0.037433080426591,
          0.5266097124633199,
          -0.04184233624948661,
          -1.3867995676792457,
          0.22799196459083326,
          0.3657482881768857,
          -1.0692196386643802,
          1.350244839107939,
          0.7355835034493701,
          0.17369969979000266,
          -0.16081528921817426,
          1.226049560303817,
          1.3904477336174936,
          0.37539186396935154,
          -0.2923153758591823,
          1.339458871844019,
          1.1550822183337757,
          0.9161381319826264,
          0.3181408972498468,
          0.8878803706789242,
          0.14556522095000182,
          -0.8957929735550295,
          -0.8656756147440221,
          0.8379349253461297,
          -2.9106639601375672,
          -0.5555967419701171,
          0.6819306724341314,
          -0.9208763345554103,
          0.2817986122648016,
          0.034555487974315895,
          -0.2561507674698253,
          -1.3253918989961624,
          0.4900069958878561,
          -0.16766884745683136,
          0.2652274456557487,
          -0.35034104542085215,
          -1.2443926590883105,
          -0.1461384887203423,
          -0.6581989158191782,
          -0.191008213851882,
          1.2547378610543556,
          0.40303278215971344,
          0.8321172347852366,
          -0.5751617423396881,
          0.9490180361048859,
          -0.08506551470662083,
          -0.44221319644508017,
          -0.573269814959952,
          -1.3946916335305886,
          -0.3681650639814785,
          -0.358803738924242,
          0.7075716853587268,
          0.7639885922071894,
          -0.8461728524859302,
          1.5230378720062514,
          -2.2068407513966823,
          -0.1366748375999527,
          -0.4021695886351473,
          0.2791603668851864,
          -1.9780237332050405,
          -0.45856880363817376,
          0.7207421525794263,
          0.26971957755829545,
          0.4657562094166123,
          1.2492715347644403,
          -0.22842210975332455,
          -0.2870705007107389,
          -0.24208094259732515,
          0.24211934347471437,
          -0.28601364136514074,
          -0.7228755132630907,
          0.15762795990197426,
          -1.7534767132311087,
          -0.02027642619003036
         ]
        },
        {
         "boxpoints": false,
         "line": {
          "width": 1.3
         },
         "marker": {
          "color": "rgba(128, 0, 128, 1.0)"
         },
         "name": "D",
         "orientation": "v",
         "type": "box",
         "y": [
          -0.6151624147627686,
          0.8642179796660394,
          1.6150075801940003,
          -0.28029472345158046,
          -0.6419889247977699,
          0.08072927789314675,
          0.6971146264882752,
          -2.198296078188932,
          -1.0704538706327174,
          1.0349241595097776,
          -0.42263232345442175,
          -2.324469806169129,
          1.9168979306344651,
          -0.0009210712168260685,
          -1.1556686652247599,
          0.822030953642305,
          -0.12115398100375059,
          -0.761490690836794,
          0.15579305221801515,
          -1.4847442594265914,
          -0.3972192958888316,
          0.6560364566207801,
          -0.13021767709572385,
          -1.457154847463913,
          -0.5769217709750978,
          -0.6879928014931928,
          0.8548722443332224,
          1.0415703051612732,
          0.03128562644400487,
          -0.1581166115922977,
          0.4637674127723924,
          -0.7682640886276002,
          -1.4362091480158106,
          -0.8318808089892663,
          1.9187921617026056,
          -1.4559329748981986,
          1.8818154786472323,
          -0.7263420773813469,
          0.2244866827468697,
          -1.576549265491964,
          -0.27725949988951853,
          1.850272178734371,
          -0.1920227832110244,
          -1.042785188315941,
          -0.7042997286034733,
          -1.8633589008292812,
          0.18097291381572225,
          -0.04928432713757553,
          2.3487718123105985,
          -0.0993482754106261,
          -0.1857671198067143,
          -1.015836065676018,
          1.1036300679190518,
          -0.6625012342613555,
          -0.15362109984995775,
          0.7814957994822236,
          -0.48081501642828817,
          -0.26191947958091033,
          -1.1012484706391648,
          2.488726384379564,
          -0.3666419932097134,
          0.10953998823415359,
          -0.3407958793932765,
          -1.0896937667635471,
          0.6391060984350521,
          -0.4949108736043691,
          0.09934455010362163,
          -0.8128142011529333,
          1.1399540042227818,
          0.559091010194793,
          1.8450975507014156,
          -0.7320799455626289,
          0.6657571665120307,
          -0.21193125260343734,
          -1.1962078533671796,
          0.8246817510121213,
          0.005705869259143747,
          1.1621344546334256,
          -0.40672163155047486,
          0.43418479240070235,
          -0.1676393444309276,
          1.8753100547594126,
          0.803100678268245,
          -0.7037504704638958,
          -0.06803244895829572,
          0.26032931396568176,
          0.9507871650753246,
          0.9026830194735854,
          0.19134400603202567,
          -1.5158594202389262,
          0.6083905806138107,
          0.5847508262330771,
          -2.1856144816221112,
          1.1433174466344616,
          -0.20543203471603827,
          0.10174337986287083,
          -1.086343489037349,
          1.0460832807357685,
          0.46797278141809384,
          1.387173078757153
         ]
        }
       ],
       "layout": {
        "legend": {
         "bgcolor": "#F5F6F9",
         "font": {
          "color": "#4D5663"
         }
        },
        "paper_bgcolor": "#F5F6F9",
        "plot_bgcolor": "#F5F6F9",
        "template": {
         "data": {
          "bar": [
           {
            "error_x": {
             "color": "#2a3f5f"
            },
            "error_y": {
             "color": "#2a3f5f"
            },
            "marker": {
             "line": {
              "color": "#E5ECF6",
              "width": 0.5
             },
             "pattern": {
              "fillmode": "overlay",
              "size": 10,
              "solidity": 0.2
             }
            },
            "type": "bar"
           }
          ],
          "barpolar": [
           {
            "marker": {
             "line": {
              "color": "#E5ECF6",
              "width": 0.5
             },
             "pattern": {
              "fillmode": "overlay",
              "size": 10,
              "solidity": 0.2
             }
            },
            "type": "barpolar"
           }
          ],
          "carpet": [
           {
            "aaxis": {
             "endlinecolor": "#2a3f5f",
             "gridcolor": "white",
             "linecolor": "white",
             "minorgridcolor": "white",
             "startlinecolor": "#2a3f5f"
            },
            "baxis": {
             "endlinecolor": "#2a3f5f",
             "gridcolor": "white",
             "linecolor": "white",
             "minorgridcolor": "white",
             "startlinecolor": "#2a3f5f"
            },
            "type": "carpet"
           }
          ],
          "choropleth": [
           {
            "colorbar": {
             "outlinewidth": 0,
             "ticks": ""
            },
            "type": "choropleth"
           }
          ],
          "contour": [
           {
            "colorbar": {
             "outlinewidth": 0,
             "ticks": ""
            },
            "colorscale": [
             [
              0,
              "#0d0887"
             ],
             [
              0.1111111111111111,
              "#46039f"
             ],
             [
              0.2222222222222222,
              "#7201a8"
             ],
             [
              0.3333333333333333,
              "#9c179e"
             ],
             [
              0.4444444444444444,
              "#bd3786"
             ],
             [
              0.5555555555555556,
              "#d8576b"
             ],
             [
              0.6666666666666666,
              "#ed7953"
             ],
             [
              0.7777777777777778,
              "#fb9f3a"
             ],
             [
              0.8888888888888888,
              "#fdca26"
             ],
             [
              1,
              "#f0f921"
             ]
            ],
            "type": "contour"
           }
          ],
          "contourcarpet": [
           {
            "colorbar": {
             "outlinewidth": 0,
             "ticks": ""
            },
            "type": "contourcarpet"
           }
          ],
          "heatmap": [
           {
            "colorbar": {
             "outlinewidth": 0,
             "ticks": ""
            },
            "colorscale": [
             [
              0,
              "#0d0887"
             ],
             [
              0.1111111111111111,
              "#46039f"
             ],
             [
              0.2222222222222222,
              "#7201a8"
             ],
             [
              0.3333333333333333,
              "#9c179e"
             ],
             [
              0.4444444444444444,
              "#bd3786"
             ],
             [
              0.5555555555555556,
              "#d8576b"
             ],
             [
              0.6666666666666666,
              "#ed7953"
             ],
             [
              0.7777777777777778,
              "#fb9f3a"
             ],
             [
              0.8888888888888888,
              "#fdca26"
             ],
             [
              1,
              "#f0f921"
             ]
            ],
            "type": "heatmap"
           }
          ],
          "heatmapgl": [
           {
            "colorbar": {
             "outlinewidth": 0,
             "ticks": ""
            },
            "colorscale": [
             [
              0,
              "#0d0887"
             ],
             [
              0.1111111111111111,
              "#46039f"
             ],
             [
              0.2222222222222222,
              "#7201a8"
             ],
             [
              0.3333333333333333,
              "#9c179e"
             ],
             [
              0.4444444444444444,
              "#bd3786"
             ],
             [
              0.5555555555555556,
              "#d8576b"
             ],
             [
              0.6666666666666666,
              "#ed7953"
             ],
             [
              0.7777777777777778,
              "#fb9f3a"
             ],
             [
              0.8888888888888888,
              "#fdca26"
             ],
             [
              1,
              "#f0f921"
             ]
            ],
            "type": "heatmapgl"
           }
          ],
          "histogram": [
           {
            "marker": {
             "pattern": {
              "fillmode": "overlay",
              "size": 10,
              "solidity": 0.2
             }
            },
            "type": "histogram"
           }
          ],
          "histogram2d": [
           {
            "colorbar": {
             "outlinewidth": 0,
             "ticks": ""
            },
            "colorscale": [
             [
              0,
              "#0d0887"
             ],
             [
              0.1111111111111111,
              "#46039f"
             ],
             [
              0.2222222222222222,
              "#7201a8"
             ],
             [
              0.3333333333333333,
              "#9c179e"
             ],
             [
              0.4444444444444444,
              "#bd3786"
             ],
             [
              0.5555555555555556,
              "#d8576b"
             ],
             [
              0.6666666666666666,
              "#ed7953"
             ],
             [
              0.7777777777777778,
              "#fb9f3a"
             ],
             [
              0.8888888888888888,
              "#fdca26"
             ],
             [
              1,
              "#f0f921"
             ]
            ],
            "type": "histogram2d"
           }
          ],
          "histogram2dcontour": [
           {
            "colorbar": {
             "outlinewidth": 0,
             "ticks": ""
            },
            "colorscale": [
             [
              0,
              "#0d0887"
             ],
             [
              0.1111111111111111,
              "#46039f"
             ],
             [
              0.2222222222222222,
              "#7201a8"
             ],
             [
              0.3333333333333333,
              "#9c179e"
             ],
             [
              0.4444444444444444,
              "#bd3786"
             ],
             [
              0.5555555555555556,
              "#d8576b"
             ],
             [
              0.6666666666666666,
              "#ed7953"
             ],
             [
              0.7777777777777778,
              "#fb9f3a"
             ],
             [
              0.8888888888888888,
              "#fdca26"
             ],
             [
              1,
              "#f0f921"
             ]
            ],
            "type": "histogram2dcontour"
           }
          ],
          "mesh3d": [
           {
            "colorbar": {
             "outlinewidth": 0,
             "ticks": ""
            },
            "type": "mesh3d"
           }
          ],
          "parcoords": [
           {
            "line": {
             "colorbar": {
              "outlinewidth": 0,
              "ticks": ""
             }
            },
            "type": "parcoords"
           }
          ],
          "pie": [
           {
            "automargin": true,
            "type": "pie"
           }
          ],
          "scatter": [
           {
            "fillpattern": {
             "fillmode": "overlay",
             "size": 10,
             "solidity": 0.2
            },
            "type": "scatter"
           }
          ],
          "scatter3d": [
           {
            "line": {
             "colorbar": {
              "outlinewidth": 0,
              "ticks": ""
             }
            },
            "marker": {
             "colorbar": {
              "outlinewidth": 0,
              "ticks": ""
             }
            },
            "type": "scatter3d"
           }
          ],
          "scattercarpet": [
           {
            "marker": {
             "colorbar": {
              "outlinewidth": 0,
              "ticks": ""
             }
            },
            "type": "scattercarpet"
           }
          ],
          "scattergeo": [
           {
            "marker": {
             "colorbar": {
              "outlinewidth": 0,
              "ticks": ""
             }
            },
            "type": "scattergeo"
           }
          ],
          "scattergl": [
           {
            "marker": {
             "colorbar": {
              "outlinewidth": 0,
              "ticks": ""
             }
            },
            "type": "scattergl"
           }
          ],
          "scattermapbox": [
           {
            "marker": {
             "colorbar": {
              "outlinewidth": 0,
              "ticks": ""
             }
            },
            "type": "scattermapbox"
           }
          ],
          "scatterpolar": [
           {
            "marker": {
             "colorbar": {
              "outlinewidth": 0,
              "ticks": ""
             }
            },
            "type": "scatterpolar"
           }
          ],
          "scatterpolargl": [
           {
            "marker": {
             "colorbar": {
              "outlinewidth": 0,
              "ticks": ""
             }
            },
            "type": "scatterpolargl"
           }
          ],
          "scatterternary": [
           {
            "marker": {
             "colorbar": {
              "outlinewidth": 0,
              "ticks": ""
             }
            },
            "type": "scatterternary"
           }
          ],
          "surface": [
           {
            "colorbar": {
             "outlinewidth": 0,
             "ticks": ""
            },
            "colorscale": [
             [
              0,
              "#0d0887"
             ],
             [
              0.1111111111111111,
              "#46039f"
             ],
             [
              0.2222222222222222,
              "#7201a8"
             ],
             [
              0.3333333333333333,
              "#9c179e"
             ],
             [
              0.4444444444444444,
              "#bd3786"
             ],
             [
              0.5555555555555556,
              "#d8576b"
             ],
             [
              0.6666666666666666,
              "#ed7953"
             ],
             [
              0.7777777777777778,
              "#fb9f3a"
             ],
             [
              0.8888888888888888,
              "#fdca26"
             ],
             [
              1,
              "#f0f921"
             ]
            ],
            "type": "surface"
           }
          ],
          "table": [
           {
            "cells": {
             "fill": {
              "color": "#EBF0F8"
             },
             "line": {
              "color": "white"
             }
            },
            "header": {
             "fill": {
              "color": "#C8D4E3"
             },
             "line": {
              "color": "white"
             }
            },
            "type": "table"
           }
          ]
         },
         "layout": {
          "annotationdefaults": {
           "arrowcolor": "#2a3f5f",
           "arrowhead": 0,
           "arrowwidth": 1
          },
          "autotypenumbers": "strict",
          "coloraxis": {
           "colorbar": {
            "outlinewidth": 0,
            "ticks": ""
           }
          },
          "colorscale": {
           "diverging": [
            [
             0,
             "#8e0152"
            ],
            [
             0.1,
             "#c51b7d"
            ],
            [
             0.2,
             "#de77ae"
            ],
            [
             0.3,
             "#f1b6da"
            ],
            [
             0.4,
             "#fde0ef"
            ],
            [
             0.5,
             "#f7f7f7"
            ],
            [
             0.6,
             "#e6f5d0"
            ],
            [
             0.7,
             "#b8e186"
            ],
            [
             0.8,
             "#7fbc41"
            ],
            [
             0.9,
             "#4d9221"
            ],
            [
             1,
             "#276419"
            ]
           ],
           "sequential": [
            [
             0,
             "#0d0887"
            ],
            [
             0.1111111111111111,
             "#46039f"
            ],
            [
             0.2222222222222222,
             "#7201a8"
            ],
            [
             0.3333333333333333,
             "#9c179e"
            ],
            [
             0.4444444444444444,
             "#bd3786"
            ],
            [
             0.5555555555555556,
             "#d8576b"
            ],
            [
             0.6666666666666666,
             "#ed7953"
            ],
            [
             0.7777777777777778,
             "#fb9f3a"
            ],
            [
             0.8888888888888888,
             "#fdca26"
            ],
            [
             1,
             "#f0f921"
            ]
           ],
           "sequentialminus": [
            [
             0,
             "#0d0887"
            ],
            [
             0.1111111111111111,
             "#46039f"
            ],
            [
             0.2222222222222222,
             "#7201a8"
            ],
            [
             0.3333333333333333,
             "#9c179e"
            ],
            [
             0.4444444444444444,
             "#bd3786"
            ],
            [
             0.5555555555555556,
             "#d8576b"
            ],
            [
             0.6666666666666666,
             "#ed7953"
            ],
            [
             0.7777777777777778,
             "#fb9f3a"
            ],
            [
             0.8888888888888888,
             "#fdca26"
            ],
            [
             1,
             "#f0f921"
            ]
           ]
          },
          "colorway": [
           "#636efa",
           "#EF553B",
           "#00cc96",
           "#ab63fa",
           "#FFA15A",
           "#19d3f3",
           "#FF6692",
           "#B6E880",
           "#FF97FF",
           "#FECB52"
          ],
          "font": {
           "color": "#2a3f5f"
          },
          "geo": {
           "bgcolor": "white",
           "lakecolor": "white",
           "landcolor": "#E5ECF6",
           "showlakes": true,
           "showland": true,
           "subunitcolor": "white"
          },
          "hoverlabel": {
           "align": "left"
          },
          "hovermode": "closest",
          "mapbox": {
           "style": "light"
          },
          "paper_bgcolor": "white",
          "plot_bgcolor": "#E5ECF6",
          "polar": {
           "angularaxis": {
            "gridcolor": "white",
            "linecolor": "white",
            "ticks": ""
           },
           "bgcolor": "#E5ECF6",
           "radialaxis": {
            "gridcolor": "white",
            "linecolor": "white",
            "ticks": ""
           }
          },
          "scene": {
           "xaxis": {
            "backgroundcolor": "#E5ECF6",
            "gridcolor": "white",
            "gridwidth": 2,
            "linecolor": "white",
            "showbackground": true,
            "ticks": "",
            "zerolinecolor": "white"
           },
           "yaxis": {
            "backgroundcolor": "#E5ECF6",
            "gridcolor": "white",
            "gridwidth": 2,
            "linecolor": "white",
            "showbackground": true,
            "ticks": "",
            "zerolinecolor": "white"
           },
           "zaxis": {
            "backgroundcolor": "#E5ECF6",
            "gridcolor": "white",
            "gridwidth": 2,
            "linecolor": "white",
            "showbackground": true,
            "ticks": "",
            "zerolinecolor": "white"
           }
          },
          "shapedefaults": {
           "line": {
            "color": "#2a3f5f"
           }
          },
          "ternary": {
           "aaxis": {
            "gridcolor": "white",
            "linecolor": "white",
            "ticks": ""
           },
           "baxis": {
            "gridcolor": "white",
            "linecolor": "white",
            "ticks": ""
           },
           "bgcolor": "#E5ECF6",
           "caxis": {
            "gridcolor": "white",
            "linecolor": "white",
            "ticks": ""
           }
          },
          "title": {
           "x": 0.05
          },
          "xaxis": {
           "automargin": true,
           "gridcolor": "white",
           "linecolor": "white",
           "ticks": "",
           "title": {
            "standoff": 15
           },
           "zerolinecolor": "white",
           "zerolinewidth": 2
          },
          "yaxis": {
           "automargin": true,
           "gridcolor": "white",
           "linecolor": "white",
           "ticks": "",
           "title": {
            "standoff": 15
           },
           "zerolinecolor": "white",
           "zerolinewidth": 2
          }
         }
        },
        "title": {
         "font": {
          "color": "#4D5663"
         }
        },
        "xaxis": {
         "gridcolor": "#E1E5ED",
         "showgrid": true,
         "tickfont": {
          "color": "#4D5663"
         },
         "title": {
          "font": {
           "color": "#4D5663"
          },
          "text": ""
         },
         "zerolinecolor": "#E1E5ED"
        },
        "yaxis": {
         "gridcolor": "#E1E5ED",
         "showgrid": true,
         "tickfont": {
          "color": "#4D5663"
         },
         "title": {
          "font": {
           "color": "#4D5663"
          },
          "text": ""
         },
         "zerolinecolor": "#E1E5ED"
        }
       }
      },
      "text/html": [
       "<div>                            <div id=\"1b97805c-97a5-4aeb-9550-7aa887accb8e\" class=\"plotly-graph-div\" style=\"height:525px; width:100%;\"></div>            <script type=\"text/javascript\">                require([\"plotly\"], function(Plotly) {                    window.PLOTLYENV=window.PLOTLYENV || {};\n",
       "                    window.PLOTLYENV.BASE_URL='https://plot.ly';                                    if (document.getElementById(\"1b97805c-97a5-4aeb-9550-7aa887accb8e\")) {                    Plotly.newPlot(                        \"1b97805c-97a5-4aeb-9550-7aa887accb8e\",                        [{\"boxpoints\":false,\"line\":{\"width\":1.3},\"marker\":{\"color\":\"rgba(255, 153, 51, 1.0)\"},\"name\":\"A\",\"orientation\":\"v\",\"y\":[-0.5656412823360386,1.0360792852296468,-0.03441248758142155,0.23182280061860472,1.0088992008914284,-0.026715148537010024,-0.20315796235413472,0.5245229236865366,-3.2191295497186694,0.17164228604067813,0.582247745637063,0.9289059114631611,-0.7591861803041988,-0.24277993570070505,-0.1323275276500544,-0.5466769746668216,0.7177731503109126,-0.8191814660705794,-1.4310336841345486,0.2573153328506282,1.3408244257300779,0.486032440581521,-1.2308345803153686,-1.4608107584460366,0.8732239163610039,0.4567394249492647,-1.899861957922655,0.28173525063683097,-0.21805371925692918,1.2626935583320715,0.49886751555253367,1.4174111664802422,0.22660528690867696,-0.6502747916185775,0.16897409062805457,1.21279856642119,1.1143424086245766,-0.3483420722554928,-0.6696543666981883,-1.0632252096403403,-0.15225141923354557,1.316625588404699,1.1720151527353133,-0.027287875274585364,-1.0293154035381185,-0.37492772031126287,-0.04096023078323834,1.182570779299944,-1.376390923724631,-0.799936281543547,-0.707307351593801,0.02001897453784066,-0.978294769085192,0.8508279002602976,-0.5342831423012391,-0.36185037495602906,-0.8056130603514121,0.4111895792611264,0.004379479525213149,0.21780913118781245,0.6211677456201348,-0.7793003130748717,1.103489152734224,-1.7904817940423041,1.0010689343246126,1.8918588281108983,1.2977984640817777,0.3259841032981575,2.0815712057108744,0.8383496802803703,1.7472868342739443,-0.07719520587663783,0.9413390291554022,1.3834950208674481,-0.5569585432839406,-1.819230204577346,0.12169655584130164,1.5616824263876785,-0.45356471914135854,0.19676060898221412,0.009000319539798945,-0.2249124640829556,-0.2188737751900468,0.10764137132759453,0.11196929653740105,1.1665818342784908,-2.020826309495809,2.793163479046665,0.30526228066973804,-0.565887028976998,-0.2001466520368511,-0.5436753674793958,-1.343875859753172,0.6112457603338765,-0.7813886684840383,-1.22303424769474,0.4600825033400545,0.1383873846734834,-0.08138809268576497,0.8471112760129539],\"type\":\"box\"},{\"boxpoints\":false,\"line\":{\"width\":1.3},\"marker\":{\"color\":\"rgba(55, 128, 191, 1.0)\"},\"name\":\"B\",\"orientation\":\"v\",\"y\":[0.5645172566075981,-0.33932437899341966,-1.121520210991983,1.6002719901100757,1.5016206296259804,2.2959127591084303,0.6159086177819855,-0.7571132946788054,-1.8527379210880608,-1.1387426139167482,-1.1802914715008073,0.4863930279547499,-0.1972727517360925,-0.7045335740979844,0.11636261009340494,1.1218343682379364,0.07716204469597837,1.6172483692207498,-0.6227123975706295,-0.8638472923389473,0.7772239006064957,-1.0875868898305794,-0.8172213602844036,-1.6344710636517614,0.4380072171404136,-0.7353431531149569,-1.3292240246460292,2.64076103804586,-0.29720784590850985,1.3985332624862092,-0.05460103642841293,-1.7202047580904671,-2.307117527573707,0.26916881133700654,-1.7677313247111384,0.6385315213928748,1.059188957948073,-0.671379236360241,-1.3058207439934062,-0.15458145256593406,0.06995526962442203,2.5835499038790664,-1.046700114776581,0.44717854638131416,3.0509553348921687,1.1735076138718559,0.8596597027344738,-2.254815679656594,0.9087384098230576,1.4794324312196547,-0.5279978184819706,0.11428912177813569,-0.3206006243579793,0.6369155364690917,0.7040933544865097,2.1455364197699187,-0.310185129037482,-1.1884618328539198,-0.15786482315368378,3.2186195666514505,-0.10773828423557187,0.002865138432579824,-1.1621439679443992,1.8796177622458385,-1.011011249558588,1.26112692119876,0.8353625334967835,0.2787037798133771,-0.29289336451730547,-1.210875011885804,-0.25852796048510923,0.6324642492884567,1.8235740793505282,0.3069505716985952,-2.329145297007603,-1.2353938452853468,-1.0033728108153268,0.0558782491122532,-0.004269293450762822,-0.5134075458464393,0.8650144157816739,0.9575917608001567,-0.37212330519918413,0.22569767089282858,-1.4353961812767824,0.6047693356914953,0.831598022335903,0.3532044398283273,-0.6478073247627921,0.2147827207375652,1.1972101878705765,-0.12637330565608457,1.3462423783258188,-0.03648857415205832,0.10886015509104147,0.31893671014852615,0.10171193001652372,0.975923288760046,0.4650211235038087,-0.6218275280285074],\"type\":\"box\"},{\"boxpoints\":false,\"line\":{\"width\":1.3},\"marker\":{\"color\":\"rgba(50, 171, 96, 1.0)\"},\"name\":\"C\",\"orientation\":\"v\",\"y\":[-2.146739958101434,-0.25301348382365135,-0.4678006529789959,1.4606355389564618,-1.053029059187858,0.6583564309383253,1.2557003967779428,-0.3901218292667429,-1.768170831602827,1.232214512579578,0.4953012904572992,0.10626163855495853,-0.9062865487957101,1.4377033817031488,0.12966714167566729,-0.49631683240136537,0.10118022232583321,1.2050920920572787,-0.033851344727340964,-0.3031727588393859,1.795626787097041,1.6590999074748964,1.184703108828757,-0.09339121146934552,0.1318140522807218,-0.271329903075333,-0.037433080426591,0.5266097124633199,-0.04184233624948661,-1.3867995676792457,0.22799196459083326,0.3657482881768857,-1.0692196386643802,1.350244839107939,0.7355835034493701,0.17369969979000266,-0.16081528921817426,1.226049560303817,1.3904477336174936,0.37539186396935154,-0.2923153758591823,1.339458871844019,1.1550822183337757,0.9161381319826264,0.3181408972498468,0.8878803706789242,0.14556522095000182,-0.8957929735550295,-0.8656756147440221,0.8379349253461297,-2.9106639601375672,-0.5555967419701171,0.6819306724341314,-0.9208763345554103,0.2817986122648016,0.034555487974315895,-0.2561507674698253,-1.3253918989961624,0.4900069958878561,-0.16766884745683136,0.2652274456557487,-0.35034104542085215,-1.2443926590883105,-0.1461384887203423,-0.6581989158191782,-0.191008213851882,1.2547378610543556,0.40303278215971344,0.8321172347852366,-0.5751617423396881,0.9490180361048859,-0.08506551470662083,-0.44221319644508017,-0.573269814959952,-1.3946916335305886,-0.3681650639814785,-0.358803738924242,0.7075716853587268,0.7639885922071894,-0.8461728524859302,1.5230378720062514,-2.2068407513966823,-0.1366748375999527,-0.4021695886351473,0.2791603668851864,-1.9780237332050405,-0.45856880363817376,0.7207421525794263,0.26971957755829545,0.4657562094166123,1.2492715347644403,-0.22842210975332455,-0.2870705007107389,-0.24208094259732515,0.24211934347471437,-0.28601364136514074,-0.7228755132630907,0.15762795990197426,-1.7534767132311087,-0.02027642619003036],\"type\":\"box\"},{\"boxpoints\":false,\"line\":{\"width\":1.3},\"marker\":{\"color\":\"rgba(128, 0, 128, 1.0)\"},\"name\":\"D\",\"orientation\":\"v\",\"y\":[-0.6151624147627686,0.8642179796660394,1.6150075801940003,-0.28029472345158046,-0.6419889247977699,0.08072927789314675,0.6971146264882752,-2.198296078188932,-1.0704538706327174,1.0349241595097776,-0.42263232345442175,-2.324469806169129,1.9168979306344651,-0.0009210712168260685,-1.1556686652247599,0.822030953642305,-0.12115398100375059,-0.761490690836794,0.15579305221801515,-1.4847442594265914,-0.3972192958888316,0.6560364566207801,-0.13021767709572385,-1.457154847463913,-0.5769217709750978,-0.6879928014931928,0.8548722443332224,1.0415703051612732,0.03128562644400487,-0.1581166115922977,0.4637674127723924,-0.7682640886276002,-1.4362091480158106,-0.8318808089892663,1.9187921617026056,-1.4559329748981986,1.8818154786472323,-0.7263420773813469,0.2244866827468697,-1.576549265491964,-0.27725949988951853,1.850272178734371,-0.1920227832110244,-1.042785188315941,-0.7042997286034733,-1.8633589008292812,0.18097291381572225,-0.04928432713757553,2.3487718123105985,-0.0993482754106261,-0.1857671198067143,-1.015836065676018,1.1036300679190518,-0.6625012342613555,-0.15362109984995775,0.7814957994822236,-0.48081501642828817,-0.26191947958091033,-1.1012484706391648,2.488726384379564,-0.3666419932097134,0.10953998823415359,-0.3407958793932765,-1.0896937667635471,0.6391060984350521,-0.4949108736043691,0.09934455010362163,-0.8128142011529333,1.1399540042227818,0.559091010194793,1.8450975507014156,-0.7320799455626289,0.6657571665120307,-0.21193125260343734,-1.1962078533671796,0.8246817510121213,0.005705869259143747,1.1621344546334256,-0.40672163155047486,0.43418479240070235,-0.1676393444309276,1.8753100547594126,0.803100678268245,-0.7037504704638958,-0.06803244895829572,0.26032931396568176,0.9507871650753246,0.9026830194735854,0.19134400603202567,-1.5158594202389262,0.6083905806138107,0.5847508262330771,-2.1856144816221112,1.1433174466344616,-0.20543203471603827,0.10174337986287083,-1.086343489037349,1.0460832807357685,0.46797278141809384,1.387173078757153],\"type\":\"box\"}],                        {\"legend\":{\"bgcolor\":\"#F5F6F9\",\"font\":{\"color\":\"#4D5663\"}},\"paper_bgcolor\":\"#F5F6F9\",\"plot_bgcolor\":\"#F5F6F9\",\"template\":{\"data\":{\"barpolar\":[{\"marker\":{\"line\":{\"color\":\"#E5ECF6\",\"width\":0.5},\"pattern\":{\"fillmode\":\"overlay\",\"size\":10,\"solidity\":0.2}},\"type\":\"barpolar\"}],\"bar\":[{\"error_x\":{\"color\":\"#2a3f5f\"},\"error_y\":{\"color\":\"#2a3f5f\"},\"marker\":{\"line\":{\"color\":\"#E5ECF6\",\"width\":0.5},\"pattern\":{\"fillmode\":\"overlay\",\"size\":10,\"solidity\":0.2}},\"type\":\"bar\"}],\"carpet\":[{\"aaxis\":{\"endlinecolor\":\"#2a3f5f\",\"gridcolor\":\"white\",\"linecolor\":\"white\",\"minorgridcolor\":\"white\",\"startlinecolor\":\"#2a3f5f\"},\"baxis\":{\"endlinecolor\":\"#2a3f5f\",\"gridcolor\":\"white\",\"linecolor\":\"white\",\"minorgridcolor\":\"white\",\"startlinecolor\":\"#2a3f5f\"},\"type\":\"carpet\"}],\"choropleth\":[{\"colorbar\":{\"outlinewidth\":0,\"ticks\":\"\"},\"type\":\"choropleth\"}],\"contourcarpet\":[{\"colorbar\":{\"outlinewidth\":0,\"ticks\":\"\"},\"type\":\"contourcarpet\"}],\"contour\":[{\"colorbar\":{\"outlinewidth\":0,\"ticks\":\"\"},\"colorscale\":[[0.0,\"#0d0887\"],[0.1111111111111111,\"#46039f\"],[0.2222222222222222,\"#7201a8\"],[0.3333333333333333,\"#9c179e\"],[0.4444444444444444,\"#bd3786\"],[0.5555555555555556,\"#d8576b\"],[0.6666666666666666,\"#ed7953\"],[0.7777777777777778,\"#fb9f3a\"],[0.8888888888888888,\"#fdca26\"],[1.0,\"#f0f921\"]],\"type\":\"contour\"}],\"heatmapgl\":[{\"colorbar\":{\"outlinewidth\":0,\"ticks\":\"\"},\"colorscale\":[[0.0,\"#0d0887\"],[0.1111111111111111,\"#46039f\"],[0.2222222222222222,\"#7201a8\"],[0.3333333333333333,\"#9c179e\"],[0.4444444444444444,\"#bd3786\"],[0.5555555555555556,\"#d8576b\"],[0.6666666666666666,\"#ed7953\"],[0.7777777777777778,\"#fb9f3a\"],[0.8888888888888888,\"#fdca26\"],[1.0,\"#f0f921\"]],\"type\":\"heatmapgl\"}],\"heatmap\":[{\"colorbar\":{\"outlinewidth\":0,\"ticks\":\"\"},\"colorscale\":[[0.0,\"#0d0887\"],[0.1111111111111111,\"#46039f\"],[0.2222222222222222,\"#7201a8\"],[0.3333333333333333,\"#9c179e\"],[0.4444444444444444,\"#bd3786\"],[0.5555555555555556,\"#d8576b\"],[0.6666666666666666,\"#ed7953\"],[0.7777777777777778,\"#fb9f3a\"],[0.8888888888888888,\"#fdca26\"],[1.0,\"#f0f921\"]],\"type\":\"heatmap\"}],\"histogram2dcontour\":[{\"colorbar\":{\"outlinewidth\":0,\"ticks\":\"\"},\"colorscale\":[[0.0,\"#0d0887\"],[0.1111111111111111,\"#46039f\"],[0.2222222222222222,\"#7201a8\"],[0.3333333333333333,\"#9c179e\"],[0.4444444444444444,\"#bd3786\"],[0.5555555555555556,\"#d8576b\"],[0.6666666666666666,\"#ed7953\"],[0.7777777777777778,\"#fb9f3a\"],[0.8888888888888888,\"#fdca26\"],[1.0,\"#f0f921\"]],\"type\":\"histogram2dcontour\"}],\"histogram2d\":[{\"colorbar\":{\"outlinewidth\":0,\"ticks\":\"\"},\"colorscale\":[[0.0,\"#0d0887\"],[0.1111111111111111,\"#46039f\"],[0.2222222222222222,\"#7201a8\"],[0.3333333333333333,\"#9c179e\"],[0.4444444444444444,\"#bd3786\"],[0.5555555555555556,\"#d8576b\"],[0.6666666666666666,\"#ed7953\"],[0.7777777777777778,\"#fb9f3a\"],[0.8888888888888888,\"#fdca26\"],[1.0,\"#f0f921\"]],\"type\":\"histogram2d\"}],\"histogram\":[{\"marker\":{\"pattern\":{\"fillmode\":\"overlay\",\"size\":10,\"solidity\":0.2}},\"type\":\"histogram\"}],\"mesh3d\":[{\"colorbar\":{\"outlinewidth\":0,\"ticks\":\"\"},\"type\":\"mesh3d\"}],\"parcoords\":[{\"line\":{\"colorbar\":{\"outlinewidth\":0,\"ticks\":\"\"}},\"type\":\"parcoords\"}],\"pie\":[{\"automargin\":true,\"type\":\"pie\"}],\"scatter3d\":[{\"line\":{\"colorbar\":{\"outlinewidth\":0,\"ticks\":\"\"}},\"marker\":{\"colorbar\":{\"outlinewidth\":0,\"ticks\":\"\"}},\"type\":\"scatter3d\"}],\"scattercarpet\":[{\"marker\":{\"colorbar\":{\"outlinewidth\":0,\"ticks\":\"\"}},\"type\":\"scattercarpet\"}],\"scattergeo\":[{\"marker\":{\"colorbar\":{\"outlinewidth\":0,\"ticks\":\"\"}},\"type\":\"scattergeo\"}],\"scattergl\":[{\"marker\":{\"colorbar\":{\"outlinewidth\":0,\"ticks\":\"\"}},\"type\":\"scattergl\"}],\"scattermapbox\":[{\"marker\":{\"colorbar\":{\"outlinewidth\":0,\"ticks\":\"\"}},\"type\":\"scattermapbox\"}],\"scatterpolargl\":[{\"marker\":{\"colorbar\":{\"outlinewidth\":0,\"ticks\":\"\"}},\"type\":\"scatterpolargl\"}],\"scatterpolar\":[{\"marker\":{\"colorbar\":{\"outlinewidth\":0,\"ticks\":\"\"}},\"type\":\"scatterpolar\"}],\"scatter\":[{\"fillpattern\":{\"fillmode\":\"overlay\",\"size\":10,\"solidity\":0.2},\"type\":\"scatter\"}],\"scatterternary\":[{\"marker\":{\"colorbar\":{\"outlinewidth\":0,\"ticks\":\"\"}},\"type\":\"scatterternary\"}],\"surface\":[{\"colorbar\":{\"outlinewidth\":0,\"ticks\":\"\"},\"colorscale\":[[0.0,\"#0d0887\"],[0.1111111111111111,\"#46039f\"],[0.2222222222222222,\"#7201a8\"],[0.3333333333333333,\"#9c179e\"],[0.4444444444444444,\"#bd3786\"],[0.5555555555555556,\"#d8576b\"],[0.6666666666666666,\"#ed7953\"],[0.7777777777777778,\"#fb9f3a\"],[0.8888888888888888,\"#fdca26\"],[1.0,\"#f0f921\"]],\"type\":\"surface\"}],\"table\":[{\"cells\":{\"fill\":{\"color\":\"#EBF0F8\"},\"line\":{\"color\":\"white\"}},\"header\":{\"fill\":{\"color\":\"#C8D4E3\"},\"line\":{\"color\":\"white\"}},\"type\":\"table\"}]},\"layout\":{\"annotationdefaults\":{\"arrowcolor\":\"#2a3f5f\",\"arrowhead\":0,\"arrowwidth\":1},\"autotypenumbers\":\"strict\",\"coloraxis\":{\"colorbar\":{\"outlinewidth\":0,\"ticks\":\"\"}},\"colorscale\":{\"diverging\":[[0,\"#8e0152\"],[0.1,\"#c51b7d\"],[0.2,\"#de77ae\"],[0.3,\"#f1b6da\"],[0.4,\"#fde0ef\"],[0.5,\"#f7f7f7\"],[0.6,\"#e6f5d0\"],[0.7,\"#b8e186\"],[0.8,\"#7fbc41\"],[0.9,\"#4d9221\"],[1,\"#276419\"]],\"sequential\":[[0.0,\"#0d0887\"],[0.1111111111111111,\"#46039f\"],[0.2222222222222222,\"#7201a8\"],[0.3333333333333333,\"#9c179e\"],[0.4444444444444444,\"#bd3786\"],[0.5555555555555556,\"#d8576b\"],[0.6666666666666666,\"#ed7953\"],[0.7777777777777778,\"#fb9f3a\"],[0.8888888888888888,\"#fdca26\"],[1.0,\"#f0f921\"]],\"sequentialminus\":[[0.0,\"#0d0887\"],[0.1111111111111111,\"#46039f\"],[0.2222222222222222,\"#7201a8\"],[0.3333333333333333,\"#9c179e\"],[0.4444444444444444,\"#bd3786\"],[0.5555555555555556,\"#d8576b\"],[0.6666666666666666,\"#ed7953\"],[0.7777777777777778,\"#fb9f3a\"],[0.8888888888888888,\"#fdca26\"],[1.0,\"#f0f921\"]]},\"colorway\":[\"#636efa\",\"#EF553B\",\"#00cc96\",\"#ab63fa\",\"#FFA15A\",\"#19d3f3\",\"#FF6692\",\"#B6E880\",\"#FF97FF\",\"#FECB52\"],\"font\":{\"color\":\"#2a3f5f\"},\"geo\":{\"bgcolor\":\"white\",\"lakecolor\":\"white\",\"landcolor\":\"#E5ECF6\",\"showlakes\":true,\"showland\":true,\"subunitcolor\":\"white\"},\"hoverlabel\":{\"align\":\"left\"},\"hovermode\":\"closest\",\"mapbox\":{\"style\":\"light\"},\"paper_bgcolor\":\"white\",\"plot_bgcolor\":\"#E5ECF6\",\"polar\":{\"angularaxis\":{\"gridcolor\":\"white\",\"linecolor\":\"white\",\"ticks\":\"\"},\"bgcolor\":\"#E5ECF6\",\"radialaxis\":{\"gridcolor\":\"white\",\"linecolor\":\"white\",\"ticks\":\"\"}},\"scene\":{\"xaxis\":{\"backgroundcolor\":\"#E5ECF6\",\"gridcolor\":\"white\",\"gridwidth\":2,\"linecolor\":\"white\",\"showbackground\":true,\"ticks\":\"\",\"zerolinecolor\":\"white\"},\"yaxis\":{\"backgroundcolor\":\"#E5ECF6\",\"gridcolor\":\"white\",\"gridwidth\":2,\"linecolor\":\"white\",\"showbackground\":true,\"ticks\":\"\",\"zerolinecolor\":\"white\"},\"zaxis\":{\"backgroundcolor\":\"#E5ECF6\",\"gridcolor\":\"white\",\"gridwidth\":2,\"linecolor\":\"white\",\"showbackground\":true,\"ticks\":\"\",\"zerolinecolor\":\"white\"}},\"shapedefaults\":{\"line\":{\"color\":\"#2a3f5f\"}},\"ternary\":{\"aaxis\":{\"gridcolor\":\"white\",\"linecolor\":\"white\",\"ticks\":\"\"},\"baxis\":{\"gridcolor\":\"white\",\"linecolor\":\"white\",\"ticks\":\"\"},\"bgcolor\":\"#E5ECF6\",\"caxis\":{\"gridcolor\":\"white\",\"linecolor\":\"white\",\"ticks\":\"\"}},\"title\":{\"x\":0.05},\"xaxis\":{\"automargin\":true,\"gridcolor\":\"white\",\"linecolor\":\"white\",\"ticks\":\"\",\"title\":{\"standoff\":15},\"zerolinecolor\":\"white\",\"zerolinewidth\":2},\"yaxis\":{\"automargin\":true,\"gridcolor\":\"white\",\"linecolor\":\"white\",\"ticks\":\"\",\"title\":{\"standoff\":15},\"zerolinecolor\":\"white\",\"zerolinewidth\":2}}},\"title\":{\"font\":{\"color\":\"#4D5663\"}},\"xaxis\":{\"gridcolor\":\"#E1E5ED\",\"showgrid\":true,\"tickfont\":{\"color\":\"#4D5663\"},\"title\":{\"font\":{\"color\":\"#4D5663\"},\"text\":\"\"},\"zerolinecolor\":\"#E1E5ED\"},\"yaxis\":{\"gridcolor\":\"#E1E5ED\",\"showgrid\":true,\"tickfont\":{\"color\":\"#4D5663\"},\"title\":{\"font\":{\"color\":\"#4D5663\"},\"text\":\"\"},\"zerolinecolor\":\"#E1E5ED\"}},                        {\"showLink\": true, \"linkText\": \"Export to plot.ly\", \"plotlyServerURL\": \"https://plot.ly\", \"responsive\": true}                    ).then(function(){\n",
       "                            \n",
       "var gd = document.getElementById('1b97805c-97a5-4aeb-9550-7aa887accb8e');\n",
       "var x = new MutationObserver(function (mutations, observer) {{\n",
       "        var display = window.getComputedStyle(gd).display;\n",
       "        if (!display || display === 'none') {{\n",
       "            console.log([gd, 'removed!']);\n",
       "            Plotly.purge(gd);\n",
       "            observer.disconnect();\n",
       "        }}\n",
       "}});\n",
       "\n",
       "// Listen for the removal of the full notebook cells\n",
       "var notebookContainer = gd.closest('#notebook-container');\n",
       "if (notebookContainer) {{\n",
       "    x.observe(notebookContainer, {childList: true});\n",
       "}}\n",
       "\n",
       "// Listen for the clearing of the current output cell\n",
       "var outputEl = gd.closest('.output');\n",
       "if (outputEl) {{\n",
       "    x.observe(outputEl, {childList: true});\n",
       "}}\n",
       "\n",
       "                        })                };                });            </script>        </div>"
      ]
     },
     "metadata": {},
     "output_type": "display_data"
    }
   ],
   "source": [
    "df.iplot(kind='box')"
   ]
  },
  {
   "cell_type": "markdown",
   "metadata": {},
   "source": [
    "## 3d Surface"
   ]
  },
  {
   "cell_type": "code",
   "execution_count": 18,
   "metadata": {},
   "outputs": [
    {
     "data": {
      "application/vnd.plotly.v1+json": {
       "config": {
        "linkText": "Export to plot.ly",
        "plotlyServerURL": "https://plot.ly",
        "showLink": true
       },
       "data": [
        {
         "colorscale": [
          [
           0,
           "rgb(165,0,38)"
          ],
          [
           0.1,
           "rgb(215,48,39)"
          ],
          [
           0.2,
           "rgb(244,109,67)"
          ],
          [
           0.3,
           "rgb(253,174,97)"
          ],
          [
           0.4,
           "rgb(254,224,144)"
          ],
          [
           0.5,
           "rgb(255,255,191)"
          ],
          [
           0.6,
           "rgb(224,243,248)"
          ],
          [
           0.7,
           "rgb(171,217,233)"
          ],
          [
           0.8,
           "rgb(116,173,209)"
          ],
          [
           0.9,
           "rgb(69,117,180)"
          ],
          [
           1,
           "rgb(49,54,149)"
          ]
         ],
         "type": "surface",
         "x": [
          0,
          1,
          2,
          3,
          4
         ],
         "y": [
          "x",
          "y",
          "z"
         ],
         "z": [
          [
           1,
           2,
           3,
           4,
           5
          ],
          [
           10,
           20,
           30,
           20,
           10
          ],
          [
           5,
           4,
           3,
           2,
           1
          ]
         ]
        }
       ],
       "layout": {
        "legend": {
         "bgcolor": "#F5F6F9",
         "font": {
          "color": "#4D5663"
         }
        },
        "paper_bgcolor": "#F5F6F9",
        "plot_bgcolor": "#F5F6F9",
        "template": {
         "data": {
          "bar": [
           {
            "error_x": {
             "color": "#2a3f5f"
            },
            "error_y": {
             "color": "#2a3f5f"
            },
            "marker": {
             "line": {
              "color": "#E5ECF6",
              "width": 0.5
             },
             "pattern": {
              "fillmode": "overlay",
              "size": 10,
              "solidity": 0.2
             }
            },
            "type": "bar"
           }
          ],
          "barpolar": [
           {
            "marker": {
             "line": {
              "color": "#E5ECF6",
              "width": 0.5
             },
             "pattern": {
              "fillmode": "overlay",
              "size": 10,
              "solidity": 0.2
             }
            },
            "type": "barpolar"
           }
          ],
          "carpet": [
           {
            "aaxis": {
             "endlinecolor": "#2a3f5f",
             "gridcolor": "white",
             "linecolor": "white",
             "minorgridcolor": "white",
             "startlinecolor": "#2a3f5f"
            },
            "baxis": {
             "endlinecolor": "#2a3f5f",
             "gridcolor": "white",
             "linecolor": "white",
             "minorgridcolor": "white",
             "startlinecolor": "#2a3f5f"
            },
            "type": "carpet"
           }
          ],
          "choropleth": [
           {
            "colorbar": {
             "outlinewidth": 0,
             "ticks": ""
            },
            "type": "choropleth"
           }
          ],
          "contour": [
           {
            "colorbar": {
             "outlinewidth": 0,
             "ticks": ""
            },
            "colorscale": [
             [
              0,
              "#0d0887"
             ],
             [
              0.1111111111111111,
              "#46039f"
             ],
             [
              0.2222222222222222,
              "#7201a8"
             ],
             [
              0.3333333333333333,
              "#9c179e"
             ],
             [
              0.4444444444444444,
              "#bd3786"
             ],
             [
              0.5555555555555556,
              "#d8576b"
             ],
             [
              0.6666666666666666,
              "#ed7953"
             ],
             [
              0.7777777777777778,
              "#fb9f3a"
             ],
             [
              0.8888888888888888,
              "#fdca26"
             ],
             [
              1,
              "#f0f921"
             ]
            ],
            "type": "contour"
           }
          ],
          "contourcarpet": [
           {
            "colorbar": {
             "outlinewidth": 0,
             "ticks": ""
            },
            "type": "contourcarpet"
           }
          ],
          "heatmap": [
           {
            "colorbar": {
             "outlinewidth": 0,
             "ticks": ""
            },
            "colorscale": [
             [
              0,
              "#0d0887"
             ],
             [
              0.1111111111111111,
              "#46039f"
             ],
             [
              0.2222222222222222,
              "#7201a8"
             ],
             [
              0.3333333333333333,
              "#9c179e"
             ],
             [
              0.4444444444444444,
              "#bd3786"
             ],
             [
              0.5555555555555556,
              "#d8576b"
             ],
             [
              0.6666666666666666,
              "#ed7953"
             ],
             [
              0.7777777777777778,
              "#fb9f3a"
             ],
             [
              0.8888888888888888,
              "#fdca26"
             ],
             [
              1,
              "#f0f921"
             ]
            ],
            "type": "heatmap"
           }
          ],
          "heatmapgl": [
           {
            "colorbar": {
             "outlinewidth": 0,
             "ticks": ""
            },
            "colorscale": [
             [
              0,
              "#0d0887"
             ],
             [
              0.1111111111111111,
              "#46039f"
             ],
             [
              0.2222222222222222,
              "#7201a8"
             ],
             [
              0.3333333333333333,
              "#9c179e"
             ],
             [
              0.4444444444444444,
              "#bd3786"
             ],
             [
              0.5555555555555556,
              "#d8576b"
             ],
             [
              0.6666666666666666,
              "#ed7953"
             ],
             [
              0.7777777777777778,
              "#fb9f3a"
             ],
             [
              0.8888888888888888,
              "#fdca26"
             ],
             [
              1,
              "#f0f921"
             ]
            ],
            "type": "heatmapgl"
           }
          ],
          "histogram": [
           {
            "marker": {
             "pattern": {
              "fillmode": "overlay",
              "size": 10,
              "solidity": 0.2
             }
            },
            "type": "histogram"
           }
          ],
          "histogram2d": [
           {
            "colorbar": {
             "outlinewidth": 0,
             "ticks": ""
            },
            "colorscale": [
             [
              0,
              "#0d0887"
             ],
             [
              0.1111111111111111,
              "#46039f"
             ],
             [
              0.2222222222222222,
              "#7201a8"
             ],
             [
              0.3333333333333333,
              "#9c179e"
             ],
             [
              0.4444444444444444,
              "#bd3786"
             ],
             [
              0.5555555555555556,
              "#d8576b"
             ],
             [
              0.6666666666666666,
              "#ed7953"
             ],
             [
              0.7777777777777778,
              "#fb9f3a"
             ],
             [
              0.8888888888888888,
              "#fdca26"
             ],
             [
              1,
              "#f0f921"
             ]
            ],
            "type": "histogram2d"
           }
          ],
          "histogram2dcontour": [
           {
            "colorbar": {
             "outlinewidth": 0,
             "ticks": ""
            },
            "colorscale": [
             [
              0,
              "#0d0887"
             ],
             [
              0.1111111111111111,
              "#46039f"
             ],
             [
              0.2222222222222222,
              "#7201a8"
             ],
             [
              0.3333333333333333,
              "#9c179e"
             ],
             [
              0.4444444444444444,
              "#bd3786"
             ],
             [
              0.5555555555555556,
              "#d8576b"
             ],
             [
              0.6666666666666666,
              "#ed7953"
             ],
             [
              0.7777777777777778,
              "#fb9f3a"
             ],
             [
              0.8888888888888888,
              "#fdca26"
             ],
             [
              1,
              "#f0f921"
             ]
            ],
            "type": "histogram2dcontour"
           }
          ],
          "mesh3d": [
           {
            "colorbar": {
             "outlinewidth": 0,
             "ticks": ""
            },
            "type": "mesh3d"
           }
          ],
          "parcoords": [
           {
            "line": {
             "colorbar": {
              "outlinewidth": 0,
              "ticks": ""
             }
            },
            "type": "parcoords"
           }
          ],
          "pie": [
           {
            "automargin": true,
            "type": "pie"
           }
          ],
          "scatter": [
           {
            "fillpattern": {
             "fillmode": "overlay",
             "size": 10,
             "solidity": 0.2
            },
            "type": "scatter"
           }
          ],
          "scatter3d": [
           {
            "line": {
             "colorbar": {
              "outlinewidth": 0,
              "ticks": ""
             }
            },
            "marker": {
             "colorbar": {
              "outlinewidth": 0,
              "ticks": ""
             }
            },
            "type": "scatter3d"
           }
          ],
          "scattercarpet": [
           {
            "marker": {
             "colorbar": {
              "outlinewidth": 0,
              "ticks": ""
             }
            },
            "type": "scattercarpet"
           }
          ],
          "scattergeo": [
           {
            "marker": {
             "colorbar": {
              "outlinewidth": 0,
              "ticks": ""
             }
            },
            "type": "scattergeo"
           }
          ],
          "scattergl": [
           {
            "marker": {
             "colorbar": {
              "outlinewidth": 0,
              "ticks": ""
             }
            },
            "type": "scattergl"
           }
          ],
          "scattermapbox": [
           {
            "marker": {
             "colorbar": {
              "outlinewidth": 0,
              "ticks": ""
             }
            },
            "type": "scattermapbox"
           }
          ],
          "scatterpolar": [
           {
            "marker": {
             "colorbar": {
              "outlinewidth": 0,
              "ticks": ""
             }
            },
            "type": "scatterpolar"
           }
          ],
          "scatterpolargl": [
           {
            "marker": {
             "colorbar": {
              "outlinewidth": 0,
              "ticks": ""
             }
            },
            "type": "scatterpolargl"
           }
          ],
          "scatterternary": [
           {
            "marker": {
             "colorbar": {
              "outlinewidth": 0,
              "ticks": ""
             }
            },
            "type": "scatterternary"
           }
          ],
          "surface": [
           {
            "colorbar": {
             "outlinewidth": 0,
             "ticks": ""
            },
            "colorscale": [
             [
              0,
              "#0d0887"
             ],
             [
              0.1111111111111111,
              "#46039f"
             ],
             [
              0.2222222222222222,
              "#7201a8"
             ],
             [
              0.3333333333333333,
              "#9c179e"
             ],
             [
              0.4444444444444444,
              "#bd3786"
             ],
             [
              0.5555555555555556,
              "#d8576b"
             ],
             [
              0.6666666666666666,
              "#ed7953"
             ],
             [
              0.7777777777777778,
              "#fb9f3a"
             ],
             [
              0.8888888888888888,
              "#fdca26"
             ],
             [
              1,
              "#f0f921"
             ]
            ],
            "type": "surface"
           }
          ],
          "table": [
           {
            "cells": {
             "fill": {
              "color": "#EBF0F8"
             },
             "line": {
              "color": "white"
             }
            },
            "header": {
             "fill": {
              "color": "#C8D4E3"
             },
             "line": {
              "color": "white"
             }
            },
            "type": "table"
           }
          ]
         },
         "layout": {
          "annotationdefaults": {
           "arrowcolor": "#2a3f5f",
           "arrowhead": 0,
           "arrowwidth": 1
          },
          "autotypenumbers": "strict",
          "coloraxis": {
           "colorbar": {
            "outlinewidth": 0,
            "ticks": ""
           }
          },
          "colorscale": {
           "diverging": [
            [
             0,
             "#8e0152"
            ],
            [
             0.1,
             "#c51b7d"
            ],
            [
             0.2,
             "#de77ae"
            ],
            [
             0.3,
             "#f1b6da"
            ],
            [
             0.4,
             "#fde0ef"
            ],
            [
             0.5,
             "#f7f7f7"
            ],
            [
             0.6,
             "#e6f5d0"
            ],
            [
             0.7,
             "#b8e186"
            ],
            [
             0.8,
             "#7fbc41"
            ],
            [
             0.9,
             "#4d9221"
            ],
            [
             1,
             "#276419"
            ]
           ],
           "sequential": [
            [
             0,
             "#0d0887"
            ],
            [
             0.1111111111111111,
             "#46039f"
            ],
            [
             0.2222222222222222,
             "#7201a8"
            ],
            [
             0.3333333333333333,
             "#9c179e"
            ],
            [
             0.4444444444444444,
             "#bd3786"
            ],
            [
             0.5555555555555556,
             "#d8576b"
            ],
            [
             0.6666666666666666,
             "#ed7953"
            ],
            [
             0.7777777777777778,
             "#fb9f3a"
            ],
            [
             0.8888888888888888,
             "#fdca26"
            ],
            [
             1,
             "#f0f921"
            ]
           ],
           "sequentialminus": [
            [
             0,
             "#0d0887"
            ],
            [
             0.1111111111111111,
             "#46039f"
            ],
            [
             0.2222222222222222,
             "#7201a8"
            ],
            [
             0.3333333333333333,
             "#9c179e"
            ],
            [
             0.4444444444444444,
             "#bd3786"
            ],
            [
             0.5555555555555556,
             "#d8576b"
            ],
            [
             0.6666666666666666,
             "#ed7953"
            ],
            [
             0.7777777777777778,
             "#fb9f3a"
            ],
            [
             0.8888888888888888,
             "#fdca26"
            ],
            [
             1,
             "#f0f921"
            ]
           ]
          },
          "colorway": [
           "#636efa",
           "#EF553B",
           "#00cc96",
           "#ab63fa",
           "#FFA15A",
           "#19d3f3",
           "#FF6692",
           "#B6E880",
           "#FF97FF",
           "#FECB52"
          ],
          "font": {
           "color": "#2a3f5f"
          },
          "geo": {
           "bgcolor": "white",
           "lakecolor": "white",
           "landcolor": "#E5ECF6",
           "showlakes": true,
           "showland": true,
           "subunitcolor": "white"
          },
          "hoverlabel": {
           "align": "left"
          },
          "hovermode": "closest",
          "mapbox": {
           "style": "light"
          },
          "paper_bgcolor": "white",
          "plot_bgcolor": "#E5ECF6",
          "polar": {
           "angularaxis": {
            "gridcolor": "white",
            "linecolor": "white",
            "ticks": ""
           },
           "bgcolor": "#E5ECF6",
           "radialaxis": {
            "gridcolor": "white",
            "linecolor": "white",
            "ticks": ""
           }
          },
          "scene": {
           "xaxis": {
            "backgroundcolor": "#E5ECF6",
            "gridcolor": "white",
            "gridwidth": 2,
            "linecolor": "white",
            "showbackground": true,
            "ticks": "",
            "zerolinecolor": "white"
           },
           "yaxis": {
            "backgroundcolor": "#E5ECF6",
            "gridcolor": "white",
            "gridwidth": 2,
            "linecolor": "white",
            "showbackground": true,
            "ticks": "",
            "zerolinecolor": "white"
           },
           "zaxis": {
            "backgroundcolor": "#E5ECF6",
            "gridcolor": "white",
            "gridwidth": 2,
            "linecolor": "white",
            "showbackground": true,
            "ticks": "",
            "zerolinecolor": "white"
           }
          },
          "shapedefaults": {
           "line": {
            "color": "#2a3f5f"
           }
          },
          "ternary": {
           "aaxis": {
            "gridcolor": "white",
            "linecolor": "white",
            "ticks": ""
           },
           "baxis": {
            "gridcolor": "white",
            "linecolor": "white",
            "ticks": ""
           },
           "bgcolor": "#E5ECF6",
           "caxis": {
            "gridcolor": "white",
            "linecolor": "white",
            "ticks": ""
           }
          },
          "title": {
           "x": 0.05
          },
          "xaxis": {
           "automargin": true,
           "gridcolor": "white",
           "linecolor": "white",
           "ticks": "",
           "title": {
            "standoff": 15
           },
           "zerolinecolor": "white",
           "zerolinewidth": 2
          },
          "yaxis": {
           "automargin": true,
           "gridcolor": "white",
           "linecolor": "white",
           "ticks": "",
           "title": {
            "standoff": 15
           },
           "zerolinecolor": "white",
           "zerolinewidth": 2
          }
         }
        },
        "title": {
         "font": {
          "color": "#4D5663"
         }
        },
        "xaxis": {
         "gridcolor": "#E1E5ED",
         "showgrid": true,
         "tickfont": {
          "color": "#4D5663"
         },
         "title": {
          "font": {
           "color": "#4D5663"
          },
          "text": ""
         },
         "zerolinecolor": "#E1E5ED"
        },
        "yaxis": {
         "gridcolor": "#E1E5ED",
         "showgrid": true,
         "tickfont": {
          "color": "#4D5663"
         },
         "title": {
          "font": {
           "color": "#4D5663"
          },
          "text": ""
         },
         "zerolinecolor": "#E1E5ED"
        }
       }
      },
      "text/html": [
       "<div>                            <div id=\"3f4e1e5f-503a-4951-ba98-eb14ca656d5c\" class=\"plotly-graph-div\" style=\"height:525px; width:100%;\"></div>            <script type=\"text/javascript\">                require([\"plotly\"], function(Plotly) {                    window.PLOTLYENV=window.PLOTLYENV || {};\n",
       "                    window.PLOTLYENV.BASE_URL='https://plot.ly';                                    if (document.getElementById(\"3f4e1e5f-503a-4951-ba98-eb14ca656d5c\")) {                    Plotly.newPlot(                        \"3f4e1e5f-503a-4951-ba98-eb14ca656d5c\",                        [{\"colorscale\":[[0.0,\"rgb(165,0,38)\"],[0.1,\"rgb(215,48,39)\"],[0.2,\"rgb(244,109,67)\"],[0.3,\"rgb(253,174,97)\"],[0.4,\"rgb(254,224,144)\"],[0.5,\"rgb(255,255,191)\"],[0.6,\"rgb(224,243,248)\"],[0.7,\"rgb(171,217,233)\"],[0.8,\"rgb(116,173,209)\"],[0.9,\"rgb(69,117,180)\"],[1.0,\"rgb(49,54,149)\"]],\"x\":[0,1,2,3,4],\"y\":[\"x\",\"y\",\"z\"],\"z\":[[1,2,3,4,5],[10,20,30,20,10],[5,4,3,2,1]],\"type\":\"surface\"}],                        {\"legend\":{\"bgcolor\":\"#F5F6F9\",\"font\":{\"color\":\"#4D5663\"}},\"paper_bgcolor\":\"#F5F6F9\",\"plot_bgcolor\":\"#F5F6F9\",\"template\":{\"data\":{\"barpolar\":[{\"marker\":{\"line\":{\"color\":\"#E5ECF6\",\"width\":0.5},\"pattern\":{\"fillmode\":\"overlay\",\"size\":10,\"solidity\":0.2}},\"type\":\"barpolar\"}],\"bar\":[{\"error_x\":{\"color\":\"#2a3f5f\"},\"error_y\":{\"color\":\"#2a3f5f\"},\"marker\":{\"line\":{\"color\":\"#E5ECF6\",\"width\":0.5},\"pattern\":{\"fillmode\":\"overlay\",\"size\":10,\"solidity\":0.2}},\"type\":\"bar\"}],\"carpet\":[{\"aaxis\":{\"endlinecolor\":\"#2a3f5f\",\"gridcolor\":\"white\",\"linecolor\":\"white\",\"minorgridcolor\":\"white\",\"startlinecolor\":\"#2a3f5f\"},\"baxis\":{\"endlinecolor\":\"#2a3f5f\",\"gridcolor\":\"white\",\"linecolor\":\"white\",\"minorgridcolor\":\"white\",\"startlinecolor\":\"#2a3f5f\"},\"type\":\"carpet\"}],\"choropleth\":[{\"colorbar\":{\"outlinewidth\":0,\"ticks\":\"\"},\"type\":\"choropleth\"}],\"contourcarpet\":[{\"colorbar\":{\"outlinewidth\":0,\"ticks\":\"\"},\"type\":\"contourcarpet\"}],\"contour\":[{\"colorbar\":{\"outlinewidth\":0,\"ticks\":\"\"},\"colorscale\":[[0.0,\"#0d0887\"],[0.1111111111111111,\"#46039f\"],[0.2222222222222222,\"#7201a8\"],[0.3333333333333333,\"#9c179e\"],[0.4444444444444444,\"#bd3786\"],[0.5555555555555556,\"#d8576b\"],[0.6666666666666666,\"#ed7953\"],[0.7777777777777778,\"#fb9f3a\"],[0.8888888888888888,\"#fdca26\"],[1.0,\"#f0f921\"]],\"type\":\"contour\"}],\"heatmapgl\":[{\"colorbar\":{\"outlinewidth\":0,\"ticks\":\"\"},\"colorscale\":[[0.0,\"#0d0887\"],[0.1111111111111111,\"#46039f\"],[0.2222222222222222,\"#7201a8\"],[0.3333333333333333,\"#9c179e\"],[0.4444444444444444,\"#bd3786\"],[0.5555555555555556,\"#d8576b\"],[0.6666666666666666,\"#ed7953\"],[0.7777777777777778,\"#fb9f3a\"],[0.8888888888888888,\"#fdca26\"],[1.0,\"#f0f921\"]],\"type\":\"heatmapgl\"}],\"heatmap\":[{\"colorbar\":{\"outlinewidth\":0,\"ticks\":\"\"},\"colorscale\":[[0.0,\"#0d0887\"],[0.1111111111111111,\"#46039f\"],[0.2222222222222222,\"#7201a8\"],[0.3333333333333333,\"#9c179e\"],[0.4444444444444444,\"#bd3786\"],[0.5555555555555556,\"#d8576b\"],[0.6666666666666666,\"#ed7953\"],[0.7777777777777778,\"#fb9f3a\"],[0.8888888888888888,\"#fdca26\"],[1.0,\"#f0f921\"]],\"type\":\"heatmap\"}],\"histogram2dcontour\":[{\"colorbar\":{\"outlinewidth\":0,\"ticks\":\"\"},\"colorscale\":[[0.0,\"#0d0887\"],[0.1111111111111111,\"#46039f\"],[0.2222222222222222,\"#7201a8\"],[0.3333333333333333,\"#9c179e\"],[0.4444444444444444,\"#bd3786\"],[0.5555555555555556,\"#d8576b\"],[0.6666666666666666,\"#ed7953\"],[0.7777777777777778,\"#fb9f3a\"],[0.8888888888888888,\"#fdca26\"],[1.0,\"#f0f921\"]],\"type\":\"histogram2dcontour\"}],\"histogram2d\":[{\"colorbar\":{\"outlinewidth\":0,\"ticks\":\"\"},\"colorscale\":[[0.0,\"#0d0887\"],[0.1111111111111111,\"#46039f\"],[0.2222222222222222,\"#7201a8\"],[0.3333333333333333,\"#9c179e\"],[0.4444444444444444,\"#bd3786\"],[0.5555555555555556,\"#d8576b\"],[0.6666666666666666,\"#ed7953\"],[0.7777777777777778,\"#fb9f3a\"],[0.8888888888888888,\"#fdca26\"],[1.0,\"#f0f921\"]],\"type\":\"histogram2d\"}],\"histogram\":[{\"marker\":{\"pattern\":{\"fillmode\":\"overlay\",\"size\":10,\"solidity\":0.2}},\"type\":\"histogram\"}],\"mesh3d\":[{\"colorbar\":{\"outlinewidth\":0,\"ticks\":\"\"},\"type\":\"mesh3d\"}],\"parcoords\":[{\"line\":{\"colorbar\":{\"outlinewidth\":0,\"ticks\":\"\"}},\"type\":\"parcoords\"}],\"pie\":[{\"automargin\":true,\"type\":\"pie\"}],\"scatter3d\":[{\"line\":{\"colorbar\":{\"outlinewidth\":0,\"ticks\":\"\"}},\"marker\":{\"colorbar\":{\"outlinewidth\":0,\"ticks\":\"\"}},\"type\":\"scatter3d\"}],\"scattercarpet\":[{\"marker\":{\"colorbar\":{\"outlinewidth\":0,\"ticks\":\"\"}},\"type\":\"scattercarpet\"}],\"scattergeo\":[{\"marker\":{\"colorbar\":{\"outlinewidth\":0,\"ticks\":\"\"}},\"type\":\"scattergeo\"}],\"scattergl\":[{\"marker\":{\"colorbar\":{\"outlinewidth\":0,\"ticks\":\"\"}},\"type\":\"scattergl\"}],\"scattermapbox\":[{\"marker\":{\"colorbar\":{\"outlinewidth\":0,\"ticks\":\"\"}},\"type\":\"scattermapbox\"}],\"scatterpolargl\":[{\"marker\":{\"colorbar\":{\"outlinewidth\":0,\"ticks\":\"\"}},\"type\":\"scatterpolargl\"}],\"scatterpolar\":[{\"marker\":{\"colorbar\":{\"outlinewidth\":0,\"ticks\":\"\"}},\"type\":\"scatterpolar\"}],\"scatter\":[{\"fillpattern\":{\"fillmode\":\"overlay\",\"size\":10,\"solidity\":0.2},\"type\":\"scatter\"}],\"scatterternary\":[{\"marker\":{\"colorbar\":{\"outlinewidth\":0,\"ticks\":\"\"}},\"type\":\"scatterternary\"}],\"surface\":[{\"colorbar\":{\"outlinewidth\":0,\"ticks\":\"\"},\"colorscale\":[[0.0,\"#0d0887\"],[0.1111111111111111,\"#46039f\"],[0.2222222222222222,\"#7201a8\"],[0.3333333333333333,\"#9c179e\"],[0.4444444444444444,\"#bd3786\"],[0.5555555555555556,\"#d8576b\"],[0.6666666666666666,\"#ed7953\"],[0.7777777777777778,\"#fb9f3a\"],[0.8888888888888888,\"#fdca26\"],[1.0,\"#f0f921\"]],\"type\":\"surface\"}],\"table\":[{\"cells\":{\"fill\":{\"color\":\"#EBF0F8\"},\"line\":{\"color\":\"white\"}},\"header\":{\"fill\":{\"color\":\"#C8D4E3\"},\"line\":{\"color\":\"white\"}},\"type\":\"table\"}]},\"layout\":{\"annotationdefaults\":{\"arrowcolor\":\"#2a3f5f\",\"arrowhead\":0,\"arrowwidth\":1},\"autotypenumbers\":\"strict\",\"coloraxis\":{\"colorbar\":{\"outlinewidth\":0,\"ticks\":\"\"}},\"colorscale\":{\"diverging\":[[0,\"#8e0152\"],[0.1,\"#c51b7d\"],[0.2,\"#de77ae\"],[0.3,\"#f1b6da\"],[0.4,\"#fde0ef\"],[0.5,\"#f7f7f7\"],[0.6,\"#e6f5d0\"],[0.7,\"#b8e186\"],[0.8,\"#7fbc41\"],[0.9,\"#4d9221\"],[1,\"#276419\"]],\"sequential\":[[0.0,\"#0d0887\"],[0.1111111111111111,\"#46039f\"],[0.2222222222222222,\"#7201a8\"],[0.3333333333333333,\"#9c179e\"],[0.4444444444444444,\"#bd3786\"],[0.5555555555555556,\"#d8576b\"],[0.6666666666666666,\"#ed7953\"],[0.7777777777777778,\"#fb9f3a\"],[0.8888888888888888,\"#fdca26\"],[1.0,\"#f0f921\"]],\"sequentialminus\":[[0.0,\"#0d0887\"],[0.1111111111111111,\"#46039f\"],[0.2222222222222222,\"#7201a8\"],[0.3333333333333333,\"#9c179e\"],[0.4444444444444444,\"#bd3786\"],[0.5555555555555556,\"#d8576b\"],[0.6666666666666666,\"#ed7953\"],[0.7777777777777778,\"#fb9f3a\"],[0.8888888888888888,\"#fdca26\"],[1.0,\"#f0f921\"]]},\"colorway\":[\"#636efa\",\"#EF553B\",\"#00cc96\",\"#ab63fa\",\"#FFA15A\",\"#19d3f3\",\"#FF6692\",\"#B6E880\",\"#FF97FF\",\"#FECB52\"],\"font\":{\"color\":\"#2a3f5f\"},\"geo\":{\"bgcolor\":\"white\",\"lakecolor\":\"white\",\"landcolor\":\"#E5ECF6\",\"showlakes\":true,\"showland\":true,\"subunitcolor\":\"white\"},\"hoverlabel\":{\"align\":\"left\"},\"hovermode\":\"closest\",\"mapbox\":{\"style\":\"light\"},\"paper_bgcolor\":\"white\",\"plot_bgcolor\":\"#E5ECF6\",\"polar\":{\"angularaxis\":{\"gridcolor\":\"white\",\"linecolor\":\"white\",\"ticks\":\"\"},\"bgcolor\":\"#E5ECF6\",\"radialaxis\":{\"gridcolor\":\"white\",\"linecolor\":\"white\",\"ticks\":\"\"}},\"scene\":{\"xaxis\":{\"backgroundcolor\":\"#E5ECF6\",\"gridcolor\":\"white\",\"gridwidth\":2,\"linecolor\":\"white\",\"showbackground\":true,\"ticks\":\"\",\"zerolinecolor\":\"white\"},\"yaxis\":{\"backgroundcolor\":\"#E5ECF6\",\"gridcolor\":\"white\",\"gridwidth\":2,\"linecolor\":\"white\",\"showbackground\":true,\"ticks\":\"\",\"zerolinecolor\":\"white\"},\"zaxis\":{\"backgroundcolor\":\"#E5ECF6\",\"gridcolor\":\"white\",\"gridwidth\":2,\"linecolor\":\"white\",\"showbackground\":true,\"ticks\":\"\",\"zerolinecolor\":\"white\"}},\"shapedefaults\":{\"line\":{\"color\":\"#2a3f5f\"}},\"ternary\":{\"aaxis\":{\"gridcolor\":\"white\",\"linecolor\":\"white\",\"ticks\":\"\"},\"baxis\":{\"gridcolor\":\"white\",\"linecolor\":\"white\",\"ticks\":\"\"},\"bgcolor\":\"#E5ECF6\",\"caxis\":{\"gridcolor\":\"white\",\"linecolor\":\"white\",\"ticks\":\"\"}},\"title\":{\"x\":0.05},\"xaxis\":{\"automargin\":true,\"gridcolor\":\"white\",\"linecolor\":\"white\",\"ticks\":\"\",\"title\":{\"standoff\":15},\"zerolinecolor\":\"white\",\"zerolinewidth\":2},\"yaxis\":{\"automargin\":true,\"gridcolor\":\"white\",\"linecolor\":\"white\",\"ticks\":\"\",\"title\":{\"standoff\":15},\"zerolinecolor\":\"white\",\"zerolinewidth\":2}}},\"title\":{\"font\":{\"color\":\"#4D5663\"}},\"xaxis\":{\"gridcolor\":\"#E1E5ED\",\"showgrid\":true,\"tickfont\":{\"color\":\"#4D5663\"},\"title\":{\"font\":{\"color\":\"#4D5663\"},\"text\":\"\"},\"zerolinecolor\":\"#E1E5ED\"},\"yaxis\":{\"gridcolor\":\"#E1E5ED\",\"showgrid\":true,\"tickfont\":{\"color\":\"#4D5663\"},\"title\":{\"font\":{\"color\":\"#4D5663\"},\"text\":\"\"},\"zerolinecolor\":\"#E1E5ED\"}},                        {\"showLink\": true, \"linkText\": \"Export to plot.ly\", \"plotlyServerURL\": \"https://plot.ly\", \"responsive\": true}                    ).then(function(){\n",
       "                            \n",
       "var gd = document.getElementById('3f4e1e5f-503a-4951-ba98-eb14ca656d5c');\n",
       "var x = new MutationObserver(function (mutations, observer) {{\n",
       "        var display = window.getComputedStyle(gd).display;\n",
       "        if (!display || display === 'none') {{\n",
       "            console.log([gd, 'removed!']);\n",
       "            Plotly.purge(gd);\n",
       "            observer.disconnect();\n",
       "        }}\n",
       "}});\n",
       "\n",
       "// Listen for the removal of the full notebook cells\n",
       "var notebookContainer = gd.closest('#notebook-container');\n",
       "if (notebookContainer) {{\n",
       "    x.observe(notebookContainer, {childList: true});\n",
       "}}\n",
       "\n",
       "// Listen for the clearing of the current output cell\n",
       "var outputEl = gd.closest('.output');\n",
       "if (outputEl) {{\n",
       "    x.observe(outputEl, {childList: true});\n",
       "}}\n",
       "\n",
       "                        })                };                });            </script>        </div>"
      ]
     },
     "metadata": {},
     "output_type": "display_data"
    }
   ],
   "source": [
    "df3 = pd.DataFrame({'x':[1,2,3,4,5],'y':[10,20,30,20,10],'z':[5,4,3,2,1]})\n",
    "df3.iplot(kind='surface',colorscale='rdylbu')"
   ]
  },
  {
   "cell_type": "markdown",
   "metadata": {},
   "source": [
    "## Spread"
   ]
  },
  {
   "cell_type": "code",
   "execution_count": 19,
   "metadata": {},
   "outputs": [
    {
     "name": "stderr",
     "output_type": "stream",
     "text": [
      "C:\\Users\\HY18-2\\Anaconda3\\lib\\site-packages\\cufflinks\\plotlytools.py:849: FutureWarning:\n",
      "\n",
      "The pandas.np module is deprecated and will be removed from pandas in a future version. Import numpy directly instead.\n",
      "\n",
      "C:\\Users\\HY18-2\\Anaconda3\\lib\\site-packages\\cufflinks\\plotlytools.py:850: FutureWarning:\n",
      "\n",
      "The pandas.np module is deprecated and will be removed from pandas in a future version. Import numpy directly instead.\n",
      "\n"
     ]
    },
    {
     "data": {
      "application/vnd.plotly.v1+json": {
       "config": {
        "linkText": "Export to plot.ly",
        "plotlyServerURL": "https://plot.ly",
        "showLink": true
       },
       "data": [
        {
         "line": {
          "color": "rgba(255, 153, 51, 1.0)",
          "dash": "solid",
          "shape": "linear",
          "width": 1.3
         },
         "mode": "lines",
         "name": "A",
         "text": "",
         "type": "scatter",
         "x": [
          0,
          1,
          2,
          3,
          4,
          5,
          6,
          7,
          8,
          9,
          10,
          11,
          12,
          13,
          14,
          15,
          16,
          17,
          18,
          19,
          20,
          21,
          22,
          23,
          24,
          25,
          26,
          27,
          28,
          29,
          30,
          31,
          32,
          33,
          34,
          35,
          36,
          37,
          38,
          39,
          40,
          41,
          42,
          43,
          44,
          45,
          46,
          47,
          48,
          49,
          50,
          51,
          52,
          53,
          54,
          55,
          56,
          57,
          58,
          59,
          60,
          61,
          62,
          63,
          64,
          65,
          66,
          67,
          68,
          69,
          70,
          71,
          72,
          73,
          74,
          75,
          76,
          77,
          78,
          79,
          80,
          81,
          82,
          83,
          84,
          85,
          86,
          87,
          88,
          89,
          90,
          91,
          92,
          93,
          94,
          95,
          96,
          97,
          98,
          99
         ],
         "y": [
          -0.5656412823360386,
          1.0360792852296468,
          -0.03441248758142155,
          0.23182280061860472,
          1.0088992008914284,
          -0.026715148537010024,
          -0.20315796235413472,
          0.5245229236865366,
          -3.2191295497186694,
          0.17164228604067813,
          0.582247745637063,
          0.9289059114631611,
          -0.7591861803041988,
          -0.24277993570070505,
          -0.1323275276500544,
          -0.5466769746668216,
          0.7177731503109126,
          -0.8191814660705794,
          -1.4310336841345486,
          0.2573153328506282,
          1.3408244257300779,
          0.486032440581521,
          -1.2308345803153686,
          -1.4608107584460366,
          0.8732239163610039,
          0.4567394249492647,
          -1.899861957922655,
          0.28173525063683097,
          -0.21805371925692918,
          1.2626935583320715,
          0.49886751555253367,
          1.4174111664802422,
          0.22660528690867696,
          -0.6502747916185775,
          0.16897409062805457,
          1.21279856642119,
          1.1143424086245766,
          -0.3483420722554928,
          -0.6696543666981883,
          -1.0632252096403403,
          -0.15225141923354557,
          1.316625588404699,
          1.1720151527353133,
          -0.027287875274585364,
          -1.0293154035381185,
          -0.37492772031126287,
          -0.04096023078323834,
          1.182570779299944,
          -1.376390923724631,
          -0.799936281543547,
          -0.707307351593801,
          0.02001897453784066,
          -0.978294769085192,
          0.8508279002602976,
          -0.5342831423012391,
          -0.36185037495602906,
          -0.8056130603514121,
          0.4111895792611264,
          0.004379479525213149,
          0.21780913118781245,
          0.6211677456201348,
          -0.7793003130748717,
          1.103489152734224,
          -1.7904817940423041,
          1.0010689343246126,
          1.8918588281108983,
          1.2977984640817777,
          0.3259841032981575,
          2.0815712057108744,
          0.8383496802803703,
          1.7472868342739443,
          -0.07719520587663783,
          0.9413390291554022,
          1.3834950208674481,
          -0.5569585432839406,
          -1.819230204577346,
          0.12169655584130164,
          1.5616824263876785,
          -0.45356471914135854,
          0.19676060898221412,
          0.009000319539798945,
          -0.2249124640829556,
          -0.2188737751900468,
          0.10764137132759453,
          0.11196929653740105,
          1.1665818342784908,
          -2.020826309495809,
          2.793163479046665,
          0.30526228066973804,
          -0.565887028976998,
          -0.2001466520368511,
          -0.5436753674793958,
          -1.343875859753172,
          0.6112457603338765,
          -0.7813886684840383,
          -1.22303424769474,
          0.4600825033400545,
          0.1383873846734834,
          -0.08138809268576497,
          0.8471112760129539
         ]
        },
        {
         "line": {
          "color": "rgba(55, 128, 191, 1.0)",
          "dash": "solid",
          "shape": "linear",
          "width": 1.3
         },
         "mode": "lines",
         "name": "B",
         "text": "",
         "type": "scatter",
         "x": [
          0,
          1,
          2,
          3,
          4,
          5,
          6,
          7,
          8,
          9,
          10,
          11,
          12,
          13,
          14,
          15,
          16,
          17,
          18,
          19,
          20,
          21,
          22,
          23,
          24,
          25,
          26,
          27,
          28,
          29,
          30,
          31,
          32,
          33,
          34,
          35,
          36,
          37,
          38,
          39,
          40,
          41,
          42,
          43,
          44,
          45,
          46,
          47,
          48,
          49,
          50,
          51,
          52,
          53,
          54,
          55,
          56,
          57,
          58,
          59,
          60,
          61,
          62,
          63,
          64,
          65,
          66,
          67,
          68,
          69,
          70,
          71,
          72,
          73,
          74,
          75,
          76,
          77,
          78,
          79,
          80,
          81,
          82,
          83,
          84,
          85,
          86,
          87,
          88,
          89,
          90,
          91,
          92,
          93,
          94,
          95,
          96,
          97,
          98,
          99
         ],
         "y": [
          0.5645172566075981,
          -0.33932437899341966,
          -1.121520210991983,
          1.6002719901100757,
          1.5016206296259804,
          2.2959127591084303,
          0.6159086177819855,
          -0.7571132946788054,
          -1.8527379210880608,
          -1.1387426139167482,
          -1.1802914715008073,
          0.4863930279547499,
          -0.1972727517360925,
          -0.7045335740979844,
          0.11636261009340494,
          1.1218343682379364,
          0.07716204469597837,
          1.6172483692207498,
          -0.6227123975706295,
          -0.8638472923389473,
          0.7772239006064957,
          -1.0875868898305794,
          -0.8172213602844036,
          -1.6344710636517614,
          0.4380072171404136,
          -0.7353431531149569,
          -1.3292240246460292,
          2.64076103804586,
          -0.29720784590850985,
          1.3985332624862092,
          -0.05460103642841293,
          -1.7202047580904671,
          -2.307117527573707,
          0.26916881133700654,
          -1.7677313247111384,
          0.6385315213928748,
          1.059188957948073,
          -0.671379236360241,
          -1.3058207439934062,
          -0.15458145256593406,
          0.06995526962442203,
          2.5835499038790664,
          -1.046700114776581,
          0.44717854638131416,
          3.0509553348921687,
          1.1735076138718559,
          0.8596597027344738,
          -2.254815679656594,
          0.9087384098230576,
          1.4794324312196547,
          -0.5279978184819706,
          0.11428912177813569,
          -0.3206006243579793,
          0.6369155364690917,
          0.7040933544865097,
          2.1455364197699187,
          -0.310185129037482,
          -1.1884618328539198,
          -0.15786482315368378,
          3.2186195666514505,
          -0.10773828423557187,
          0.002865138432579824,
          -1.1621439679443992,
          1.8796177622458385,
          -1.011011249558588,
          1.26112692119876,
          0.8353625334967835,
          0.2787037798133771,
          -0.29289336451730547,
          -1.210875011885804,
          -0.25852796048510923,
          0.6324642492884567,
          1.8235740793505282,
          0.3069505716985952,
          -2.329145297007603,
          -1.2353938452853468,
          -1.0033728108153268,
          0.0558782491122532,
          -0.004269293450762822,
          -0.5134075458464393,
          0.8650144157816739,
          0.9575917608001567,
          -0.37212330519918413,
          0.22569767089282858,
          -1.4353961812767824,
          0.6047693356914953,
          0.831598022335903,
          0.3532044398283273,
          -0.6478073247627921,
          0.2147827207375652,
          1.1972101878705765,
          -0.12637330565608457,
          1.3462423783258188,
          -0.03648857415205832,
          0.10886015509104147,
          0.31893671014852615,
          0.10171193001652372,
          0.975923288760046,
          0.4650211235038087,
          -0.6218275280285074
         ]
        },
        {
         "connectgaps": false,
         "fill": "tozeroy",
         "line": {
          "color": "green",
          "dash": "solid",
          "shape": "linear",
          "width": 0.5
         },
         "mode": "lines",
         "name": "Spread",
         "showlegend": false,
         "type": "scatter",
         "x": [
          0,
          1,
          2,
          3,
          4,
          5,
          6,
          7,
          8,
          9,
          10,
          11,
          12,
          13,
          14,
          15,
          16,
          17,
          18,
          19,
          20,
          21,
          22,
          23,
          24,
          25,
          26,
          27,
          28,
          29,
          30,
          31,
          32,
          33,
          34,
          35,
          36,
          37,
          38,
          39,
          40,
          41,
          42,
          43,
          44,
          45,
          46,
          47,
          48,
          49,
          50,
          51,
          52,
          53,
          54,
          55,
          56,
          57,
          58,
          59,
          60,
          61,
          62,
          63,
          64,
          65,
          66,
          67,
          68,
          69,
          70,
          71,
          72,
          73,
          74,
          75,
          76,
          77,
          78,
          79,
          80,
          81,
          82,
          83,
          84,
          85,
          86,
          87,
          88,
          89,
          90,
          91,
          92,
          93,
          94,
          95,
          96,
          97,
          98,
          99
         ],
         "xaxis": "x2",
         "y": [
          "",
          1.3754036642230665,
          1.0871077234105615,
          "",
          "",
          "",
          "",
          1.281636218365342,
          "",
          1.3103848999574264,
          1.7625392171378702,
          0.4425128835084112,
          "",
          0.4617536383972794,
          "",
          "",
          0.6406111056149342,
          "",
          "",
          1.1211626251895754,
          0.5636005251235822,
          1.5736193304121004,
          "",
          0.17366030520572484,
          0.43521669922059036,
          1.1920825780642217,
          "",
          "",
          0.07915412665158067,
          "",
          0.5534685519809466,
          3.137615924570709,
          2.533722814482384,
          "",
          1.936705415339193,
          0.5742670450283152,
          0.05515345067650346,
          0.3230371641047482,
          0.6361663772952179,
          "",
          "",
          "",
          2.2187152675118944,
          "",
          "",
          "",
          "",
          3.4373864589565377,
          "",
          "",
          "",
          "",
          "",
          0.21391236379120593,
          "",
          "",
          "",
          1.5996514121150462,
          0.16224430267889692,
          "",
          0.7289060298557066,
          "",
          2.2656331206786233,
          "",
          2.0120801838832003,
          0.6307319069121384,
          0.4624359305849942,
          0.04728032348478045,
          2.37446457022818,
          2.0492246921661743,
          2.0058147947590537,
          "",
          "",
          1.076544449168853,
          1.7721867537236624,
          "",
          1.1250693666566285,
          1.5058041772754254,
          "",
          0.7101681548286535,
          "",
          "",
          0.15324953000913732,
          "",
          1.5473654778141834,
          0.5618124985869956,
          "",
          2.4399590392183375,
          0.9530696054325302,
          "",
          "",
          "",
          "",
          0.6477343344859348,
          "",
          "",
          0.3583705733235308,
          "",
          "",
          1.4689388040414613
         ],
         "yaxis": "y2"
        },
        {
         "connectgaps": false,
         "fill": "tozeroy",
         "line": {
          "color": "red",
          "dash": "solid",
          "shape": "linear",
          "width": 0.5
         },
         "mode": "lines",
         "name": "Spread",
         "showlegend": false,
         "type": "scatter",
         "x": [
          0,
          1,
          2,
          3,
          4,
          5,
          6,
          7,
          8,
          9,
          10,
          11,
          12,
          13,
          14,
          15,
          16,
          17,
          18,
          19,
          20,
          21,
          22,
          23,
          24,
          25,
          26,
          27,
          28,
          29,
          30,
          31,
          32,
          33,
          34,
          35,
          36,
          37,
          38,
          39,
          40,
          41,
          42,
          43,
          44,
          45,
          46,
          47,
          48,
          49,
          50,
          51,
          52,
          53,
          54,
          55,
          56,
          57,
          58,
          59,
          60,
          61,
          62,
          63,
          64,
          65,
          66,
          67,
          68,
          69,
          70,
          71,
          72,
          73,
          74,
          75,
          76,
          77,
          78,
          79,
          80,
          81,
          82,
          83,
          84,
          85,
          86,
          87,
          88,
          89,
          90,
          91,
          92,
          93,
          94,
          95,
          96,
          97,
          98,
          99
         ],
         "xaxis": "x2",
         "y": [
          -1.1301585389436366,
          "",
          "",
          -1.368449189491471,
          -0.49272142873455205,
          -2.3226279076454404,
          -0.8190665801361202,
          "",
          -1.3663916286306086,
          "",
          "",
          "",
          -0.5619134285681063,
          "",
          -0.24869013774345933,
          -1.668511342904758,
          "",
          -2.436429835291329,
          -0.8083212865639191,
          "",
          "",
          "",
          -0.413613220030965,
          "",
          "",
          "",
          -0.5706379332766258,
          -2.359025787409029,
          "",
          -0.1358397041541377,
          "",
          "",
          "",
          -0.919443602955584,
          "",
          "",
          "",
          "",
          "",
          -0.9086437570744063,
          -0.2222066888579676,
          -1.2669243154743675,
          "",
          -0.47446642165589953,
          -4.080270738430287,
          -1.5484353341831187,
          -0.9006199335177121,
          "",
          -2.2851293335476885,
          -2.2793687127632016,
          -0.1793095331118304,
          -0.09427014724029503,
          -0.6576941447272127,
          "",
          -1.2383764967877489,
          -2.5073867947259476,
          -0.4954279313139301,
          "",
          "",
          -3.000810435463638,
          "",
          -0.7821654515074515,
          "",
          -3.6700995562881427,
          "",
          "",
          "",
          "",
          "",
          "",
          "",
          -0.7096594551650945,
          -0.8822350501951259,
          "",
          "",
          -0.5838363592919993,
          "",
          "",
          -0.4492954256905957,
          "",
          -0.856014096241875,
          -1.1825042248831124,
          "",
          -0.11805629956523404,
          "",
          "",
          -2.852424331831712,
          "",
          "",
          -0.7806697497145633,
          -1.3973568399074277,
          -0.41730206182331125,
          -2.6901182380789908,
          "",
          -0.8902488235750798,
          -1.541970957843266,
          "",
          -0.8375359040865625,
          -0.5464092161895737,
          ""
         ],
         "yaxis": "y2"
        }
       ],
       "layout": {
        "hovermode": "x",
        "legend": {
         "bgcolor": "#F5F6F9",
         "font": {
          "color": "#4D5663"
         }
        },
        "paper_bgcolor": "#F5F6F9",
        "plot_bgcolor": "#F5F6F9",
        "template": {
         "data": {
          "bar": [
           {
            "error_x": {
             "color": "#2a3f5f"
            },
            "error_y": {
             "color": "#2a3f5f"
            },
            "marker": {
             "line": {
              "color": "#E5ECF6",
              "width": 0.5
             },
             "pattern": {
              "fillmode": "overlay",
              "size": 10,
              "solidity": 0.2
             }
            },
            "type": "bar"
           }
          ],
          "barpolar": [
           {
            "marker": {
             "line": {
              "color": "#E5ECF6",
              "width": 0.5
             },
             "pattern": {
              "fillmode": "overlay",
              "size": 10,
              "solidity": 0.2
             }
            },
            "type": "barpolar"
           }
          ],
          "carpet": [
           {
            "aaxis": {
             "endlinecolor": "#2a3f5f",
             "gridcolor": "white",
             "linecolor": "white",
             "minorgridcolor": "white",
             "startlinecolor": "#2a3f5f"
            },
            "baxis": {
             "endlinecolor": "#2a3f5f",
             "gridcolor": "white",
             "linecolor": "white",
             "minorgridcolor": "white",
             "startlinecolor": "#2a3f5f"
            },
            "type": "carpet"
           }
          ],
          "choropleth": [
           {
            "colorbar": {
             "outlinewidth": 0,
             "ticks": ""
            },
            "type": "choropleth"
           }
          ],
          "contour": [
           {
            "colorbar": {
             "outlinewidth": 0,
             "ticks": ""
            },
            "colorscale": [
             [
              0,
              "#0d0887"
             ],
             [
              0.1111111111111111,
              "#46039f"
             ],
             [
              0.2222222222222222,
              "#7201a8"
             ],
             [
              0.3333333333333333,
              "#9c179e"
             ],
             [
              0.4444444444444444,
              "#bd3786"
             ],
             [
              0.5555555555555556,
              "#d8576b"
             ],
             [
              0.6666666666666666,
              "#ed7953"
             ],
             [
              0.7777777777777778,
              "#fb9f3a"
             ],
             [
              0.8888888888888888,
              "#fdca26"
             ],
             [
              1,
              "#f0f921"
             ]
            ],
            "type": "contour"
           }
          ],
          "contourcarpet": [
           {
            "colorbar": {
             "outlinewidth": 0,
             "ticks": ""
            },
            "type": "contourcarpet"
           }
          ],
          "heatmap": [
           {
            "colorbar": {
             "outlinewidth": 0,
             "ticks": ""
            },
            "colorscale": [
             [
              0,
              "#0d0887"
             ],
             [
              0.1111111111111111,
              "#46039f"
             ],
             [
              0.2222222222222222,
              "#7201a8"
             ],
             [
              0.3333333333333333,
              "#9c179e"
             ],
             [
              0.4444444444444444,
              "#bd3786"
             ],
             [
              0.5555555555555556,
              "#d8576b"
             ],
             [
              0.6666666666666666,
              "#ed7953"
             ],
             [
              0.7777777777777778,
              "#fb9f3a"
             ],
             [
              0.8888888888888888,
              "#fdca26"
             ],
             [
              1,
              "#f0f921"
             ]
            ],
            "type": "heatmap"
           }
          ],
          "heatmapgl": [
           {
            "colorbar": {
             "outlinewidth": 0,
             "ticks": ""
            },
            "colorscale": [
             [
              0,
              "#0d0887"
             ],
             [
              0.1111111111111111,
              "#46039f"
             ],
             [
              0.2222222222222222,
              "#7201a8"
             ],
             [
              0.3333333333333333,
              "#9c179e"
             ],
             [
              0.4444444444444444,
              "#bd3786"
             ],
             [
              0.5555555555555556,
              "#d8576b"
             ],
             [
              0.6666666666666666,
              "#ed7953"
             ],
             [
              0.7777777777777778,
              "#fb9f3a"
             ],
             [
              0.8888888888888888,
              "#fdca26"
             ],
             [
              1,
              "#f0f921"
             ]
            ],
            "type": "heatmapgl"
           }
          ],
          "histogram": [
           {
            "marker": {
             "pattern": {
              "fillmode": "overlay",
              "size": 10,
              "solidity": 0.2
             }
            },
            "type": "histogram"
           }
          ],
          "histogram2d": [
           {
            "colorbar": {
             "outlinewidth": 0,
             "ticks": ""
            },
            "colorscale": [
             [
              0,
              "#0d0887"
             ],
             [
              0.1111111111111111,
              "#46039f"
             ],
             [
              0.2222222222222222,
              "#7201a8"
             ],
             [
              0.3333333333333333,
              "#9c179e"
             ],
             [
              0.4444444444444444,
              "#bd3786"
             ],
             [
              0.5555555555555556,
              "#d8576b"
             ],
             [
              0.6666666666666666,
              "#ed7953"
             ],
             [
              0.7777777777777778,
              "#fb9f3a"
             ],
             [
              0.8888888888888888,
              "#fdca26"
             ],
             [
              1,
              "#f0f921"
             ]
            ],
            "type": "histogram2d"
           }
          ],
          "histogram2dcontour": [
           {
            "colorbar": {
             "outlinewidth": 0,
             "ticks": ""
            },
            "colorscale": [
             [
              0,
              "#0d0887"
             ],
             [
              0.1111111111111111,
              "#46039f"
             ],
             [
              0.2222222222222222,
              "#7201a8"
             ],
             [
              0.3333333333333333,
              "#9c179e"
             ],
             [
              0.4444444444444444,
              "#bd3786"
             ],
             [
              0.5555555555555556,
              "#d8576b"
             ],
             [
              0.6666666666666666,
              "#ed7953"
             ],
             [
              0.7777777777777778,
              "#fb9f3a"
             ],
             [
              0.8888888888888888,
              "#fdca26"
             ],
             [
              1,
              "#f0f921"
             ]
            ],
            "type": "histogram2dcontour"
           }
          ],
          "mesh3d": [
           {
            "colorbar": {
             "outlinewidth": 0,
             "ticks": ""
            },
            "type": "mesh3d"
           }
          ],
          "parcoords": [
           {
            "line": {
             "colorbar": {
              "outlinewidth": 0,
              "ticks": ""
             }
            },
            "type": "parcoords"
           }
          ],
          "pie": [
           {
            "automargin": true,
            "type": "pie"
           }
          ],
          "scatter": [
           {
            "fillpattern": {
             "fillmode": "overlay",
             "size": 10,
             "solidity": 0.2
            },
            "type": "scatter"
           }
          ],
          "scatter3d": [
           {
            "line": {
             "colorbar": {
              "outlinewidth": 0,
              "ticks": ""
             }
            },
            "marker": {
             "colorbar": {
              "outlinewidth": 0,
              "ticks": ""
             }
            },
            "type": "scatter3d"
           }
          ],
          "scattercarpet": [
           {
            "marker": {
             "colorbar": {
              "outlinewidth": 0,
              "ticks": ""
             }
            },
            "type": "scattercarpet"
           }
          ],
          "scattergeo": [
           {
            "marker": {
             "colorbar": {
              "outlinewidth": 0,
              "ticks": ""
             }
            },
            "type": "scattergeo"
           }
          ],
          "scattergl": [
           {
            "marker": {
             "colorbar": {
              "outlinewidth": 0,
              "ticks": ""
             }
            },
            "type": "scattergl"
           }
          ],
          "scattermapbox": [
           {
            "marker": {
             "colorbar": {
              "outlinewidth": 0,
              "ticks": ""
             }
            },
            "type": "scattermapbox"
           }
          ],
          "scatterpolar": [
           {
            "marker": {
             "colorbar": {
              "outlinewidth": 0,
              "ticks": ""
             }
            },
            "type": "scatterpolar"
           }
          ],
          "scatterpolargl": [
           {
            "marker": {
             "colorbar": {
              "outlinewidth": 0,
              "ticks": ""
             }
            },
            "type": "scatterpolargl"
           }
          ],
          "scatterternary": [
           {
            "marker": {
             "colorbar": {
              "outlinewidth": 0,
              "ticks": ""
             }
            },
            "type": "scatterternary"
           }
          ],
          "surface": [
           {
            "colorbar": {
             "outlinewidth": 0,
             "ticks": ""
            },
            "colorscale": [
             [
              0,
              "#0d0887"
             ],
             [
              0.1111111111111111,
              "#46039f"
             ],
             [
              0.2222222222222222,
              "#7201a8"
             ],
             [
              0.3333333333333333,
              "#9c179e"
             ],
             [
              0.4444444444444444,
              "#bd3786"
             ],
             [
              0.5555555555555556,
              "#d8576b"
             ],
             [
              0.6666666666666666,
              "#ed7953"
             ],
             [
              0.7777777777777778,
              "#fb9f3a"
             ],
             [
              0.8888888888888888,
              "#fdca26"
             ],
             [
              1,
              "#f0f921"
             ]
            ],
            "type": "surface"
           }
          ],
          "table": [
           {
            "cells": {
             "fill": {
              "color": "#EBF0F8"
             },
             "line": {
              "color": "white"
             }
            },
            "header": {
             "fill": {
              "color": "#C8D4E3"
             },
             "line": {
              "color": "white"
             }
            },
            "type": "table"
           }
          ]
         },
         "layout": {
          "annotationdefaults": {
           "arrowcolor": "#2a3f5f",
           "arrowhead": 0,
           "arrowwidth": 1
          },
          "autotypenumbers": "strict",
          "coloraxis": {
           "colorbar": {
            "outlinewidth": 0,
            "ticks": ""
           }
          },
          "colorscale": {
           "diverging": [
            [
             0,
             "#8e0152"
            ],
            [
             0.1,
             "#c51b7d"
            ],
            [
             0.2,
             "#de77ae"
            ],
            [
             0.3,
             "#f1b6da"
            ],
            [
             0.4,
             "#fde0ef"
            ],
            [
             0.5,
             "#f7f7f7"
            ],
            [
             0.6,
             "#e6f5d0"
            ],
            [
             0.7,
             "#b8e186"
            ],
            [
             0.8,
             "#7fbc41"
            ],
            [
             0.9,
             "#4d9221"
            ],
            [
             1,
             "#276419"
            ]
           ],
           "sequential": [
            [
             0,
             "#0d0887"
            ],
            [
             0.1111111111111111,
             "#46039f"
            ],
            [
             0.2222222222222222,
             "#7201a8"
            ],
            [
             0.3333333333333333,
             "#9c179e"
            ],
            [
             0.4444444444444444,
             "#bd3786"
            ],
            [
             0.5555555555555556,
             "#d8576b"
            ],
            [
             0.6666666666666666,
             "#ed7953"
            ],
            [
             0.7777777777777778,
             "#fb9f3a"
            ],
            [
             0.8888888888888888,
             "#fdca26"
            ],
            [
             1,
             "#f0f921"
            ]
           ],
           "sequentialminus": [
            [
             0,
             "#0d0887"
            ],
            [
             0.1111111111111111,
             "#46039f"
            ],
            [
             0.2222222222222222,
             "#7201a8"
            ],
            [
             0.3333333333333333,
             "#9c179e"
            ],
            [
             0.4444444444444444,
             "#bd3786"
            ],
            [
             0.5555555555555556,
             "#d8576b"
            ],
            [
             0.6666666666666666,
             "#ed7953"
            ],
            [
             0.7777777777777778,
             "#fb9f3a"
            ],
            [
             0.8888888888888888,
             "#fdca26"
            ],
            [
             1,
             "#f0f921"
            ]
           ]
          },
          "colorway": [
           "#636efa",
           "#EF553B",
           "#00cc96",
           "#ab63fa",
           "#FFA15A",
           "#19d3f3",
           "#FF6692",
           "#B6E880",
           "#FF97FF",
           "#FECB52"
          ],
          "font": {
           "color": "#2a3f5f"
          },
          "geo": {
           "bgcolor": "white",
           "lakecolor": "white",
           "landcolor": "#E5ECF6",
           "showlakes": true,
           "showland": true,
           "subunitcolor": "white"
          },
          "hoverlabel": {
           "align": "left"
          },
          "hovermode": "closest",
          "mapbox": {
           "style": "light"
          },
          "paper_bgcolor": "white",
          "plot_bgcolor": "#E5ECF6",
          "polar": {
           "angularaxis": {
            "gridcolor": "white",
            "linecolor": "white",
            "ticks": ""
           },
           "bgcolor": "#E5ECF6",
           "radialaxis": {
            "gridcolor": "white",
            "linecolor": "white",
            "ticks": ""
           }
          },
          "scene": {
           "xaxis": {
            "backgroundcolor": "#E5ECF6",
            "gridcolor": "white",
            "gridwidth": 2,
            "linecolor": "white",
            "showbackground": true,
            "ticks": "",
            "zerolinecolor": "white"
           },
           "yaxis": {
            "backgroundcolor": "#E5ECF6",
            "gridcolor": "white",
            "gridwidth": 2,
            "linecolor": "white",
            "showbackground": true,
            "ticks": "",
            "zerolinecolor": "white"
           },
           "zaxis": {
            "backgroundcolor": "#E5ECF6",
            "gridcolor": "white",
            "gridwidth": 2,
            "linecolor": "white",
            "showbackground": true,
            "ticks": "",
            "zerolinecolor": "white"
           }
          },
          "shapedefaults": {
           "line": {
            "color": "#2a3f5f"
           }
          },
          "ternary": {
           "aaxis": {
            "gridcolor": "white",
            "linecolor": "white",
            "ticks": ""
           },
           "baxis": {
            "gridcolor": "white",
            "linecolor": "white",
            "ticks": ""
           },
           "bgcolor": "#E5ECF6",
           "caxis": {
            "gridcolor": "white",
            "linecolor": "white",
            "ticks": ""
           }
          },
          "title": {
           "x": 0.05
          },
          "xaxis": {
           "automargin": true,
           "gridcolor": "white",
           "linecolor": "white",
           "ticks": "",
           "title": {
            "standoff": 15
           },
           "zerolinecolor": "white",
           "zerolinewidth": 2
          },
          "yaxis": {
           "automargin": true,
           "gridcolor": "white",
           "linecolor": "white",
           "ticks": "",
           "title": {
            "standoff": 15
           },
           "zerolinecolor": "white",
           "zerolinewidth": 2
          }
         }
        },
        "title": {
         "font": {
          "color": "#4D5663"
         }
        },
        "xaxis": {
         "gridcolor": "#E1E5ED",
         "showgrid": true,
         "tickfont": {
          "color": "#4D5663"
         },
         "title": {
          "font": {
           "color": "#4D5663"
          },
          "text": ""
         },
         "zerolinecolor": "#E1E5ED"
        },
        "xaxis2": {
         "anchor": "y2",
         "gridcolor": "#E1E5ED",
         "showgrid": true,
         "showticklabels": false,
         "tickfont": {
          "color": "#4D5663"
         },
         "title": {
          "font": {
           "color": "#4D5663"
          },
          "text": ""
         },
         "zerolinecolor": "#E1E5ED"
        },
        "yaxis": {
         "domain": [
          0.3,
          1
         ],
         "gridcolor": "#E1E5ED",
         "showgrid": true,
         "tickfont": {
          "color": "#4D5663"
         },
         "title": {
          "font": {
           "color": "#4D5663"
          },
          "text": ""
         },
         "zerolinecolor": "#E1E5ED"
        },
        "yaxis2": {
         "domain": [
          0,
          0.25
         ],
         "gridcolor": "#E1E5ED",
         "showgrid": true,
         "tickfont": {
          "color": "#4D5663"
         },
         "title": {
          "font": {
           "color": "#4D5663"
          },
          "text": "Spread"
         },
         "zerolinecolor": "#E1E5ED"
        }
       }
      },
      "text/html": [
       "<div>                            <div id=\"dfd52f72-7f10-4e24-b764-63cd23642cd3\" class=\"plotly-graph-div\" style=\"height:525px; width:100%;\"></div>            <script type=\"text/javascript\">                require([\"plotly\"], function(Plotly) {                    window.PLOTLYENV=window.PLOTLYENV || {};\n",
       "                    window.PLOTLYENV.BASE_URL='https://plot.ly';                                    if (document.getElementById(\"dfd52f72-7f10-4e24-b764-63cd23642cd3\")) {                    Plotly.newPlot(                        \"dfd52f72-7f10-4e24-b764-63cd23642cd3\",                        [{\"line\":{\"color\":\"rgba(255, 153, 51, 1.0)\",\"dash\":\"solid\",\"shape\":\"linear\",\"width\":1.3},\"mode\":\"lines\",\"name\":\"A\",\"text\":\"\",\"x\":[0,1,2,3,4,5,6,7,8,9,10,11,12,13,14,15,16,17,18,19,20,21,22,23,24,25,26,27,28,29,30,31,32,33,34,35,36,37,38,39,40,41,42,43,44,45,46,47,48,49,50,51,52,53,54,55,56,57,58,59,60,61,62,63,64,65,66,67,68,69,70,71,72,73,74,75,76,77,78,79,80,81,82,83,84,85,86,87,88,89,90,91,92,93,94,95,96,97,98,99],\"y\":[-0.5656412823360386,1.0360792852296468,-0.03441248758142155,0.23182280061860472,1.0088992008914284,-0.026715148537010024,-0.20315796235413472,0.5245229236865366,-3.2191295497186694,0.17164228604067813,0.582247745637063,0.9289059114631611,-0.7591861803041988,-0.24277993570070505,-0.1323275276500544,-0.5466769746668216,0.7177731503109126,-0.8191814660705794,-1.4310336841345486,0.2573153328506282,1.3408244257300779,0.486032440581521,-1.2308345803153686,-1.4608107584460366,0.8732239163610039,0.4567394249492647,-1.899861957922655,0.28173525063683097,-0.21805371925692918,1.2626935583320715,0.49886751555253367,1.4174111664802422,0.22660528690867696,-0.6502747916185775,0.16897409062805457,1.21279856642119,1.1143424086245766,-0.3483420722554928,-0.6696543666981883,-1.0632252096403403,-0.15225141923354557,1.316625588404699,1.1720151527353133,-0.027287875274585364,-1.0293154035381185,-0.37492772031126287,-0.04096023078323834,1.182570779299944,-1.376390923724631,-0.799936281543547,-0.707307351593801,0.02001897453784066,-0.978294769085192,0.8508279002602976,-0.5342831423012391,-0.36185037495602906,-0.8056130603514121,0.4111895792611264,0.004379479525213149,0.21780913118781245,0.6211677456201348,-0.7793003130748717,1.103489152734224,-1.7904817940423041,1.0010689343246126,1.8918588281108983,1.2977984640817777,0.3259841032981575,2.0815712057108744,0.8383496802803703,1.7472868342739443,-0.07719520587663783,0.9413390291554022,1.3834950208674481,-0.5569585432839406,-1.819230204577346,0.12169655584130164,1.5616824263876785,-0.45356471914135854,0.19676060898221412,0.009000319539798945,-0.2249124640829556,-0.2188737751900468,0.10764137132759453,0.11196929653740105,1.1665818342784908,-2.020826309495809,2.793163479046665,0.30526228066973804,-0.565887028976998,-0.2001466520368511,-0.5436753674793958,-1.343875859753172,0.6112457603338765,-0.7813886684840383,-1.22303424769474,0.4600825033400545,0.1383873846734834,-0.08138809268576497,0.8471112760129539],\"type\":\"scatter\"},{\"line\":{\"color\":\"rgba(55, 128, 191, 1.0)\",\"dash\":\"solid\",\"shape\":\"linear\",\"width\":1.3},\"mode\":\"lines\",\"name\":\"B\",\"text\":\"\",\"x\":[0,1,2,3,4,5,6,7,8,9,10,11,12,13,14,15,16,17,18,19,20,21,22,23,24,25,26,27,28,29,30,31,32,33,34,35,36,37,38,39,40,41,42,43,44,45,46,47,48,49,50,51,52,53,54,55,56,57,58,59,60,61,62,63,64,65,66,67,68,69,70,71,72,73,74,75,76,77,78,79,80,81,82,83,84,85,86,87,88,89,90,91,92,93,94,95,96,97,98,99],\"y\":[0.5645172566075981,-0.33932437899341966,-1.121520210991983,1.6002719901100757,1.5016206296259804,2.2959127591084303,0.6159086177819855,-0.7571132946788054,-1.8527379210880608,-1.1387426139167482,-1.1802914715008073,0.4863930279547499,-0.1972727517360925,-0.7045335740979844,0.11636261009340494,1.1218343682379364,0.07716204469597837,1.6172483692207498,-0.6227123975706295,-0.8638472923389473,0.7772239006064957,-1.0875868898305794,-0.8172213602844036,-1.6344710636517614,0.4380072171404136,-0.7353431531149569,-1.3292240246460292,2.64076103804586,-0.29720784590850985,1.3985332624862092,-0.05460103642841293,-1.7202047580904671,-2.307117527573707,0.26916881133700654,-1.7677313247111384,0.6385315213928748,1.059188957948073,-0.671379236360241,-1.3058207439934062,-0.15458145256593406,0.06995526962442203,2.5835499038790664,-1.046700114776581,0.44717854638131416,3.0509553348921687,1.1735076138718559,0.8596597027344738,-2.254815679656594,0.9087384098230576,1.4794324312196547,-0.5279978184819706,0.11428912177813569,-0.3206006243579793,0.6369155364690917,0.7040933544865097,2.1455364197699187,-0.310185129037482,-1.1884618328539198,-0.15786482315368378,3.2186195666514505,-0.10773828423557187,0.002865138432579824,-1.1621439679443992,1.8796177622458385,-1.011011249558588,1.26112692119876,0.8353625334967835,0.2787037798133771,-0.29289336451730547,-1.210875011885804,-0.25852796048510923,0.6324642492884567,1.8235740793505282,0.3069505716985952,-2.329145297007603,-1.2353938452853468,-1.0033728108153268,0.0558782491122532,-0.004269293450762822,-0.5134075458464393,0.8650144157816739,0.9575917608001567,-0.37212330519918413,0.22569767089282858,-1.4353961812767824,0.6047693356914953,0.831598022335903,0.3532044398283273,-0.6478073247627921,0.2147827207375652,1.1972101878705765,-0.12637330565608457,1.3462423783258188,-0.03648857415205832,0.10886015509104147,0.31893671014852615,0.10171193001652372,0.975923288760046,0.4650211235038087,-0.6218275280285074],\"type\":\"scatter\"},{\"connectgaps\":false,\"fill\":\"tozeroy\",\"line\":{\"color\":\"green\",\"dash\":\"solid\",\"shape\":\"linear\",\"width\":0.5},\"mode\":\"lines\",\"name\":\"Spread\",\"showlegend\":false,\"x\":[0,1,2,3,4,5,6,7,8,9,10,11,12,13,14,15,16,17,18,19,20,21,22,23,24,25,26,27,28,29,30,31,32,33,34,35,36,37,38,39,40,41,42,43,44,45,46,47,48,49,50,51,52,53,54,55,56,57,58,59,60,61,62,63,64,65,66,67,68,69,70,71,72,73,74,75,76,77,78,79,80,81,82,83,84,85,86,87,88,89,90,91,92,93,94,95,96,97,98,99],\"xaxis\":\"x2\",\"y\":[\"\",1.3754036642230665,1.0871077234105615,\"\",\"\",\"\",\"\",1.281636218365342,\"\",1.3103848999574264,1.7625392171378702,0.4425128835084112,\"\",0.4617536383972794,\"\",\"\",0.6406111056149342,\"\",\"\",1.1211626251895754,0.5636005251235822,1.5736193304121004,\"\",0.17366030520572484,0.43521669922059036,1.1920825780642217,\"\",\"\",0.07915412665158067,\"\",0.5534685519809466,3.137615924570709,2.533722814482384,\"\",1.936705415339193,0.5742670450283152,0.05515345067650346,0.3230371641047482,0.6361663772952179,\"\",\"\",\"\",2.2187152675118944,\"\",\"\",\"\",\"\",3.4373864589565377,\"\",\"\",\"\",\"\",\"\",0.21391236379120593,\"\",\"\",\"\",1.5996514121150462,0.16224430267889692,\"\",0.7289060298557066,\"\",2.2656331206786233,\"\",2.0120801838832003,0.6307319069121384,0.4624359305849942,0.04728032348478045,2.37446457022818,2.0492246921661743,2.0058147947590537,\"\",\"\",1.076544449168853,1.7721867537236624,\"\",1.1250693666566285,1.5058041772754254,\"\",0.7101681548286535,\"\",\"\",0.15324953000913732,\"\",1.5473654778141834,0.5618124985869956,\"\",2.4399590392183375,0.9530696054325302,\"\",\"\",\"\",\"\",0.6477343344859348,\"\",\"\",0.3583705733235308,\"\",\"\",1.4689388040414613],\"yaxis\":\"y2\",\"type\":\"scatter\"},{\"connectgaps\":false,\"fill\":\"tozeroy\",\"line\":{\"color\":\"red\",\"dash\":\"solid\",\"shape\":\"linear\",\"width\":0.5},\"mode\":\"lines\",\"name\":\"Spread\",\"showlegend\":false,\"x\":[0,1,2,3,4,5,6,7,8,9,10,11,12,13,14,15,16,17,18,19,20,21,22,23,24,25,26,27,28,29,30,31,32,33,34,35,36,37,38,39,40,41,42,43,44,45,46,47,48,49,50,51,52,53,54,55,56,57,58,59,60,61,62,63,64,65,66,67,68,69,70,71,72,73,74,75,76,77,78,79,80,81,82,83,84,85,86,87,88,89,90,91,92,93,94,95,96,97,98,99],\"xaxis\":\"x2\",\"y\":[-1.1301585389436366,\"\",\"\",-1.368449189491471,-0.49272142873455205,-2.3226279076454404,-0.8190665801361202,\"\",-1.3663916286306086,\"\",\"\",\"\",-0.5619134285681063,\"\",-0.24869013774345933,-1.668511342904758,\"\",-2.436429835291329,-0.8083212865639191,\"\",\"\",\"\",-0.413613220030965,\"\",\"\",\"\",-0.5706379332766258,-2.359025787409029,\"\",-0.1358397041541377,\"\",\"\",\"\",-0.919443602955584,\"\",\"\",\"\",\"\",\"\",-0.9086437570744063,-0.2222066888579676,-1.2669243154743675,\"\",-0.47446642165589953,-4.080270738430287,-1.5484353341831187,-0.9006199335177121,\"\",-2.2851293335476885,-2.2793687127632016,-0.1793095331118304,-0.09427014724029503,-0.6576941447272127,\"\",-1.2383764967877489,-2.5073867947259476,-0.4954279313139301,\"\",\"\",-3.000810435463638,\"\",-0.7821654515074515,\"\",-3.6700995562881427,\"\",\"\",\"\",\"\",\"\",\"\",\"\",-0.7096594551650945,-0.8822350501951259,\"\",\"\",-0.5838363592919993,\"\",\"\",-0.4492954256905957,\"\",-0.856014096241875,-1.1825042248831124,\"\",-0.11805629956523404,\"\",\"\",-2.852424331831712,\"\",\"\",-0.7806697497145633,-1.3973568399074277,-0.41730206182331125,-2.6901182380789908,\"\",-0.8902488235750798,-1.541970957843266,\"\",-0.8375359040865625,-0.5464092161895737,\"\"],\"yaxis\":\"y2\",\"type\":\"scatter\"}],                        {\"hovermode\":\"x\",\"legend\":{\"bgcolor\":\"#F5F6F9\",\"font\":{\"color\":\"#4D5663\"}},\"paper_bgcolor\":\"#F5F6F9\",\"plot_bgcolor\":\"#F5F6F9\",\"template\":{\"data\":{\"barpolar\":[{\"marker\":{\"line\":{\"color\":\"#E5ECF6\",\"width\":0.5},\"pattern\":{\"fillmode\":\"overlay\",\"size\":10,\"solidity\":0.2}},\"type\":\"barpolar\"}],\"bar\":[{\"error_x\":{\"color\":\"#2a3f5f\"},\"error_y\":{\"color\":\"#2a3f5f\"},\"marker\":{\"line\":{\"color\":\"#E5ECF6\",\"width\":0.5},\"pattern\":{\"fillmode\":\"overlay\",\"size\":10,\"solidity\":0.2}},\"type\":\"bar\"}],\"carpet\":[{\"aaxis\":{\"endlinecolor\":\"#2a3f5f\",\"gridcolor\":\"white\",\"linecolor\":\"white\",\"minorgridcolor\":\"white\",\"startlinecolor\":\"#2a3f5f\"},\"baxis\":{\"endlinecolor\":\"#2a3f5f\",\"gridcolor\":\"white\",\"linecolor\":\"white\",\"minorgridcolor\":\"white\",\"startlinecolor\":\"#2a3f5f\"},\"type\":\"carpet\"}],\"choropleth\":[{\"colorbar\":{\"outlinewidth\":0,\"ticks\":\"\"},\"type\":\"choropleth\"}],\"contourcarpet\":[{\"colorbar\":{\"outlinewidth\":0,\"ticks\":\"\"},\"type\":\"contourcarpet\"}],\"contour\":[{\"colorbar\":{\"outlinewidth\":0,\"ticks\":\"\"},\"colorscale\":[[0.0,\"#0d0887\"],[0.1111111111111111,\"#46039f\"],[0.2222222222222222,\"#7201a8\"],[0.3333333333333333,\"#9c179e\"],[0.4444444444444444,\"#bd3786\"],[0.5555555555555556,\"#d8576b\"],[0.6666666666666666,\"#ed7953\"],[0.7777777777777778,\"#fb9f3a\"],[0.8888888888888888,\"#fdca26\"],[1.0,\"#f0f921\"]],\"type\":\"contour\"}],\"heatmapgl\":[{\"colorbar\":{\"outlinewidth\":0,\"ticks\":\"\"},\"colorscale\":[[0.0,\"#0d0887\"],[0.1111111111111111,\"#46039f\"],[0.2222222222222222,\"#7201a8\"],[0.3333333333333333,\"#9c179e\"],[0.4444444444444444,\"#bd3786\"],[0.5555555555555556,\"#d8576b\"],[0.6666666666666666,\"#ed7953\"],[0.7777777777777778,\"#fb9f3a\"],[0.8888888888888888,\"#fdca26\"],[1.0,\"#f0f921\"]],\"type\":\"heatmapgl\"}],\"heatmap\":[{\"colorbar\":{\"outlinewidth\":0,\"ticks\":\"\"},\"colorscale\":[[0.0,\"#0d0887\"],[0.1111111111111111,\"#46039f\"],[0.2222222222222222,\"#7201a8\"],[0.3333333333333333,\"#9c179e\"],[0.4444444444444444,\"#bd3786\"],[0.5555555555555556,\"#d8576b\"],[0.6666666666666666,\"#ed7953\"],[0.7777777777777778,\"#fb9f3a\"],[0.8888888888888888,\"#fdca26\"],[1.0,\"#f0f921\"]],\"type\":\"heatmap\"}],\"histogram2dcontour\":[{\"colorbar\":{\"outlinewidth\":0,\"ticks\":\"\"},\"colorscale\":[[0.0,\"#0d0887\"],[0.1111111111111111,\"#46039f\"],[0.2222222222222222,\"#7201a8\"],[0.3333333333333333,\"#9c179e\"],[0.4444444444444444,\"#bd3786\"],[0.5555555555555556,\"#d8576b\"],[0.6666666666666666,\"#ed7953\"],[0.7777777777777778,\"#fb9f3a\"],[0.8888888888888888,\"#fdca26\"],[1.0,\"#f0f921\"]],\"type\":\"histogram2dcontour\"}],\"histogram2d\":[{\"colorbar\":{\"outlinewidth\":0,\"ticks\":\"\"},\"colorscale\":[[0.0,\"#0d0887\"],[0.1111111111111111,\"#46039f\"],[0.2222222222222222,\"#7201a8\"],[0.3333333333333333,\"#9c179e\"],[0.4444444444444444,\"#bd3786\"],[0.5555555555555556,\"#d8576b\"],[0.6666666666666666,\"#ed7953\"],[0.7777777777777778,\"#fb9f3a\"],[0.8888888888888888,\"#fdca26\"],[1.0,\"#f0f921\"]],\"type\":\"histogram2d\"}],\"histogram\":[{\"marker\":{\"pattern\":{\"fillmode\":\"overlay\",\"size\":10,\"solidity\":0.2}},\"type\":\"histogram\"}],\"mesh3d\":[{\"colorbar\":{\"outlinewidth\":0,\"ticks\":\"\"},\"type\":\"mesh3d\"}],\"parcoords\":[{\"line\":{\"colorbar\":{\"outlinewidth\":0,\"ticks\":\"\"}},\"type\":\"parcoords\"}],\"pie\":[{\"automargin\":true,\"type\":\"pie\"}],\"scatter3d\":[{\"line\":{\"colorbar\":{\"outlinewidth\":0,\"ticks\":\"\"}},\"marker\":{\"colorbar\":{\"outlinewidth\":0,\"ticks\":\"\"}},\"type\":\"scatter3d\"}],\"scattercarpet\":[{\"marker\":{\"colorbar\":{\"outlinewidth\":0,\"ticks\":\"\"}},\"type\":\"scattercarpet\"}],\"scattergeo\":[{\"marker\":{\"colorbar\":{\"outlinewidth\":0,\"ticks\":\"\"}},\"type\":\"scattergeo\"}],\"scattergl\":[{\"marker\":{\"colorbar\":{\"outlinewidth\":0,\"ticks\":\"\"}},\"type\":\"scattergl\"}],\"scattermapbox\":[{\"marker\":{\"colorbar\":{\"outlinewidth\":0,\"ticks\":\"\"}},\"type\":\"scattermapbox\"}],\"scatterpolargl\":[{\"marker\":{\"colorbar\":{\"outlinewidth\":0,\"ticks\":\"\"}},\"type\":\"scatterpolargl\"}],\"scatterpolar\":[{\"marker\":{\"colorbar\":{\"outlinewidth\":0,\"ticks\":\"\"}},\"type\":\"scatterpolar\"}],\"scatter\":[{\"fillpattern\":{\"fillmode\":\"overlay\",\"size\":10,\"solidity\":0.2},\"type\":\"scatter\"}],\"scatterternary\":[{\"marker\":{\"colorbar\":{\"outlinewidth\":0,\"ticks\":\"\"}},\"type\":\"scatterternary\"}],\"surface\":[{\"colorbar\":{\"outlinewidth\":0,\"ticks\":\"\"},\"colorscale\":[[0.0,\"#0d0887\"],[0.1111111111111111,\"#46039f\"],[0.2222222222222222,\"#7201a8\"],[0.3333333333333333,\"#9c179e\"],[0.4444444444444444,\"#bd3786\"],[0.5555555555555556,\"#d8576b\"],[0.6666666666666666,\"#ed7953\"],[0.7777777777777778,\"#fb9f3a\"],[0.8888888888888888,\"#fdca26\"],[1.0,\"#f0f921\"]],\"type\":\"surface\"}],\"table\":[{\"cells\":{\"fill\":{\"color\":\"#EBF0F8\"},\"line\":{\"color\":\"white\"}},\"header\":{\"fill\":{\"color\":\"#C8D4E3\"},\"line\":{\"color\":\"white\"}},\"type\":\"table\"}]},\"layout\":{\"annotationdefaults\":{\"arrowcolor\":\"#2a3f5f\",\"arrowhead\":0,\"arrowwidth\":1},\"autotypenumbers\":\"strict\",\"coloraxis\":{\"colorbar\":{\"outlinewidth\":0,\"ticks\":\"\"}},\"colorscale\":{\"diverging\":[[0,\"#8e0152\"],[0.1,\"#c51b7d\"],[0.2,\"#de77ae\"],[0.3,\"#f1b6da\"],[0.4,\"#fde0ef\"],[0.5,\"#f7f7f7\"],[0.6,\"#e6f5d0\"],[0.7,\"#b8e186\"],[0.8,\"#7fbc41\"],[0.9,\"#4d9221\"],[1,\"#276419\"]],\"sequential\":[[0.0,\"#0d0887\"],[0.1111111111111111,\"#46039f\"],[0.2222222222222222,\"#7201a8\"],[0.3333333333333333,\"#9c179e\"],[0.4444444444444444,\"#bd3786\"],[0.5555555555555556,\"#d8576b\"],[0.6666666666666666,\"#ed7953\"],[0.7777777777777778,\"#fb9f3a\"],[0.8888888888888888,\"#fdca26\"],[1.0,\"#f0f921\"]],\"sequentialminus\":[[0.0,\"#0d0887\"],[0.1111111111111111,\"#46039f\"],[0.2222222222222222,\"#7201a8\"],[0.3333333333333333,\"#9c179e\"],[0.4444444444444444,\"#bd3786\"],[0.5555555555555556,\"#d8576b\"],[0.6666666666666666,\"#ed7953\"],[0.7777777777777778,\"#fb9f3a\"],[0.8888888888888888,\"#fdca26\"],[1.0,\"#f0f921\"]]},\"colorway\":[\"#636efa\",\"#EF553B\",\"#00cc96\",\"#ab63fa\",\"#FFA15A\",\"#19d3f3\",\"#FF6692\",\"#B6E880\",\"#FF97FF\",\"#FECB52\"],\"font\":{\"color\":\"#2a3f5f\"},\"geo\":{\"bgcolor\":\"white\",\"lakecolor\":\"white\",\"landcolor\":\"#E5ECF6\",\"showlakes\":true,\"showland\":true,\"subunitcolor\":\"white\"},\"hoverlabel\":{\"align\":\"left\"},\"hovermode\":\"closest\",\"mapbox\":{\"style\":\"light\"},\"paper_bgcolor\":\"white\",\"plot_bgcolor\":\"#E5ECF6\",\"polar\":{\"angularaxis\":{\"gridcolor\":\"white\",\"linecolor\":\"white\",\"ticks\":\"\"},\"bgcolor\":\"#E5ECF6\",\"radialaxis\":{\"gridcolor\":\"white\",\"linecolor\":\"white\",\"ticks\":\"\"}},\"scene\":{\"xaxis\":{\"backgroundcolor\":\"#E5ECF6\",\"gridcolor\":\"white\",\"gridwidth\":2,\"linecolor\":\"white\",\"showbackground\":true,\"ticks\":\"\",\"zerolinecolor\":\"white\"},\"yaxis\":{\"backgroundcolor\":\"#E5ECF6\",\"gridcolor\":\"white\",\"gridwidth\":2,\"linecolor\":\"white\",\"showbackground\":true,\"ticks\":\"\",\"zerolinecolor\":\"white\"},\"zaxis\":{\"backgroundcolor\":\"#E5ECF6\",\"gridcolor\":\"white\",\"gridwidth\":2,\"linecolor\":\"white\",\"showbackground\":true,\"ticks\":\"\",\"zerolinecolor\":\"white\"}},\"shapedefaults\":{\"line\":{\"color\":\"#2a3f5f\"}},\"ternary\":{\"aaxis\":{\"gridcolor\":\"white\",\"linecolor\":\"white\",\"ticks\":\"\"},\"baxis\":{\"gridcolor\":\"white\",\"linecolor\":\"white\",\"ticks\":\"\"},\"bgcolor\":\"#E5ECF6\",\"caxis\":{\"gridcolor\":\"white\",\"linecolor\":\"white\",\"ticks\":\"\"}},\"title\":{\"x\":0.05},\"xaxis\":{\"automargin\":true,\"gridcolor\":\"white\",\"linecolor\":\"white\",\"ticks\":\"\",\"title\":{\"standoff\":15},\"zerolinecolor\":\"white\",\"zerolinewidth\":2},\"yaxis\":{\"automargin\":true,\"gridcolor\":\"white\",\"linecolor\":\"white\",\"ticks\":\"\",\"title\":{\"standoff\":15},\"zerolinecolor\":\"white\",\"zerolinewidth\":2}}},\"title\":{\"font\":{\"color\":\"#4D5663\"}},\"xaxis\":{\"gridcolor\":\"#E1E5ED\",\"showgrid\":true,\"tickfont\":{\"color\":\"#4D5663\"},\"title\":{\"font\":{\"color\":\"#4D5663\"},\"text\":\"\"},\"zerolinecolor\":\"#E1E5ED\"},\"yaxis\":{\"domain\":[0.3,1],\"gridcolor\":\"#E1E5ED\",\"showgrid\":true,\"tickfont\":{\"color\":\"#4D5663\"},\"title\":{\"font\":{\"color\":\"#4D5663\"},\"text\":\"\"},\"zerolinecolor\":\"#E1E5ED\"},\"yaxis2\":{\"domain\":[0,0.25],\"gridcolor\":\"#E1E5ED\",\"showgrid\":true,\"tickfont\":{\"color\":\"#4D5663\"},\"title\":{\"font\":{\"color\":\"#4D5663\"},\"text\":\"Spread\"},\"zerolinecolor\":\"#E1E5ED\"},\"xaxis2\":{\"anchor\":\"y2\",\"gridcolor\":\"#E1E5ED\",\"showgrid\":true,\"showticklabels\":false,\"tickfont\":{\"color\":\"#4D5663\"},\"title\":{\"font\":{\"color\":\"#4D5663\"},\"text\":\"\"},\"zerolinecolor\":\"#E1E5ED\"}},                        {\"showLink\": true, \"linkText\": \"Export to plot.ly\", \"plotlyServerURL\": \"https://plot.ly\", \"responsive\": true}                    ).then(function(){\n",
       "                            \n",
       "var gd = document.getElementById('dfd52f72-7f10-4e24-b764-63cd23642cd3');\n",
       "var x = new MutationObserver(function (mutations, observer) {{\n",
       "        var display = window.getComputedStyle(gd).display;\n",
       "        if (!display || display === 'none') {{\n",
       "            console.log([gd, 'removed!']);\n",
       "            Plotly.purge(gd);\n",
       "            observer.disconnect();\n",
       "        }}\n",
       "}});\n",
       "\n",
       "// Listen for the removal of the full notebook cells\n",
       "var notebookContainer = gd.closest('#notebook-container');\n",
       "if (notebookContainer) {{\n",
       "    x.observe(notebookContainer, {childList: true});\n",
       "}}\n",
       "\n",
       "// Listen for the clearing of the current output cell\n",
       "var outputEl = gd.closest('.output');\n",
       "if (outputEl) {{\n",
       "    x.observe(outputEl, {childList: true});\n",
       "}}\n",
       "\n",
       "                        })                };                });            </script>        </div>"
      ]
     },
     "metadata": {},
     "output_type": "display_data"
    }
   ],
   "source": [
    "df[['A','B']].iplot(kind='spread')"
   ]
  },
  {
   "cell_type": "markdown",
   "metadata": {},
   "source": [
    "## histogram"
   ]
  },
  {
   "cell_type": "code",
   "execution_count": 20,
   "metadata": {},
   "outputs": [
    {
     "data": {
      "application/vnd.plotly.v1+json": {
       "config": {
        "linkText": "Export to plot.ly",
        "plotlyServerURL": "https://plot.ly",
        "showLink": true
       },
       "data": [
        {
         "histfunc": "count",
         "histnorm": "",
         "marker": {
          "color": "rgba(255, 153, 51, 1.0)",
          "line": {
           "color": "#4D5663",
           "width": 1.3
          }
         },
         "name": "A",
         "nbinsx": 25,
         "opacity": 0.8,
         "orientation": "v",
         "type": "histogram",
         "x": [
          -0.5656412823360386,
          1.0360792852296468,
          -0.03441248758142155,
          0.23182280061860472,
          1.0088992008914284,
          -0.026715148537010024,
          -0.20315796235413472,
          0.5245229236865366,
          -3.2191295497186694,
          0.17164228604067813,
          0.582247745637063,
          0.9289059114631611,
          -0.7591861803041988,
          -0.24277993570070505,
          -0.1323275276500544,
          -0.5466769746668216,
          0.7177731503109126,
          -0.8191814660705794,
          -1.4310336841345486,
          0.2573153328506282,
          1.3408244257300779,
          0.486032440581521,
          -1.2308345803153686,
          -1.4608107584460366,
          0.8732239163610039,
          0.4567394249492647,
          -1.899861957922655,
          0.28173525063683097,
          -0.21805371925692918,
          1.2626935583320715,
          0.49886751555253367,
          1.4174111664802422,
          0.22660528690867696,
          -0.6502747916185775,
          0.16897409062805457,
          1.21279856642119,
          1.1143424086245766,
          -0.3483420722554928,
          -0.6696543666981883,
          -1.0632252096403403,
          -0.15225141923354557,
          1.316625588404699,
          1.1720151527353133,
          -0.027287875274585364,
          -1.0293154035381185,
          -0.37492772031126287,
          -0.04096023078323834,
          1.182570779299944,
          -1.376390923724631,
          -0.799936281543547,
          -0.707307351593801,
          0.02001897453784066,
          -0.978294769085192,
          0.8508279002602976,
          -0.5342831423012391,
          -0.36185037495602906,
          -0.8056130603514121,
          0.4111895792611264,
          0.004379479525213149,
          0.21780913118781245,
          0.6211677456201348,
          -0.7793003130748717,
          1.103489152734224,
          -1.7904817940423041,
          1.0010689343246126,
          1.8918588281108983,
          1.2977984640817777,
          0.3259841032981575,
          2.0815712057108744,
          0.8383496802803703,
          1.7472868342739443,
          -0.07719520587663783,
          0.9413390291554022,
          1.3834950208674481,
          -0.5569585432839406,
          -1.819230204577346,
          0.12169655584130164,
          1.5616824263876785,
          -0.45356471914135854,
          0.19676060898221412,
          0.009000319539798945,
          -0.2249124640829556,
          -0.2188737751900468,
          0.10764137132759453,
          0.11196929653740105,
          1.1665818342784908,
          -2.020826309495809,
          2.793163479046665,
          0.30526228066973804,
          -0.565887028976998,
          -0.2001466520368511,
          -0.5436753674793958,
          -1.343875859753172,
          0.6112457603338765,
          -0.7813886684840383,
          -1.22303424769474,
          0.4600825033400545,
          0.1383873846734834,
          -0.08138809268576497,
          0.8471112760129539
         ]
        }
       ],
       "layout": {
        "barmode": "overlay",
        "legend": {
         "bgcolor": "#F5F6F9",
         "font": {
          "color": "#4D5663"
         }
        },
        "paper_bgcolor": "#F5F6F9",
        "plot_bgcolor": "#F5F6F9",
        "template": {
         "data": {
          "bar": [
           {
            "error_x": {
             "color": "#2a3f5f"
            },
            "error_y": {
             "color": "#2a3f5f"
            },
            "marker": {
             "line": {
              "color": "#E5ECF6",
              "width": 0.5
             },
             "pattern": {
              "fillmode": "overlay",
              "size": 10,
              "solidity": 0.2
             }
            },
            "type": "bar"
           }
          ],
          "barpolar": [
           {
            "marker": {
             "line": {
              "color": "#E5ECF6",
              "width": 0.5
             },
             "pattern": {
              "fillmode": "overlay",
              "size": 10,
              "solidity": 0.2
             }
            },
            "type": "barpolar"
           }
          ],
          "carpet": [
           {
            "aaxis": {
             "endlinecolor": "#2a3f5f",
             "gridcolor": "white",
             "linecolor": "white",
             "minorgridcolor": "white",
             "startlinecolor": "#2a3f5f"
            },
            "baxis": {
             "endlinecolor": "#2a3f5f",
             "gridcolor": "white",
             "linecolor": "white",
             "minorgridcolor": "white",
             "startlinecolor": "#2a3f5f"
            },
            "type": "carpet"
           }
          ],
          "choropleth": [
           {
            "colorbar": {
             "outlinewidth": 0,
             "ticks": ""
            },
            "type": "choropleth"
           }
          ],
          "contour": [
           {
            "colorbar": {
             "outlinewidth": 0,
             "ticks": ""
            },
            "colorscale": [
             [
              0,
              "#0d0887"
             ],
             [
              0.1111111111111111,
              "#46039f"
             ],
             [
              0.2222222222222222,
              "#7201a8"
             ],
             [
              0.3333333333333333,
              "#9c179e"
             ],
             [
              0.4444444444444444,
              "#bd3786"
             ],
             [
              0.5555555555555556,
              "#d8576b"
             ],
             [
              0.6666666666666666,
              "#ed7953"
             ],
             [
              0.7777777777777778,
              "#fb9f3a"
             ],
             [
              0.8888888888888888,
              "#fdca26"
             ],
             [
              1,
              "#f0f921"
             ]
            ],
            "type": "contour"
           }
          ],
          "contourcarpet": [
           {
            "colorbar": {
             "outlinewidth": 0,
             "ticks": ""
            },
            "type": "contourcarpet"
           }
          ],
          "heatmap": [
           {
            "colorbar": {
             "outlinewidth": 0,
             "ticks": ""
            },
            "colorscale": [
             [
              0,
              "#0d0887"
             ],
             [
              0.1111111111111111,
              "#46039f"
             ],
             [
              0.2222222222222222,
              "#7201a8"
             ],
             [
              0.3333333333333333,
              "#9c179e"
             ],
             [
              0.4444444444444444,
              "#bd3786"
             ],
             [
              0.5555555555555556,
              "#d8576b"
             ],
             [
              0.6666666666666666,
              "#ed7953"
             ],
             [
              0.7777777777777778,
              "#fb9f3a"
             ],
             [
              0.8888888888888888,
              "#fdca26"
             ],
             [
              1,
              "#f0f921"
             ]
            ],
            "type": "heatmap"
           }
          ],
          "heatmapgl": [
           {
            "colorbar": {
             "outlinewidth": 0,
             "ticks": ""
            },
            "colorscale": [
             [
              0,
              "#0d0887"
             ],
             [
              0.1111111111111111,
              "#46039f"
             ],
             [
              0.2222222222222222,
              "#7201a8"
             ],
             [
              0.3333333333333333,
              "#9c179e"
             ],
             [
              0.4444444444444444,
              "#bd3786"
             ],
             [
              0.5555555555555556,
              "#d8576b"
             ],
             [
              0.6666666666666666,
              "#ed7953"
             ],
             [
              0.7777777777777778,
              "#fb9f3a"
             ],
             [
              0.8888888888888888,
              "#fdca26"
             ],
             [
              1,
              "#f0f921"
             ]
            ],
            "type": "heatmapgl"
           }
          ],
          "histogram": [
           {
            "marker": {
             "pattern": {
              "fillmode": "overlay",
              "size": 10,
              "solidity": 0.2
             }
            },
            "type": "histogram"
           }
          ],
          "histogram2d": [
           {
            "colorbar": {
             "outlinewidth": 0,
             "ticks": ""
            },
            "colorscale": [
             [
              0,
              "#0d0887"
             ],
             [
              0.1111111111111111,
              "#46039f"
             ],
             [
              0.2222222222222222,
              "#7201a8"
             ],
             [
              0.3333333333333333,
              "#9c179e"
             ],
             [
              0.4444444444444444,
              "#bd3786"
             ],
             [
              0.5555555555555556,
              "#d8576b"
             ],
             [
              0.6666666666666666,
              "#ed7953"
             ],
             [
              0.7777777777777778,
              "#fb9f3a"
             ],
             [
              0.8888888888888888,
              "#fdca26"
             ],
             [
              1,
              "#f0f921"
             ]
            ],
            "type": "histogram2d"
           }
          ],
          "histogram2dcontour": [
           {
            "colorbar": {
             "outlinewidth": 0,
             "ticks": ""
            },
            "colorscale": [
             [
              0,
              "#0d0887"
             ],
             [
              0.1111111111111111,
              "#46039f"
             ],
             [
              0.2222222222222222,
              "#7201a8"
             ],
             [
              0.3333333333333333,
              "#9c179e"
             ],
             [
              0.4444444444444444,
              "#bd3786"
             ],
             [
              0.5555555555555556,
              "#d8576b"
             ],
             [
              0.6666666666666666,
              "#ed7953"
             ],
             [
              0.7777777777777778,
              "#fb9f3a"
             ],
             [
              0.8888888888888888,
              "#fdca26"
             ],
             [
              1,
              "#f0f921"
             ]
            ],
            "type": "histogram2dcontour"
           }
          ],
          "mesh3d": [
           {
            "colorbar": {
             "outlinewidth": 0,
             "ticks": ""
            },
            "type": "mesh3d"
           }
          ],
          "parcoords": [
           {
            "line": {
             "colorbar": {
              "outlinewidth": 0,
              "ticks": ""
             }
            },
            "type": "parcoords"
           }
          ],
          "pie": [
           {
            "automargin": true,
            "type": "pie"
           }
          ],
          "scatter": [
           {
            "fillpattern": {
             "fillmode": "overlay",
             "size": 10,
             "solidity": 0.2
            },
            "type": "scatter"
           }
          ],
          "scatter3d": [
           {
            "line": {
             "colorbar": {
              "outlinewidth": 0,
              "ticks": ""
             }
            },
            "marker": {
             "colorbar": {
              "outlinewidth": 0,
              "ticks": ""
             }
            },
            "type": "scatter3d"
           }
          ],
          "scattercarpet": [
           {
            "marker": {
             "colorbar": {
              "outlinewidth": 0,
              "ticks": ""
             }
            },
            "type": "scattercarpet"
           }
          ],
          "scattergeo": [
           {
            "marker": {
             "colorbar": {
              "outlinewidth": 0,
              "ticks": ""
             }
            },
            "type": "scattergeo"
           }
          ],
          "scattergl": [
           {
            "marker": {
             "colorbar": {
              "outlinewidth": 0,
              "ticks": ""
             }
            },
            "type": "scattergl"
           }
          ],
          "scattermapbox": [
           {
            "marker": {
             "colorbar": {
              "outlinewidth": 0,
              "ticks": ""
             }
            },
            "type": "scattermapbox"
           }
          ],
          "scatterpolar": [
           {
            "marker": {
             "colorbar": {
              "outlinewidth": 0,
              "ticks": ""
             }
            },
            "type": "scatterpolar"
           }
          ],
          "scatterpolargl": [
           {
            "marker": {
             "colorbar": {
              "outlinewidth": 0,
              "ticks": ""
             }
            },
            "type": "scatterpolargl"
           }
          ],
          "scatterternary": [
           {
            "marker": {
             "colorbar": {
              "outlinewidth": 0,
              "ticks": ""
             }
            },
            "type": "scatterternary"
           }
          ],
          "surface": [
           {
            "colorbar": {
             "outlinewidth": 0,
             "ticks": ""
            },
            "colorscale": [
             [
              0,
              "#0d0887"
             ],
             [
              0.1111111111111111,
              "#46039f"
             ],
             [
              0.2222222222222222,
              "#7201a8"
             ],
             [
              0.3333333333333333,
              "#9c179e"
             ],
             [
              0.4444444444444444,
              "#bd3786"
             ],
             [
              0.5555555555555556,
              "#d8576b"
             ],
             [
              0.6666666666666666,
              "#ed7953"
             ],
             [
              0.7777777777777778,
              "#fb9f3a"
             ],
             [
              0.8888888888888888,
              "#fdca26"
             ],
             [
              1,
              "#f0f921"
             ]
            ],
            "type": "surface"
           }
          ],
          "table": [
           {
            "cells": {
             "fill": {
              "color": "#EBF0F8"
             },
             "line": {
              "color": "white"
             }
            },
            "header": {
             "fill": {
              "color": "#C8D4E3"
             },
             "line": {
              "color": "white"
             }
            },
            "type": "table"
           }
          ]
         },
         "layout": {
          "annotationdefaults": {
           "arrowcolor": "#2a3f5f",
           "arrowhead": 0,
           "arrowwidth": 1
          },
          "autotypenumbers": "strict",
          "coloraxis": {
           "colorbar": {
            "outlinewidth": 0,
            "ticks": ""
           }
          },
          "colorscale": {
           "diverging": [
            [
             0,
             "#8e0152"
            ],
            [
             0.1,
             "#c51b7d"
            ],
            [
             0.2,
             "#de77ae"
            ],
            [
             0.3,
             "#f1b6da"
            ],
            [
             0.4,
             "#fde0ef"
            ],
            [
             0.5,
             "#f7f7f7"
            ],
            [
             0.6,
             "#e6f5d0"
            ],
            [
             0.7,
             "#b8e186"
            ],
            [
             0.8,
             "#7fbc41"
            ],
            [
             0.9,
             "#4d9221"
            ],
            [
             1,
             "#276419"
            ]
           ],
           "sequential": [
            [
             0,
             "#0d0887"
            ],
            [
             0.1111111111111111,
             "#46039f"
            ],
            [
             0.2222222222222222,
             "#7201a8"
            ],
            [
             0.3333333333333333,
             "#9c179e"
            ],
            [
             0.4444444444444444,
             "#bd3786"
            ],
            [
             0.5555555555555556,
             "#d8576b"
            ],
            [
             0.6666666666666666,
             "#ed7953"
            ],
            [
             0.7777777777777778,
             "#fb9f3a"
            ],
            [
             0.8888888888888888,
             "#fdca26"
            ],
            [
             1,
             "#f0f921"
            ]
           ],
           "sequentialminus": [
            [
             0,
             "#0d0887"
            ],
            [
             0.1111111111111111,
             "#46039f"
            ],
            [
             0.2222222222222222,
             "#7201a8"
            ],
            [
             0.3333333333333333,
             "#9c179e"
            ],
            [
             0.4444444444444444,
             "#bd3786"
            ],
            [
             0.5555555555555556,
             "#d8576b"
            ],
            [
             0.6666666666666666,
             "#ed7953"
            ],
            [
             0.7777777777777778,
             "#fb9f3a"
            ],
            [
             0.8888888888888888,
             "#fdca26"
            ],
            [
             1,
             "#f0f921"
            ]
           ]
          },
          "colorway": [
           "#636efa",
           "#EF553B",
           "#00cc96",
           "#ab63fa",
           "#FFA15A",
           "#19d3f3",
           "#FF6692",
           "#B6E880",
           "#FF97FF",
           "#FECB52"
          ],
          "font": {
           "color": "#2a3f5f"
          },
          "geo": {
           "bgcolor": "white",
           "lakecolor": "white",
           "landcolor": "#E5ECF6",
           "showlakes": true,
           "showland": true,
           "subunitcolor": "white"
          },
          "hoverlabel": {
           "align": "left"
          },
          "hovermode": "closest",
          "mapbox": {
           "style": "light"
          },
          "paper_bgcolor": "white",
          "plot_bgcolor": "#E5ECF6",
          "polar": {
           "angularaxis": {
            "gridcolor": "white",
            "linecolor": "white",
            "ticks": ""
           },
           "bgcolor": "#E5ECF6",
           "radialaxis": {
            "gridcolor": "white",
            "linecolor": "white",
            "ticks": ""
           }
          },
          "scene": {
           "xaxis": {
            "backgroundcolor": "#E5ECF6",
            "gridcolor": "white",
            "gridwidth": 2,
            "linecolor": "white",
            "showbackground": true,
            "ticks": "",
            "zerolinecolor": "white"
           },
           "yaxis": {
            "backgroundcolor": "#E5ECF6",
            "gridcolor": "white",
            "gridwidth": 2,
            "linecolor": "white",
            "showbackground": true,
            "ticks": "",
            "zerolinecolor": "white"
           },
           "zaxis": {
            "backgroundcolor": "#E5ECF6",
            "gridcolor": "white",
            "gridwidth": 2,
            "linecolor": "white",
            "showbackground": true,
            "ticks": "",
            "zerolinecolor": "white"
           }
          },
          "shapedefaults": {
           "line": {
            "color": "#2a3f5f"
           }
          },
          "ternary": {
           "aaxis": {
            "gridcolor": "white",
            "linecolor": "white",
            "ticks": ""
           },
           "baxis": {
            "gridcolor": "white",
            "linecolor": "white",
            "ticks": ""
           },
           "bgcolor": "#E5ECF6",
           "caxis": {
            "gridcolor": "white",
            "linecolor": "white",
            "ticks": ""
           }
          },
          "title": {
           "x": 0.05
          },
          "xaxis": {
           "automargin": true,
           "gridcolor": "white",
           "linecolor": "white",
           "ticks": "",
           "title": {
            "standoff": 15
           },
           "zerolinecolor": "white",
           "zerolinewidth": 2
          },
          "yaxis": {
           "automargin": true,
           "gridcolor": "white",
           "linecolor": "white",
           "ticks": "",
           "title": {
            "standoff": 15
           },
           "zerolinecolor": "white",
           "zerolinewidth": 2
          }
         }
        },
        "title": {
         "font": {
          "color": "#4D5663"
         }
        },
        "xaxis": {
         "gridcolor": "#E1E5ED",
         "showgrid": true,
         "tickfont": {
          "color": "#4D5663"
         },
         "title": {
          "font": {
           "color": "#4D5663"
          },
          "text": ""
         },
         "zerolinecolor": "#E1E5ED"
        },
        "yaxis": {
         "gridcolor": "#E1E5ED",
         "showgrid": true,
         "tickfont": {
          "color": "#4D5663"
         },
         "title": {
          "font": {
           "color": "#4D5663"
          },
          "text": ""
         },
         "zerolinecolor": "#E1E5ED"
        }
       }
      },
      "text/html": [
       "<div>                            <div id=\"664dd03f-ac18-4e7a-8e67-c0e0ebc74c5b\" class=\"plotly-graph-div\" style=\"height:525px; width:100%;\"></div>            <script type=\"text/javascript\">                require([\"plotly\"], function(Plotly) {                    window.PLOTLYENV=window.PLOTLYENV || {};\n",
       "                    window.PLOTLYENV.BASE_URL='https://plot.ly';                                    if (document.getElementById(\"664dd03f-ac18-4e7a-8e67-c0e0ebc74c5b\")) {                    Plotly.newPlot(                        \"664dd03f-ac18-4e7a-8e67-c0e0ebc74c5b\",                        [{\"histfunc\":\"count\",\"histnorm\":\"\",\"marker\":{\"color\":\"rgba(255, 153, 51, 1.0)\",\"line\":{\"color\":\"#4D5663\",\"width\":1.3}},\"name\":\"A\",\"nbinsx\":25,\"opacity\":0.8,\"orientation\":\"v\",\"x\":[-0.5656412823360386,1.0360792852296468,-0.03441248758142155,0.23182280061860472,1.0088992008914284,-0.026715148537010024,-0.20315796235413472,0.5245229236865366,-3.2191295497186694,0.17164228604067813,0.582247745637063,0.9289059114631611,-0.7591861803041988,-0.24277993570070505,-0.1323275276500544,-0.5466769746668216,0.7177731503109126,-0.8191814660705794,-1.4310336841345486,0.2573153328506282,1.3408244257300779,0.486032440581521,-1.2308345803153686,-1.4608107584460366,0.8732239163610039,0.4567394249492647,-1.899861957922655,0.28173525063683097,-0.21805371925692918,1.2626935583320715,0.49886751555253367,1.4174111664802422,0.22660528690867696,-0.6502747916185775,0.16897409062805457,1.21279856642119,1.1143424086245766,-0.3483420722554928,-0.6696543666981883,-1.0632252096403403,-0.15225141923354557,1.316625588404699,1.1720151527353133,-0.027287875274585364,-1.0293154035381185,-0.37492772031126287,-0.04096023078323834,1.182570779299944,-1.376390923724631,-0.799936281543547,-0.707307351593801,0.02001897453784066,-0.978294769085192,0.8508279002602976,-0.5342831423012391,-0.36185037495602906,-0.8056130603514121,0.4111895792611264,0.004379479525213149,0.21780913118781245,0.6211677456201348,-0.7793003130748717,1.103489152734224,-1.7904817940423041,1.0010689343246126,1.8918588281108983,1.2977984640817777,0.3259841032981575,2.0815712057108744,0.8383496802803703,1.7472868342739443,-0.07719520587663783,0.9413390291554022,1.3834950208674481,-0.5569585432839406,-1.819230204577346,0.12169655584130164,1.5616824263876785,-0.45356471914135854,0.19676060898221412,0.009000319539798945,-0.2249124640829556,-0.2188737751900468,0.10764137132759453,0.11196929653740105,1.1665818342784908,-2.020826309495809,2.793163479046665,0.30526228066973804,-0.565887028976998,-0.2001466520368511,-0.5436753674793958,-1.343875859753172,0.6112457603338765,-0.7813886684840383,-1.22303424769474,0.4600825033400545,0.1383873846734834,-0.08138809268576497,0.8471112760129539],\"type\":\"histogram\"}],                        {\"barmode\":\"overlay\",\"legend\":{\"bgcolor\":\"#F5F6F9\",\"font\":{\"color\":\"#4D5663\"}},\"paper_bgcolor\":\"#F5F6F9\",\"plot_bgcolor\":\"#F5F6F9\",\"template\":{\"data\":{\"barpolar\":[{\"marker\":{\"line\":{\"color\":\"#E5ECF6\",\"width\":0.5},\"pattern\":{\"fillmode\":\"overlay\",\"size\":10,\"solidity\":0.2}},\"type\":\"barpolar\"}],\"bar\":[{\"error_x\":{\"color\":\"#2a3f5f\"},\"error_y\":{\"color\":\"#2a3f5f\"},\"marker\":{\"line\":{\"color\":\"#E5ECF6\",\"width\":0.5},\"pattern\":{\"fillmode\":\"overlay\",\"size\":10,\"solidity\":0.2}},\"type\":\"bar\"}],\"carpet\":[{\"aaxis\":{\"endlinecolor\":\"#2a3f5f\",\"gridcolor\":\"white\",\"linecolor\":\"white\",\"minorgridcolor\":\"white\",\"startlinecolor\":\"#2a3f5f\"},\"baxis\":{\"endlinecolor\":\"#2a3f5f\",\"gridcolor\":\"white\",\"linecolor\":\"white\",\"minorgridcolor\":\"white\",\"startlinecolor\":\"#2a3f5f\"},\"type\":\"carpet\"}],\"choropleth\":[{\"colorbar\":{\"outlinewidth\":0,\"ticks\":\"\"},\"type\":\"choropleth\"}],\"contourcarpet\":[{\"colorbar\":{\"outlinewidth\":0,\"ticks\":\"\"},\"type\":\"contourcarpet\"}],\"contour\":[{\"colorbar\":{\"outlinewidth\":0,\"ticks\":\"\"},\"colorscale\":[[0.0,\"#0d0887\"],[0.1111111111111111,\"#46039f\"],[0.2222222222222222,\"#7201a8\"],[0.3333333333333333,\"#9c179e\"],[0.4444444444444444,\"#bd3786\"],[0.5555555555555556,\"#d8576b\"],[0.6666666666666666,\"#ed7953\"],[0.7777777777777778,\"#fb9f3a\"],[0.8888888888888888,\"#fdca26\"],[1.0,\"#f0f921\"]],\"type\":\"contour\"}],\"heatmapgl\":[{\"colorbar\":{\"outlinewidth\":0,\"ticks\":\"\"},\"colorscale\":[[0.0,\"#0d0887\"],[0.1111111111111111,\"#46039f\"],[0.2222222222222222,\"#7201a8\"],[0.3333333333333333,\"#9c179e\"],[0.4444444444444444,\"#bd3786\"],[0.5555555555555556,\"#d8576b\"],[0.6666666666666666,\"#ed7953\"],[0.7777777777777778,\"#fb9f3a\"],[0.8888888888888888,\"#fdca26\"],[1.0,\"#f0f921\"]],\"type\":\"heatmapgl\"}],\"heatmap\":[{\"colorbar\":{\"outlinewidth\":0,\"ticks\":\"\"},\"colorscale\":[[0.0,\"#0d0887\"],[0.1111111111111111,\"#46039f\"],[0.2222222222222222,\"#7201a8\"],[0.3333333333333333,\"#9c179e\"],[0.4444444444444444,\"#bd3786\"],[0.5555555555555556,\"#d8576b\"],[0.6666666666666666,\"#ed7953\"],[0.7777777777777778,\"#fb9f3a\"],[0.8888888888888888,\"#fdca26\"],[1.0,\"#f0f921\"]],\"type\":\"heatmap\"}],\"histogram2dcontour\":[{\"colorbar\":{\"outlinewidth\":0,\"ticks\":\"\"},\"colorscale\":[[0.0,\"#0d0887\"],[0.1111111111111111,\"#46039f\"],[0.2222222222222222,\"#7201a8\"],[0.3333333333333333,\"#9c179e\"],[0.4444444444444444,\"#bd3786\"],[0.5555555555555556,\"#d8576b\"],[0.6666666666666666,\"#ed7953\"],[0.7777777777777778,\"#fb9f3a\"],[0.8888888888888888,\"#fdca26\"],[1.0,\"#f0f921\"]],\"type\":\"histogram2dcontour\"}],\"histogram2d\":[{\"colorbar\":{\"outlinewidth\":0,\"ticks\":\"\"},\"colorscale\":[[0.0,\"#0d0887\"],[0.1111111111111111,\"#46039f\"],[0.2222222222222222,\"#7201a8\"],[0.3333333333333333,\"#9c179e\"],[0.4444444444444444,\"#bd3786\"],[0.5555555555555556,\"#d8576b\"],[0.6666666666666666,\"#ed7953\"],[0.7777777777777778,\"#fb9f3a\"],[0.8888888888888888,\"#fdca26\"],[1.0,\"#f0f921\"]],\"type\":\"histogram2d\"}],\"histogram\":[{\"marker\":{\"pattern\":{\"fillmode\":\"overlay\",\"size\":10,\"solidity\":0.2}},\"type\":\"histogram\"}],\"mesh3d\":[{\"colorbar\":{\"outlinewidth\":0,\"ticks\":\"\"},\"type\":\"mesh3d\"}],\"parcoords\":[{\"line\":{\"colorbar\":{\"outlinewidth\":0,\"ticks\":\"\"}},\"type\":\"parcoords\"}],\"pie\":[{\"automargin\":true,\"type\":\"pie\"}],\"scatter3d\":[{\"line\":{\"colorbar\":{\"outlinewidth\":0,\"ticks\":\"\"}},\"marker\":{\"colorbar\":{\"outlinewidth\":0,\"ticks\":\"\"}},\"type\":\"scatter3d\"}],\"scattercarpet\":[{\"marker\":{\"colorbar\":{\"outlinewidth\":0,\"ticks\":\"\"}},\"type\":\"scattercarpet\"}],\"scattergeo\":[{\"marker\":{\"colorbar\":{\"outlinewidth\":0,\"ticks\":\"\"}},\"type\":\"scattergeo\"}],\"scattergl\":[{\"marker\":{\"colorbar\":{\"outlinewidth\":0,\"ticks\":\"\"}},\"type\":\"scattergl\"}],\"scattermapbox\":[{\"marker\":{\"colorbar\":{\"outlinewidth\":0,\"ticks\":\"\"}},\"type\":\"scattermapbox\"}],\"scatterpolargl\":[{\"marker\":{\"colorbar\":{\"outlinewidth\":0,\"ticks\":\"\"}},\"type\":\"scatterpolargl\"}],\"scatterpolar\":[{\"marker\":{\"colorbar\":{\"outlinewidth\":0,\"ticks\":\"\"}},\"type\":\"scatterpolar\"}],\"scatter\":[{\"fillpattern\":{\"fillmode\":\"overlay\",\"size\":10,\"solidity\":0.2},\"type\":\"scatter\"}],\"scatterternary\":[{\"marker\":{\"colorbar\":{\"outlinewidth\":0,\"ticks\":\"\"}},\"type\":\"scatterternary\"}],\"surface\":[{\"colorbar\":{\"outlinewidth\":0,\"ticks\":\"\"},\"colorscale\":[[0.0,\"#0d0887\"],[0.1111111111111111,\"#46039f\"],[0.2222222222222222,\"#7201a8\"],[0.3333333333333333,\"#9c179e\"],[0.4444444444444444,\"#bd3786\"],[0.5555555555555556,\"#d8576b\"],[0.6666666666666666,\"#ed7953\"],[0.7777777777777778,\"#fb9f3a\"],[0.8888888888888888,\"#fdca26\"],[1.0,\"#f0f921\"]],\"type\":\"surface\"}],\"table\":[{\"cells\":{\"fill\":{\"color\":\"#EBF0F8\"},\"line\":{\"color\":\"white\"}},\"header\":{\"fill\":{\"color\":\"#C8D4E3\"},\"line\":{\"color\":\"white\"}},\"type\":\"table\"}]},\"layout\":{\"annotationdefaults\":{\"arrowcolor\":\"#2a3f5f\",\"arrowhead\":0,\"arrowwidth\":1},\"autotypenumbers\":\"strict\",\"coloraxis\":{\"colorbar\":{\"outlinewidth\":0,\"ticks\":\"\"}},\"colorscale\":{\"diverging\":[[0,\"#8e0152\"],[0.1,\"#c51b7d\"],[0.2,\"#de77ae\"],[0.3,\"#f1b6da\"],[0.4,\"#fde0ef\"],[0.5,\"#f7f7f7\"],[0.6,\"#e6f5d0\"],[0.7,\"#b8e186\"],[0.8,\"#7fbc41\"],[0.9,\"#4d9221\"],[1,\"#276419\"]],\"sequential\":[[0.0,\"#0d0887\"],[0.1111111111111111,\"#46039f\"],[0.2222222222222222,\"#7201a8\"],[0.3333333333333333,\"#9c179e\"],[0.4444444444444444,\"#bd3786\"],[0.5555555555555556,\"#d8576b\"],[0.6666666666666666,\"#ed7953\"],[0.7777777777777778,\"#fb9f3a\"],[0.8888888888888888,\"#fdca26\"],[1.0,\"#f0f921\"]],\"sequentialminus\":[[0.0,\"#0d0887\"],[0.1111111111111111,\"#46039f\"],[0.2222222222222222,\"#7201a8\"],[0.3333333333333333,\"#9c179e\"],[0.4444444444444444,\"#bd3786\"],[0.5555555555555556,\"#d8576b\"],[0.6666666666666666,\"#ed7953\"],[0.7777777777777778,\"#fb9f3a\"],[0.8888888888888888,\"#fdca26\"],[1.0,\"#f0f921\"]]},\"colorway\":[\"#636efa\",\"#EF553B\",\"#00cc96\",\"#ab63fa\",\"#FFA15A\",\"#19d3f3\",\"#FF6692\",\"#B6E880\",\"#FF97FF\",\"#FECB52\"],\"font\":{\"color\":\"#2a3f5f\"},\"geo\":{\"bgcolor\":\"white\",\"lakecolor\":\"white\",\"landcolor\":\"#E5ECF6\",\"showlakes\":true,\"showland\":true,\"subunitcolor\":\"white\"},\"hoverlabel\":{\"align\":\"left\"},\"hovermode\":\"closest\",\"mapbox\":{\"style\":\"light\"},\"paper_bgcolor\":\"white\",\"plot_bgcolor\":\"#E5ECF6\",\"polar\":{\"angularaxis\":{\"gridcolor\":\"white\",\"linecolor\":\"white\",\"ticks\":\"\"},\"bgcolor\":\"#E5ECF6\",\"radialaxis\":{\"gridcolor\":\"white\",\"linecolor\":\"white\",\"ticks\":\"\"}},\"scene\":{\"xaxis\":{\"backgroundcolor\":\"#E5ECF6\",\"gridcolor\":\"white\",\"gridwidth\":2,\"linecolor\":\"white\",\"showbackground\":true,\"ticks\":\"\",\"zerolinecolor\":\"white\"},\"yaxis\":{\"backgroundcolor\":\"#E5ECF6\",\"gridcolor\":\"white\",\"gridwidth\":2,\"linecolor\":\"white\",\"showbackground\":true,\"ticks\":\"\",\"zerolinecolor\":\"white\"},\"zaxis\":{\"backgroundcolor\":\"#E5ECF6\",\"gridcolor\":\"white\",\"gridwidth\":2,\"linecolor\":\"white\",\"showbackground\":true,\"ticks\":\"\",\"zerolinecolor\":\"white\"}},\"shapedefaults\":{\"line\":{\"color\":\"#2a3f5f\"}},\"ternary\":{\"aaxis\":{\"gridcolor\":\"white\",\"linecolor\":\"white\",\"ticks\":\"\"},\"baxis\":{\"gridcolor\":\"white\",\"linecolor\":\"white\",\"ticks\":\"\"},\"bgcolor\":\"#E5ECF6\",\"caxis\":{\"gridcolor\":\"white\",\"linecolor\":\"white\",\"ticks\":\"\"}},\"title\":{\"x\":0.05},\"xaxis\":{\"automargin\":true,\"gridcolor\":\"white\",\"linecolor\":\"white\",\"ticks\":\"\",\"title\":{\"standoff\":15},\"zerolinecolor\":\"white\",\"zerolinewidth\":2},\"yaxis\":{\"automargin\":true,\"gridcolor\":\"white\",\"linecolor\":\"white\",\"ticks\":\"\",\"title\":{\"standoff\":15},\"zerolinecolor\":\"white\",\"zerolinewidth\":2}}},\"title\":{\"font\":{\"color\":\"#4D5663\"}},\"xaxis\":{\"gridcolor\":\"#E1E5ED\",\"showgrid\":true,\"tickfont\":{\"color\":\"#4D5663\"},\"title\":{\"font\":{\"color\":\"#4D5663\"},\"text\":\"\"},\"zerolinecolor\":\"#E1E5ED\"},\"yaxis\":{\"gridcolor\":\"#E1E5ED\",\"showgrid\":true,\"tickfont\":{\"color\":\"#4D5663\"},\"title\":{\"font\":{\"color\":\"#4D5663\"},\"text\":\"\"},\"zerolinecolor\":\"#E1E5ED\"}},                        {\"showLink\": true, \"linkText\": \"Export to plot.ly\", \"plotlyServerURL\": \"https://plot.ly\", \"responsive\": true}                    ).then(function(){\n",
       "                            \n",
       "var gd = document.getElementById('664dd03f-ac18-4e7a-8e67-c0e0ebc74c5b');\n",
       "var x = new MutationObserver(function (mutations, observer) {{\n",
       "        var display = window.getComputedStyle(gd).display;\n",
       "        if (!display || display === 'none') {{\n",
       "            console.log([gd, 'removed!']);\n",
       "            Plotly.purge(gd);\n",
       "            observer.disconnect();\n",
       "        }}\n",
       "}});\n",
       "\n",
       "// Listen for the removal of the full notebook cells\n",
       "var notebookContainer = gd.closest('#notebook-container');\n",
       "if (notebookContainer) {{\n",
       "    x.observe(notebookContainer, {childList: true});\n",
       "}}\n",
       "\n",
       "// Listen for the clearing of the current output cell\n",
       "var outputEl = gd.closest('.output');\n",
       "if (outputEl) {{\n",
       "    x.observe(outputEl, {childList: true});\n",
       "}}\n",
       "\n",
       "                        })                };                });            </script>        </div>"
      ]
     },
     "metadata": {},
     "output_type": "display_data"
    }
   ],
   "source": [
    "df['A'].iplot(kind='hist',bins=25)"
   ]
  },
  {
   "cell_type": "code",
   "execution_count": 21,
   "metadata": {},
   "outputs": [
    {
     "data": {
      "application/vnd.plotly.v1+json": {
       "config": {
        "linkText": "Export to plot.ly",
        "plotlyServerURL": "https://plot.ly",
        "showLink": true
       },
       "data": [
        {
         "marker": {
          "color": [
           "rgb(255, 153, 51)",
           "rgb(55, 128, 191)",
           "rgb(50, 171, 96)",
           "rgb(128, 0, 128)",
           "rgb(219, 64, 82)",
           "rgb(0, 128, 128)",
           "rgb(255, 255, 51)",
           "rgb(128, 128, 0)",
           "rgb(251, 128, 114)",
           "rgb(128, 177, 211)"
          ],
          "line": {
           "width": 1.3
          },
          "size": [
           28,
           68,
           63,
           104,
           51,
           87,
           100,
           65,
           36,
           100,
           84,
           76,
           54,
           104,
           76,
           63,
           75,
           99,
           73,
           67,
           112,
           109,
           99,
           71,
           76,
           68,
           73,
           85,
           72,
           44,
           78,
           81,
           51,
           102,
           89,
           77,
           70,
           99,
           103,
           81,
           67,
           102,
           98,
           93,
           80,
           92,
           76,
           54,
           55,
           91,
           12,
           62,
           88,
           54,
           79,
           74,
           68,
           45,
           84,
           70,
           79,
           66,
           47,
           70,
           59,
           69,
           100,
           82,
           91,
           61,
           94,
           72,
           64,
           61,
           44,
           66,
           66,
           88,
           90,
           55,
           106,
           26,
           70,
           65,
           79,
           31,
           64,
           89,
           79,
           83,
           100,
           68,
           67,
           68,
           78,
           67,
           58,
           77,
           36,
           73
          ],
          "symbol": "circle"
         },
         "mode": "markers",
         "text": "",
         "type": "scatter",
         "x": [
          -0.5656412823360386,
          1.0360792852296468,
          -0.03441248758142155,
          0.23182280061860472,
          1.0088992008914284,
          -0.026715148537010024,
          -0.20315796235413472,
          0.5245229236865366,
          -3.2191295497186694,
          0.17164228604067813,
          0.582247745637063,
          0.9289059114631611,
          -0.7591861803041988,
          -0.24277993570070505,
          -0.1323275276500544,
          -0.5466769746668216,
          0.7177731503109126,
          -0.8191814660705794,
          -1.4310336841345486,
          0.2573153328506282,
          1.3408244257300779,
          0.486032440581521,
          -1.2308345803153686,
          -1.4608107584460366,
          0.8732239163610039,
          0.4567394249492647,
          -1.899861957922655,
          0.28173525063683097,
          -0.21805371925692918,
          1.2626935583320715,
          0.49886751555253367,
          1.4174111664802422,
          0.22660528690867696,
          -0.6502747916185775,
          0.16897409062805457,
          1.21279856642119,
          1.1143424086245766,
          -0.3483420722554928,
          -0.6696543666981883,
          -1.0632252096403403,
          -0.15225141923354557,
          1.316625588404699,
          1.1720151527353133,
          -0.027287875274585364,
          -1.0293154035381185,
          -0.37492772031126287,
          -0.04096023078323834,
          1.182570779299944,
          -1.376390923724631,
          -0.799936281543547,
          -0.707307351593801,
          0.02001897453784066,
          -0.978294769085192,
          0.8508279002602976,
          -0.5342831423012391,
          -0.36185037495602906,
          -0.8056130603514121,
          0.4111895792611264,
          0.004379479525213149,
          0.21780913118781245,
          0.6211677456201348,
          -0.7793003130748717,
          1.103489152734224,
          -1.7904817940423041,
          1.0010689343246126,
          1.8918588281108983,
          1.2977984640817777,
          0.3259841032981575,
          2.0815712057108744,
          0.8383496802803703,
          1.7472868342739443,
          -0.07719520587663783,
          0.9413390291554022,
          1.3834950208674481,
          -0.5569585432839406,
          -1.819230204577346,
          0.12169655584130164,
          1.5616824263876785,
          -0.45356471914135854,
          0.19676060898221412,
          0.009000319539798945,
          -0.2249124640829556,
          -0.2188737751900468,
          0.10764137132759453,
          0.11196929653740105,
          1.1665818342784908,
          -2.020826309495809,
          2.793163479046665,
          0.30526228066973804,
          -0.565887028976998,
          -0.2001466520368511,
          -0.5436753674793958,
          -1.343875859753172,
          0.6112457603338765,
          -0.7813886684840383,
          -1.22303424769474,
          0.4600825033400545,
          0.1383873846734834,
          -0.08138809268576497,
          0.8471112760129539
         ],
         "y": [
          0.5645172566075981,
          -0.33932437899341966,
          -1.121520210991983,
          1.6002719901100757,
          1.5016206296259804,
          2.2959127591084303,
          0.6159086177819855,
          -0.7571132946788054,
          -1.8527379210880608,
          -1.1387426139167482,
          -1.1802914715008073,
          0.4863930279547499,
          -0.1972727517360925,
          -0.7045335740979844,
          0.11636261009340494,
          1.1218343682379364,
          0.07716204469597837,
          1.6172483692207498,
          -0.6227123975706295,
          -0.8638472923389473,
          0.7772239006064957,
          -1.0875868898305794,
          -0.8172213602844036,
          -1.6344710636517614,
          0.4380072171404136,
          -0.7353431531149569,
          -1.3292240246460292,
          2.64076103804586,
          -0.29720784590850985,
          1.3985332624862092,
          -0.05460103642841293,
          -1.7202047580904671,
          -2.307117527573707,
          0.26916881133700654,
          -1.7677313247111384,
          0.6385315213928748,
          1.059188957948073,
          -0.671379236360241,
          -1.3058207439934062,
          -0.15458145256593406,
          0.06995526962442203,
          2.5835499038790664,
          -1.046700114776581,
          0.44717854638131416,
          3.0509553348921687,
          1.1735076138718559,
          0.8596597027344738,
          -2.254815679656594,
          0.9087384098230576,
          1.4794324312196547,
          -0.5279978184819706,
          0.11428912177813569,
          -0.3206006243579793,
          0.6369155364690917,
          0.7040933544865097,
          2.1455364197699187,
          -0.310185129037482,
          -1.1884618328539198,
          -0.15786482315368378,
          3.2186195666514505,
          -0.10773828423557187,
          0.002865138432579824,
          -1.1621439679443992,
          1.8796177622458385,
          -1.011011249558588,
          1.26112692119876,
          0.8353625334967835,
          0.2787037798133771,
          -0.29289336451730547,
          -1.210875011885804,
          -0.25852796048510923,
          0.6324642492884567,
          1.8235740793505282,
          0.3069505716985952,
          -2.329145297007603,
          -1.2353938452853468,
          -1.0033728108153268,
          0.0558782491122532,
          -0.004269293450762822,
          -0.5134075458464393,
          0.8650144157816739,
          0.9575917608001567,
          -0.37212330519918413,
          0.22569767089282858,
          -1.4353961812767824,
          0.6047693356914953,
          0.831598022335903,
          0.3532044398283273,
          -0.6478073247627921,
          0.2147827207375652,
          1.1972101878705765,
          -0.12637330565608457,
          1.3462423783258188,
          -0.03648857415205832,
          0.10886015509104147,
          0.31893671014852615,
          0.10171193001652372,
          0.975923288760046,
          0.4650211235038087,
          -0.6218275280285074
         ]
        }
       ],
       "layout": {
        "legend": {
         "bgcolor": "#F5F6F9",
         "font": {
          "color": "#4D5663"
         }
        },
        "paper_bgcolor": "#F5F6F9",
        "plot_bgcolor": "#F5F6F9",
        "template": {
         "data": {
          "bar": [
           {
            "error_x": {
             "color": "#2a3f5f"
            },
            "error_y": {
             "color": "#2a3f5f"
            },
            "marker": {
             "line": {
              "color": "#E5ECF6",
              "width": 0.5
             },
             "pattern": {
              "fillmode": "overlay",
              "size": 10,
              "solidity": 0.2
             }
            },
            "type": "bar"
           }
          ],
          "barpolar": [
           {
            "marker": {
             "line": {
              "color": "#E5ECF6",
              "width": 0.5
             },
             "pattern": {
              "fillmode": "overlay",
              "size": 10,
              "solidity": 0.2
             }
            },
            "type": "barpolar"
           }
          ],
          "carpet": [
           {
            "aaxis": {
             "endlinecolor": "#2a3f5f",
             "gridcolor": "white",
             "linecolor": "white",
             "minorgridcolor": "white",
             "startlinecolor": "#2a3f5f"
            },
            "baxis": {
             "endlinecolor": "#2a3f5f",
             "gridcolor": "white",
             "linecolor": "white",
             "minorgridcolor": "white",
             "startlinecolor": "#2a3f5f"
            },
            "type": "carpet"
           }
          ],
          "choropleth": [
           {
            "colorbar": {
             "outlinewidth": 0,
             "ticks": ""
            },
            "type": "choropleth"
           }
          ],
          "contour": [
           {
            "colorbar": {
             "outlinewidth": 0,
             "ticks": ""
            },
            "colorscale": [
             [
              0,
              "#0d0887"
             ],
             [
              0.1111111111111111,
              "#46039f"
             ],
             [
              0.2222222222222222,
              "#7201a8"
             ],
             [
              0.3333333333333333,
              "#9c179e"
             ],
             [
              0.4444444444444444,
              "#bd3786"
             ],
             [
              0.5555555555555556,
              "#d8576b"
             ],
             [
              0.6666666666666666,
              "#ed7953"
             ],
             [
              0.7777777777777778,
              "#fb9f3a"
             ],
             [
              0.8888888888888888,
              "#fdca26"
             ],
             [
              1,
              "#f0f921"
             ]
            ],
            "type": "contour"
           }
          ],
          "contourcarpet": [
           {
            "colorbar": {
             "outlinewidth": 0,
             "ticks": ""
            },
            "type": "contourcarpet"
           }
          ],
          "heatmap": [
           {
            "colorbar": {
             "outlinewidth": 0,
             "ticks": ""
            },
            "colorscale": [
             [
              0,
              "#0d0887"
             ],
             [
              0.1111111111111111,
              "#46039f"
             ],
             [
              0.2222222222222222,
              "#7201a8"
             ],
             [
              0.3333333333333333,
              "#9c179e"
             ],
             [
              0.4444444444444444,
              "#bd3786"
             ],
             [
              0.5555555555555556,
              "#d8576b"
             ],
             [
              0.6666666666666666,
              "#ed7953"
             ],
             [
              0.7777777777777778,
              "#fb9f3a"
             ],
             [
              0.8888888888888888,
              "#fdca26"
             ],
             [
              1,
              "#f0f921"
             ]
            ],
            "type": "heatmap"
           }
          ],
          "heatmapgl": [
           {
            "colorbar": {
             "outlinewidth": 0,
             "ticks": ""
            },
            "colorscale": [
             [
              0,
              "#0d0887"
             ],
             [
              0.1111111111111111,
              "#46039f"
             ],
             [
              0.2222222222222222,
              "#7201a8"
             ],
             [
              0.3333333333333333,
              "#9c179e"
             ],
             [
              0.4444444444444444,
              "#bd3786"
             ],
             [
              0.5555555555555556,
              "#d8576b"
             ],
             [
              0.6666666666666666,
              "#ed7953"
             ],
             [
              0.7777777777777778,
              "#fb9f3a"
             ],
             [
              0.8888888888888888,
              "#fdca26"
             ],
             [
              1,
              "#f0f921"
             ]
            ],
            "type": "heatmapgl"
           }
          ],
          "histogram": [
           {
            "marker": {
             "pattern": {
              "fillmode": "overlay",
              "size": 10,
              "solidity": 0.2
             }
            },
            "type": "histogram"
           }
          ],
          "histogram2d": [
           {
            "colorbar": {
             "outlinewidth": 0,
             "ticks": ""
            },
            "colorscale": [
             [
              0,
              "#0d0887"
             ],
             [
              0.1111111111111111,
              "#46039f"
             ],
             [
              0.2222222222222222,
              "#7201a8"
             ],
             [
              0.3333333333333333,
              "#9c179e"
             ],
             [
              0.4444444444444444,
              "#bd3786"
             ],
             [
              0.5555555555555556,
              "#d8576b"
             ],
             [
              0.6666666666666666,
              "#ed7953"
             ],
             [
              0.7777777777777778,
              "#fb9f3a"
             ],
             [
              0.8888888888888888,
              "#fdca26"
             ],
             [
              1,
              "#f0f921"
             ]
            ],
            "type": "histogram2d"
           }
          ],
          "histogram2dcontour": [
           {
            "colorbar": {
             "outlinewidth": 0,
             "ticks": ""
            },
            "colorscale": [
             [
              0,
              "#0d0887"
             ],
             [
              0.1111111111111111,
              "#46039f"
             ],
             [
              0.2222222222222222,
              "#7201a8"
             ],
             [
              0.3333333333333333,
              "#9c179e"
             ],
             [
              0.4444444444444444,
              "#bd3786"
             ],
             [
              0.5555555555555556,
              "#d8576b"
             ],
             [
              0.6666666666666666,
              "#ed7953"
             ],
             [
              0.7777777777777778,
              "#fb9f3a"
             ],
             [
              0.8888888888888888,
              "#fdca26"
             ],
             [
              1,
              "#f0f921"
             ]
            ],
            "type": "histogram2dcontour"
           }
          ],
          "mesh3d": [
           {
            "colorbar": {
             "outlinewidth": 0,
             "ticks": ""
            },
            "type": "mesh3d"
           }
          ],
          "parcoords": [
           {
            "line": {
             "colorbar": {
              "outlinewidth": 0,
              "ticks": ""
             }
            },
            "type": "parcoords"
           }
          ],
          "pie": [
           {
            "automargin": true,
            "type": "pie"
           }
          ],
          "scatter": [
           {
            "fillpattern": {
             "fillmode": "overlay",
             "size": 10,
             "solidity": 0.2
            },
            "type": "scatter"
           }
          ],
          "scatter3d": [
           {
            "line": {
             "colorbar": {
              "outlinewidth": 0,
              "ticks": ""
             }
            },
            "marker": {
             "colorbar": {
              "outlinewidth": 0,
              "ticks": ""
             }
            },
            "type": "scatter3d"
           }
          ],
          "scattercarpet": [
           {
            "marker": {
             "colorbar": {
              "outlinewidth": 0,
              "ticks": ""
             }
            },
            "type": "scattercarpet"
           }
          ],
          "scattergeo": [
           {
            "marker": {
             "colorbar": {
              "outlinewidth": 0,
              "ticks": ""
             }
            },
            "type": "scattergeo"
           }
          ],
          "scattergl": [
           {
            "marker": {
             "colorbar": {
              "outlinewidth": 0,
              "ticks": ""
             }
            },
            "type": "scattergl"
           }
          ],
          "scattermapbox": [
           {
            "marker": {
             "colorbar": {
              "outlinewidth": 0,
              "ticks": ""
             }
            },
            "type": "scattermapbox"
           }
          ],
          "scatterpolar": [
           {
            "marker": {
             "colorbar": {
              "outlinewidth": 0,
              "ticks": ""
             }
            },
            "type": "scatterpolar"
           }
          ],
          "scatterpolargl": [
           {
            "marker": {
             "colorbar": {
              "outlinewidth": 0,
              "ticks": ""
             }
            },
            "type": "scatterpolargl"
           }
          ],
          "scatterternary": [
           {
            "marker": {
             "colorbar": {
              "outlinewidth": 0,
              "ticks": ""
             }
            },
            "type": "scatterternary"
           }
          ],
          "surface": [
           {
            "colorbar": {
             "outlinewidth": 0,
             "ticks": ""
            },
            "colorscale": [
             [
              0,
              "#0d0887"
             ],
             [
              0.1111111111111111,
              "#46039f"
             ],
             [
              0.2222222222222222,
              "#7201a8"
             ],
             [
              0.3333333333333333,
              "#9c179e"
             ],
             [
              0.4444444444444444,
              "#bd3786"
             ],
             [
              0.5555555555555556,
              "#d8576b"
             ],
             [
              0.6666666666666666,
              "#ed7953"
             ],
             [
              0.7777777777777778,
              "#fb9f3a"
             ],
             [
              0.8888888888888888,
              "#fdca26"
             ],
             [
              1,
              "#f0f921"
             ]
            ],
            "type": "surface"
           }
          ],
          "table": [
           {
            "cells": {
             "fill": {
              "color": "#EBF0F8"
             },
             "line": {
              "color": "white"
             }
            },
            "header": {
             "fill": {
              "color": "#C8D4E3"
             },
             "line": {
              "color": "white"
             }
            },
            "type": "table"
           }
          ]
         },
         "layout": {
          "annotationdefaults": {
           "arrowcolor": "#2a3f5f",
           "arrowhead": 0,
           "arrowwidth": 1
          },
          "autotypenumbers": "strict",
          "coloraxis": {
           "colorbar": {
            "outlinewidth": 0,
            "ticks": ""
           }
          },
          "colorscale": {
           "diverging": [
            [
             0,
             "#8e0152"
            ],
            [
             0.1,
             "#c51b7d"
            ],
            [
             0.2,
             "#de77ae"
            ],
            [
             0.3,
             "#f1b6da"
            ],
            [
             0.4,
             "#fde0ef"
            ],
            [
             0.5,
             "#f7f7f7"
            ],
            [
             0.6,
             "#e6f5d0"
            ],
            [
             0.7,
             "#b8e186"
            ],
            [
             0.8,
             "#7fbc41"
            ],
            [
             0.9,
             "#4d9221"
            ],
            [
             1,
             "#276419"
            ]
           ],
           "sequential": [
            [
             0,
             "#0d0887"
            ],
            [
             0.1111111111111111,
             "#46039f"
            ],
            [
             0.2222222222222222,
             "#7201a8"
            ],
            [
             0.3333333333333333,
             "#9c179e"
            ],
            [
             0.4444444444444444,
             "#bd3786"
            ],
            [
             0.5555555555555556,
             "#d8576b"
            ],
            [
             0.6666666666666666,
             "#ed7953"
            ],
            [
             0.7777777777777778,
             "#fb9f3a"
            ],
            [
             0.8888888888888888,
             "#fdca26"
            ],
            [
             1,
             "#f0f921"
            ]
           ],
           "sequentialminus": [
            [
             0,
             "#0d0887"
            ],
            [
             0.1111111111111111,
             "#46039f"
            ],
            [
             0.2222222222222222,
             "#7201a8"
            ],
            [
             0.3333333333333333,
             "#9c179e"
            ],
            [
             0.4444444444444444,
             "#bd3786"
            ],
            [
             0.5555555555555556,
             "#d8576b"
            ],
            [
             0.6666666666666666,
             "#ed7953"
            ],
            [
             0.7777777777777778,
             "#fb9f3a"
            ],
            [
             0.8888888888888888,
             "#fdca26"
            ],
            [
             1,
             "#f0f921"
            ]
           ]
          },
          "colorway": [
           "#636efa",
           "#EF553B",
           "#00cc96",
           "#ab63fa",
           "#FFA15A",
           "#19d3f3",
           "#FF6692",
           "#B6E880",
           "#FF97FF",
           "#FECB52"
          ],
          "font": {
           "color": "#2a3f5f"
          },
          "geo": {
           "bgcolor": "white",
           "lakecolor": "white",
           "landcolor": "#E5ECF6",
           "showlakes": true,
           "showland": true,
           "subunitcolor": "white"
          },
          "hoverlabel": {
           "align": "left"
          },
          "hovermode": "closest",
          "mapbox": {
           "style": "light"
          },
          "paper_bgcolor": "white",
          "plot_bgcolor": "#E5ECF6",
          "polar": {
           "angularaxis": {
            "gridcolor": "white",
            "linecolor": "white",
            "ticks": ""
           },
           "bgcolor": "#E5ECF6",
           "radialaxis": {
            "gridcolor": "white",
            "linecolor": "white",
            "ticks": ""
           }
          },
          "scene": {
           "xaxis": {
            "backgroundcolor": "#E5ECF6",
            "gridcolor": "white",
            "gridwidth": 2,
            "linecolor": "white",
            "showbackground": true,
            "ticks": "",
            "zerolinecolor": "white"
           },
           "yaxis": {
            "backgroundcolor": "#E5ECF6",
            "gridcolor": "white",
            "gridwidth": 2,
            "linecolor": "white",
            "showbackground": true,
            "ticks": "",
            "zerolinecolor": "white"
           },
           "zaxis": {
            "backgroundcolor": "#E5ECF6",
            "gridcolor": "white",
            "gridwidth": 2,
            "linecolor": "white",
            "showbackground": true,
            "ticks": "",
            "zerolinecolor": "white"
           }
          },
          "shapedefaults": {
           "line": {
            "color": "#2a3f5f"
           }
          },
          "ternary": {
           "aaxis": {
            "gridcolor": "white",
            "linecolor": "white",
            "ticks": ""
           },
           "baxis": {
            "gridcolor": "white",
            "linecolor": "white",
            "ticks": ""
           },
           "bgcolor": "#E5ECF6",
           "caxis": {
            "gridcolor": "white",
            "linecolor": "white",
            "ticks": ""
           }
          },
          "title": {
           "x": 0.05
          },
          "xaxis": {
           "automargin": true,
           "gridcolor": "white",
           "linecolor": "white",
           "ticks": "",
           "title": {
            "standoff": 15
           },
           "zerolinecolor": "white",
           "zerolinewidth": 2
          },
          "yaxis": {
           "automargin": true,
           "gridcolor": "white",
           "linecolor": "white",
           "ticks": "",
           "title": {
            "standoff": 15
           },
           "zerolinecolor": "white",
           "zerolinewidth": 2
          }
         }
        },
        "title": {
         "font": {
          "color": "#4D5663"
         }
        },
        "xaxis": {
         "gridcolor": "#E1E5ED",
         "showgrid": true,
         "tickfont": {
          "color": "#4D5663"
         },
         "title": {
          "font": {
           "color": "#4D5663"
          },
          "text": ""
         },
         "zerolinecolor": "#E1E5ED"
        },
        "yaxis": {
         "gridcolor": "#E1E5ED",
         "showgrid": true,
         "tickfont": {
          "color": "#4D5663"
         },
         "title": {
          "font": {
           "color": "#4D5663"
          },
          "text": ""
         },
         "zerolinecolor": "#E1E5ED"
        }
       }
      },
      "text/html": [
       "<div>                            <div id=\"7b76f2da-b95f-41e5-aefe-e33294ab7ff8\" class=\"plotly-graph-div\" style=\"height:525px; width:100%;\"></div>            <script type=\"text/javascript\">                require([\"plotly\"], function(Plotly) {                    window.PLOTLYENV=window.PLOTLYENV || {};\n",
       "                    window.PLOTLYENV.BASE_URL='https://plot.ly';                                    if (document.getElementById(\"7b76f2da-b95f-41e5-aefe-e33294ab7ff8\")) {                    Plotly.newPlot(                        \"7b76f2da-b95f-41e5-aefe-e33294ab7ff8\",                        [{\"marker\":{\"color\":[\"rgb(255, 153, 51)\",\"rgb(55, 128, 191)\",\"rgb(50, 171, 96)\",\"rgb(128, 0, 128)\",\"rgb(219, 64, 82)\",\"rgb(0, 128, 128)\",\"rgb(255, 255, 51)\",\"rgb(128, 128, 0)\",\"rgb(251, 128, 114)\",\"rgb(128, 177, 211)\"],\"line\":{\"width\":1.3},\"size\":[28,68,63,104,51,87,100,65,36,100,84,76,54,104,76,63,75,99,73,67,112,109,99,71,76,68,73,85,72,44,78,81,51,102,89,77,70,99,103,81,67,102,98,93,80,92,76,54,55,91,12,62,88,54,79,74,68,45,84,70,79,66,47,70,59,69,100,82,91,61,94,72,64,61,44,66,66,88,90,55,106,26,70,65,79,31,64,89,79,83,100,68,67,68,78,67,58,77,36,73],\"symbol\":\"circle\"},\"mode\":\"markers\",\"text\":\"\",\"x\":[-0.5656412823360386,1.0360792852296468,-0.03441248758142155,0.23182280061860472,1.0088992008914284,-0.026715148537010024,-0.20315796235413472,0.5245229236865366,-3.2191295497186694,0.17164228604067813,0.582247745637063,0.9289059114631611,-0.7591861803041988,-0.24277993570070505,-0.1323275276500544,-0.5466769746668216,0.7177731503109126,-0.8191814660705794,-1.4310336841345486,0.2573153328506282,1.3408244257300779,0.486032440581521,-1.2308345803153686,-1.4608107584460366,0.8732239163610039,0.4567394249492647,-1.899861957922655,0.28173525063683097,-0.21805371925692918,1.2626935583320715,0.49886751555253367,1.4174111664802422,0.22660528690867696,-0.6502747916185775,0.16897409062805457,1.21279856642119,1.1143424086245766,-0.3483420722554928,-0.6696543666981883,-1.0632252096403403,-0.15225141923354557,1.316625588404699,1.1720151527353133,-0.027287875274585364,-1.0293154035381185,-0.37492772031126287,-0.04096023078323834,1.182570779299944,-1.376390923724631,-0.799936281543547,-0.707307351593801,0.02001897453784066,-0.978294769085192,0.8508279002602976,-0.5342831423012391,-0.36185037495602906,-0.8056130603514121,0.4111895792611264,0.004379479525213149,0.21780913118781245,0.6211677456201348,-0.7793003130748717,1.103489152734224,-1.7904817940423041,1.0010689343246126,1.8918588281108983,1.2977984640817777,0.3259841032981575,2.0815712057108744,0.8383496802803703,1.7472868342739443,-0.07719520587663783,0.9413390291554022,1.3834950208674481,-0.5569585432839406,-1.819230204577346,0.12169655584130164,1.5616824263876785,-0.45356471914135854,0.19676060898221412,0.009000319539798945,-0.2249124640829556,-0.2188737751900468,0.10764137132759453,0.11196929653740105,1.1665818342784908,-2.020826309495809,2.793163479046665,0.30526228066973804,-0.565887028976998,-0.2001466520368511,-0.5436753674793958,-1.343875859753172,0.6112457603338765,-0.7813886684840383,-1.22303424769474,0.4600825033400545,0.1383873846734834,-0.08138809268576497,0.8471112760129539],\"y\":[0.5645172566075981,-0.33932437899341966,-1.121520210991983,1.6002719901100757,1.5016206296259804,2.2959127591084303,0.6159086177819855,-0.7571132946788054,-1.8527379210880608,-1.1387426139167482,-1.1802914715008073,0.4863930279547499,-0.1972727517360925,-0.7045335740979844,0.11636261009340494,1.1218343682379364,0.07716204469597837,1.6172483692207498,-0.6227123975706295,-0.8638472923389473,0.7772239006064957,-1.0875868898305794,-0.8172213602844036,-1.6344710636517614,0.4380072171404136,-0.7353431531149569,-1.3292240246460292,2.64076103804586,-0.29720784590850985,1.3985332624862092,-0.05460103642841293,-1.7202047580904671,-2.307117527573707,0.26916881133700654,-1.7677313247111384,0.6385315213928748,1.059188957948073,-0.671379236360241,-1.3058207439934062,-0.15458145256593406,0.06995526962442203,2.5835499038790664,-1.046700114776581,0.44717854638131416,3.0509553348921687,1.1735076138718559,0.8596597027344738,-2.254815679656594,0.9087384098230576,1.4794324312196547,-0.5279978184819706,0.11428912177813569,-0.3206006243579793,0.6369155364690917,0.7040933544865097,2.1455364197699187,-0.310185129037482,-1.1884618328539198,-0.15786482315368378,3.2186195666514505,-0.10773828423557187,0.002865138432579824,-1.1621439679443992,1.8796177622458385,-1.011011249558588,1.26112692119876,0.8353625334967835,0.2787037798133771,-0.29289336451730547,-1.210875011885804,-0.25852796048510923,0.6324642492884567,1.8235740793505282,0.3069505716985952,-2.329145297007603,-1.2353938452853468,-1.0033728108153268,0.0558782491122532,-0.004269293450762822,-0.5134075458464393,0.8650144157816739,0.9575917608001567,-0.37212330519918413,0.22569767089282858,-1.4353961812767824,0.6047693356914953,0.831598022335903,0.3532044398283273,-0.6478073247627921,0.2147827207375652,1.1972101878705765,-0.12637330565608457,1.3462423783258188,-0.03648857415205832,0.10886015509104147,0.31893671014852615,0.10171193001652372,0.975923288760046,0.4650211235038087,-0.6218275280285074],\"type\":\"scatter\"}],                        {\"legend\":{\"bgcolor\":\"#F5F6F9\",\"font\":{\"color\":\"#4D5663\"}},\"paper_bgcolor\":\"#F5F6F9\",\"plot_bgcolor\":\"#F5F6F9\",\"template\":{\"data\":{\"barpolar\":[{\"marker\":{\"line\":{\"color\":\"#E5ECF6\",\"width\":0.5},\"pattern\":{\"fillmode\":\"overlay\",\"size\":10,\"solidity\":0.2}},\"type\":\"barpolar\"}],\"bar\":[{\"error_x\":{\"color\":\"#2a3f5f\"},\"error_y\":{\"color\":\"#2a3f5f\"},\"marker\":{\"line\":{\"color\":\"#E5ECF6\",\"width\":0.5},\"pattern\":{\"fillmode\":\"overlay\",\"size\":10,\"solidity\":0.2}},\"type\":\"bar\"}],\"carpet\":[{\"aaxis\":{\"endlinecolor\":\"#2a3f5f\",\"gridcolor\":\"white\",\"linecolor\":\"white\",\"minorgridcolor\":\"white\",\"startlinecolor\":\"#2a3f5f\"},\"baxis\":{\"endlinecolor\":\"#2a3f5f\",\"gridcolor\":\"white\",\"linecolor\":\"white\",\"minorgridcolor\":\"white\",\"startlinecolor\":\"#2a3f5f\"},\"type\":\"carpet\"}],\"choropleth\":[{\"colorbar\":{\"outlinewidth\":0,\"ticks\":\"\"},\"type\":\"choropleth\"}],\"contourcarpet\":[{\"colorbar\":{\"outlinewidth\":0,\"ticks\":\"\"},\"type\":\"contourcarpet\"}],\"contour\":[{\"colorbar\":{\"outlinewidth\":0,\"ticks\":\"\"},\"colorscale\":[[0.0,\"#0d0887\"],[0.1111111111111111,\"#46039f\"],[0.2222222222222222,\"#7201a8\"],[0.3333333333333333,\"#9c179e\"],[0.4444444444444444,\"#bd3786\"],[0.5555555555555556,\"#d8576b\"],[0.6666666666666666,\"#ed7953\"],[0.7777777777777778,\"#fb9f3a\"],[0.8888888888888888,\"#fdca26\"],[1.0,\"#f0f921\"]],\"type\":\"contour\"}],\"heatmapgl\":[{\"colorbar\":{\"outlinewidth\":0,\"ticks\":\"\"},\"colorscale\":[[0.0,\"#0d0887\"],[0.1111111111111111,\"#46039f\"],[0.2222222222222222,\"#7201a8\"],[0.3333333333333333,\"#9c179e\"],[0.4444444444444444,\"#bd3786\"],[0.5555555555555556,\"#d8576b\"],[0.6666666666666666,\"#ed7953\"],[0.7777777777777778,\"#fb9f3a\"],[0.8888888888888888,\"#fdca26\"],[1.0,\"#f0f921\"]],\"type\":\"heatmapgl\"}],\"heatmap\":[{\"colorbar\":{\"outlinewidth\":0,\"ticks\":\"\"},\"colorscale\":[[0.0,\"#0d0887\"],[0.1111111111111111,\"#46039f\"],[0.2222222222222222,\"#7201a8\"],[0.3333333333333333,\"#9c179e\"],[0.4444444444444444,\"#bd3786\"],[0.5555555555555556,\"#d8576b\"],[0.6666666666666666,\"#ed7953\"],[0.7777777777777778,\"#fb9f3a\"],[0.8888888888888888,\"#fdca26\"],[1.0,\"#f0f921\"]],\"type\":\"heatmap\"}],\"histogram2dcontour\":[{\"colorbar\":{\"outlinewidth\":0,\"ticks\":\"\"},\"colorscale\":[[0.0,\"#0d0887\"],[0.1111111111111111,\"#46039f\"],[0.2222222222222222,\"#7201a8\"],[0.3333333333333333,\"#9c179e\"],[0.4444444444444444,\"#bd3786\"],[0.5555555555555556,\"#d8576b\"],[0.6666666666666666,\"#ed7953\"],[0.7777777777777778,\"#fb9f3a\"],[0.8888888888888888,\"#fdca26\"],[1.0,\"#f0f921\"]],\"type\":\"histogram2dcontour\"}],\"histogram2d\":[{\"colorbar\":{\"outlinewidth\":0,\"ticks\":\"\"},\"colorscale\":[[0.0,\"#0d0887\"],[0.1111111111111111,\"#46039f\"],[0.2222222222222222,\"#7201a8\"],[0.3333333333333333,\"#9c179e\"],[0.4444444444444444,\"#bd3786\"],[0.5555555555555556,\"#d8576b\"],[0.6666666666666666,\"#ed7953\"],[0.7777777777777778,\"#fb9f3a\"],[0.8888888888888888,\"#fdca26\"],[1.0,\"#f0f921\"]],\"type\":\"histogram2d\"}],\"histogram\":[{\"marker\":{\"pattern\":{\"fillmode\":\"overlay\",\"size\":10,\"solidity\":0.2}},\"type\":\"histogram\"}],\"mesh3d\":[{\"colorbar\":{\"outlinewidth\":0,\"ticks\":\"\"},\"type\":\"mesh3d\"}],\"parcoords\":[{\"line\":{\"colorbar\":{\"outlinewidth\":0,\"ticks\":\"\"}},\"type\":\"parcoords\"}],\"pie\":[{\"automargin\":true,\"type\":\"pie\"}],\"scatter3d\":[{\"line\":{\"colorbar\":{\"outlinewidth\":0,\"ticks\":\"\"}},\"marker\":{\"colorbar\":{\"outlinewidth\":0,\"ticks\":\"\"}},\"type\":\"scatter3d\"}],\"scattercarpet\":[{\"marker\":{\"colorbar\":{\"outlinewidth\":0,\"ticks\":\"\"}},\"type\":\"scattercarpet\"}],\"scattergeo\":[{\"marker\":{\"colorbar\":{\"outlinewidth\":0,\"ticks\":\"\"}},\"type\":\"scattergeo\"}],\"scattergl\":[{\"marker\":{\"colorbar\":{\"outlinewidth\":0,\"ticks\":\"\"}},\"type\":\"scattergl\"}],\"scattermapbox\":[{\"marker\":{\"colorbar\":{\"outlinewidth\":0,\"ticks\":\"\"}},\"type\":\"scattermapbox\"}],\"scatterpolargl\":[{\"marker\":{\"colorbar\":{\"outlinewidth\":0,\"ticks\":\"\"}},\"type\":\"scatterpolargl\"}],\"scatterpolar\":[{\"marker\":{\"colorbar\":{\"outlinewidth\":0,\"ticks\":\"\"}},\"type\":\"scatterpolar\"}],\"scatter\":[{\"fillpattern\":{\"fillmode\":\"overlay\",\"size\":10,\"solidity\":0.2},\"type\":\"scatter\"}],\"scatterternary\":[{\"marker\":{\"colorbar\":{\"outlinewidth\":0,\"ticks\":\"\"}},\"type\":\"scatterternary\"}],\"surface\":[{\"colorbar\":{\"outlinewidth\":0,\"ticks\":\"\"},\"colorscale\":[[0.0,\"#0d0887\"],[0.1111111111111111,\"#46039f\"],[0.2222222222222222,\"#7201a8\"],[0.3333333333333333,\"#9c179e\"],[0.4444444444444444,\"#bd3786\"],[0.5555555555555556,\"#d8576b\"],[0.6666666666666666,\"#ed7953\"],[0.7777777777777778,\"#fb9f3a\"],[0.8888888888888888,\"#fdca26\"],[1.0,\"#f0f921\"]],\"type\":\"surface\"}],\"table\":[{\"cells\":{\"fill\":{\"color\":\"#EBF0F8\"},\"line\":{\"color\":\"white\"}},\"header\":{\"fill\":{\"color\":\"#C8D4E3\"},\"line\":{\"color\":\"white\"}},\"type\":\"table\"}]},\"layout\":{\"annotationdefaults\":{\"arrowcolor\":\"#2a3f5f\",\"arrowhead\":0,\"arrowwidth\":1},\"autotypenumbers\":\"strict\",\"coloraxis\":{\"colorbar\":{\"outlinewidth\":0,\"ticks\":\"\"}},\"colorscale\":{\"diverging\":[[0,\"#8e0152\"],[0.1,\"#c51b7d\"],[0.2,\"#de77ae\"],[0.3,\"#f1b6da\"],[0.4,\"#fde0ef\"],[0.5,\"#f7f7f7\"],[0.6,\"#e6f5d0\"],[0.7,\"#b8e186\"],[0.8,\"#7fbc41\"],[0.9,\"#4d9221\"],[1,\"#276419\"]],\"sequential\":[[0.0,\"#0d0887\"],[0.1111111111111111,\"#46039f\"],[0.2222222222222222,\"#7201a8\"],[0.3333333333333333,\"#9c179e\"],[0.4444444444444444,\"#bd3786\"],[0.5555555555555556,\"#d8576b\"],[0.6666666666666666,\"#ed7953\"],[0.7777777777777778,\"#fb9f3a\"],[0.8888888888888888,\"#fdca26\"],[1.0,\"#f0f921\"]],\"sequentialminus\":[[0.0,\"#0d0887\"],[0.1111111111111111,\"#46039f\"],[0.2222222222222222,\"#7201a8\"],[0.3333333333333333,\"#9c179e\"],[0.4444444444444444,\"#bd3786\"],[0.5555555555555556,\"#d8576b\"],[0.6666666666666666,\"#ed7953\"],[0.7777777777777778,\"#fb9f3a\"],[0.8888888888888888,\"#fdca26\"],[1.0,\"#f0f921\"]]},\"colorway\":[\"#636efa\",\"#EF553B\",\"#00cc96\",\"#ab63fa\",\"#FFA15A\",\"#19d3f3\",\"#FF6692\",\"#B6E880\",\"#FF97FF\",\"#FECB52\"],\"font\":{\"color\":\"#2a3f5f\"},\"geo\":{\"bgcolor\":\"white\",\"lakecolor\":\"white\",\"landcolor\":\"#E5ECF6\",\"showlakes\":true,\"showland\":true,\"subunitcolor\":\"white\"},\"hoverlabel\":{\"align\":\"left\"},\"hovermode\":\"closest\",\"mapbox\":{\"style\":\"light\"},\"paper_bgcolor\":\"white\",\"plot_bgcolor\":\"#E5ECF6\",\"polar\":{\"angularaxis\":{\"gridcolor\":\"white\",\"linecolor\":\"white\",\"ticks\":\"\"},\"bgcolor\":\"#E5ECF6\",\"radialaxis\":{\"gridcolor\":\"white\",\"linecolor\":\"white\",\"ticks\":\"\"}},\"scene\":{\"xaxis\":{\"backgroundcolor\":\"#E5ECF6\",\"gridcolor\":\"white\",\"gridwidth\":2,\"linecolor\":\"white\",\"showbackground\":true,\"ticks\":\"\",\"zerolinecolor\":\"white\"},\"yaxis\":{\"backgroundcolor\":\"#E5ECF6\",\"gridcolor\":\"white\",\"gridwidth\":2,\"linecolor\":\"white\",\"showbackground\":true,\"ticks\":\"\",\"zerolinecolor\":\"white\"},\"zaxis\":{\"backgroundcolor\":\"#E5ECF6\",\"gridcolor\":\"white\",\"gridwidth\":2,\"linecolor\":\"white\",\"showbackground\":true,\"ticks\":\"\",\"zerolinecolor\":\"white\"}},\"shapedefaults\":{\"line\":{\"color\":\"#2a3f5f\"}},\"ternary\":{\"aaxis\":{\"gridcolor\":\"white\",\"linecolor\":\"white\",\"ticks\":\"\"},\"baxis\":{\"gridcolor\":\"white\",\"linecolor\":\"white\",\"ticks\":\"\"},\"bgcolor\":\"#E5ECF6\",\"caxis\":{\"gridcolor\":\"white\",\"linecolor\":\"white\",\"ticks\":\"\"}},\"title\":{\"x\":0.05},\"xaxis\":{\"automargin\":true,\"gridcolor\":\"white\",\"linecolor\":\"white\",\"ticks\":\"\",\"title\":{\"standoff\":15},\"zerolinecolor\":\"white\",\"zerolinewidth\":2},\"yaxis\":{\"automargin\":true,\"gridcolor\":\"white\",\"linecolor\":\"white\",\"ticks\":\"\",\"title\":{\"standoff\":15},\"zerolinecolor\":\"white\",\"zerolinewidth\":2}}},\"title\":{\"font\":{\"color\":\"#4D5663\"}},\"xaxis\":{\"gridcolor\":\"#E1E5ED\",\"showgrid\":true,\"tickfont\":{\"color\":\"#4D5663\"},\"title\":{\"font\":{\"color\":\"#4D5663\"},\"text\":\"\"},\"zerolinecolor\":\"#E1E5ED\"},\"yaxis\":{\"gridcolor\":\"#E1E5ED\",\"showgrid\":true,\"tickfont\":{\"color\":\"#4D5663\"},\"title\":{\"font\":{\"color\":\"#4D5663\"},\"text\":\"\"},\"zerolinecolor\":\"#E1E5ED\"}},                        {\"showLink\": true, \"linkText\": \"Export to plot.ly\", \"plotlyServerURL\": \"https://plot.ly\", \"responsive\": true}                    ).then(function(){\n",
       "                            \n",
       "var gd = document.getElementById('7b76f2da-b95f-41e5-aefe-e33294ab7ff8');\n",
       "var x = new MutationObserver(function (mutations, observer) {{\n",
       "        var display = window.getComputedStyle(gd).display;\n",
       "        if (!display || display === 'none') {{\n",
       "            console.log([gd, 'removed!']);\n",
       "            Plotly.purge(gd);\n",
       "            observer.disconnect();\n",
       "        }}\n",
       "}});\n",
       "\n",
       "// Listen for the removal of the full notebook cells\n",
       "var notebookContainer = gd.closest('#notebook-container');\n",
       "if (notebookContainer) {{\n",
       "    x.observe(notebookContainer, {childList: true});\n",
       "}}\n",
       "\n",
       "// Listen for the clearing of the current output cell\n",
       "var outputEl = gd.closest('.output');\n",
       "if (outputEl) {{\n",
       "    x.observe(outputEl, {childList: true});\n",
       "}}\n",
       "\n",
       "                        })                };                });            </script>        </div>"
      ]
     },
     "metadata": {},
     "output_type": "display_data"
    }
   ],
   "source": [
    "df.iplot(kind='bubble',x='A',y='B',size='C')"
   ]
  },
  {
   "cell_type": "markdown",
   "metadata": {},
   "source": [
    "## scatter_matrix()\n",
    "\n",
    "Similar to sns.pairplot()"
   ]
  },
  {
   "cell_type": "code",
   "execution_count": 22,
   "metadata": {},
   "outputs": [
    {
     "data": {
      "application/vnd.plotly.v1+json": {
       "config": {
        "linkText": "Export to plot.ly",
        "plotlyServerURL": "https://plot.ly",
        "showLink": true
       },
       "data": [
        {
         "histfunc": "count",
         "histnorm": "",
         "marker": {
          "color": "rgba(255, 153, 51, 1.0)",
          "line": {
           "color": "#4D5663",
           "width": 1.3
          }
         },
         "name": "A",
         "nbinsx": 10,
         "opacity": 0.8,
         "orientation": "v",
         "type": "histogram",
         "x": [
          -0.5656412823360386,
          1.0360792852296468,
          -0.03441248758142155,
          0.23182280061860472,
          1.0088992008914284,
          -0.026715148537010024,
          -0.20315796235413472,
          0.5245229236865366,
          -3.2191295497186694,
          0.17164228604067813,
          0.582247745637063,
          0.9289059114631611,
          -0.7591861803041988,
          -0.24277993570070505,
          -0.1323275276500544,
          -0.5466769746668216,
          0.7177731503109126,
          -0.8191814660705794,
          -1.4310336841345486,
          0.2573153328506282,
          1.3408244257300779,
          0.486032440581521,
          -1.2308345803153686,
          -1.4608107584460366,
          0.8732239163610039,
          0.4567394249492647,
          -1.899861957922655,
          0.28173525063683097,
          -0.21805371925692918,
          1.2626935583320715,
          0.49886751555253367,
          1.4174111664802422,
          0.22660528690867696,
          -0.6502747916185775,
          0.16897409062805457,
          1.21279856642119,
          1.1143424086245766,
          -0.3483420722554928,
          -0.6696543666981883,
          -1.0632252096403403,
          -0.15225141923354557,
          1.316625588404699,
          1.1720151527353133,
          -0.027287875274585364,
          -1.0293154035381185,
          -0.37492772031126287,
          -0.04096023078323834,
          1.182570779299944,
          -1.376390923724631,
          -0.799936281543547,
          -0.707307351593801,
          0.02001897453784066,
          -0.978294769085192,
          0.8508279002602976,
          -0.5342831423012391,
          -0.36185037495602906,
          -0.8056130603514121,
          0.4111895792611264,
          0.004379479525213149,
          0.21780913118781245,
          0.6211677456201348,
          -0.7793003130748717,
          1.103489152734224,
          -1.7904817940423041,
          1.0010689343246126,
          1.8918588281108983,
          1.2977984640817777,
          0.3259841032981575,
          2.0815712057108744,
          0.8383496802803703,
          1.7472868342739443,
          -0.07719520587663783,
          0.9413390291554022,
          1.3834950208674481,
          -0.5569585432839406,
          -1.819230204577346,
          0.12169655584130164,
          1.5616824263876785,
          -0.45356471914135854,
          0.19676060898221412,
          0.009000319539798945,
          -0.2249124640829556,
          -0.2188737751900468,
          0.10764137132759453,
          0.11196929653740105,
          1.1665818342784908,
          -2.020826309495809,
          2.793163479046665,
          0.30526228066973804,
          -0.565887028976998,
          -0.2001466520368511,
          -0.5436753674793958,
          -1.343875859753172,
          0.6112457603338765,
          -0.7813886684840383,
          -1.22303424769474,
          0.4600825033400545,
          0.1383873846734834,
          -0.08138809268576497,
          0.8471112760129539
         ],
         "xaxis": "x",
         "yaxis": "y"
        },
        {
         "line": {
          "color": "rgba(128, 128, 128, 1.0)",
          "dash": "solid",
          "shape": "linear",
          "width": 1.3
         },
         "marker": {
          "size": 2,
          "symbol": "circle"
         },
         "mode": "markers",
         "name": "A",
         "text": "",
         "type": "scatter",
         "x": [
          0.5645172566075981,
          -0.33932437899341966,
          -1.121520210991983,
          1.6002719901100757,
          1.5016206296259804,
          2.2959127591084303,
          0.6159086177819855,
          -0.7571132946788054,
          -1.8527379210880608,
          -1.1387426139167482,
          -1.1802914715008073,
          0.4863930279547499,
          -0.1972727517360925,
          -0.7045335740979844,
          0.11636261009340494,
          1.1218343682379364,
          0.07716204469597837,
          1.6172483692207498,
          -0.6227123975706295,
          -0.8638472923389473,
          0.7772239006064957,
          -1.0875868898305794,
          -0.8172213602844036,
          -1.6344710636517614,
          0.4380072171404136,
          -0.7353431531149569,
          -1.3292240246460292,
          2.64076103804586,
          -0.29720784590850985,
          1.3985332624862092,
          -0.05460103642841293,
          -1.7202047580904671,
          -2.307117527573707,
          0.26916881133700654,
          -1.7677313247111384,
          0.6385315213928748,
          1.059188957948073,
          -0.671379236360241,
          -1.3058207439934062,
          -0.15458145256593406,
          0.06995526962442203,
          2.5835499038790664,
          -1.046700114776581,
          0.44717854638131416,
          3.0509553348921687,
          1.1735076138718559,
          0.8596597027344738,
          -2.254815679656594,
          0.9087384098230576,
          1.4794324312196547,
          -0.5279978184819706,
          0.11428912177813569,
          -0.3206006243579793,
          0.6369155364690917,
          0.7040933544865097,
          2.1455364197699187,
          -0.310185129037482,
          -1.1884618328539198,
          -0.15786482315368378,
          3.2186195666514505,
          -0.10773828423557187,
          0.002865138432579824,
          -1.1621439679443992,
          1.8796177622458385,
          -1.011011249558588,
          1.26112692119876,
          0.8353625334967835,
          0.2787037798133771,
          -0.29289336451730547,
          -1.210875011885804,
          -0.25852796048510923,
          0.6324642492884567,
          1.8235740793505282,
          0.3069505716985952,
          -2.329145297007603,
          -1.2353938452853468,
          -1.0033728108153268,
          0.0558782491122532,
          -0.004269293450762822,
          -0.5134075458464393,
          0.8650144157816739,
          0.9575917608001567,
          -0.37212330519918413,
          0.22569767089282858,
          -1.4353961812767824,
          0.6047693356914953,
          0.831598022335903,
          0.3532044398283273,
          -0.6478073247627921,
          0.2147827207375652,
          1.1972101878705765,
          -0.12637330565608457,
          1.3462423783258188,
          -0.03648857415205832,
          0.10886015509104147,
          0.31893671014852615,
          0.10171193001652372,
          0.975923288760046,
          0.4650211235038087,
          -0.6218275280285074
         ],
         "xaxis": "x2",
         "y": [
          -0.5656412823360386,
          1.0360792852296468,
          -0.03441248758142155,
          0.23182280061860472,
          1.0088992008914284,
          -0.026715148537010024,
          -0.20315796235413472,
          0.5245229236865366,
          -3.2191295497186694,
          0.17164228604067813,
          0.582247745637063,
          0.9289059114631611,
          -0.7591861803041988,
          -0.24277993570070505,
          -0.1323275276500544,
          -0.5466769746668216,
          0.7177731503109126,
          -0.8191814660705794,
          -1.4310336841345486,
          0.2573153328506282,
          1.3408244257300779,
          0.486032440581521,
          -1.2308345803153686,
          -1.4608107584460366,
          0.8732239163610039,
          0.4567394249492647,
          -1.899861957922655,
          0.28173525063683097,
          -0.21805371925692918,
          1.2626935583320715,
          0.49886751555253367,
          1.4174111664802422,
          0.22660528690867696,
          -0.6502747916185775,
          0.16897409062805457,
          1.21279856642119,
          1.1143424086245766,
          -0.3483420722554928,
          -0.6696543666981883,
          -1.0632252096403403,
          -0.15225141923354557,
          1.316625588404699,
          1.1720151527353133,
          -0.027287875274585364,
          -1.0293154035381185,
          -0.37492772031126287,
          -0.04096023078323834,
          1.182570779299944,
          -1.376390923724631,
          -0.799936281543547,
          -0.707307351593801,
          0.02001897453784066,
          -0.978294769085192,
          0.8508279002602976,
          -0.5342831423012391,
          -0.36185037495602906,
          -0.8056130603514121,
          0.4111895792611264,
          0.004379479525213149,
          0.21780913118781245,
          0.6211677456201348,
          -0.7793003130748717,
          1.103489152734224,
          -1.7904817940423041,
          1.0010689343246126,
          1.8918588281108983,
          1.2977984640817777,
          0.3259841032981575,
          2.0815712057108744,
          0.8383496802803703,
          1.7472868342739443,
          -0.07719520587663783,
          0.9413390291554022,
          1.3834950208674481,
          -0.5569585432839406,
          -1.819230204577346,
          0.12169655584130164,
          1.5616824263876785,
          -0.45356471914135854,
          0.19676060898221412,
          0.009000319539798945,
          -0.2249124640829556,
          -0.2188737751900468,
          0.10764137132759453,
          0.11196929653740105,
          1.1665818342784908,
          -2.020826309495809,
          2.793163479046665,
          0.30526228066973804,
          -0.565887028976998,
          -0.2001466520368511,
          -0.5436753674793958,
          -1.343875859753172,
          0.6112457603338765,
          -0.7813886684840383,
          -1.22303424769474,
          0.4600825033400545,
          0.1383873846734834,
          -0.08138809268576497,
          0.8471112760129539
         ],
         "yaxis": "y2"
        },
        {
         "line": {
          "color": "rgba(128, 128, 128, 1.0)",
          "dash": "solid",
          "shape": "linear",
          "width": 1.3
         },
         "marker": {
          "size": 2,
          "symbol": "circle"
         },
         "mode": "markers",
         "name": "A",
         "text": "",
         "type": "scatter",
         "x": [
          -2.146739958101434,
          -0.25301348382365135,
          -0.4678006529789959,
          1.4606355389564618,
          -1.053029059187858,
          0.6583564309383253,
          1.2557003967779428,
          -0.3901218292667429,
          -1.768170831602827,
          1.232214512579578,
          0.4953012904572992,
          0.10626163855495853,
          -0.9062865487957101,
          1.4377033817031488,
          0.12966714167566729,
          -0.49631683240136537,
          0.10118022232583321,
          1.2050920920572787,
          -0.033851344727340964,
          -0.3031727588393859,
          1.795626787097041,
          1.6590999074748964,
          1.184703108828757,
          -0.09339121146934552,
          0.1318140522807218,
          -0.271329903075333,
          -0.037433080426591,
          0.5266097124633199,
          -0.04184233624948661,
          -1.3867995676792457,
          0.22799196459083326,
          0.3657482881768857,
          -1.0692196386643802,
          1.350244839107939,
          0.7355835034493701,
          0.17369969979000266,
          -0.16081528921817426,
          1.226049560303817,
          1.3904477336174936,
          0.37539186396935154,
          -0.2923153758591823,
          1.339458871844019,
          1.1550822183337757,
          0.9161381319826264,
          0.3181408972498468,
          0.8878803706789242,
          0.14556522095000182,
          -0.8957929735550295,
          -0.8656756147440221,
          0.8379349253461297,
          -2.9106639601375672,
          -0.5555967419701171,
          0.6819306724341314,
          -0.9208763345554103,
          0.2817986122648016,
          0.034555487974315895,
          -0.2561507674698253,
          -1.3253918989961624,
          0.4900069958878561,
          -0.16766884745683136,
          0.2652274456557487,
          -0.35034104542085215,
          -1.2443926590883105,
          -0.1461384887203423,
          -0.6581989158191782,
          -0.191008213851882,
          1.2547378610543556,
          0.40303278215971344,
          0.8321172347852366,
          -0.5751617423396881,
          0.9490180361048859,
          -0.08506551470662083,
          -0.44221319644508017,
          -0.573269814959952,
          -1.3946916335305886,
          -0.3681650639814785,
          -0.358803738924242,
          0.7075716853587268,
          0.7639885922071894,
          -0.8461728524859302,
          1.5230378720062514,
          -2.2068407513966823,
          -0.1366748375999527,
          -0.4021695886351473,
          0.2791603668851864,
          -1.9780237332050405,
          -0.45856880363817376,
          0.7207421525794263,
          0.26971957755829545,
          0.4657562094166123,
          1.2492715347644403,
          -0.22842210975332455,
          -0.2870705007107389,
          -0.24208094259732515,
          0.24211934347471437,
          -0.28601364136514074,
          -0.7228755132630907,
          0.15762795990197426,
          -1.7534767132311087,
          -0.02027642619003036
         ],
         "xaxis": "x3",
         "y": [
          -0.5656412823360386,
          1.0360792852296468,
          -0.03441248758142155,
          0.23182280061860472,
          1.0088992008914284,
          -0.026715148537010024,
          -0.20315796235413472,
          0.5245229236865366,
          -3.2191295497186694,
          0.17164228604067813,
          0.582247745637063,
          0.9289059114631611,
          -0.7591861803041988,
          -0.24277993570070505,
          -0.1323275276500544,
          -0.5466769746668216,
          0.7177731503109126,
          -0.8191814660705794,
          -1.4310336841345486,
          0.2573153328506282,
          1.3408244257300779,
          0.486032440581521,
          -1.2308345803153686,
          -1.4608107584460366,
          0.8732239163610039,
          0.4567394249492647,
          -1.899861957922655,
          0.28173525063683097,
          -0.21805371925692918,
          1.2626935583320715,
          0.49886751555253367,
          1.4174111664802422,
          0.22660528690867696,
          -0.6502747916185775,
          0.16897409062805457,
          1.21279856642119,
          1.1143424086245766,
          -0.3483420722554928,
          -0.6696543666981883,
          -1.0632252096403403,
          -0.15225141923354557,
          1.316625588404699,
          1.1720151527353133,
          -0.027287875274585364,
          -1.0293154035381185,
          -0.37492772031126287,
          -0.04096023078323834,
          1.182570779299944,
          -1.376390923724631,
          -0.799936281543547,
          -0.707307351593801,
          0.02001897453784066,
          -0.978294769085192,
          0.8508279002602976,
          -0.5342831423012391,
          -0.36185037495602906,
          -0.8056130603514121,
          0.4111895792611264,
          0.004379479525213149,
          0.21780913118781245,
          0.6211677456201348,
          -0.7793003130748717,
          1.103489152734224,
          -1.7904817940423041,
          1.0010689343246126,
          1.8918588281108983,
          1.2977984640817777,
          0.3259841032981575,
          2.0815712057108744,
          0.8383496802803703,
          1.7472868342739443,
          -0.07719520587663783,
          0.9413390291554022,
          1.3834950208674481,
          -0.5569585432839406,
          -1.819230204577346,
          0.12169655584130164,
          1.5616824263876785,
          -0.45356471914135854,
          0.19676060898221412,
          0.009000319539798945,
          -0.2249124640829556,
          -0.2188737751900468,
          0.10764137132759453,
          0.11196929653740105,
          1.1665818342784908,
          -2.020826309495809,
          2.793163479046665,
          0.30526228066973804,
          -0.565887028976998,
          -0.2001466520368511,
          -0.5436753674793958,
          -1.343875859753172,
          0.6112457603338765,
          -0.7813886684840383,
          -1.22303424769474,
          0.4600825033400545,
          0.1383873846734834,
          -0.08138809268576497,
          0.8471112760129539
         ],
         "yaxis": "y3"
        },
        {
         "line": {
          "color": "rgba(128, 128, 128, 1.0)",
          "dash": "solid",
          "shape": "linear",
          "width": 1.3
         },
         "marker": {
          "size": 2,
          "symbol": "circle"
         },
         "mode": "markers",
         "name": "A",
         "text": "",
         "type": "scatter",
         "x": [
          -0.6151624147627686,
          0.8642179796660394,
          1.6150075801940003,
          -0.28029472345158046,
          -0.6419889247977699,
          0.08072927789314675,
          0.6971146264882752,
          -2.198296078188932,
          -1.0704538706327174,
          1.0349241595097776,
          -0.42263232345442175,
          -2.324469806169129,
          1.9168979306344651,
          -0.0009210712168260685,
          -1.1556686652247599,
          0.822030953642305,
          -0.12115398100375059,
          -0.761490690836794,
          0.15579305221801515,
          -1.4847442594265914,
          -0.3972192958888316,
          0.6560364566207801,
          -0.13021767709572385,
          -1.457154847463913,
          -0.5769217709750978,
          -0.6879928014931928,
          0.8548722443332224,
          1.0415703051612732,
          0.03128562644400487,
          -0.1581166115922977,
          0.4637674127723924,
          -0.7682640886276002,
          -1.4362091480158106,
          -0.8318808089892663,
          1.9187921617026056,
          -1.4559329748981986,
          1.8818154786472323,
          -0.7263420773813469,
          0.2244866827468697,
          -1.576549265491964,
          -0.27725949988951853,
          1.850272178734371,
          -0.1920227832110244,
          -1.042785188315941,
          -0.7042997286034733,
          -1.8633589008292812,
          0.18097291381572225,
          -0.04928432713757553,
          2.3487718123105985,
          -0.0993482754106261,
          -0.1857671198067143,
          -1.015836065676018,
          1.1036300679190518,
          -0.6625012342613555,
          -0.15362109984995775,
          0.7814957994822236,
          -0.48081501642828817,
          -0.26191947958091033,
          -1.1012484706391648,
          2.488726384379564,
          -0.3666419932097134,
          0.10953998823415359,
          -0.3407958793932765,
          -1.0896937667635471,
          0.6391060984350521,
          -0.4949108736043691,
          0.09934455010362163,
          -0.8128142011529333,
          1.1399540042227818,
          0.559091010194793,
          1.8450975507014156,
          -0.7320799455626289,
          0.6657571665120307,
          -0.21193125260343734,
          -1.1962078533671796,
          0.8246817510121213,
          0.005705869259143747,
          1.1621344546334256,
          -0.40672163155047486,
          0.43418479240070235,
          -0.1676393444309276,
          1.8753100547594126,
          0.803100678268245,
          -0.7037504704638958,
          -0.06803244895829572,
          0.26032931396568176,
          0.9507871650753246,
          0.9026830194735854,
          0.19134400603202567,
          -1.5158594202389262,
          0.6083905806138107,
          0.5847508262330771,
          -2.1856144816221112,
          1.1433174466344616,
          -0.20543203471603827,
          0.10174337986287083,
          -1.086343489037349,
          1.0460832807357685,
          0.46797278141809384,
          1.387173078757153
         ],
         "xaxis": "x4",
         "y": [
          -0.5656412823360386,
          1.0360792852296468,
          -0.03441248758142155,
          0.23182280061860472,
          1.0088992008914284,
          -0.026715148537010024,
          -0.20315796235413472,
          0.5245229236865366,
          -3.2191295497186694,
          0.17164228604067813,
          0.582247745637063,
          0.9289059114631611,
          -0.7591861803041988,
          -0.24277993570070505,
          -0.1323275276500544,
          -0.5466769746668216,
          0.7177731503109126,
          -0.8191814660705794,
          -1.4310336841345486,
          0.2573153328506282,
          1.3408244257300779,
          0.486032440581521,
          -1.2308345803153686,
          -1.4608107584460366,
          0.8732239163610039,
          0.4567394249492647,
          -1.899861957922655,
          0.28173525063683097,
          -0.21805371925692918,
          1.2626935583320715,
          0.49886751555253367,
          1.4174111664802422,
          0.22660528690867696,
          -0.6502747916185775,
          0.16897409062805457,
          1.21279856642119,
          1.1143424086245766,
          -0.3483420722554928,
          -0.6696543666981883,
          -1.0632252096403403,
          -0.15225141923354557,
          1.316625588404699,
          1.1720151527353133,
          -0.027287875274585364,
          -1.0293154035381185,
          -0.37492772031126287,
          -0.04096023078323834,
          1.182570779299944,
          -1.376390923724631,
          -0.799936281543547,
          -0.707307351593801,
          0.02001897453784066,
          -0.978294769085192,
          0.8508279002602976,
          -0.5342831423012391,
          -0.36185037495602906,
          -0.8056130603514121,
          0.4111895792611264,
          0.004379479525213149,
          0.21780913118781245,
          0.6211677456201348,
          -0.7793003130748717,
          1.103489152734224,
          -1.7904817940423041,
          1.0010689343246126,
          1.8918588281108983,
          1.2977984640817777,
          0.3259841032981575,
          2.0815712057108744,
          0.8383496802803703,
          1.7472868342739443,
          -0.07719520587663783,
          0.9413390291554022,
          1.3834950208674481,
          -0.5569585432839406,
          -1.819230204577346,
          0.12169655584130164,
          1.5616824263876785,
          -0.45356471914135854,
          0.19676060898221412,
          0.009000319539798945,
          -0.2249124640829556,
          -0.2188737751900468,
          0.10764137132759453,
          0.11196929653740105,
          1.1665818342784908,
          -2.020826309495809,
          2.793163479046665,
          0.30526228066973804,
          -0.565887028976998,
          -0.2001466520368511,
          -0.5436753674793958,
          -1.343875859753172,
          0.6112457603338765,
          -0.7813886684840383,
          -1.22303424769474,
          0.4600825033400545,
          0.1383873846734834,
          -0.08138809268576497,
          0.8471112760129539
         ],
         "yaxis": "y4"
        },
        {
         "line": {
          "color": "rgba(128, 128, 128, 1.0)",
          "dash": "solid",
          "shape": "linear",
          "width": 1.3
         },
         "marker": {
          "size": 2,
          "symbol": "circle"
         },
         "mode": "markers",
         "name": "B",
         "text": "",
         "type": "scatter",
         "x": [
          -0.5656412823360386,
          1.0360792852296468,
          -0.03441248758142155,
          0.23182280061860472,
          1.0088992008914284,
          -0.026715148537010024,
          -0.20315796235413472,
          0.5245229236865366,
          -3.2191295497186694,
          0.17164228604067813,
          0.582247745637063,
          0.9289059114631611,
          -0.7591861803041988,
          -0.24277993570070505,
          -0.1323275276500544,
          -0.5466769746668216,
          0.7177731503109126,
          -0.8191814660705794,
          -1.4310336841345486,
          0.2573153328506282,
          1.3408244257300779,
          0.486032440581521,
          -1.2308345803153686,
          -1.4608107584460366,
          0.8732239163610039,
          0.4567394249492647,
          -1.899861957922655,
          0.28173525063683097,
          -0.21805371925692918,
          1.2626935583320715,
          0.49886751555253367,
          1.4174111664802422,
          0.22660528690867696,
          -0.6502747916185775,
          0.16897409062805457,
          1.21279856642119,
          1.1143424086245766,
          -0.3483420722554928,
          -0.6696543666981883,
          -1.0632252096403403,
          -0.15225141923354557,
          1.316625588404699,
          1.1720151527353133,
          -0.027287875274585364,
          -1.0293154035381185,
          -0.37492772031126287,
          -0.04096023078323834,
          1.182570779299944,
          -1.376390923724631,
          -0.799936281543547,
          -0.707307351593801,
          0.02001897453784066,
          -0.978294769085192,
          0.8508279002602976,
          -0.5342831423012391,
          -0.36185037495602906,
          -0.8056130603514121,
          0.4111895792611264,
          0.004379479525213149,
          0.21780913118781245,
          0.6211677456201348,
          -0.7793003130748717,
          1.103489152734224,
          -1.7904817940423041,
          1.0010689343246126,
          1.8918588281108983,
          1.2977984640817777,
          0.3259841032981575,
          2.0815712057108744,
          0.8383496802803703,
          1.7472868342739443,
          -0.07719520587663783,
          0.9413390291554022,
          1.3834950208674481,
          -0.5569585432839406,
          -1.819230204577346,
          0.12169655584130164,
          1.5616824263876785,
          -0.45356471914135854,
          0.19676060898221412,
          0.009000319539798945,
          -0.2249124640829556,
          -0.2188737751900468,
          0.10764137132759453,
          0.11196929653740105,
          1.1665818342784908,
          -2.020826309495809,
          2.793163479046665,
          0.30526228066973804,
          -0.565887028976998,
          -0.2001466520368511,
          -0.5436753674793958,
          -1.343875859753172,
          0.6112457603338765,
          -0.7813886684840383,
          -1.22303424769474,
          0.4600825033400545,
          0.1383873846734834,
          -0.08138809268576497,
          0.8471112760129539
         ],
         "xaxis": "x5",
         "y": [
          0.5645172566075981,
          -0.33932437899341966,
          -1.121520210991983,
          1.6002719901100757,
          1.5016206296259804,
          2.2959127591084303,
          0.6159086177819855,
          -0.7571132946788054,
          -1.8527379210880608,
          -1.1387426139167482,
          -1.1802914715008073,
          0.4863930279547499,
          -0.1972727517360925,
          -0.7045335740979844,
          0.11636261009340494,
          1.1218343682379364,
          0.07716204469597837,
          1.6172483692207498,
          -0.6227123975706295,
          -0.8638472923389473,
          0.7772239006064957,
          -1.0875868898305794,
          -0.8172213602844036,
          -1.6344710636517614,
          0.4380072171404136,
          -0.7353431531149569,
          -1.3292240246460292,
          2.64076103804586,
          -0.29720784590850985,
          1.3985332624862092,
          -0.05460103642841293,
          -1.7202047580904671,
          -2.307117527573707,
          0.26916881133700654,
          -1.7677313247111384,
          0.6385315213928748,
          1.059188957948073,
          -0.671379236360241,
          -1.3058207439934062,
          -0.15458145256593406,
          0.06995526962442203,
          2.5835499038790664,
          -1.046700114776581,
          0.44717854638131416,
          3.0509553348921687,
          1.1735076138718559,
          0.8596597027344738,
          -2.254815679656594,
          0.9087384098230576,
          1.4794324312196547,
          -0.5279978184819706,
          0.11428912177813569,
          -0.3206006243579793,
          0.6369155364690917,
          0.7040933544865097,
          2.1455364197699187,
          -0.310185129037482,
          -1.1884618328539198,
          -0.15786482315368378,
          3.2186195666514505,
          -0.10773828423557187,
          0.002865138432579824,
          -1.1621439679443992,
          1.8796177622458385,
          -1.011011249558588,
          1.26112692119876,
          0.8353625334967835,
          0.2787037798133771,
          -0.29289336451730547,
          -1.210875011885804,
          -0.25852796048510923,
          0.6324642492884567,
          1.8235740793505282,
          0.3069505716985952,
          -2.329145297007603,
          -1.2353938452853468,
          -1.0033728108153268,
          0.0558782491122532,
          -0.004269293450762822,
          -0.5134075458464393,
          0.8650144157816739,
          0.9575917608001567,
          -0.37212330519918413,
          0.22569767089282858,
          -1.4353961812767824,
          0.6047693356914953,
          0.831598022335903,
          0.3532044398283273,
          -0.6478073247627921,
          0.2147827207375652,
          1.1972101878705765,
          -0.12637330565608457,
          1.3462423783258188,
          -0.03648857415205832,
          0.10886015509104147,
          0.31893671014852615,
          0.10171193001652372,
          0.975923288760046,
          0.4650211235038087,
          -0.6218275280285074
         ],
         "yaxis": "y5"
        },
        {
         "histfunc": "count",
         "histnorm": "",
         "marker": {
          "color": "rgba(55, 128, 191, 1.0)",
          "line": {
           "color": "#4D5663",
           "width": 1.3
          }
         },
         "name": "B",
         "nbinsx": 10,
         "opacity": 0.8,
         "orientation": "v",
         "type": "histogram",
         "x": [
          0.5645172566075981,
          -0.33932437899341966,
          -1.121520210991983,
          1.6002719901100757,
          1.5016206296259804,
          2.2959127591084303,
          0.6159086177819855,
          -0.7571132946788054,
          -1.8527379210880608,
          -1.1387426139167482,
          -1.1802914715008073,
          0.4863930279547499,
          -0.1972727517360925,
          -0.7045335740979844,
          0.11636261009340494,
          1.1218343682379364,
          0.07716204469597837,
          1.6172483692207498,
          -0.6227123975706295,
          -0.8638472923389473,
          0.7772239006064957,
          -1.0875868898305794,
          -0.8172213602844036,
          -1.6344710636517614,
          0.4380072171404136,
          -0.7353431531149569,
          -1.3292240246460292,
          2.64076103804586,
          -0.29720784590850985,
          1.3985332624862092,
          -0.05460103642841293,
          -1.7202047580904671,
          -2.307117527573707,
          0.26916881133700654,
          -1.7677313247111384,
          0.6385315213928748,
          1.059188957948073,
          -0.671379236360241,
          -1.3058207439934062,
          -0.15458145256593406,
          0.06995526962442203,
          2.5835499038790664,
          -1.046700114776581,
          0.44717854638131416,
          3.0509553348921687,
          1.1735076138718559,
          0.8596597027344738,
          -2.254815679656594,
          0.9087384098230576,
          1.4794324312196547,
          -0.5279978184819706,
          0.11428912177813569,
          -0.3206006243579793,
          0.6369155364690917,
          0.7040933544865097,
          2.1455364197699187,
          -0.310185129037482,
          -1.1884618328539198,
          -0.15786482315368378,
          3.2186195666514505,
          -0.10773828423557187,
          0.002865138432579824,
          -1.1621439679443992,
          1.8796177622458385,
          -1.011011249558588,
          1.26112692119876,
          0.8353625334967835,
          0.2787037798133771,
          -0.29289336451730547,
          -1.210875011885804,
          -0.25852796048510923,
          0.6324642492884567,
          1.8235740793505282,
          0.3069505716985952,
          -2.329145297007603,
          -1.2353938452853468,
          -1.0033728108153268,
          0.0558782491122532,
          -0.004269293450762822,
          -0.5134075458464393,
          0.8650144157816739,
          0.9575917608001567,
          -0.37212330519918413,
          0.22569767089282858,
          -1.4353961812767824,
          0.6047693356914953,
          0.831598022335903,
          0.3532044398283273,
          -0.6478073247627921,
          0.2147827207375652,
          1.1972101878705765,
          -0.12637330565608457,
          1.3462423783258188,
          -0.03648857415205832,
          0.10886015509104147,
          0.31893671014852615,
          0.10171193001652372,
          0.975923288760046,
          0.4650211235038087,
          -0.6218275280285074
         ],
         "xaxis": "x6",
         "yaxis": "y6"
        },
        {
         "line": {
          "color": "rgba(128, 128, 128, 1.0)",
          "dash": "solid",
          "shape": "linear",
          "width": 1.3
         },
         "marker": {
          "size": 2,
          "symbol": "circle"
         },
         "mode": "markers",
         "name": "B",
         "text": "",
         "type": "scatter",
         "x": [
          -2.146739958101434,
          -0.25301348382365135,
          -0.4678006529789959,
          1.4606355389564618,
          -1.053029059187858,
          0.6583564309383253,
          1.2557003967779428,
          -0.3901218292667429,
          -1.768170831602827,
          1.232214512579578,
          0.4953012904572992,
          0.10626163855495853,
          -0.9062865487957101,
          1.4377033817031488,
          0.12966714167566729,
          -0.49631683240136537,
          0.10118022232583321,
          1.2050920920572787,
          -0.033851344727340964,
          -0.3031727588393859,
          1.795626787097041,
          1.6590999074748964,
          1.184703108828757,
          -0.09339121146934552,
          0.1318140522807218,
          -0.271329903075333,
          -0.037433080426591,
          0.5266097124633199,
          -0.04184233624948661,
          -1.3867995676792457,
          0.22799196459083326,
          0.3657482881768857,
          -1.0692196386643802,
          1.350244839107939,
          0.7355835034493701,
          0.17369969979000266,
          -0.16081528921817426,
          1.226049560303817,
          1.3904477336174936,
          0.37539186396935154,
          -0.2923153758591823,
          1.339458871844019,
          1.1550822183337757,
          0.9161381319826264,
          0.3181408972498468,
          0.8878803706789242,
          0.14556522095000182,
          -0.8957929735550295,
          -0.8656756147440221,
          0.8379349253461297,
          -2.9106639601375672,
          -0.5555967419701171,
          0.6819306724341314,
          -0.9208763345554103,
          0.2817986122648016,
          0.034555487974315895,
          -0.2561507674698253,
          -1.3253918989961624,
          0.4900069958878561,
          -0.16766884745683136,
          0.2652274456557487,
          -0.35034104542085215,
          -1.2443926590883105,
          -0.1461384887203423,
          -0.6581989158191782,
          -0.191008213851882,
          1.2547378610543556,
          0.40303278215971344,
          0.8321172347852366,
          -0.5751617423396881,
          0.9490180361048859,
          -0.08506551470662083,
          -0.44221319644508017,
          -0.573269814959952,
          -1.3946916335305886,
          -0.3681650639814785,
          -0.358803738924242,
          0.7075716853587268,
          0.7639885922071894,
          -0.8461728524859302,
          1.5230378720062514,
          -2.2068407513966823,
          -0.1366748375999527,
          -0.4021695886351473,
          0.2791603668851864,
          -1.9780237332050405,
          -0.45856880363817376,
          0.7207421525794263,
          0.26971957755829545,
          0.4657562094166123,
          1.2492715347644403,
          -0.22842210975332455,
          -0.2870705007107389,
          -0.24208094259732515,
          0.24211934347471437,
          -0.28601364136514074,
          -0.7228755132630907,
          0.15762795990197426,
          -1.7534767132311087,
          -0.02027642619003036
         ],
         "xaxis": "x7",
         "y": [
          0.5645172566075981,
          -0.33932437899341966,
          -1.121520210991983,
          1.6002719901100757,
          1.5016206296259804,
          2.2959127591084303,
          0.6159086177819855,
          -0.7571132946788054,
          -1.8527379210880608,
          -1.1387426139167482,
          -1.1802914715008073,
          0.4863930279547499,
          -0.1972727517360925,
          -0.7045335740979844,
          0.11636261009340494,
          1.1218343682379364,
          0.07716204469597837,
          1.6172483692207498,
          -0.6227123975706295,
          -0.8638472923389473,
          0.7772239006064957,
          -1.0875868898305794,
          -0.8172213602844036,
          -1.6344710636517614,
          0.4380072171404136,
          -0.7353431531149569,
          -1.3292240246460292,
          2.64076103804586,
          -0.29720784590850985,
          1.3985332624862092,
          -0.05460103642841293,
          -1.7202047580904671,
          -2.307117527573707,
          0.26916881133700654,
          -1.7677313247111384,
          0.6385315213928748,
          1.059188957948073,
          -0.671379236360241,
          -1.3058207439934062,
          -0.15458145256593406,
          0.06995526962442203,
          2.5835499038790664,
          -1.046700114776581,
          0.44717854638131416,
          3.0509553348921687,
          1.1735076138718559,
          0.8596597027344738,
          -2.254815679656594,
          0.9087384098230576,
          1.4794324312196547,
          -0.5279978184819706,
          0.11428912177813569,
          -0.3206006243579793,
          0.6369155364690917,
          0.7040933544865097,
          2.1455364197699187,
          -0.310185129037482,
          -1.1884618328539198,
          -0.15786482315368378,
          3.2186195666514505,
          -0.10773828423557187,
          0.002865138432579824,
          -1.1621439679443992,
          1.8796177622458385,
          -1.011011249558588,
          1.26112692119876,
          0.8353625334967835,
          0.2787037798133771,
          -0.29289336451730547,
          -1.210875011885804,
          -0.25852796048510923,
          0.6324642492884567,
          1.8235740793505282,
          0.3069505716985952,
          -2.329145297007603,
          -1.2353938452853468,
          -1.0033728108153268,
          0.0558782491122532,
          -0.004269293450762822,
          -0.5134075458464393,
          0.8650144157816739,
          0.9575917608001567,
          -0.37212330519918413,
          0.22569767089282858,
          -1.4353961812767824,
          0.6047693356914953,
          0.831598022335903,
          0.3532044398283273,
          -0.6478073247627921,
          0.2147827207375652,
          1.1972101878705765,
          -0.12637330565608457,
          1.3462423783258188,
          -0.03648857415205832,
          0.10886015509104147,
          0.31893671014852615,
          0.10171193001652372,
          0.975923288760046,
          0.4650211235038087,
          -0.6218275280285074
         ],
         "yaxis": "y7"
        },
        {
         "line": {
          "color": "rgba(128, 128, 128, 1.0)",
          "dash": "solid",
          "shape": "linear",
          "width": 1.3
         },
         "marker": {
          "size": 2,
          "symbol": "circle"
         },
         "mode": "markers",
         "name": "B",
         "text": "",
         "type": "scatter",
         "x": [
          -0.6151624147627686,
          0.8642179796660394,
          1.6150075801940003,
          -0.28029472345158046,
          -0.6419889247977699,
          0.08072927789314675,
          0.6971146264882752,
          -2.198296078188932,
          -1.0704538706327174,
          1.0349241595097776,
          -0.42263232345442175,
          -2.324469806169129,
          1.9168979306344651,
          -0.0009210712168260685,
          -1.1556686652247599,
          0.822030953642305,
          -0.12115398100375059,
          -0.761490690836794,
          0.15579305221801515,
          -1.4847442594265914,
          -0.3972192958888316,
          0.6560364566207801,
          -0.13021767709572385,
          -1.457154847463913,
          -0.5769217709750978,
          -0.6879928014931928,
          0.8548722443332224,
          1.0415703051612732,
          0.03128562644400487,
          -0.1581166115922977,
          0.4637674127723924,
          -0.7682640886276002,
          -1.4362091480158106,
          -0.8318808089892663,
          1.9187921617026056,
          -1.4559329748981986,
          1.8818154786472323,
          -0.7263420773813469,
          0.2244866827468697,
          -1.576549265491964,
          -0.27725949988951853,
          1.850272178734371,
          -0.1920227832110244,
          -1.042785188315941,
          -0.7042997286034733,
          -1.8633589008292812,
          0.18097291381572225,
          -0.04928432713757553,
          2.3487718123105985,
          -0.0993482754106261,
          -0.1857671198067143,
          -1.015836065676018,
          1.1036300679190518,
          -0.6625012342613555,
          -0.15362109984995775,
          0.7814957994822236,
          -0.48081501642828817,
          -0.26191947958091033,
          -1.1012484706391648,
          2.488726384379564,
          -0.3666419932097134,
          0.10953998823415359,
          -0.3407958793932765,
          -1.0896937667635471,
          0.6391060984350521,
          -0.4949108736043691,
          0.09934455010362163,
          -0.8128142011529333,
          1.1399540042227818,
          0.559091010194793,
          1.8450975507014156,
          -0.7320799455626289,
          0.6657571665120307,
          -0.21193125260343734,
          -1.1962078533671796,
          0.8246817510121213,
          0.005705869259143747,
          1.1621344546334256,
          -0.40672163155047486,
          0.43418479240070235,
          -0.1676393444309276,
          1.8753100547594126,
          0.803100678268245,
          -0.7037504704638958,
          -0.06803244895829572,
          0.26032931396568176,
          0.9507871650753246,
          0.9026830194735854,
          0.19134400603202567,
          -1.5158594202389262,
          0.6083905806138107,
          0.5847508262330771,
          -2.1856144816221112,
          1.1433174466344616,
          -0.20543203471603827,
          0.10174337986287083,
          -1.086343489037349,
          1.0460832807357685,
          0.46797278141809384,
          1.387173078757153
         ],
         "xaxis": "x8",
         "y": [
          0.5645172566075981,
          -0.33932437899341966,
          -1.121520210991983,
          1.6002719901100757,
          1.5016206296259804,
          2.2959127591084303,
          0.6159086177819855,
          -0.7571132946788054,
          -1.8527379210880608,
          -1.1387426139167482,
          -1.1802914715008073,
          0.4863930279547499,
          -0.1972727517360925,
          -0.7045335740979844,
          0.11636261009340494,
          1.1218343682379364,
          0.07716204469597837,
          1.6172483692207498,
          -0.6227123975706295,
          -0.8638472923389473,
          0.7772239006064957,
          -1.0875868898305794,
          -0.8172213602844036,
          -1.6344710636517614,
          0.4380072171404136,
          -0.7353431531149569,
          -1.3292240246460292,
          2.64076103804586,
          -0.29720784590850985,
          1.3985332624862092,
          -0.05460103642841293,
          -1.7202047580904671,
          -2.307117527573707,
          0.26916881133700654,
          -1.7677313247111384,
          0.6385315213928748,
          1.059188957948073,
          -0.671379236360241,
          -1.3058207439934062,
          -0.15458145256593406,
          0.06995526962442203,
          2.5835499038790664,
          -1.046700114776581,
          0.44717854638131416,
          3.0509553348921687,
          1.1735076138718559,
          0.8596597027344738,
          -2.254815679656594,
          0.9087384098230576,
          1.4794324312196547,
          -0.5279978184819706,
          0.11428912177813569,
          -0.3206006243579793,
          0.6369155364690917,
          0.7040933544865097,
          2.1455364197699187,
          -0.310185129037482,
          -1.1884618328539198,
          -0.15786482315368378,
          3.2186195666514505,
          -0.10773828423557187,
          0.002865138432579824,
          -1.1621439679443992,
          1.8796177622458385,
          -1.011011249558588,
          1.26112692119876,
          0.8353625334967835,
          0.2787037798133771,
          -0.29289336451730547,
          -1.210875011885804,
          -0.25852796048510923,
          0.6324642492884567,
          1.8235740793505282,
          0.3069505716985952,
          -2.329145297007603,
          -1.2353938452853468,
          -1.0033728108153268,
          0.0558782491122532,
          -0.004269293450762822,
          -0.5134075458464393,
          0.8650144157816739,
          0.9575917608001567,
          -0.37212330519918413,
          0.22569767089282858,
          -1.4353961812767824,
          0.6047693356914953,
          0.831598022335903,
          0.3532044398283273,
          -0.6478073247627921,
          0.2147827207375652,
          1.1972101878705765,
          -0.12637330565608457,
          1.3462423783258188,
          -0.03648857415205832,
          0.10886015509104147,
          0.31893671014852615,
          0.10171193001652372,
          0.975923288760046,
          0.4650211235038087,
          -0.6218275280285074
         ],
         "yaxis": "y8"
        },
        {
         "line": {
          "color": "rgba(128, 128, 128, 1.0)",
          "dash": "solid",
          "shape": "linear",
          "width": 1.3
         },
         "marker": {
          "size": 2,
          "symbol": "circle"
         },
         "mode": "markers",
         "name": "C",
         "text": "",
         "type": "scatter",
         "x": [
          -0.5656412823360386,
          1.0360792852296468,
          -0.03441248758142155,
          0.23182280061860472,
          1.0088992008914284,
          -0.026715148537010024,
          -0.20315796235413472,
          0.5245229236865366,
          -3.2191295497186694,
          0.17164228604067813,
          0.582247745637063,
          0.9289059114631611,
          -0.7591861803041988,
          -0.24277993570070505,
          -0.1323275276500544,
          -0.5466769746668216,
          0.7177731503109126,
          -0.8191814660705794,
          -1.4310336841345486,
          0.2573153328506282,
          1.3408244257300779,
          0.486032440581521,
          -1.2308345803153686,
          -1.4608107584460366,
          0.8732239163610039,
          0.4567394249492647,
          -1.899861957922655,
          0.28173525063683097,
          -0.21805371925692918,
          1.2626935583320715,
          0.49886751555253367,
          1.4174111664802422,
          0.22660528690867696,
          -0.6502747916185775,
          0.16897409062805457,
          1.21279856642119,
          1.1143424086245766,
          -0.3483420722554928,
          -0.6696543666981883,
          -1.0632252096403403,
          -0.15225141923354557,
          1.316625588404699,
          1.1720151527353133,
          -0.027287875274585364,
          -1.0293154035381185,
          -0.37492772031126287,
          -0.04096023078323834,
          1.182570779299944,
          -1.376390923724631,
          -0.799936281543547,
          -0.707307351593801,
          0.02001897453784066,
          -0.978294769085192,
          0.8508279002602976,
          -0.5342831423012391,
          -0.36185037495602906,
          -0.8056130603514121,
          0.4111895792611264,
          0.004379479525213149,
          0.21780913118781245,
          0.6211677456201348,
          -0.7793003130748717,
          1.103489152734224,
          -1.7904817940423041,
          1.0010689343246126,
          1.8918588281108983,
          1.2977984640817777,
          0.3259841032981575,
          2.0815712057108744,
          0.8383496802803703,
          1.7472868342739443,
          -0.07719520587663783,
          0.9413390291554022,
          1.3834950208674481,
          -0.5569585432839406,
          -1.819230204577346,
          0.12169655584130164,
          1.5616824263876785,
          -0.45356471914135854,
          0.19676060898221412,
          0.009000319539798945,
          -0.2249124640829556,
          -0.2188737751900468,
          0.10764137132759453,
          0.11196929653740105,
          1.1665818342784908,
          -2.020826309495809,
          2.793163479046665,
          0.30526228066973804,
          -0.565887028976998,
          -0.2001466520368511,
          -0.5436753674793958,
          -1.343875859753172,
          0.6112457603338765,
          -0.7813886684840383,
          -1.22303424769474,
          0.4600825033400545,
          0.1383873846734834,
          -0.08138809268576497,
          0.8471112760129539
         ],
         "xaxis": "x9",
         "y": [
          -2.146739958101434,
          -0.25301348382365135,
          -0.4678006529789959,
          1.4606355389564618,
          -1.053029059187858,
          0.6583564309383253,
          1.2557003967779428,
          -0.3901218292667429,
          -1.768170831602827,
          1.232214512579578,
          0.4953012904572992,
          0.10626163855495853,
          -0.9062865487957101,
          1.4377033817031488,
          0.12966714167566729,
          -0.49631683240136537,
          0.10118022232583321,
          1.2050920920572787,
          -0.033851344727340964,
          -0.3031727588393859,
          1.795626787097041,
          1.6590999074748964,
          1.184703108828757,
          -0.09339121146934552,
          0.1318140522807218,
          -0.271329903075333,
          -0.037433080426591,
          0.5266097124633199,
          -0.04184233624948661,
          -1.3867995676792457,
          0.22799196459083326,
          0.3657482881768857,
          -1.0692196386643802,
          1.350244839107939,
          0.7355835034493701,
          0.17369969979000266,
          -0.16081528921817426,
          1.226049560303817,
          1.3904477336174936,
          0.37539186396935154,
          -0.2923153758591823,
          1.339458871844019,
          1.1550822183337757,
          0.9161381319826264,
          0.3181408972498468,
          0.8878803706789242,
          0.14556522095000182,
          -0.8957929735550295,
          -0.8656756147440221,
          0.8379349253461297,
          -2.9106639601375672,
          -0.5555967419701171,
          0.6819306724341314,
          -0.9208763345554103,
          0.2817986122648016,
          0.034555487974315895,
          -0.2561507674698253,
          -1.3253918989961624,
          0.4900069958878561,
          -0.16766884745683136,
          0.2652274456557487,
          -0.35034104542085215,
          -1.2443926590883105,
          -0.1461384887203423,
          -0.6581989158191782,
          -0.191008213851882,
          1.2547378610543556,
          0.40303278215971344,
          0.8321172347852366,
          -0.5751617423396881,
          0.9490180361048859,
          -0.08506551470662083,
          -0.44221319644508017,
          -0.573269814959952,
          -1.3946916335305886,
          -0.3681650639814785,
          -0.358803738924242,
          0.7075716853587268,
          0.7639885922071894,
          -0.8461728524859302,
          1.5230378720062514,
          -2.2068407513966823,
          -0.1366748375999527,
          -0.4021695886351473,
          0.2791603668851864,
          -1.9780237332050405,
          -0.45856880363817376,
          0.7207421525794263,
          0.26971957755829545,
          0.4657562094166123,
          1.2492715347644403,
          -0.22842210975332455,
          -0.2870705007107389,
          -0.24208094259732515,
          0.24211934347471437,
          -0.28601364136514074,
          -0.7228755132630907,
          0.15762795990197426,
          -1.7534767132311087,
          -0.02027642619003036
         ],
         "yaxis": "y9"
        },
        {
         "line": {
          "color": "rgba(128, 128, 128, 1.0)",
          "dash": "solid",
          "shape": "linear",
          "width": 1.3
         },
         "marker": {
          "size": 2,
          "symbol": "circle"
         },
         "mode": "markers",
         "name": "C",
         "text": "",
         "type": "scatter",
         "x": [
          0.5645172566075981,
          -0.33932437899341966,
          -1.121520210991983,
          1.6002719901100757,
          1.5016206296259804,
          2.2959127591084303,
          0.6159086177819855,
          -0.7571132946788054,
          -1.8527379210880608,
          -1.1387426139167482,
          -1.1802914715008073,
          0.4863930279547499,
          -0.1972727517360925,
          -0.7045335740979844,
          0.11636261009340494,
          1.1218343682379364,
          0.07716204469597837,
          1.6172483692207498,
          -0.6227123975706295,
          -0.8638472923389473,
          0.7772239006064957,
          -1.0875868898305794,
          -0.8172213602844036,
          -1.6344710636517614,
          0.4380072171404136,
          -0.7353431531149569,
          -1.3292240246460292,
          2.64076103804586,
          -0.29720784590850985,
          1.3985332624862092,
          -0.05460103642841293,
          -1.7202047580904671,
          -2.307117527573707,
          0.26916881133700654,
          -1.7677313247111384,
          0.6385315213928748,
          1.059188957948073,
          -0.671379236360241,
          -1.3058207439934062,
          -0.15458145256593406,
          0.06995526962442203,
          2.5835499038790664,
          -1.046700114776581,
          0.44717854638131416,
          3.0509553348921687,
          1.1735076138718559,
          0.8596597027344738,
          -2.254815679656594,
          0.9087384098230576,
          1.4794324312196547,
          -0.5279978184819706,
          0.11428912177813569,
          -0.3206006243579793,
          0.6369155364690917,
          0.7040933544865097,
          2.1455364197699187,
          -0.310185129037482,
          -1.1884618328539198,
          -0.15786482315368378,
          3.2186195666514505,
          -0.10773828423557187,
          0.002865138432579824,
          -1.1621439679443992,
          1.8796177622458385,
          -1.011011249558588,
          1.26112692119876,
          0.8353625334967835,
          0.2787037798133771,
          -0.29289336451730547,
          -1.210875011885804,
          -0.25852796048510923,
          0.6324642492884567,
          1.8235740793505282,
          0.3069505716985952,
          -2.329145297007603,
          -1.2353938452853468,
          -1.0033728108153268,
          0.0558782491122532,
          -0.004269293450762822,
          -0.5134075458464393,
          0.8650144157816739,
          0.9575917608001567,
          -0.37212330519918413,
          0.22569767089282858,
          -1.4353961812767824,
          0.6047693356914953,
          0.831598022335903,
          0.3532044398283273,
          -0.6478073247627921,
          0.2147827207375652,
          1.1972101878705765,
          -0.12637330565608457,
          1.3462423783258188,
          -0.03648857415205832,
          0.10886015509104147,
          0.31893671014852615,
          0.10171193001652372,
          0.975923288760046,
          0.4650211235038087,
          -0.6218275280285074
         ],
         "xaxis": "x10",
         "y": [
          -2.146739958101434,
          -0.25301348382365135,
          -0.4678006529789959,
          1.4606355389564618,
          -1.053029059187858,
          0.6583564309383253,
          1.2557003967779428,
          -0.3901218292667429,
          -1.768170831602827,
          1.232214512579578,
          0.4953012904572992,
          0.10626163855495853,
          -0.9062865487957101,
          1.4377033817031488,
          0.12966714167566729,
          -0.49631683240136537,
          0.10118022232583321,
          1.2050920920572787,
          -0.033851344727340964,
          -0.3031727588393859,
          1.795626787097041,
          1.6590999074748964,
          1.184703108828757,
          -0.09339121146934552,
          0.1318140522807218,
          -0.271329903075333,
          -0.037433080426591,
          0.5266097124633199,
          -0.04184233624948661,
          -1.3867995676792457,
          0.22799196459083326,
          0.3657482881768857,
          -1.0692196386643802,
          1.350244839107939,
          0.7355835034493701,
          0.17369969979000266,
          -0.16081528921817426,
          1.226049560303817,
          1.3904477336174936,
          0.37539186396935154,
          -0.2923153758591823,
          1.339458871844019,
          1.1550822183337757,
          0.9161381319826264,
          0.3181408972498468,
          0.8878803706789242,
          0.14556522095000182,
          -0.8957929735550295,
          -0.8656756147440221,
          0.8379349253461297,
          -2.9106639601375672,
          -0.5555967419701171,
          0.6819306724341314,
          -0.9208763345554103,
          0.2817986122648016,
          0.034555487974315895,
          -0.2561507674698253,
          -1.3253918989961624,
          0.4900069958878561,
          -0.16766884745683136,
          0.2652274456557487,
          -0.35034104542085215,
          -1.2443926590883105,
          -0.1461384887203423,
          -0.6581989158191782,
          -0.191008213851882,
          1.2547378610543556,
          0.40303278215971344,
          0.8321172347852366,
          -0.5751617423396881,
          0.9490180361048859,
          -0.08506551470662083,
          -0.44221319644508017,
          -0.573269814959952,
          -1.3946916335305886,
          -0.3681650639814785,
          -0.358803738924242,
          0.7075716853587268,
          0.7639885922071894,
          -0.8461728524859302,
          1.5230378720062514,
          -2.2068407513966823,
          -0.1366748375999527,
          -0.4021695886351473,
          0.2791603668851864,
          -1.9780237332050405,
          -0.45856880363817376,
          0.7207421525794263,
          0.26971957755829545,
          0.4657562094166123,
          1.2492715347644403,
          -0.22842210975332455,
          -0.2870705007107389,
          -0.24208094259732515,
          0.24211934347471437,
          -0.28601364136514074,
          -0.7228755132630907,
          0.15762795990197426,
          -1.7534767132311087,
          -0.02027642619003036
         ],
         "yaxis": "y10"
        },
        {
         "histfunc": "count",
         "histnorm": "",
         "marker": {
          "color": "rgba(50, 171, 96, 1.0)",
          "line": {
           "color": "#4D5663",
           "width": 1.3
          }
         },
         "name": "C",
         "nbinsx": 10,
         "opacity": 0.8,
         "orientation": "v",
         "type": "histogram",
         "x": [
          -2.146739958101434,
          -0.25301348382365135,
          -0.4678006529789959,
          1.4606355389564618,
          -1.053029059187858,
          0.6583564309383253,
          1.2557003967779428,
          -0.3901218292667429,
          -1.768170831602827,
          1.232214512579578,
          0.4953012904572992,
          0.10626163855495853,
          -0.9062865487957101,
          1.4377033817031488,
          0.12966714167566729,
          -0.49631683240136537,
          0.10118022232583321,
          1.2050920920572787,
          -0.033851344727340964,
          -0.3031727588393859,
          1.795626787097041,
          1.6590999074748964,
          1.184703108828757,
          -0.09339121146934552,
          0.1318140522807218,
          -0.271329903075333,
          -0.037433080426591,
          0.5266097124633199,
          -0.04184233624948661,
          -1.3867995676792457,
          0.22799196459083326,
          0.3657482881768857,
          -1.0692196386643802,
          1.350244839107939,
          0.7355835034493701,
          0.17369969979000266,
          -0.16081528921817426,
          1.226049560303817,
          1.3904477336174936,
          0.37539186396935154,
          -0.2923153758591823,
          1.339458871844019,
          1.1550822183337757,
          0.9161381319826264,
          0.3181408972498468,
          0.8878803706789242,
          0.14556522095000182,
          -0.8957929735550295,
          -0.8656756147440221,
          0.8379349253461297,
          -2.9106639601375672,
          -0.5555967419701171,
          0.6819306724341314,
          -0.9208763345554103,
          0.2817986122648016,
          0.034555487974315895,
          -0.2561507674698253,
          -1.3253918989961624,
          0.4900069958878561,
          -0.16766884745683136,
          0.2652274456557487,
          -0.35034104542085215,
          -1.2443926590883105,
          -0.1461384887203423,
          -0.6581989158191782,
          -0.191008213851882,
          1.2547378610543556,
          0.40303278215971344,
          0.8321172347852366,
          -0.5751617423396881,
          0.9490180361048859,
          -0.08506551470662083,
          -0.44221319644508017,
          -0.573269814959952,
          -1.3946916335305886,
          -0.3681650639814785,
          -0.358803738924242,
          0.7075716853587268,
          0.7639885922071894,
          -0.8461728524859302,
          1.5230378720062514,
          -2.2068407513966823,
          -0.1366748375999527,
          -0.4021695886351473,
          0.2791603668851864,
          -1.9780237332050405,
          -0.45856880363817376,
          0.7207421525794263,
          0.26971957755829545,
          0.4657562094166123,
          1.2492715347644403,
          -0.22842210975332455,
          -0.2870705007107389,
          -0.24208094259732515,
          0.24211934347471437,
          -0.28601364136514074,
          -0.7228755132630907,
          0.15762795990197426,
          -1.7534767132311087,
          -0.02027642619003036
         ],
         "xaxis": "x11",
         "yaxis": "y11"
        },
        {
         "line": {
          "color": "rgba(128, 128, 128, 1.0)",
          "dash": "solid",
          "shape": "linear",
          "width": 1.3
         },
         "marker": {
          "size": 2,
          "symbol": "circle"
         },
         "mode": "markers",
         "name": "C",
         "text": "",
         "type": "scatter",
         "x": [
          -0.6151624147627686,
          0.8642179796660394,
          1.6150075801940003,
          -0.28029472345158046,
          -0.6419889247977699,
          0.08072927789314675,
          0.6971146264882752,
          -2.198296078188932,
          -1.0704538706327174,
          1.0349241595097776,
          -0.42263232345442175,
          -2.324469806169129,
          1.9168979306344651,
          -0.0009210712168260685,
          -1.1556686652247599,
          0.822030953642305,
          -0.12115398100375059,
          -0.761490690836794,
          0.15579305221801515,
          -1.4847442594265914,
          -0.3972192958888316,
          0.6560364566207801,
          -0.13021767709572385,
          -1.457154847463913,
          -0.5769217709750978,
          -0.6879928014931928,
          0.8548722443332224,
          1.0415703051612732,
          0.03128562644400487,
          -0.1581166115922977,
          0.4637674127723924,
          -0.7682640886276002,
          -1.4362091480158106,
          -0.8318808089892663,
          1.9187921617026056,
          -1.4559329748981986,
          1.8818154786472323,
          -0.7263420773813469,
          0.2244866827468697,
          -1.576549265491964,
          -0.27725949988951853,
          1.850272178734371,
          -0.1920227832110244,
          -1.042785188315941,
          -0.7042997286034733,
          -1.8633589008292812,
          0.18097291381572225,
          -0.04928432713757553,
          2.3487718123105985,
          -0.0993482754106261,
          -0.1857671198067143,
          -1.015836065676018,
          1.1036300679190518,
          -0.6625012342613555,
          -0.15362109984995775,
          0.7814957994822236,
          -0.48081501642828817,
          -0.26191947958091033,
          -1.1012484706391648,
          2.488726384379564,
          -0.3666419932097134,
          0.10953998823415359,
          -0.3407958793932765,
          -1.0896937667635471,
          0.6391060984350521,
          -0.4949108736043691,
          0.09934455010362163,
          -0.8128142011529333,
          1.1399540042227818,
          0.559091010194793,
          1.8450975507014156,
          -0.7320799455626289,
          0.6657571665120307,
          -0.21193125260343734,
          -1.1962078533671796,
          0.8246817510121213,
          0.005705869259143747,
          1.1621344546334256,
          -0.40672163155047486,
          0.43418479240070235,
          -0.1676393444309276,
          1.8753100547594126,
          0.803100678268245,
          -0.7037504704638958,
          -0.06803244895829572,
          0.26032931396568176,
          0.9507871650753246,
          0.9026830194735854,
          0.19134400603202567,
          -1.5158594202389262,
          0.6083905806138107,
          0.5847508262330771,
          -2.1856144816221112,
          1.1433174466344616,
          -0.20543203471603827,
          0.10174337986287083,
          -1.086343489037349,
          1.0460832807357685,
          0.46797278141809384,
          1.387173078757153
         ],
         "xaxis": "x12",
         "y": [
          -2.146739958101434,
          -0.25301348382365135,
          -0.4678006529789959,
          1.4606355389564618,
          -1.053029059187858,
          0.6583564309383253,
          1.2557003967779428,
          -0.3901218292667429,
          -1.768170831602827,
          1.232214512579578,
          0.4953012904572992,
          0.10626163855495853,
          -0.9062865487957101,
          1.4377033817031488,
          0.12966714167566729,
          -0.49631683240136537,
          0.10118022232583321,
          1.2050920920572787,
          -0.033851344727340964,
          -0.3031727588393859,
          1.795626787097041,
          1.6590999074748964,
          1.184703108828757,
          -0.09339121146934552,
          0.1318140522807218,
          -0.271329903075333,
          -0.037433080426591,
          0.5266097124633199,
          -0.04184233624948661,
          -1.3867995676792457,
          0.22799196459083326,
          0.3657482881768857,
          -1.0692196386643802,
          1.350244839107939,
          0.7355835034493701,
          0.17369969979000266,
          -0.16081528921817426,
          1.226049560303817,
          1.3904477336174936,
          0.37539186396935154,
          -0.2923153758591823,
          1.339458871844019,
          1.1550822183337757,
          0.9161381319826264,
          0.3181408972498468,
          0.8878803706789242,
          0.14556522095000182,
          -0.8957929735550295,
          -0.8656756147440221,
          0.8379349253461297,
          -2.9106639601375672,
          -0.5555967419701171,
          0.6819306724341314,
          -0.9208763345554103,
          0.2817986122648016,
          0.034555487974315895,
          -0.2561507674698253,
          -1.3253918989961624,
          0.4900069958878561,
          -0.16766884745683136,
          0.2652274456557487,
          -0.35034104542085215,
          -1.2443926590883105,
          -0.1461384887203423,
          -0.6581989158191782,
          -0.191008213851882,
          1.2547378610543556,
          0.40303278215971344,
          0.8321172347852366,
          -0.5751617423396881,
          0.9490180361048859,
          -0.08506551470662083,
          -0.44221319644508017,
          -0.573269814959952,
          -1.3946916335305886,
          -0.3681650639814785,
          -0.358803738924242,
          0.7075716853587268,
          0.7639885922071894,
          -0.8461728524859302,
          1.5230378720062514,
          -2.2068407513966823,
          -0.1366748375999527,
          -0.4021695886351473,
          0.2791603668851864,
          -1.9780237332050405,
          -0.45856880363817376,
          0.7207421525794263,
          0.26971957755829545,
          0.4657562094166123,
          1.2492715347644403,
          -0.22842210975332455,
          -0.2870705007107389,
          -0.24208094259732515,
          0.24211934347471437,
          -0.28601364136514074,
          -0.7228755132630907,
          0.15762795990197426,
          -1.7534767132311087,
          -0.02027642619003036
         ],
         "yaxis": "y12"
        },
        {
         "line": {
          "color": "rgba(128, 128, 128, 1.0)",
          "dash": "solid",
          "shape": "linear",
          "width": 1.3
         },
         "marker": {
          "size": 2,
          "symbol": "circle"
         },
         "mode": "markers",
         "name": "D",
         "text": "",
         "type": "scatter",
         "x": [
          -0.5656412823360386,
          1.0360792852296468,
          -0.03441248758142155,
          0.23182280061860472,
          1.0088992008914284,
          -0.026715148537010024,
          -0.20315796235413472,
          0.5245229236865366,
          -3.2191295497186694,
          0.17164228604067813,
          0.582247745637063,
          0.9289059114631611,
          -0.7591861803041988,
          -0.24277993570070505,
          -0.1323275276500544,
          -0.5466769746668216,
          0.7177731503109126,
          -0.8191814660705794,
          -1.4310336841345486,
          0.2573153328506282,
          1.3408244257300779,
          0.486032440581521,
          -1.2308345803153686,
          -1.4608107584460366,
          0.8732239163610039,
          0.4567394249492647,
          -1.899861957922655,
          0.28173525063683097,
          -0.21805371925692918,
          1.2626935583320715,
          0.49886751555253367,
          1.4174111664802422,
          0.22660528690867696,
          -0.6502747916185775,
          0.16897409062805457,
          1.21279856642119,
          1.1143424086245766,
          -0.3483420722554928,
          -0.6696543666981883,
          -1.0632252096403403,
          -0.15225141923354557,
          1.316625588404699,
          1.1720151527353133,
          -0.027287875274585364,
          -1.0293154035381185,
          -0.37492772031126287,
          -0.04096023078323834,
          1.182570779299944,
          -1.376390923724631,
          -0.799936281543547,
          -0.707307351593801,
          0.02001897453784066,
          -0.978294769085192,
          0.8508279002602976,
          -0.5342831423012391,
          -0.36185037495602906,
          -0.8056130603514121,
          0.4111895792611264,
          0.004379479525213149,
          0.21780913118781245,
          0.6211677456201348,
          -0.7793003130748717,
          1.103489152734224,
          -1.7904817940423041,
          1.0010689343246126,
          1.8918588281108983,
          1.2977984640817777,
          0.3259841032981575,
          2.0815712057108744,
          0.8383496802803703,
          1.7472868342739443,
          -0.07719520587663783,
          0.9413390291554022,
          1.3834950208674481,
          -0.5569585432839406,
          -1.819230204577346,
          0.12169655584130164,
          1.5616824263876785,
          -0.45356471914135854,
          0.19676060898221412,
          0.009000319539798945,
          -0.2249124640829556,
          -0.2188737751900468,
          0.10764137132759453,
          0.11196929653740105,
          1.1665818342784908,
          -2.020826309495809,
          2.793163479046665,
          0.30526228066973804,
          -0.565887028976998,
          -0.2001466520368511,
          -0.5436753674793958,
          -1.343875859753172,
          0.6112457603338765,
          -0.7813886684840383,
          -1.22303424769474,
          0.4600825033400545,
          0.1383873846734834,
          -0.08138809268576497,
          0.8471112760129539
         ],
         "xaxis": "x13",
         "y": [
          -0.6151624147627686,
          0.8642179796660394,
          1.6150075801940003,
          -0.28029472345158046,
          -0.6419889247977699,
          0.08072927789314675,
          0.6971146264882752,
          -2.198296078188932,
          -1.0704538706327174,
          1.0349241595097776,
          -0.42263232345442175,
          -2.324469806169129,
          1.9168979306344651,
          -0.0009210712168260685,
          -1.1556686652247599,
          0.822030953642305,
          -0.12115398100375059,
          -0.761490690836794,
          0.15579305221801515,
          -1.4847442594265914,
          -0.3972192958888316,
          0.6560364566207801,
          -0.13021767709572385,
          -1.457154847463913,
          -0.5769217709750978,
          -0.6879928014931928,
          0.8548722443332224,
          1.0415703051612732,
          0.03128562644400487,
          -0.1581166115922977,
          0.4637674127723924,
          -0.7682640886276002,
          -1.4362091480158106,
          -0.8318808089892663,
          1.9187921617026056,
          -1.4559329748981986,
          1.8818154786472323,
          -0.7263420773813469,
          0.2244866827468697,
          -1.576549265491964,
          -0.27725949988951853,
          1.850272178734371,
          -0.1920227832110244,
          -1.042785188315941,
          -0.7042997286034733,
          -1.8633589008292812,
          0.18097291381572225,
          -0.04928432713757553,
          2.3487718123105985,
          -0.0993482754106261,
          -0.1857671198067143,
          -1.015836065676018,
          1.1036300679190518,
          -0.6625012342613555,
          -0.15362109984995775,
          0.7814957994822236,
          -0.48081501642828817,
          -0.26191947958091033,
          -1.1012484706391648,
          2.488726384379564,
          -0.3666419932097134,
          0.10953998823415359,
          -0.3407958793932765,
          -1.0896937667635471,
          0.6391060984350521,
          -0.4949108736043691,
          0.09934455010362163,
          -0.8128142011529333,
          1.1399540042227818,
          0.559091010194793,
          1.8450975507014156,
          -0.7320799455626289,
          0.6657571665120307,
          -0.21193125260343734,
          -1.1962078533671796,
          0.8246817510121213,
          0.005705869259143747,
          1.1621344546334256,
          -0.40672163155047486,
          0.43418479240070235,
          -0.1676393444309276,
          1.8753100547594126,
          0.803100678268245,
          -0.7037504704638958,
          -0.06803244895829572,
          0.26032931396568176,
          0.9507871650753246,
          0.9026830194735854,
          0.19134400603202567,
          -1.5158594202389262,
          0.6083905806138107,
          0.5847508262330771,
          -2.1856144816221112,
          1.1433174466344616,
          -0.20543203471603827,
          0.10174337986287083,
          -1.086343489037349,
          1.0460832807357685,
          0.46797278141809384,
          1.387173078757153
         ],
         "yaxis": "y13"
        },
        {
         "line": {
          "color": "rgba(128, 128, 128, 1.0)",
          "dash": "solid",
          "shape": "linear",
          "width": 1.3
         },
         "marker": {
          "size": 2,
          "symbol": "circle"
         },
         "mode": "markers",
         "name": "D",
         "text": "",
         "type": "scatter",
         "x": [
          0.5645172566075981,
          -0.33932437899341966,
          -1.121520210991983,
          1.6002719901100757,
          1.5016206296259804,
          2.2959127591084303,
          0.6159086177819855,
          -0.7571132946788054,
          -1.8527379210880608,
          -1.1387426139167482,
          -1.1802914715008073,
          0.4863930279547499,
          -0.1972727517360925,
          -0.7045335740979844,
          0.11636261009340494,
          1.1218343682379364,
          0.07716204469597837,
          1.6172483692207498,
          -0.6227123975706295,
          -0.8638472923389473,
          0.7772239006064957,
          -1.0875868898305794,
          -0.8172213602844036,
          -1.6344710636517614,
          0.4380072171404136,
          -0.7353431531149569,
          -1.3292240246460292,
          2.64076103804586,
          -0.29720784590850985,
          1.3985332624862092,
          -0.05460103642841293,
          -1.7202047580904671,
          -2.307117527573707,
          0.26916881133700654,
          -1.7677313247111384,
          0.6385315213928748,
          1.059188957948073,
          -0.671379236360241,
          -1.3058207439934062,
          -0.15458145256593406,
          0.06995526962442203,
          2.5835499038790664,
          -1.046700114776581,
          0.44717854638131416,
          3.0509553348921687,
          1.1735076138718559,
          0.8596597027344738,
          -2.254815679656594,
          0.9087384098230576,
          1.4794324312196547,
          -0.5279978184819706,
          0.11428912177813569,
          -0.3206006243579793,
          0.6369155364690917,
          0.7040933544865097,
          2.1455364197699187,
          -0.310185129037482,
          -1.1884618328539198,
          -0.15786482315368378,
          3.2186195666514505,
          -0.10773828423557187,
          0.002865138432579824,
          -1.1621439679443992,
          1.8796177622458385,
          -1.011011249558588,
          1.26112692119876,
          0.8353625334967835,
          0.2787037798133771,
          -0.29289336451730547,
          -1.210875011885804,
          -0.25852796048510923,
          0.6324642492884567,
          1.8235740793505282,
          0.3069505716985952,
          -2.329145297007603,
          -1.2353938452853468,
          -1.0033728108153268,
          0.0558782491122532,
          -0.004269293450762822,
          -0.5134075458464393,
          0.8650144157816739,
          0.9575917608001567,
          -0.37212330519918413,
          0.22569767089282858,
          -1.4353961812767824,
          0.6047693356914953,
          0.831598022335903,
          0.3532044398283273,
          -0.6478073247627921,
          0.2147827207375652,
          1.1972101878705765,
          -0.12637330565608457,
          1.3462423783258188,
          -0.03648857415205832,
          0.10886015509104147,
          0.31893671014852615,
          0.10171193001652372,
          0.975923288760046,
          0.4650211235038087,
          -0.6218275280285074
         ],
         "xaxis": "x14",
         "y": [
          -0.6151624147627686,
          0.8642179796660394,
          1.6150075801940003,
          -0.28029472345158046,
          -0.6419889247977699,
          0.08072927789314675,
          0.6971146264882752,
          -2.198296078188932,
          -1.0704538706327174,
          1.0349241595097776,
          -0.42263232345442175,
          -2.324469806169129,
          1.9168979306344651,
          -0.0009210712168260685,
          -1.1556686652247599,
          0.822030953642305,
          -0.12115398100375059,
          -0.761490690836794,
          0.15579305221801515,
          -1.4847442594265914,
          -0.3972192958888316,
          0.6560364566207801,
          -0.13021767709572385,
          -1.457154847463913,
          -0.5769217709750978,
          -0.6879928014931928,
          0.8548722443332224,
          1.0415703051612732,
          0.03128562644400487,
          -0.1581166115922977,
          0.4637674127723924,
          -0.7682640886276002,
          -1.4362091480158106,
          -0.8318808089892663,
          1.9187921617026056,
          -1.4559329748981986,
          1.8818154786472323,
          -0.7263420773813469,
          0.2244866827468697,
          -1.576549265491964,
          -0.27725949988951853,
          1.850272178734371,
          -0.1920227832110244,
          -1.042785188315941,
          -0.7042997286034733,
          -1.8633589008292812,
          0.18097291381572225,
          -0.04928432713757553,
          2.3487718123105985,
          -0.0993482754106261,
          -0.1857671198067143,
          -1.015836065676018,
          1.1036300679190518,
          -0.6625012342613555,
          -0.15362109984995775,
          0.7814957994822236,
          -0.48081501642828817,
          -0.26191947958091033,
          -1.1012484706391648,
          2.488726384379564,
          -0.3666419932097134,
          0.10953998823415359,
          -0.3407958793932765,
          -1.0896937667635471,
          0.6391060984350521,
          -0.4949108736043691,
          0.09934455010362163,
          -0.8128142011529333,
          1.1399540042227818,
          0.559091010194793,
          1.8450975507014156,
          -0.7320799455626289,
          0.6657571665120307,
          -0.21193125260343734,
          -1.1962078533671796,
          0.8246817510121213,
          0.005705869259143747,
          1.1621344546334256,
          -0.40672163155047486,
          0.43418479240070235,
          -0.1676393444309276,
          1.8753100547594126,
          0.803100678268245,
          -0.7037504704638958,
          -0.06803244895829572,
          0.26032931396568176,
          0.9507871650753246,
          0.9026830194735854,
          0.19134400603202567,
          -1.5158594202389262,
          0.6083905806138107,
          0.5847508262330771,
          -2.1856144816221112,
          1.1433174466344616,
          -0.20543203471603827,
          0.10174337986287083,
          -1.086343489037349,
          1.0460832807357685,
          0.46797278141809384,
          1.387173078757153
         ],
         "yaxis": "y14"
        },
        {
         "line": {
          "color": "rgba(128, 128, 128, 1.0)",
          "dash": "solid",
          "shape": "linear",
          "width": 1.3
         },
         "marker": {
          "size": 2,
          "symbol": "circle"
         },
         "mode": "markers",
         "name": "D",
         "text": "",
         "type": "scatter",
         "x": [
          -2.146739958101434,
          -0.25301348382365135,
          -0.4678006529789959,
          1.4606355389564618,
          -1.053029059187858,
          0.6583564309383253,
          1.2557003967779428,
          -0.3901218292667429,
          -1.768170831602827,
          1.232214512579578,
          0.4953012904572992,
          0.10626163855495853,
          -0.9062865487957101,
          1.4377033817031488,
          0.12966714167566729,
          -0.49631683240136537,
          0.10118022232583321,
          1.2050920920572787,
          -0.033851344727340964,
          -0.3031727588393859,
          1.795626787097041,
          1.6590999074748964,
          1.184703108828757,
          -0.09339121146934552,
          0.1318140522807218,
          -0.271329903075333,
          -0.037433080426591,
          0.5266097124633199,
          -0.04184233624948661,
          -1.3867995676792457,
          0.22799196459083326,
          0.3657482881768857,
          -1.0692196386643802,
          1.350244839107939,
          0.7355835034493701,
          0.17369969979000266,
          -0.16081528921817426,
          1.226049560303817,
          1.3904477336174936,
          0.37539186396935154,
          -0.2923153758591823,
          1.339458871844019,
          1.1550822183337757,
          0.9161381319826264,
          0.3181408972498468,
          0.8878803706789242,
          0.14556522095000182,
          -0.8957929735550295,
          -0.8656756147440221,
          0.8379349253461297,
          -2.9106639601375672,
          -0.5555967419701171,
          0.6819306724341314,
          -0.9208763345554103,
          0.2817986122648016,
          0.034555487974315895,
          -0.2561507674698253,
          -1.3253918989961624,
          0.4900069958878561,
          -0.16766884745683136,
          0.2652274456557487,
          -0.35034104542085215,
          -1.2443926590883105,
          -0.1461384887203423,
          -0.6581989158191782,
          -0.191008213851882,
          1.2547378610543556,
          0.40303278215971344,
          0.8321172347852366,
          -0.5751617423396881,
          0.9490180361048859,
          -0.08506551470662083,
          -0.44221319644508017,
          -0.573269814959952,
          -1.3946916335305886,
          -0.3681650639814785,
          -0.358803738924242,
          0.7075716853587268,
          0.7639885922071894,
          -0.8461728524859302,
          1.5230378720062514,
          -2.2068407513966823,
          -0.1366748375999527,
          -0.4021695886351473,
          0.2791603668851864,
          -1.9780237332050405,
          -0.45856880363817376,
          0.7207421525794263,
          0.26971957755829545,
          0.4657562094166123,
          1.2492715347644403,
          -0.22842210975332455,
          -0.2870705007107389,
          -0.24208094259732515,
          0.24211934347471437,
          -0.28601364136514074,
          -0.7228755132630907,
          0.15762795990197426,
          -1.7534767132311087,
          -0.02027642619003036
         ],
         "xaxis": "x15",
         "y": [
          -0.6151624147627686,
          0.8642179796660394,
          1.6150075801940003,
          -0.28029472345158046,
          -0.6419889247977699,
          0.08072927789314675,
          0.6971146264882752,
          -2.198296078188932,
          -1.0704538706327174,
          1.0349241595097776,
          -0.42263232345442175,
          -2.324469806169129,
          1.9168979306344651,
          -0.0009210712168260685,
          -1.1556686652247599,
          0.822030953642305,
          -0.12115398100375059,
          -0.761490690836794,
          0.15579305221801515,
          -1.4847442594265914,
          -0.3972192958888316,
          0.6560364566207801,
          -0.13021767709572385,
          -1.457154847463913,
          -0.5769217709750978,
          -0.6879928014931928,
          0.8548722443332224,
          1.0415703051612732,
          0.03128562644400487,
          -0.1581166115922977,
          0.4637674127723924,
          -0.7682640886276002,
          -1.4362091480158106,
          -0.8318808089892663,
          1.9187921617026056,
          -1.4559329748981986,
          1.8818154786472323,
          -0.7263420773813469,
          0.2244866827468697,
          -1.576549265491964,
          -0.27725949988951853,
          1.850272178734371,
          -0.1920227832110244,
          -1.042785188315941,
          -0.7042997286034733,
          -1.8633589008292812,
          0.18097291381572225,
          -0.04928432713757553,
          2.3487718123105985,
          -0.0993482754106261,
          -0.1857671198067143,
          -1.015836065676018,
          1.1036300679190518,
          -0.6625012342613555,
          -0.15362109984995775,
          0.7814957994822236,
          -0.48081501642828817,
          -0.26191947958091033,
          -1.1012484706391648,
          2.488726384379564,
          -0.3666419932097134,
          0.10953998823415359,
          -0.3407958793932765,
          -1.0896937667635471,
          0.6391060984350521,
          -0.4949108736043691,
          0.09934455010362163,
          -0.8128142011529333,
          1.1399540042227818,
          0.559091010194793,
          1.8450975507014156,
          -0.7320799455626289,
          0.6657571665120307,
          -0.21193125260343734,
          -1.1962078533671796,
          0.8246817510121213,
          0.005705869259143747,
          1.1621344546334256,
          -0.40672163155047486,
          0.43418479240070235,
          -0.1676393444309276,
          1.8753100547594126,
          0.803100678268245,
          -0.7037504704638958,
          -0.06803244895829572,
          0.26032931396568176,
          0.9507871650753246,
          0.9026830194735854,
          0.19134400603202567,
          -1.5158594202389262,
          0.6083905806138107,
          0.5847508262330771,
          -2.1856144816221112,
          1.1433174466344616,
          -0.20543203471603827,
          0.10174337986287083,
          -1.086343489037349,
          1.0460832807357685,
          0.46797278141809384,
          1.387173078757153
         ],
         "yaxis": "y15"
        },
        {
         "histfunc": "count",
         "histnorm": "",
         "marker": {
          "color": "rgba(128, 0, 128, 1.0)",
          "line": {
           "color": "#4D5663",
           "width": 1.3
          }
         },
         "name": "D",
         "nbinsx": 10,
         "opacity": 0.8,
         "orientation": "v",
         "type": "histogram",
         "x": [
          -0.6151624147627686,
          0.8642179796660394,
          1.6150075801940003,
          -0.28029472345158046,
          -0.6419889247977699,
          0.08072927789314675,
          0.6971146264882752,
          -2.198296078188932,
          -1.0704538706327174,
          1.0349241595097776,
          -0.42263232345442175,
          -2.324469806169129,
          1.9168979306344651,
          -0.0009210712168260685,
          -1.1556686652247599,
          0.822030953642305,
          -0.12115398100375059,
          -0.761490690836794,
          0.15579305221801515,
          -1.4847442594265914,
          -0.3972192958888316,
          0.6560364566207801,
          -0.13021767709572385,
          -1.457154847463913,
          -0.5769217709750978,
          -0.6879928014931928,
          0.8548722443332224,
          1.0415703051612732,
          0.03128562644400487,
          -0.1581166115922977,
          0.4637674127723924,
          -0.7682640886276002,
          -1.4362091480158106,
          -0.8318808089892663,
          1.9187921617026056,
          -1.4559329748981986,
          1.8818154786472323,
          -0.7263420773813469,
          0.2244866827468697,
          -1.576549265491964,
          -0.27725949988951853,
          1.850272178734371,
          -0.1920227832110244,
          -1.042785188315941,
          -0.7042997286034733,
          -1.8633589008292812,
          0.18097291381572225,
          -0.04928432713757553,
          2.3487718123105985,
          -0.0993482754106261,
          -0.1857671198067143,
          -1.015836065676018,
          1.1036300679190518,
          -0.6625012342613555,
          -0.15362109984995775,
          0.7814957994822236,
          -0.48081501642828817,
          -0.26191947958091033,
          -1.1012484706391648,
          2.488726384379564,
          -0.3666419932097134,
          0.10953998823415359,
          -0.3407958793932765,
          -1.0896937667635471,
          0.6391060984350521,
          -0.4949108736043691,
          0.09934455010362163,
          -0.8128142011529333,
          1.1399540042227818,
          0.559091010194793,
          1.8450975507014156,
          -0.7320799455626289,
          0.6657571665120307,
          -0.21193125260343734,
          -1.1962078533671796,
          0.8246817510121213,
          0.005705869259143747,
          1.1621344546334256,
          -0.40672163155047486,
          0.43418479240070235,
          -0.1676393444309276,
          1.8753100547594126,
          0.803100678268245,
          -0.7037504704638958,
          -0.06803244895829572,
          0.26032931396568176,
          0.9507871650753246,
          0.9026830194735854,
          0.19134400603202567,
          -1.5158594202389262,
          0.6083905806138107,
          0.5847508262330771,
          -2.1856144816221112,
          1.1433174466344616,
          -0.20543203471603827,
          0.10174337986287083,
          -1.086343489037349,
          1.0460832807357685,
          0.46797278141809384,
          1.387173078757153
         ],
         "xaxis": "x16",
         "yaxis": "y16"
        }
       ],
       "layout": {
        "bargap": 0.02,
        "legend": {
         "bgcolor": "#F5F6F9",
         "font": {
          "color": "#4D5663"
         }
        },
        "paper_bgcolor": "#F5F6F9",
        "plot_bgcolor": "#F5F6F9",
        "showlegend": false,
        "template": {
         "data": {
          "bar": [
           {
            "error_x": {
             "color": "#2a3f5f"
            },
            "error_y": {
             "color": "#2a3f5f"
            },
            "marker": {
             "line": {
              "color": "#E5ECF6",
              "width": 0.5
             },
             "pattern": {
              "fillmode": "overlay",
              "size": 10,
              "solidity": 0.2
             }
            },
            "type": "bar"
           }
          ],
          "barpolar": [
           {
            "marker": {
             "line": {
              "color": "#E5ECF6",
              "width": 0.5
             },
             "pattern": {
              "fillmode": "overlay",
              "size": 10,
              "solidity": 0.2
             }
            },
            "type": "barpolar"
           }
          ],
          "carpet": [
           {
            "aaxis": {
             "endlinecolor": "#2a3f5f",
             "gridcolor": "white",
             "linecolor": "white",
             "minorgridcolor": "white",
             "startlinecolor": "#2a3f5f"
            },
            "baxis": {
             "endlinecolor": "#2a3f5f",
             "gridcolor": "white",
             "linecolor": "white",
             "minorgridcolor": "white",
             "startlinecolor": "#2a3f5f"
            },
            "type": "carpet"
           }
          ],
          "choropleth": [
           {
            "colorbar": {
             "outlinewidth": 0,
             "ticks": ""
            },
            "type": "choropleth"
           }
          ],
          "contour": [
           {
            "colorbar": {
             "outlinewidth": 0,
             "ticks": ""
            },
            "colorscale": [
             [
              0,
              "#0d0887"
             ],
             [
              0.1111111111111111,
              "#46039f"
             ],
             [
              0.2222222222222222,
              "#7201a8"
             ],
             [
              0.3333333333333333,
              "#9c179e"
             ],
             [
              0.4444444444444444,
              "#bd3786"
             ],
             [
              0.5555555555555556,
              "#d8576b"
             ],
             [
              0.6666666666666666,
              "#ed7953"
             ],
             [
              0.7777777777777778,
              "#fb9f3a"
             ],
             [
              0.8888888888888888,
              "#fdca26"
             ],
             [
              1,
              "#f0f921"
             ]
            ],
            "type": "contour"
           }
          ],
          "contourcarpet": [
           {
            "colorbar": {
             "outlinewidth": 0,
             "ticks": ""
            },
            "type": "contourcarpet"
           }
          ],
          "heatmap": [
           {
            "colorbar": {
             "outlinewidth": 0,
             "ticks": ""
            },
            "colorscale": [
             [
              0,
              "#0d0887"
             ],
             [
              0.1111111111111111,
              "#46039f"
             ],
             [
              0.2222222222222222,
              "#7201a8"
             ],
             [
              0.3333333333333333,
              "#9c179e"
             ],
             [
              0.4444444444444444,
              "#bd3786"
             ],
             [
              0.5555555555555556,
              "#d8576b"
             ],
             [
              0.6666666666666666,
              "#ed7953"
             ],
             [
              0.7777777777777778,
              "#fb9f3a"
             ],
             [
              0.8888888888888888,
              "#fdca26"
             ],
             [
              1,
              "#f0f921"
             ]
            ],
            "type": "heatmap"
           }
          ],
          "heatmapgl": [
           {
            "colorbar": {
             "outlinewidth": 0,
             "ticks": ""
            },
            "colorscale": [
             [
              0,
              "#0d0887"
             ],
             [
              0.1111111111111111,
              "#46039f"
             ],
             [
              0.2222222222222222,
              "#7201a8"
             ],
             [
              0.3333333333333333,
              "#9c179e"
             ],
             [
              0.4444444444444444,
              "#bd3786"
             ],
             [
              0.5555555555555556,
              "#d8576b"
             ],
             [
              0.6666666666666666,
              "#ed7953"
             ],
             [
              0.7777777777777778,
              "#fb9f3a"
             ],
             [
              0.8888888888888888,
              "#fdca26"
             ],
             [
              1,
              "#f0f921"
             ]
            ],
            "type": "heatmapgl"
           }
          ],
          "histogram": [
           {
            "marker": {
             "pattern": {
              "fillmode": "overlay",
              "size": 10,
              "solidity": 0.2
             }
            },
            "type": "histogram"
           }
          ],
          "histogram2d": [
           {
            "colorbar": {
             "outlinewidth": 0,
             "ticks": ""
            },
            "colorscale": [
             [
              0,
              "#0d0887"
             ],
             [
              0.1111111111111111,
              "#46039f"
             ],
             [
              0.2222222222222222,
              "#7201a8"
             ],
             [
              0.3333333333333333,
              "#9c179e"
             ],
             [
              0.4444444444444444,
              "#bd3786"
             ],
             [
              0.5555555555555556,
              "#d8576b"
             ],
             [
              0.6666666666666666,
              "#ed7953"
             ],
             [
              0.7777777777777778,
              "#fb9f3a"
             ],
             [
              0.8888888888888888,
              "#fdca26"
             ],
             [
              1,
              "#f0f921"
             ]
            ],
            "type": "histogram2d"
           }
          ],
          "histogram2dcontour": [
           {
            "colorbar": {
             "outlinewidth": 0,
             "ticks": ""
            },
            "colorscale": [
             [
              0,
              "#0d0887"
             ],
             [
              0.1111111111111111,
              "#46039f"
             ],
             [
              0.2222222222222222,
              "#7201a8"
             ],
             [
              0.3333333333333333,
              "#9c179e"
             ],
             [
              0.4444444444444444,
              "#bd3786"
             ],
             [
              0.5555555555555556,
              "#d8576b"
             ],
             [
              0.6666666666666666,
              "#ed7953"
             ],
             [
              0.7777777777777778,
              "#fb9f3a"
             ],
             [
              0.8888888888888888,
              "#fdca26"
             ],
             [
              1,
              "#f0f921"
             ]
            ],
            "type": "histogram2dcontour"
           }
          ],
          "mesh3d": [
           {
            "colorbar": {
             "outlinewidth": 0,
             "ticks": ""
            },
            "type": "mesh3d"
           }
          ],
          "parcoords": [
           {
            "line": {
             "colorbar": {
              "outlinewidth": 0,
              "ticks": ""
             }
            },
            "type": "parcoords"
           }
          ],
          "pie": [
           {
            "automargin": true,
            "type": "pie"
           }
          ],
          "scatter": [
           {
            "fillpattern": {
             "fillmode": "overlay",
             "size": 10,
             "solidity": 0.2
            },
            "type": "scatter"
           }
          ],
          "scatter3d": [
           {
            "line": {
             "colorbar": {
              "outlinewidth": 0,
              "ticks": ""
             }
            },
            "marker": {
             "colorbar": {
              "outlinewidth": 0,
              "ticks": ""
             }
            },
            "type": "scatter3d"
           }
          ],
          "scattercarpet": [
           {
            "marker": {
             "colorbar": {
              "outlinewidth": 0,
              "ticks": ""
             }
            },
            "type": "scattercarpet"
           }
          ],
          "scattergeo": [
           {
            "marker": {
             "colorbar": {
              "outlinewidth": 0,
              "ticks": ""
             }
            },
            "type": "scattergeo"
           }
          ],
          "scattergl": [
           {
            "marker": {
             "colorbar": {
              "outlinewidth": 0,
              "ticks": ""
             }
            },
            "type": "scattergl"
           }
          ],
          "scattermapbox": [
           {
            "marker": {
             "colorbar": {
              "outlinewidth": 0,
              "ticks": ""
             }
            },
            "type": "scattermapbox"
           }
          ],
          "scatterpolar": [
           {
            "marker": {
             "colorbar": {
              "outlinewidth": 0,
              "ticks": ""
             }
            },
            "type": "scatterpolar"
           }
          ],
          "scatterpolargl": [
           {
            "marker": {
             "colorbar": {
              "outlinewidth": 0,
              "ticks": ""
             }
            },
            "type": "scatterpolargl"
           }
          ],
          "scatterternary": [
           {
            "marker": {
             "colorbar": {
              "outlinewidth": 0,
              "ticks": ""
             }
            },
            "type": "scatterternary"
           }
          ],
          "surface": [
           {
            "colorbar": {
             "outlinewidth": 0,
             "ticks": ""
            },
            "colorscale": [
             [
              0,
              "#0d0887"
             ],
             [
              0.1111111111111111,
              "#46039f"
             ],
             [
              0.2222222222222222,
              "#7201a8"
             ],
             [
              0.3333333333333333,
              "#9c179e"
             ],
             [
              0.4444444444444444,
              "#bd3786"
             ],
             [
              0.5555555555555556,
              "#d8576b"
             ],
             [
              0.6666666666666666,
              "#ed7953"
             ],
             [
              0.7777777777777778,
              "#fb9f3a"
             ],
             [
              0.8888888888888888,
              "#fdca26"
             ],
             [
              1,
              "#f0f921"
             ]
            ],
            "type": "surface"
           }
          ],
          "table": [
           {
            "cells": {
             "fill": {
              "color": "#EBF0F8"
             },
             "line": {
              "color": "white"
             }
            },
            "header": {
             "fill": {
              "color": "#C8D4E3"
             },
             "line": {
              "color": "white"
             }
            },
            "type": "table"
           }
          ]
         },
         "layout": {
          "annotationdefaults": {
           "arrowcolor": "#2a3f5f",
           "arrowhead": 0,
           "arrowwidth": 1
          },
          "autotypenumbers": "strict",
          "coloraxis": {
           "colorbar": {
            "outlinewidth": 0,
            "ticks": ""
           }
          },
          "colorscale": {
           "diverging": [
            [
             0,
             "#8e0152"
            ],
            [
             0.1,
             "#c51b7d"
            ],
            [
             0.2,
             "#de77ae"
            ],
            [
             0.3,
             "#f1b6da"
            ],
            [
             0.4,
             "#fde0ef"
            ],
            [
             0.5,
             "#f7f7f7"
            ],
            [
             0.6,
             "#e6f5d0"
            ],
            [
             0.7,
             "#b8e186"
            ],
            [
             0.8,
             "#7fbc41"
            ],
            [
             0.9,
             "#4d9221"
            ],
            [
             1,
             "#276419"
            ]
           ],
           "sequential": [
            [
             0,
             "#0d0887"
            ],
            [
             0.1111111111111111,
             "#46039f"
            ],
            [
             0.2222222222222222,
             "#7201a8"
            ],
            [
             0.3333333333333333,
             "#9c179e"
            ],
            [
             0.4444444444444444,
             "#bd3786"
            ],
            [
             0.5555555555555556,
             "#d8576b"
            ],
            [
             0.6666666666666666,
             "#ed7953"
            ],
            [
             0.7777777777777778,
             "#fb9f3a"
            ],
            [
             0.8888888888888888,
             "#fdca26"
            ],
            [
             1,
             "#f0f921"
            ]
           ],
           "sequentialminus": [
            [
             0,
             "#0d0887"
            ],
            [
             0.1111111111111111,
             "#46039f"
            ],
            [
             0.2222222222222222,
             "#7201a8"
            ],
            [
             0.3333333333333333,
             "#9c179e"
            ],
            [
             0.4444444444444444,
             "#bd3786"
            ],
            [
             0.5555555555555556,
             "#d8576b"
            ],
            [
             0.6666666666666666,
             "#ed7953"
            ],
            [
             0.7777777777777778,
             "#fb9f3a"
            ],
            [
             0.8888888888888888,
             "#fdca26"
            ],
            [
             1,
             "#f0f921"
            ]
           ]
          },
          "colorway": [
           "#636efa",
           "#EF553B",
           "#00cc96",
           "#ab63fa",
           "#FFA15A",
           "#19d3f3",
           "#FF6692",
           "#B6E880",
           "#FF97FF",
           "#FECB52"
          ],
          "font": {
           "color": "#2a3f5f"
          },
          "geo": {
           "bgcolor": "white",
           "lakecolor": "white",
           "landcolor": "#E5ECF6",
           "showlakes": true,
           "showland": true,
           "subunitcolor": "white"
          },
          "hoverlabel": {
           "align": "left"
          },
          "hovermode": "closest",
          "mapbox": {
           "style": "light"
          },
          "paper_bgcolor": "white",
          "plot_bgcolor": "#E5ECF6",
          "polar": {
           "angularaxis": {
            "gridcolor": "white",
            "linecolor": "white",
            "ticks": ""
           },
           "bgcolor": "#E5ECF6",
           "radialaxis": {
            "gridcolor": "white",
            "linecolor": "white",
            "ticks": ""
           }
          },
          "scene": {
           "xaxis": {
            "backgroundcolor": "#E5ECF6",
            "gridcolor": "white",
            "gridwidth": 2,
            "linecolor": "white",
            "showbackground": true,
            "ticks": "",
            "zerolinecolor": "white"
           },
           "yaxis": {
            "backgroundcolor": "#E5ECF6",
            "gridcolor": "white",
            "gridwidth": 2,
            "linecolor": "white",
            "showbackground": true,
            "ticks": "",
            "zerolinecolor": "white"
           },
           "zaxis": {
            "backgroundcolor": "#E5ECF6",
            "gridcolor": "white",
            "gridwidth": 2,
            "linecolor": "white",
            "showbackground": true,
            "ticks": "",
            "zerolinecolor": "white"
           }
          },
          "shapedefaults": {
           "line": {
            "color": "#2a3f5f"
           }
          },
          "ternary": {
           "aaxis": {
            "gridcolor": "white",
            "linecolor": "white",
            "ticks": ""
           },
           "baxis": {
            "gridcolor": "white",
            "linecolor": "white",
            "ticks": ""
           },
           "bgcolor": "#E5ECF6",
           "caxis": {
            "gridcolor": "white",
            "linecolor": "white",
            "ticks": ""
           }
          },
          "title": {
           "x": 0.05
          },
          "xaxis": {
           "automargin": true,
           "gridcolor": "white",
           "linecolor": "white",
           "ticks": "",
           "title": {
            "standoff": 15
           },
           "zerolinecolor": "white",
           "zerolinewidth": 2
          },
          "yaxis": {
           "automargin": true,
           "gridcolor": "white",
           "linecolor": "white",
           "ticks": "",
           "title": {
            "standoff": 15
           },
           "zerolinecolor": "white",
           "zerolinewidth": 2
          }
         }
        },
        "title": {
         "font": {
          "color": "#4D5663"
         }
        },
        "xaxis": {
         "anchor": "y",
         "domain": [
          0,
          0.2125
         ],
         "gridcolor": "#E1E5ED",
         "showgrid": false,
         "tickfont": {
          "color": "#4D5663"
         },
         "title": {
          "font": {
           "color": "#4D5663"
          },
          "text": ""
         },
         "zerolinecolor": "#E1E5ED"
        },
        "xaxis10": {
         "anchor": "y10",
         "domain": [
          0.2625,
          0.475
         ],
         "gridcolor": "#E1E5ED",
         "showgrid": false,
         "tickfont": {
          "color": "#4D5663"
         },
         "title": {
          "font": {
           "color": "#4D5663"
          },
          "text": ""
         },
         "zerolinecolor": "#E1E5ED"
        },
        "xaxis11": {
         "anchor": "y11",
         "domain": [
          0.525,
          0.7375
         ],
         "gridcolor": "#E1E5ED",
         "showgrid": false,
         "tickfont": {
          "color": "#4D5663"
         },
         "title": {
          "font": {
           "color": "#4D5663"
          },
          "text": ""
         },
         "zerolinecolor": "#E1E5ED"
        },
        "xaxis12": {
         "anchor": "y12",
         "domain": [
          0.7875,
          1
         ],
         "gridcolor": "#E1E5ED",
         "showgrid": false,
         "tickfont": {
          "color": "#4D5663"
         },
         "title": {
          "font": {
           "color": "#4D5663"
          },
          "text": ""
         },
         "zerolinecolor": "#E1E5ED"
        },
        "xaxis13": {
         "anchor": "y13",
         "domain": [
          0,
          0.2125
         ],
         "gridcolor": "#E1E5ED",
         "showgrid": false,
         "tickfont": {
          "color": "#4D5663"
         },
         "title": {
          "font": {
           "color": "#4D5663"
          },
          "text": ""
         },
         "zerolinecolor": "#E1E5ED"
        },
        "xaxis14": {
         "anchor": "y14",
         "domain": [
          0.2625,
          0.475
         ],
         "gridcolor": "#E1E5ED",
         "showgrid": false,
         "tickfont": {
          "color": "#4D5663"
         },
         "title": {
          "font": {
           "color": "#4D5663"
          },
          "text": ""
         },
         "zerolinecolor": "#E1E5ED"
        },
        "xaxis15": {
         "anchor": "y15",
         "domain": [
          0.525,
          0.7375
         ],
         "gridcolor": "#E1E5ED",
         "showgrid": false,
         "tickfont": {
          "color": "#4D5663"
         },
         "title": {
          "font": {
           "color": "#4D5663"
          },
          "text": ""
         },
         "zerolinecolor": "#E1E5ED"
        },
        "xaxis16": {
         "anchor": "y16",
         "domain": [
          0.7875,
          1
         ],
         "gridcolor": "#E1E5ED",
         "showgrid": false,
         "tickfont": {
          "color": "#4D5663"
         },
         "title": {
          "font": {
           "color": "#4D5663"
          },
          "text": ""
         },
         "zerolinecolor": "#E1E5ED"
        },
        "xaxis2": {
         "anchor": "y2",
         "domain": [
          0.2625,
          0.475
         ],
         "gridcolor": "#E1E5ED",
         "showgrid": false,
         "tickfont": {
          "color": "#4D5663"
         },
         "title": {
          "font": {
           "color": "#4D5663"
          },
          "text": ""
         },
         "zerolinecolor": "#E1E5ED"
        },
        "xaxis3": {
         "anchor": "y3",
         "domain": [
          0.525,
          0.7375
         ],
         "gridcolor": "#E1E5ED",
         "showgrid": false,
         "tickfont": {
          "color": "#4D5663"
         },
         "title": {
          "font": {
           "color": "#4D5663"
          },
          "text": ""
         },
         "zerolinecolor": "#E1E5ED"
        },
        "xaxis4": {
         "anchor": "y4",
         "domain": [
          0.7875,
          1
         ],
         "gridcolor": "#E1E5ED",
         "showgrid": false,
         "tickfont": {
          "color": "#4D5663"
         },
         "title": {
          "font": {
           "color": "#4D5663"
          },
          "text": ""
         },
         "zerolinecolor": "#E1E5ED"
        },
        "xaxis5": {
         "anchor": "y5",
         "domain": [
          0,
          0.2125
         ],
         "gridcolor": "#E1E5ED",
         "showgrid": false,
         "tickfont": {
          "color": "#4D5663"
         },
         "title": {
          "font": {
           "color": "#4D5663"
          },
          "text": ""
         },
         "zerolinecolor": "#E1E5ED"
        },
        "xaxis6": {
         "anchor": "y6",
         "domain": [
          0.2625,
          0.475
         ],
         "gridcolor": "#E1E5ED",
         "showgrid": false,
         "tickfont": {
          "color": "#4D5663"
         },
         "title": {
          "font": {
           "color": "#4D5663"
          },
          "text": ""
         },
         "zerolinecolor": "#E1E5ED"
        },
        "xaxis7": {
         "anchor": "y7",
         "domain": [
          0.525,
          0.7375
         ],
         "gridcolor": "#E1E5ED",
         "showgrid": false,
         "tickfont": {
          "color": "#4D5663"
         },
         "title": {
          "font": {
           "color": "#4D5663"
          },
          "text": ""
         },
         "zerolinecolor": "#E1E5ED"
        },
        "xaxis8": {
         "anchor": "y8",
         "domain": [
          0.7875,
          1
         ],
         "gridcolor": "#E1E5ED",
         "showgrid": false,
         "tickfont": {
          "color": "#4D5663"
         },
         "title": {
          "font": {
           "color": "#4D5663"
          },
          "text": ""
         },
         "zerolinecolor": "#E1E5ED"
        },
        "xaxis9": {
         "anchor": "y9",
         "domain": [
          0,
          0.2125
         ],
         "gridcolor": "#E1E5ED",
         "showgrid": false,
         "tickfont": {
          "color": "#4D5663"
         },
         "title": {
          "font": {
           "color": "#4D5663"
          },
          "text": ""
         },
         "zerolinecolor": "#E1E5ED"
        },
        "yaxis": {
         "anchor": "x",
         "domain": [
          0.8025,
          1
         ],
         "gridcolor": "#E1E5ED",
         "showgrid": false,
         "tickfont": {
          "color": "#4D5663"
         },
         "title": {
          "font": {
           "color": "#4D5663"
          },
          "text": ""
         },
         "zerolinecolor": "#E1E5ED"
        },
        "yaxis10": {
         "anchor": "x10",
         "domain": [
          0.2675,
          0.465
         ],
         "gridcolor": "#E1E5ED",
         "showgrid": false,
         "tickfont": {
          "color": "#4D5663"
         },
         "title": {
          "font": {
           "color": "#4D5663"
          },
          "text": ""
         },
         "zerolinecolor": "#E1E5ED"
        },
        "yaxis11": {
         "anchor": "x11",
         "domain": [
          0.2675,
          0.465
         ],
         "gridcolor": "#E1E5ED",
         "showgrid": false,
         "tickfont": {
          "color": "#4D5663"
         },
         "title": {
          "font": {
           "color": "#4D5663"
          },
          "text": ""
         },
         "zerolinecolor": "#E1E5ED"
        },
        "yaxis12": {
         "anchor": "x12",
         "domain": [
          0.2675,
          0.465
         ],
         "gridcolor": "#E1E5ED",
         "showgrid": false,
         "tickfont": {
          "color": "#4D5663"
         },
         "title": {
          "font": {
           "color": "#4D5663"
          },
          "text": ""
         },
         "zerolinecolor": "#E1E5ED"
        },
        "yaxis13": {
         "anchor": "x13",
         "domain": [
          0,
          0.1975
         ],
         "gridcolor": "#E1E5ED",
         "showgrid": false,
         "tickfont": {
          "color": "#4D5663"
         },
         "title": {
          "font": {
           "color": "#4D5663"
          },
          "text": ""
         },
         "zerolinecolor": "#E1E5ED"
        },
        "yaxis14": {
         "anchor": "x14",
         "domain": [
          0,
          0.1975
         ],
         "gridcolor": "#E1E5ED",
         "showgrid": false,
         "tickfont": {
          "color": "#4D5663"
         },
         "title": {
          "font": {
           "color": "#4D5663"
          },
          "text": ""
         },
         "zerolinecolor": "#E1E5ED"
        },
        "yaxis15": {
         "anchor": "x15",
         "domain": [
          0,
          0.1975
         ],
         "gridcolor": "#E1E5ED",
         "showgrid": false,
         "tickfont": {
          "color": "#4D5663"
         },
         "title": {
          "font": {
           "color": "#4D5663"
          },
          "text": ""
         },
         "zerolinecolor": "#E1E5ED"
        },
        "yaxis16": {
         "anchor": "x16",
         "domain": [
          0,
          0.1975
         ],
         "gridcolor": "#E1E5ED",
         "showgrid": false,
         "tickfont": {
          "color": "#4D5663"
         },
         "title": {
          "font": {
           "color": "#4D5663"
          },
          "text": ""
         },
         "zerolinecolor": "#E1E5ED"
        },
        "yaxis2": {
         "anchor": "x2",
         "domain": [
          0.8025,
          1
         ],
         "gridcolor": "#E1E5ED",
         "showgrid": false,
         "tickfont": {
          "color": "#4D5663"
         },
         "title": {
          "font": {
           "color": "#4D5663"
          },
          "text": ""
         },
         "zerolinecolor": "#E1E5ED"
        },
        "yaxis3": {
         "anchor": "x3",
         "domain": [
          0.8025,
          1
         ],
         "gridcolor": "#E1E5ED",
         "showgrid": false,
         "tickfont": {
          "color": "#4D5663"
         },
         "title": {
          "font": {
           "color": "#4D5663"
          },
          "text": ""
         },
         "zerolinecolor": "#E1E5ED"
        },
        "yaxis4": {
         "anchor": "x4",
         "domain": [
          0.8025,
          1
         ],
         "gridcolor": "#E1E5ED",
         "showgrid": false,
         "tickfont": {
          "color": "#4D5663"
         },
         "title": {
          "font": {
           "color": "#4D5663"
          },
          "text": ""
         },
         "zerolinecolor": "#E1E5ED"
        },
        "yaxis5": {
         "anchor": "x5",
         "domain": [
          0.535,
          0.7325
         ],
         "gridcolor": "#E1E5ED",
         "showgrid": false,
         "tickfont": {
          "color": "#4D5663"
         },
         "title": {
          "font": {
           "color": "#4D5663"
          },
          "text": ""
         },
         "zerolinecolor": "#E1E5ED"
        },
        "yaxis6": {
         "anchor": "x6",
         "domain": [
          0.535,
          0.7325
         ],
         "gridcolor": "#E1E5ED",
         "showgrid": false,
         "tickfont": {
          "color": "#4D5663"
         },
         "title": {
          "font": {
           "color": "#4D5663"
          },
          "text": ""
         },
         "zerolinecolor": "#E1E5ED"
        },
        "yaxis7": {
         "anchor": "x7",
         "domain": [
          0.535,
          0.7325
         ],
         "gridcolor": "#E1E5ED",
         "showgrid": false,
         "tickfont": {
          "color": "#4D5663"
         },
         "title": {
          "font": {
           "color": "#4D5663"
          },
          "text": ""
         },
         "zerolinecolor": "#E1E5ED"
        },
        "yaxis8": {
         "anchor": "x8",
         "domain": [
          0.535,
          0.7325
         ],
         "gridcolor": "#E1E5ED",
         "showgrid": false,
         "tickfont": {
          "color": "#4D5663"
         },
         "title": {
          "font": {
           "color": "#4D5663"
          },
          "text": ""
         },
         "zerolinecolor": "#E1E5ED"
        },
        "yaxis9": {
         "anchor": "x9",
         "domain": [
          0.2675,
          0.465
         ],
         "gridcolor": "#E1E5ED",
         "showgrid": false,
         "tickfont": {
          "color": "#4D5663"
         },
         "title": {
          "font": {
           "color": "#4D5663"
          },
          "text": ""
         },
         "zerolinecolor": "#E1E5ED"
        }
       }
      },
      "text/html": [
       "<div>                            <div id=\"d57c7937-e0cd-4c7f-aeb0-2b8f6498fd5b\" class=\"plotly-graph-div\" style=\"height:525px; width:100%;\"></div>            <script type=\"text/javascript\">                require([\"plotly\"], function(Plotly) {                    window.PLOTLYENV=window.PLOTLYENV || {};\n",
       "                    window.PLOTLYENV.BASE_URL='https://plot.ly';                                    if (document.getElementById(\"d57c7937-e0cd-4c7f-aeb0-2b8f6498fd5b\")) {                    Plotly.newPlot(                        \"d57c7937-e0cd-4c7f-aeb0-2b8f6498fd5b\",                        [{\"histfunc\":\"count\",\"histnorm\":\"\",\"marker\":{\"color\":\"rgba(255, 153, 51, 1.0)\",\"line\":{\"color\":\"#4D5663\",\"width\":1.3}},\"name\":\"A\",\"nbinsx\":10,\"opacity\":0.8,\"orientation\":\"v\",\"x\":[-0.5656412823360386,1.0360792852296468,-0.03441248758142155,0.23182280061860472,1.0088992008914284,-0.026715148537010024,-0.20315796235413472,0.5245229236865366,-3.2191295497186694,0.17164228604067813,0.582247745637063,0.9289059114631611,-0.7591861803041988,-0.24277993570070505,-0.1323275276500544,-0.5466769746668216,0.7177731503109126,-0.8191814660705794,-1.4310336841345486,0.2573153328506282,1.3408244257300779,0.486032440581521,-1.2308345803153686,-1.4608107584460366,0.8732239163610039,0.4567394249492647,-1.899861957922655,0.28173525063683097,-0.21805371925692918,1.2626935583320715,0.49886751555253367,1.4174111664802422,0.22660528690867696,-0.6502747916185775,0.16897409062805457,1.21279856642119,1.1143424086245766,-0.3483420722554928,-0.6696543666981883,-1.0632252096403403,-0.15225141923354557,1.316625588404699,1.1720151527353133,-0.027287875274585364,-1.0293154035381185,-0.37492772031126287,-0.04096023078323834,1.182570779299944,-1.376390923724631,-0.799936281543547,-0.707307351593801,0.02001897453784066,-0.978294769085192,0.8508279002602976,-0.5342831423012391,-0.36185037495602906,-0.8056130603514121,0.4111895792611264,0.004379479525213149,0.21780913118781245,0.6211677456201348,-0.7793003130748717,1.103489152734224,-1.7904817940423041,1.0010689343246126,1.8918588281108983,1.2977984640817777,0.3259841032981575,2.0815712057108744,0.8383496802803703,1.7472868342739443,-0.07719520587663783,0.9413390291554022,1.3834950208674481,-0.5569585432839406,-1.819230204577346,0.12169655584130164,1.5616824263876785,-0.45356471914135854,0.19676060898221412,0.009000319539798945,-0.2249124640829556,-0.2188737751900468,0.10764137132759453,0.11196929653740105,1.1665818342784908,-2.020826309495809,2.793163479046665,0.30526228066973804,-0.565887028976998,-0.2001466520368511,-0.5436753674793958,-1.343875859753172,0.6112457603338765,-0.7813886684840383,-1.22303424769474,0.4600825033400545,0.1383873846734834,-0.08138809268576497,0.8471112760129539],\"xaxis\":\"x\",\"yaxis\":\"y\",\"type\":\"histogram\"},{\"line\":{\"color\":\"rgba(128, 128, 128, 1.0)\",\"dash\":\"solid\",\"shape\":\"linear\",\"width\":1.3},\"marker\":{\"size\":2,\"symbol\":\"circle\"},\"mode\":\"markers\",\"name\":\"A\",\"text\":\"\",\"x\":[0.5645172566075981,-0.33932437899341966,-1.121520210991983,1.6002719901100757,1.5016206296259804,2.2959127591084303,0.6159086177819855,-0.7571132946788054,-1.8527379210880608,-1.1387426139167482,-1.1802914715008073,0.4863930279547499,-0.1972727517360925,-0.7045335740979844,0.11636261009340494,1.1218343682379364,0.07716204469597837,1.6172483692207498,-0.6227123975706295,-0.8638472923389473,0.7772239006064957,-1.0875868898305794,-0.8172213602844036,-1.6344710636517614,0.4380072171404136,-0.7353431531149569,-1.3292240246460292,2.64076103804586,-0.29720784590850985,1.3985332624862092,-0.05460103642841293,-1.7202047580904671,-2.307117527573707,0.26916881133700654,-1.7677313247111384,0.6385315213928748,1.059188957948073,-0.671379236360241,-1.3058207439934062,-0.15458145256593406,0.06995526962442203,2.5835499038790664,-1.046700114776581,0.44717854638131416,3.0509553348921687,1.1735076138718559,0.8596597027344738,-2.254815679656594,0.9087384098230576,1.4794324312196547,-0.5279978184819706,0.11428912177813569,-0.3206006243579793,0.6369155364690917,0.7040933544865097,2.1455364197699187,-0.310185129037482,-1.1884618328539198,-0.15786482315368378,3.2186195666514505,-0.10773828423557187,0.002865138432579824,-1.1621439679443992,1.8796177622458385,-1.011011249558588,1.26112692119876,0.8353625334967835,0.2787037798133771,-0.29289336451730547,-1.210875011885804,-0.25852796048510923,0.6324642492884567,1.8235740793505282,0.3069505716985952,-2.329145297007603,-1.2353938452853468,-1.0033728108153268,0.0558782491122532,-0.004269293450762822,-0.5134075458464393,0.8650144157816739,0.9575917608001567,-0.37212330519918413,0.22569767089282858,-1.4353961812767824,0.6047693356914953,0.831598022335903,0.3532044398283273,-0.6478073247627921,0.2147827207375652,1.1972101878705765,-0.12637330565608457,1.3462423783258188,-0.03648857415205832,0.10886015509104147,0.31893671014852615,0.10171193001652372,0.975923288760046,0.4650211235038087,-0.6218275280285074],\"xaxis\":\"x2\",\"y\":[-0.5656412823360386,1.0360792852296468,-0.03441248758142155,0.23182280061860472,1.0088992008914284,-0.026715148537010024,-0.20315796235413472,0.5245229236865366,-3.2191295497186694,0.17164228604067813,0.582247745637063,0.9289059114631611,-0.7591861803041988,-0.24277993570070505,-0.1323275276500544,-0.5466769746668216,0.7177731503109126,-0.8191814660705794,-1.4310336841345486,0.2573153328506282,1.3408244257300779,0.486032440581521,-1.2308345803153686,-1.4608107584460366,0.8732239163610039,0.4567394249492647,-1.899861957922655,0.28173525063683097,-0.21805371925692918,1.2626935583320715,0.49886751555253367,1.4174111664802422,0.22660528690867696,-0.6502747916185775,0.16897409062805457,1.21279856642119,1.1143424086245766,-0.3483420722554928,-0.6696543666981883,-1.0632252096403403,-0.15225141923354557,1.316625588404699,1.1720151527353133,-0.027287875274585364,-1.0293154035381185,-0.37492772031126287,-0.04096023078323834,1.182570779299944,-1.376390923724631,-0.799936281543547,-0.707307351593801,0.02001897453784066,-0.978294769085192,0.8508279002602976,-0.5342831423012391,-0.36185037495602906,-0.8056130603514121,0.4111895792611264,0.004379479525213149,0.21780913118781245,0.6211677456201348,-0.7793003130748717,1.103489152734224,-1.7904817940423041,1.0010689343246126,1.8918588281108983,1.2977984640817777,0.3259841032981575,2.0815712057108744,0.8383496802803703,1.7472868342739443,-0.07719520587663783,0.9413390291554022,1.3834950208674481,-0.5569585432839406,-1.819230204577346,0.12169655584130164,1.5616824263876785,-0.45356471914135854,0.19676060898221412,0.009000319539798945,-0.2249124640829556,-0.2188737751900468,0.10764137132759453,0.11196929653740105,1.1665818342784908,-2.020826309495809,2.793163479046665,0.30526228066973804,-0.565887028976998,-0.2001466520368511,-0.5436753674793958,-1.343875859753172,0.6112457603338765,-0.7813886684840383,-1.22303424769474,0.4600825033400545,0.1383873846734834,-0.08138809268576497,0.8471112760129539],\"yaxis\":\"y2\",\"type\":\"scatter\"},{\"line\":{\"color\":\"rgba(128, 128, 128, 1.0)\",\"dash\":\"solid\",\"shape\":\"linear\",\"width\":1.3},\"marker\":{\"size\":2,\"symbol\":\"circle\"},\"mode\":\"markers\",\"name\":\"A\",\"text\":\"\",\"x\":[-2.146739958101434,-0.25301348382365135,-0.4678006529789959,1.4606355389564618,-1.053029059187858,0.6583564309383253,1.2557003967779428,-0.3901218292667429,-1.768170831602827,1.232214512579578,0.4953012904572992,0.10626163855495853,-0.9062865487957101,1.4377033817031488,0.12966714167566729,-0.49631683240136537,0.10118022232583321,1.2050920920572787,-0.033851344727340964,-0.3031727588393859,1.795626787097041,1.6590999074748964,1.184703108828757,-0.09339121146934552,0.1318140522807218,-0.271329903075333,-0.037433080426591,0.5266097124633199,-0.04184233624948661,-1.3867995676792457,0.22799196459083326,0.3657482881768857,-1.0692196386643802,1.350244839107939,0.7355835034493701,0.17369969979000266,-0.16081528921817426,1.226049560303817,1.3904477336174936,0.37539186396935154,-0.2923153758591823,1.339458871844019,1.1550822183337757,0.9161381319826264,0.3181408972498468,0.8878803706789242,0.14556522095000182,-0.8957929735550295,-0.8656756147440221,0.8379349253461297,-2.9106639601375672,-0.5555967419701171,0.6819306724341314,-0.9208763345554103,0.2817986122648016,0.034555487974315895,-0.2561507674698253,-1.3253918989961624,0.4900069958878561,-0.16766884745683136,0.2652274456557487,-0.35034104542085215,-1.2443926590883105,-0.1461384887203423,-0.6581989158191782,-0.191008213851882,1.2547378610543556,0.40303278215971344,0.8321172347852366,-0.5751617423396881,0.9490180361048859,-0.08506551470662083,-0.44221319644508017,-0.573269814959952,-1.3946916335305886,-0.3681650639814785,-0.358803738924242,0.7075716853587268,0.7639885922071894,-0.8461728524859302,1.5230378720062514,-2.2068407513966823,-0.1366748375999527,-0.4021695886351473,0.2791603668851864,-1.9780237332050405,-0.45856880363817376,0.7207421525794263,0.26971957755829545,0.4657562094166123,1.2492715347644403,-0.22842210975332455,-0.2870705007107389,-0.24208094259732515,0.24211934347471437,-0.28601364136514074,-0.7228755132630907,0.15762795990197426,-1.7534767132311087,-0.02027642619003036],\"xaxis\":\"x3\",\"y\":[-0.5656412823360386,1.0360792852296468,-0.03441248758142155,0.23182280061860472,1.0088992008914284,-0.026715148537010024,-0.20315796235413472,0.5245229236865366,-3.2191295497186694,0.17164228604067813,0.582247745637063,0.9289059114631611,-0.7591861803041988,-0.24277993570070505,-0.1323275276500544,-0.5466769746668216,0.7177731503109126,-0.8191814660705794,-1.4310336841345486,0.2573153328506282,1.3408244257300779,0.486032440581521,-1.2308345803153686,-1.4608107584460366,0.8732239163610039,0.4567394249492647,-1.899861957922655,0.28173525063683097,-0.21805371925692918,1.2626935583320715,0.49886751555253367,1.4174111664802422,0.22660528690867696,-0.6502747916185775,0.16897409062805457,1.21279856642119,1.1143424086245766,-0.3483420722554928,-0.6696543666981883,-1.0632252096403403,-0.15225141923354557,1.316625588404699,1.1720151527353133,-0.027287875274585364,-1.0293154035381185,-0.37492772031126287,-0.04096023078323834,1.182570779299944,-1.376390923724631,-0.799936281543547,-0.707307351593801,0.02001897453784066,-0.978294769085192,0.8508279002602976,-0.5342831423012391,-0.36185037495602906,-0.8056130603514121,0.4111895792611264,0.004379479525213149,0.21780913118781245,0.6211677456201348,-0.7793003130748717,1.103489152734224,-1.7904817940423041,1.0010689343246126,1.8918588281108983,1.2977984640817777,0.3259841032981575,2.0815712057108744,0.8383496802803703,1.7472868342739443,-0.07719520587663783,0.9413390291554022,1.3834950208674481,-0.5569585432839406,-1.819230204577346,0.12169655584130164,1.5616824263876785,-0.45356471914135854,0.19676060898221412,0.009000319539798945,-0.2249124640829556,-0.2188737751900468,0.10764137132759453,0.11196929653740105,1.1665818342784908,-2.020826309495809,2.793163479046665,0.30526228066973804,-0.565887028976998,-0.2001466520368511,-0.5436753674793958,-1.343875859753172,0.6112457603338765,-0.7813886684840383,-1.22303424769474,0.4600825033400545,0.1383873846734834,-0.08138809268576497,0.8471112760129539],\"yaxis\":\"y3\",\"type\":\"scatter\"},{\"line\":{\"color\":\"rgba(128, 128, 128, 1.0)\",\"dash\":\"solid\",\"shape\":\"linear\",\"width\":1.3},\"marker\":{\"size\":2,\"symbol\":\"circle\"},\"mode\":\"markers\",\"name\":\"A\",\"text\":\"\",\"x\":[-0.6151624147627686,0.8642179796660394,1.6150075801940003,-0.28029472345158046,-0.6419889247977699,0.08072927789314675,0.6971146264882752,-2.198296078188932,-1.0704538706327174,1.0349241595097776,-0.42263232345442175,-2.324469806169129,1.9168979306344651,-0.0009210712168260685,-1.1556686652247599,0.822030953642305,-0.12115398100375059,-0.761490690836794,0.15579305221801515,-1.4847442594265914,-0.3972192958888316,0.6560364566207801,-0.13021767709572385,-1.457154847463913,-0.5769217709750978,-0.6879928014931928,0.8548722443332224,1.0415703051612732,0.03128562644400487,-0.1581166115922977,0.4637674127723924,-0.7682640886276002,-1.4362091480158106,-0.8318808089892663,1.9187921617026056,-1.4559329748981986,1.8818154786472323,-0.7263420773813469,0.2244866827468697,-1.576549265491964,-0.27725949988951853,1.850272178734371,-0.1920227832110244,-1.042785188315941,-0.7042997286034733,-1.8633589008292812,0.18097291381572225,-0.04928432713757553,2.3487718123105985,-0.0993482754106261,-0.1857671198067143,-1.015836065676018,1.1036300679190518,-0.6625012342613555,-0.15362109984995775,0.7814957994822236,-0.48081501642828817,-0.26191947958091033,-1.1012484706391648,2.488726384379564,-0.3666419932097134,0.10953998823415359,-0.3407958793932765,-1.0896937667635471,0.6391060984350521,-0.4949108736043691,0.09934455010362163,-0.8128142011529333,1.1399540042227818,0.559091010194793,1.8450975507014156,-0.7320799455626289,0.6657571665120307,-0.21193125260343734,-1.1962078533671796,0.8246817510121213,0.005705869259143747,1.1621344546334256,-0.40672163155047486,0.43418479240070235,-0.1676393444309276,1.8753100547594126,0.803100678268245,-0.7037504704638958,-0.06803244895829572,0.26032931396568176,0.9507871650753246,0.9026830194735854,0.19134400603202567,-1.5158594202389262,0.6083905806138107,0.5847508262330771,-2.1856144816221112,1.1433174466344616,-0.20543203471603827,0.10174337986287083,-1.086343489037349,1.0460832807357685,0.46797278141809384,1.387173078757153],\"xaxis\":\"x4\",\"y\":[-0.5656412823360386,1.0360792852296468,-0.03441248758142155,0.23182280061860472,1.0088992008914284,-0.026715148537010024,-0.20315796235413472,0.5245229236865366,-3.2191295497186694,0.17164228604067813,0.582247745637063,0.9289059114631611,-0.7591861803041988,-0.24277993570070505,-0.1323275276500544,-0.5466769746668216,0.7177731503109126,-0.8191814660705794,-1.4310336841345486,0.2573153328506282,1.3408244257300779,0.486032440581521,-1.2308345803153686,-1.4608107584460366,0.8732239163610039,0.4567394249492647,-1.899861957922655,0.28173525063683097,-0.21805371925692918,1.2626935583320715,0.49886751555253367,1.4174111664802422,0.22660528690867696,-0.6502747916185775,0.16897409062805457,1.21279856642119,1.1143424086245766,-0.3483420722554928,-0.6696543666981883,-1.0632252096403403,-0.15225141923354557,1.316625588404699,1.1720151527353133,-0.027287875274585364,-1.0293154035381185,-0.37492772031126287,-0.04096023078323834,1.182570779299944,-1.376390923724631,-0.799936281543547,-0.707307351593801,0.02001897453784066,-0.978294769085192,0.8508279002602976,-0.5342831423012391,-0.36185037495602906,-0.8056130603514121,0.4111895792611264,0.004379479525213149,0.21780913118781245,0.6211677456201348,-0.7793003130748717,1.103489152734224,-1.7904817940423041,1.0010689343246126,1.8918588281108983,1.2977984640817777,0.3259841032981575,2.0815712057108744,0.8383496802803703,1.7472868342739443,-0.07719520587663783,0.9413390291554022,1.3834950208674481,-0.5569585432839406,-1.819230204577346,0.12169655584130164,1.5616824263876785,-0.45356471914135854,0.19676060898221412,0.009000319539798945,-0.2249124640829556,-0.2188737751900468,0.10764137132759453,0.11196929653740105,1.1665818342784908,-2.020826309495809,2.793163479046665,0.30526228066973804,-0.565887028976998,-0.2001466520368511,-0.5436753674793958,-1.343875859753172,0.6112457603338765,-0.7813886684840383,-1.22303424769474,0.4600825033400545,0.1383873846734834,-0.08138809268576497,0.8471112760129539],\"yaxis\":\"y4\",\"type\":\"scatter\"},{\"line\":{\"color\":\"rgba(128, 128, 128, 1.0)\",\"dash\":\"solid\",\"shape\":\"linear\",\"width\":1.3},\"marker\":{\"size\":2,\"symbol\":\"circle\"},\"mode\":\"markers\",\"name\":\"B\",\"text\":\"\",\"x\":[-0.5656412823360386,1.0360792852296468,-0.03441248758142155,0.23182280061860472,1.0088992008914284,-0.026715148537010024,-0.20315796235413472,0.5245229236865366,-3.2191295497186694,0.17164228604067813,0.582247745637063,0.9289059114631611,-0.7591861803041988,-0.24277993570070505,-0.1323275276500544,-0.5466769746668216,0.7177731503109126,-0.8191814660705794,-1.4310336841345486,0.2573153328506282,1.3408244257300779,0.486032440581521,-1.2308345803153686,-1.4608107584460366,0.8732239163610039,0.4567394249492647,-1.899861957922655,0.28173525063683097,-0.21805371925692918,1.2626935583320715,0.49886751555253367,1.4174111664802422,0.22660528690867696,-0.6502747916185775,0.16897409062805457,1.21279856642119,1.1143424086245766,-0.3483420722554928,-0.6696543666981883,-1.0632252096403403,-0.15225141923354557,1.316625588404699,1.1720151527353133,-0.027287875274585364,-1.0293154035381185,-0.37492772031126287,-0.04096023078323834,1.182570779299944,-1.376390923724631,-0.799936281543547,-0.707307351593801,0.02001897453784066,-0.978294769085192,0.8508279002602976,-0.5342831423012391,-0.36185037495602906,-0.8056130603514121,0.4111895792611264,0.004379479525213149,0.21780913118781245,0.6211677456201348,-0.7793003130748717,1.103489152734224,-1.7904817940423041,1.0010689343246126,1.8918588281108983,1.2977984640817777,0.3259841032981575,2.0815712057108744,0.8383496802803703,1.7472868342739443,-0.07719520587663783,0.9413390291554022,1.3834950208674481,-0.5569585432839406,-1.819230204577346,0.12169655584130164,1.5616824263876785,-0.45356471914135854,0.19676060898221412,0.009000319539798945,-0.2249124640829556,-0.2188737751900468,0.10764137132759453,0.11196929653740105,1.1665818342784908,-2.020826309495809,2.793163479046665,0.30526228066973804,-0.565887028976998,-0.2001466520368511,-0.5436753674793958,-1.343875859753172,0.6112457603338765,-0.7813886684840383,-1.22303424769474,0.4600825033400545,0.1383873846734834,-0.08138809268576497,0.8471112760129539],\"xaxis\":\"x5\",\"y\":[0.5645172566075981,-0.33932437899341966,-1.121520210991983,1.6002719901100757,1.5016206296259804,2.2959127591084303,0.6159086177819855,-0.7571132946788054,-1.8527379210880608,-1.1387426139167482,-1.1802914715008073,0.4863930279547499,-0.1972727517360925,-0.7045335740979844,0.11636261009340494,1.1218343682379364,0.07716204469597837,1.6172483692207498,-0.6227123975706295,-0.8638472923389473,0.7772239006064957,-1.0875868898305794,-0.8172213602844036,-1.6344710636517614,0.4380072171404136,-0.7353431531149569,-1.3292240246460292,2.64076103804586,-0.29720784590850985,1.3985332624862092,-0.05460103642841293,-1.7202047580904671,-2.307117527573707,0.26916881133700654,-1.7677313247111384,0.6385315213928748,1.059188957948073,-0.671379236360241,-1.3058207439934062,-0.15458145256593406,0.06995526962442203,2.5835499038790664,-1.046700114776581,0.44717854638131416,3.0509553348921687,1.1735076138718559,0.8596597027344738,-2.254815679656594,0.9087384098230576,1.4794324312196547,-0.5279978184819706,0.11428912177813569,-0.3206006243579793,0.6369155364690917,0.7040933544865097,2.1455364197699187,-0.310185129037482,-1.1884618328539198,-0.15786482315368378,3.2186195666514505,-0.10773828423557187,0.002865138432579824,-1.1621439679443992,1.8796177622458385,-1.011011249558588,1.26112692119876,0.8353625334967835,0.2787037798133771,-0.29289336451730547,-1.210875011885804,-0.25852796048510923,0.6324642492884567,1.8235740793505282,0.3069505716985952,-2.329145297007603,-1.2353938452853468,-1.0033728108153268,0.0558782491122532,-0.004269293450762822,-0.5134075458464393,0.8650144157816739,0.9575917608001567,-0.37212330519918413,0.22569767089282858,-1.4353961812767824,0.6047693356914953,0.831598022335903,0.3532044398283273,-0.6478073247627921,0.2147827207375652,1.1972101878705765,-0.12637330565608457,1.3462423783258188,-0.03648857415205832,0.10886015509104147,0.31893671014852615,0.10171193001652372,0.975923288760046,0.4650211235038087,-0.6218275280285074],\"yaxis\":\"y5\",\"type\":\"scatter\"},{\"histfunc\":\"count\",\"histnorm\":\"\",\"marker\":{\"color\":\"rgba(55, 128, 191, 1.0)\",\"line\":{\"color\":\"#4D5663\",\"width\":1.3}},\"name\":\"B\",\"nbinsx\":10,\"opacity\":0.8,\"orientation\":\"v\",\"x\":[0.5645172566075981,-0.33932437899341966,-1.121520210991983,1.6002719901100757,1.5016206296259804,2.2959127591084303,0.6159086177819855,-0.7571132946788054,-1.8527379210880608,-1.1387426139167482,-1.1802914715008073,0.4863930279547499,-0.1972727517360925,-0.7045335740979844,0.11636261009340494,1.1218343682379364,0.07716204469597837,1.6172483692207498,-0.6227123975706295,-0.8638472923389473,0.7772239006064957,-1.0875868898305794,-0.8172213602844036,-1.6344710636517614,0.4380072171404136,-0.7353431531149569,-1.3292240246460292,2.64076103804586,-0.29720784590850985,1.3985332624862092,-0.05460103642841293,-1.7202047580904671,-2.307117527573707,0.26916881133700654,-1.7677313247111384,0.6385315213928748,1.059188957948073,-0.671379236360241,-1.3058207439934062,-0.15458145256593406,0.06995526962442203,2.5835499038790664,-1.046700114776581,0.44717854638131416,3.0509553348921687,1.1735076138718559,0.8596597027344738,-2.254815679656594,0.9087384098230576,1.4794324312196547,-0.5279978184819706,0.11428912177813569,-0.3206006243579793,0.6369155364690917,0.7040933544865097,2.1455364197699187,-0.310185129037482,-1.1884618328539198,-0.15786482315368378,3.2186195666514505,-0.10773828423557187,0.002865138432579824,-1.1621439679443992,1.8796177622458385,-1.011011249558588,1.26112692119876,0.8353625334967835,0.2787037798133771,-0.29289336451730547,-1.210875011885804,-0.25852796048510923,0.6324642492884567,1.8235740793505282,0.3069505716985952,-2.329145297007603,-1.2353938452853468,-1.0033728108153268,0.0558782491122532,-0.004269293450762822,-0.5134075458464393,0.8650144157816739,0.9575917608001567,-0.37212330519918413,0.22569767089282858,-1.4353961812767824,0.6047693356914953,0.831598022335903,0.3532044398283273,-0.6478073247627921,0.2147827207375652,1.1972101878705765,-0.12637330565608457,1.3462423783258188,-0.03648857415205832,0.10886015509104147,0.31893671014852615,0.10171193001652372,0.975923288760046,0.4650211235038087,-0.6218275280285074],\"xaxis\":\"x6\",\"yaxis\":\"y6\",\"type\":\"histogram\"},{\"line\":{\"color\":\"rgba(128, 128, 128, 1.0)\",\"dash\":\"solid\",\"shape\":\"linear\",\"width\":1.3},\"marker\":{\"size\":2,\"symbol\":\"circle\"},\"mode\":\"markers\",\"name\":\"B\",\"text\":\"\",\"x\":[-2.146739958101434,-0.25301348382365135,-0.4678006529789959,1.4606355389564618,-1.053029059187858,0.6583564309383253,1.2557003967779428,-0.3901218292667429,-1.768170831602827,1.232214512579578,0.4953012904572992,0.10626163855495853,-0.9062865487957101,1.4377033817031488,0.12966714167566729,-0.49631683240136537,0.10118022232583321,1.2050920920572787,-0.033851344727340964,-0.3031727588393859,1.795626787097041,1.6590999074748964,1.184703108828757,-0.09339121146934552,0.1318140522807218,-0.271329903075333,-0.037433080426591,0.5266097124633199,-0.04184233624948661,-1.3867995676792457,0.22799196459083326,0.3657482881768857,-1.0692196386643802,1.350244839107939,0.7355835034493701,0.17369969979000266,-0.16081528921817426,1.226049560303817,1.3904477336174936,0.37539186396935154,-0.2923153758591823,1.339458871844019,1.1550822183337757,0.9161381319826264,0.3181408972498468,0.8878803706789242,0.14556522095000182,-0.8957929735550295,-0.8656756147440221,0.8379349253461297,-2.9106639601375672,-0.5555967419701171,0.6819306724341314,-0.9208763345554103,0.2817986122648016,0.034555487974315895,-0.2561507674698253,-1.3253918989961624,0.4900069958878561,-0.16766884745683136,0.2652274456557487,-0.35034104542085215,-1.2443926590883105,-0.1461384887203423,-0.6581989158191782,-0.191008213851882,1.2547378610543556,0.40303278215971344,0.8321172347852366,-0.5751617423396881,0.9490180361048859,-0.08506551470662083,-0.44221319644508017,-0.573269814959952,-1.3946916335305886,-0.3681650639814785,-0.358803738924242,0.7075716853587268,0.7639885922071894,-0.8461728524859302,1.5230378720062514,-2.2068407513966823,-0.1366748375999527,-0.4021695886351473,0.2791603668851864,-1.9780237332050405,-0.45856880363817376,0.7207421525794263,0.26971957755829545,0.4657562094166123,1.2492715347644403,-0.22842210975332455,-0.2870705007107389,-0.24208094259732515,0.24211934347471437,-0.28601364136514074,-0.7228755132630907,0.15762795990197426,-1.7534767132311087,-0.02027642619003036],\"xaxis\":\"x7\",\"y\":[0.5645172566075981,-0.33932437899341966,-1.121520210991983,1.6002719901100757,1.5016206296259804,2.2959127591084303,0.6159086177819855,-0.7571132946788054,-1.8527379210880608,-1.1387426139167482,-1.1802914715008073,0.4863930279547499,-0.1972727517360925,-0.7045335740979844,0.11636261009340494,1.1218343682379364,0.07716204469597837,1.6172483692207498,-0.6227123975706295,-0.8638472923389473,0.7772239006064957,-1.0875868898305794,-0.8172213602844036,-1.6344710636517614,0.4380072171404136,-0.7353431531149569,-1.3292240246460292,2.64076103804586,-0.29720784590850985,1.3985332624862092,-0.05460103642841293,-1.7202047580904671,-2.307117527573707,0.26916881133700654,-1.7677313247111384,0.6385315213928748,1.059188957948073,-0.671379236360241,-1.3058207439934062,-0.15458145256593406,0.06995526962442203,2.5835499038790664,-1.046700114776581,0.44717854638131416,3.0509553348921687,1.1735076138718559,0.8596597027344738,-2.254815679656594,0.9087384098230576,1.4794324312196547,-0.5279978184819706,0.11428912177813569,-0.3206006243579793,0.6369155364690917,0.7040933544865097,2.1455364197699187,-0.310185129037482,-1.1884618328539198,-0.15786482315368378,3.2186195666514505,-0.10773828423557187,0.002865138432579824,-1.1621439679443992,1.8796177622458385,-1.011011249558588,1.26112692119876,0.8353625334967835,0.2787037798133771,-0.29289336451730547,-1.210875011885804,-0.25852796048510923,0.6324642492884567,1.8235740793505282,0.3069505716985952,-2.329145297007603,-1.2353938452853468,-1.0033728108153268,0.0558782491122532,-0.004269293450762822,-0.5134075458464393,0.8650144157816739,0.9575917608001567,-0.37212330519918413,0.22569767089282858,-1.4353961812767824,0.6047693356914953,0.831598022335903,0.3532044398283273,-0.6478073247627921,0.2147827207375652,1.1972101878705765,-0.12637330565608457,1.3462423783258188,-0.03648857415205832,0.10886015509104147,0.31893671014852615,0.10171193001652372,0.975923288760046,0.4650211235038087,-0.6218275280285074],\"yaxis\":\"y7\",\"type\":\"scatter\"},{\"line\":{\"color\":\"rgba(128, 128, 128, 1.0)\",\"dash\":\"solid\",\"shape\":\"linear\",\"width\":1.3},\"marker\":{\"size\":2,\"symbol\":\"circle\"},\"mode\":\"markers\",\"name\":\"B\",\"text\":\"\",\"x\":[-0.6151624147627686,0.8642179796660394,1.6150075801940003,-0.28029472345158046,-0.6419889247977699,0.08072927789314675,0.6971146264882752,-2.198296078188932,-1.0704538706327174,1.0349241595097776,-0.42263232345442175,-2.324469806169129,1.9168979306344651,-0.0009210712168260685,-1.1556686652247599,0.822030953642305,-0.12115398100375059,-0.761490690836794,0.15579305221801515,-1.4847442594265914,-0.3972192958888316,0.6560364566207801,-0.13021767709572385,-1.457154847463913,-0.5769217709750978,-0.6879928014931928,0.8548722443332224,1.0415703051612732,0.03128562644400487,-0.1581166115922977,0.4637674127723924,-0.7682640886276002,-1.4362091480158106,-0.8318808089892663,1.9187921617026056,-1.4559329748981986,1.8818154786472323,-0.7263420773813469,0.2244866827468697,-1.576549265491964,-0.27725949988951853,1.850272178734371,-0.1920227832110244,-1.042785188315941,-0.7042997286034733,-1.8633589008292812,0.18097291381572225,-0.04928432713757553,2.3487718123105985,-0.0993482754106261,-0.1857671198067143,-1.015836065676018,1.1036300679190518,-0.6625012342613555,-0.15362109984995775,0.7814957994822236,-0.48081501642828817,-0.26191947958091033,-1.1012484706391648,2.488726384379564,-0.3666419932097134,0.10953998823415359,-0.3407958793932765,-1.0896937667635471,0.6391060984350521,-0.4949108736043691,0.09934455010362163,-0.8128142011529333,1.1399540042227818,0.559091010194793,1.8450975507014156,-0.7320799455626289,0.6657571665120307,-0.21193125260343734,-1.1962078533671796,0.8246817510121213,0.005705869259143747,1.1621344546334256,-0.40672163155047486,0.43418479240070235,-0.1676393444309276,1.8753100547594126,0.803100678268245,-0.7037504704638958,-0.06803244895829572,0.26032931396568176,0.9507871650753246,0.9026830194735854,0.19134400603202567,-1.5158594202389262,0.6083905806138107,0.5847508262330771,-2.1856144816221112,1.1433174466344616,-0.20543203471603827,0.10174337986287083,-1.086343489037349,1.0460832807357685,0.46797278141809384,1.387173078757153],\"xaxis\":\"x8\",\"y\":[0.5645172566075981,-0.33932437899341966,-1.121520210991983,1.6002719901100757,1.5016206296259804,2.2959127591084303,0.6159086177819855,-0.7571132946788054,-1.8527379210880608,-1.1387426139167482,-1.1802914715008073,0.4863930279547499,-0.1972727517360925,-0.7045335740979844,0.11636261009340494,1.1218343682379364,0.07716204469597837,1.6172483692207498,-0.6227123975706295,-0.8638472923389473,0.7772239006064957,-1.0875868898305794,-0.8172213602844036,-1.6344710636517614,0.4380072171404136,-0.7353431531149569,-1.3292240246460292,2.64076103804586,-0.29720784590850985,1.3985332624862092,-0.05460103642841293,-1.7202047580904671,-2.307117527573707,0.26916881133700654,-1.7677313247111384,0.6385315213928748,1.059188957948073,-0.671379236360241,-1.3058207439934062,-0.15458145256593406,0.06995526962442203,2.5835499038790664,-1.046700114776581,0.44717854638131416,3.0509553348921687,1.1735076138718559,0.8596597027344738,-2.254815679656594,0.9087384098230576,1.4794324312196547,-0.5279978184819706,0.11428912177813569,-0.3206006243579793,0.6369155364690917,0.7040933544865097,2.1455364197699187,-0.310185129037482,-1.1884618328539198,-0.15786482315368378,3.2186195666514505,-0.10773828423557187,0.002865138432579824,-1.1621439679443992,1.8796177622458385,-1.011011249558588,1.26112692119876,0.8353625334967835,0.2787037798133771,-0.29289336451730547,-1.210875011885804,-0.25852796048510923,0.6324642492884567,1.8235740793505282,0.3069505716985952,-2.329145297007603,-1.2353938452853468,-1.0033728108153268,0.0558782491122532,-0.004269293450762822,-0.5134075458464393,0.8650144157816739,0.9575917608001567,-0.37212330519918413,0.22569767089282858,-1.4353961812767824,0.6047693356914953,0.831598022335903,0.3532044398283273,-0.6478073247627921,0.2147827207375652,1.1972101878705765,-0.12637330565608457,1.3462423783258188,-0.03648857415205832,0.10886015509104147,0.31893671014852615,0.10171193001652372,0.975923288760046,0.4650211235038087,-0.6218275280285074],\"yaxis\":\"y8\",\"type\":\"scatter\"},{\"line\":{\"color\":\"rgba(128, 128, 128, 1.0)\",\"dash\":\"solid\",\"shape\":\"linear\",\"width\":1.3},\"marker\":{\"size\":2,\"symbol\":\"circle\"},\"mode\":\"markers\",\"name\":\"C\",\"text\":\"\",\"x\":[-0.5656412823360386,1.0360792852296468,-0.03441248758142155,0.23182280061860472,1.0088992008914284,-0.026715148537010024,-0.20315796235413472,0.5245229236865366,-3.2191295497186694,0.17164228604067813,0.582247745637063,0.9289059114631611,-0.7591861803041988,-0.24277993570070505,-0.1323275276500544,-0.5466769746668216,0.7177731503109126,-0.8191814660705794,-1.4310336841345486,0.2573153328506282,1.3408244257300779,0.486032440581521,-1.2308345803153686,-1.4608107584460366,0.8732239163610039,0.4567394249492647,-1.899861957922655,0.28173525063683097,-0.21805371925692918,1.2626935583320715,0.49886751555253367,1.4174111664802422,0.22660528690867696,-0.6502747916185775,0.16897409062805457,1.21279856642119,1.1143424086245766,-0.3483420722554928,-0.6696543666981883,-1.0632252096403403,-0.15225141923354557,1.316625588404699,1.1720151527353133,-0.027287875274585364,-1.0293154035381185,-0.37492772031126287,-0.04096023078323834,1.182570779299944,-1.376390923724631,-0.799936281543547,-0.707307351593801,0.02001897453784066,-0.978294769085192,0.8508279002602976,-0.5342831423012391,-0.36185037495602906,-0.8056130603514121,0.4111895792611264,0.004379479525213149,0.21780913118781245,0.6211677456201348,-0.7793003130748717,1.103489152734224,-1.7904817940423041,1.0010689343246126,1.8918588281108983,1.2977984640817777,0.3259841032981575,2.0815712057108744,0.8383496802803703,1.7472868342739443,-0.07719520587663783,0.9413390291554022,1.3834950208674481,-0.5569585432839406,-1.819230204577346,0.12169655584130164,1.5616824263876785,-0.45356471914135854,0.19676060898221412,0.009000319539798945,-0.2249124640829556,-0.2188737751900468,0.10764137132759453,0.11196929653740105,1.1665818342784908,-2.020826309495809,2.793163479046665,0.30526228066973804,-0.565887028976998,-0.2001466520368511,-0.5436753674793958,-1.343875859753172,0.6112457603338765,-0.7813886684840383,-1.22303424769474,0.4600825033400545,0.1383873846734834,-0.08138809268576497,0.8471112760129539],\"xaxis\":\"x9\",\"y\":[-2.146739958101434,-0.25301348382365135,-0.4678006529789959,1.4606355389564618,-1.053029059187858,0.6583564309383253,1.2557003967779428,-0.3901218292667429,-1.768170831602827,1.232214512579578,0.4953012904572992,0.10626163855495853,-0.9062865487957101,1.4377033817031488,0.12966714167566729,-0.49631683240136537,0.10118022232583321,1.2050920920572787,-0.033851344727340964,-0.3031727588393859,1.795626787097041,1.6590999074748964,1.184703108828757,-0.09339121146934552,0.1318140522807218,-0.271329903075333,-0.037433080426591,0.5266097124633199,-0.04184233624948661,-1.3867995676792457,0.22799196459083326,0.3657482881768857,-1.0692196386643802,1.350244839107939,0.7355835034493701,0.17369969979000266,-0.16081528921817426,1.226049560303817,1.3904477336174936,0.37539186396935154,-0.2923153758591823,1.339458871844019,1.1550822183337757,0.9161381319826264,0.3181408972498468,0.8878803706789242,0.14556522095000182,-0.8957929735550295,-0.8656756147440221,0.8379349253461297,-2.9106639601375672,-0.5555967419701171,0.6819306724341314,-0.9208763345554103,0.2817986122648016,0.034555487974315895,-0.2561507674698253,-1.3253918989961624,0.4900069958878561,-0.16766884745683136,0.2652274456557487,-0.35034104542085215,-1.2443926590883105,-0.1461384887203423,-0.6581989158191782,-0.191008213851882,1.2547378610543556,0.40303278215971344,0.8321172347852366,-0.5751617423396881,0.9490180361048859,-0.08506551470662083,-0.44221319644508017,-0.573269814959952,-1.3946916335305886,-0.3681650639814785,-0.358803738924242,0.7075716853587268,0.7639885922071894,-0.8461728524859302,1.5230378720062514,-2.2068407513966823,-0.1366748375999527,-0.4021695886351473,0.2791603668851864,-1.9780237332050405,-0.45856880363817376,0.7207421525794263,0.26971957755829545,0.4657562094166123,1.2492715347644403,-0.22842210975332455,-0.2870705007107389,-0.24208094259732515,0.24211934347471437,-0.28601364136514074,-0.7228755132630907,0.15762795990197426,-1.7534767132311087,-0.02027642619003036],\"yaxis\":\"y9\",\"type\":\"scatter\"},{\"line\":{\"color\":\"rgba(128, 128, 128, 1.0)\",\"dash\":\"solid\",\"shape\":\"linear\",\"width\":1.3},\"marker\":{\"size\":2,\"symbol\":\"circle\"},\"mode\":\"markers\",\"name\":\"C\",\"text\":\"\",\"x\":[0.5645172566075981,-0.33932437899341966,-1.121520210991983,1.6002719901100757,1.5016206296259804,2.2959127591084303,0.6159086177819855,-0.7571132946788054,-1.8527379210880608,-1.1387426139167482,-1.1802914715008073,0.4863930279547499,-0.1972727517360925,-0.7045335740979844,0.11636261009340494,1.1218343682379364,0.07716204469597837,1.6172483692207498,-0.6227123975706295,-0.8638472923389473,0.7772239006064957,-1.0875868898305794,-0.8172213602844036,-1.6344710636517614,0.4380072171404136,-0.7353431531149569,-1.3292240246460292,2.64076103804586,-0.29720784590850985,1.3985332624862092,-0.05460103642841293,-1.7202047580904671,-2.307117527573707,0.26916881133700654,-1.7677313247111384,0.6385315213928748,1.059188957948073,-0.671379236360241,-1.3058207439934062,-0.15458145256593406,0.06995526962442203,2.5835499038790664,-1.046700114776581,0.44717854638131416,3.0509553348921687,1.1735076138718559,0.8596597027344738,-2.254815679656594,0.9087384098230576,1.4794324312196547,-0.5279978184819706,0.11428912177813569,-0.3206006243579793,0.6369155364690917,0.7040933544865097,2.1455364197699187,-0.310185129037482,-1.1884618328539198,-0.15786482315368378,3.2186195666514505,-0.10773828423557187,0.002865138432579824,-1.1621439679443992,1.8796177622458385,-1.011011249558588,1.26112692119876,0.8353625334967835,0.2787037798133771,-0.29289336451730547,-1.210875011885804,-0.25852796048510923,0.6324642492884567,1.8235740793505282,0.3069505716985952,-2.329145297007603,-1.2353938452853468,-1.0033728108153268,0.0558782491122532,-0.004269293450762822,-0.5134075458464393,0.8650144157816739,0.9575917608001567,-0.37212330519918413,0.22569767089282858,-1.4353961812767824,0.6047693356914953,0.831598022335903,0.3532044398283273,-0.6478073247627921,0.2147827207375652,1.1972101878705765,-0.12637330565608457,1.3462423783258188,-0.03648857415205832,0.10886015509104147,0.31893671014852615,0.10171193001652372,0.975923288760046,0.4650211235038087,-0.6218275280285074],\"xaxis\":\"x10\",\"y\":[-2.146739958101434,-0.25301348382365135,-0.4678006529789959,1.4606355389564618,-1.053029059187858,0.6583564309383253,1.2557003967779428,-0.3901218292667429,-1.768170831602827,1.232214512579578,0.4953012904572992,0.10626163855495853,-0.9062865487957101,1.4377033817031488,0.12966714167566729,-0.49631683240136537,0.10118022232583321,1.2050920920572787,-0.033851344727340964,-0.3031727588393859,1.795626787097041,1.6590999074748964,1.184703108828757,-0.09339121146934552,0.1318140522807218,-0.271329903075333,-0.037433080426591,0.5266097124633199,-0.04184233624948661,-1.3867995676792457,0.22799196459083326,0.3657482881768857,-1.0692196386643802,1.350244839107939,0.7355835034493701,0.17369969979000266,-0.16081528921817426,1.226049560303817,1.3904477336174936,0.37539186396935154,-0.2923153758591823,1.339458871844019,1.1550822183337757,0.9161381319826264,0.3181408972498468,0.8878803706789242,0.14556522095000182,-0.8957929735550295,-0.8656756147440221,0.8379349253461297,-2.9106639601375672,-0.5555967419701171,0.6819306724341314,-0.9208763345554103,0.2817986122648016,0.034555487974315895,-0.2561507674698253,-1.3253918989961624,0.4900069958878561,-0.16766884745683136,0.2652274456557487,-0.35034104542085215,-1.2443926590883105,-0.1461384887203423,-0.6581989158191782,-0.191008213851882,1.2547378610543556,0.40303278215971344,0.8321172347852366,-0.5751617423396881,0.9490180361048859,-0.08506551470662083,-0.44221319644508017,-0.573269814959952,-1.3946916335305886,-0.3681650639814785,-0.358803738924242,0.7075716853587268,0.7639885922071894,-0.8461728524859302,1.5230378720062514,-2.2068407513966823,-0.1366748375999527,-0.4021695886351473,0.2791603668851864,-1.9780237332050405,-0.45856880363817376,0.7207421525794263,0.26971957755829545,0.4657562094166123,1.2492715347644403,-0.22842210975332455,-0.2870705007107389,-0.24208094259732515,0.24211934347471437,-0.28601364136514074,-0.7228755132630907,0.15762795990197426,-1.7534767132311087,-0.02027642619003036],\"yaxis\":\"y10\",\"type\":\"scatter\"},{\"histfunc\":\"count\",\"histnorm\":\"\",\"marker\":{\"color\":\"rgba(50, 171, 96, 1.0)\",\"line\":{\"color\":\"#4D5663\",\"width\":1.3}},\"name\":\"C\",\"nbinsx\":10,\"opacity\":0.8,\"orientation\":\"v\",\"x\":[-2.146739958101434,-0.25301348382365135,-0.4678006529789959,1.4606355389564618,-1.053029059187858,0.6583564309383253,1.2557003967779428,-0.3901218292667429,-1.768170831602827,1.232214512579578,0.4953012904572992,0.10626163855495853,-0.9062865487957101,1.4377033817031488,0.12966714167566729,-0.49631683240136537,0.10118022232583321,1.2050920920572787,-0.033851344727340964,-0.3031727588393859,1.795626787097041,1.6590999074748964,1.184703108828757,-0.09339121146934552,0.1318140522807218,-0.271329903075333,-0.037433080426591,0.5266097124633199,-0.04184233624948661,-1.3867995676792457,0.22799196459083326,0.3657482881768857,-1.0692196386643802,1.350244839107939,0.7355835034493701,0.17369969979000266,-0.16081528921817426,1.226049560303817,1.3904477336174936,0.37539186396935154,-0.2923153758591823,1.339458871844019,1.1550822183337757,0.9161381319826264,0.3181408972498468,0.8878803706789242,0.14556522095000182,-0.8957929735550295,-0.8656756147440221,0.8379349253461297,-2.9106639601375672,-0.5555967419701171,0.6819306724341314,-0.9208763345554103,0.2817986122648016,0.034555487974315895,-0.2561507674698253,-1.3253918989961624,0.4900069958878561,-0.16766884745683136,0.2652274456557487,-0.35034104542085215,-1.2443926590883105,-0.1461384887203423,-0.6581989158191782,-0.191008213851882,1.2547378610543556,0.40303278215971344,0.8321172347852366,-0.5751617423396881,0.9490180361048859,-0.08506551470662083,-0.44221319644508017,-0.573269814959952,-1.3946916335305886,-0.3681650639814785,-0.358803738924242,0.7075716853587268,0.7639885922071894,-0.8461728524859302,1.5230378720062514,-2.2068407513966823,-0.1366748375999527,-0.4021695886351473,0.2791603668851864,-1.9780237332050405,-0.45856880363817376,0.7207421525794263,0.26971957755829545,0.4657562094166123,1.2492715347644403,-0.22842210975332455,-0.2870705007107389,-0.24208094259732515,0.24211934347471437,-0.28601364136514074,-0.7228755132630907,0.15762795990197426,-1.7534767132311087,-0.02027642619003036],\"xaxis\":\"x11\",\"yaxis\":\"y11\",\"type\":\"histogram\"},{\"line\":{\"color\":\"rgba(128, 128, 128, 1.0)\",\"dash\":\"solid\",\"shape\":\"linear\",\"width\":1.3},\"marker\":{\"size\":2,\"symbol\":\"circle\"},\"mode\":\"markers\",\"name\":\"C\",\"text\":\"\",\"x\":[-0.6151624147627686,0.8642179796660394,1.6150075801940003,-0.28029472345158046,-0.6419889247977699,0.08072927789314675,0.6971146264882752,-2.198296078188932,-1.0704538706327174,1.0349241595097776,-0.42263232345442175,-2.324469806169129,1.9168979306344651,-0.0009210712168260685,-1.1556686652247599,0.822030953642305,-0.12115398100375059,-0.761490690836794,0.15579305221801515,-1.4847442594265914,-0.3972192958888316,0.6560364566207801,-0.13021767709572385,-1.457154847463913,-0.5769217709750978,-0.6879928014931928,0.8548722443332224,1.0415703051612732,0.03128562644400487,-0.1581166115922977,0.4637674127723924,-0.7682640886276002,-1.4362091480158106,-0.8318808089892663,1.9187921617026056,-1.4559329748981986,1.8818154786472323,-0.7263420773813469,0.2244866827468697,-1.576549265491964,-0.27725949988951853,1.850272178734371,-0.1920227832110244,-1.042785188315941,-0.7042997286034733,-1.8633589008292812,0.18097291381572225,-0.04928432713757553,2.3487718123105985,-0.0993482754106261,-0.1857671198067143,-1.015836065676018,1.1036300679190518,-0.6625012342613555,-0.15362109984995775,0.7814957994822236,-0.48081501642828817,-0.26191947958091033,-1.1012484706391648,2.488726384379564,-0.3666419932097134,0.10953998823415359,-0.3407958793932765,-1.0896937667635471,0.6391060984350521,-0.4949108736043691,0.09934455010362163,-0.8128142011529333,1.1399540042227818,0.559091010194793,1.8450975507014156,-0.7320799455626289,0.6657571665120307,-0.21193125260343734,-1.1962078533671796,0.8246817510121213,0.005705869259143747,1.1621344546334256,-0.40672163155047486,0.43418479240070235,-0.1676393444309276,1.8753100547594126,0.803100678268245,-0.7037504704638958,-0.06803244895829572,0.26032931396568176,0.9507871650753246,0.9026830194735854,0.19134400603202567,-1.5158594202389262,0.6083905806138107,0.5847508262330771,-2.1856144816221112,1.1433174466344616,-0.20543203471603827,0.10174337986287083,-1.086343489037349,1.0460832807357685,0.46797278141809384,1.387173078757153],\"xaxis\":\"x12\",\"y\":[-2.146739958101434,-0.25301348382365135,-0.4678006529789959,1.4606355389564618,-1.053029059187858,0.6583564309383253,1.2557003967779428,-0.3901218292667429,-1.768170831602827,1.232214512579578,0.4953012904572992,0.10626163855495853,-0.9062865487957101,1.4377033817031488,0.12966714167566729,-0.49631683240136537,0.10118022232583321,1.2050920920572787,-0.033851344727340964,-0.3031727588393859,1.795626787097041,1.6590999074748964,1.184703108828757,-0.09339121146934552,0.1318140522807218,-0.271329903075333,-0.037433080426591,0.5266097124633199,-0.04184233624948661,-1.3867995676792457,0.22799196459083326,0.3657482881768857,-1.0692196386643802,1.350244839107939,0.7355835034493701,0.17369969979000266,-0.16081528921817426,1.226049560303817,1.3904477336174936,0.37539186396935154,-0.2923153758591823,1.339458871844019,1.1550822183337757,0.9161381319826264,0.3181408972498468,0.8878803706789242,0.14556522095000182,-0.8957929735550295,-0.8656756147440221,0.8379349253461297,-2.9106639601375672,-0.5555967419701171,0.6819306724341314,-0.9208763345554103,0.2817986122648016,0.034555487974315895,-0.2561507674698253,-1.3253918989961624,0.4900069958878561,-0.16766884745683136,0.2652274456557487,-0.35034104542085215,-1.2443926590883105,-0.1461384887203423,-0.6581989158191782,-0.191008213851882,1.2547378610543556,0.40303278215971344,0.8321172347852366,-0.5751617423396881,0.9490180361048859,-0.08506551470662083,-0.44221319644508017,-0.573269814959952,-1.3946916335305886,-0.3681650639814785,-0.358803738924242,0.7075716853587268,0.7639885922071894,-0.8461728524859302,1.5230378720062514,-2.2068407513966823,-0.1366748375999527,-0.4021695886351473,0.2791603668851864,-1.9780237332050405,-0.45856880363817376,0.7207421525794263,0.26971957755829545,0.4657562094166123,1.2492715347644403,-0.22842210975332455,-0.2870705007107389,-0.24208094259732515,0.24211934347471437,-0.28601364136514074,-0.7228755132630907,0.15762795990197426,-1.7534767132311087,-0.02027642619003036],\"yaxis\":\"y12\",\"type\":\"scatter\"},{\"line\":{\"color\":\"rgba(128, 128, 128, 1.0)\",\"dash\":\"solid\",\"shape\":\"linear\",\"width\":1.3},\"marker\":{\"size\":2,\"symbol\":\"circle\"},\"mode\":\"markers\",\"name\":\"D\",\"text\":\"\",\"x\":[-0.5656412823360386,1.0360792852296468,-0.03441248758142155,0.23182280061860472,1.0088992008914284,-0.026715148537010024,-0.20315796235413472,0.5245229236865366,-3.2191295497186694,0.17164228604067813,0.582247745637063,0.9289059114631611,-0.7591861803041988,-0.24277993570070505,-0.1323275276500544,-0.5466769746668216,0.7177731503109126,-0.8191814660705794,-1.4310336841345486,0.2573153328506282,1.3408244257300779,0.486032440581521,-1.2308345803153686,-1.4608107584460366,0.8732239163610039,0.4567394249492647,-1.899861957922655,0.28173525063683097,-0.21805371925692918,1.2626935583320715,0.49886751555253367,1.4174111664802422,0.22660528690867696,-0.6502747916185775,0.16897409062805457,1.21279856642119,1.1143424086245766,-0.3483420722554928,-0.6696543666981883,-1.0632252096403403,-0.15225141923354557,1.316625588404699,1.1720151527353133,-0.027287875274585364,-1.0293154035381185,-0.37492772031126287,-0.04096023078323834,1.182570779299944,-1.376390923724631,-0.799936281543547,-0.707307351593801,0.02001897453784066,-0.978294769085192,0.8508279002602976,-0.5342831423012391,-0.36185037495602906,-0.8056130603514121,0.4111895792611264,0.004379479525213149,0.21780913118781245,0.6211677456201348,-0.7793003130748717,1.103489152734224,-1.7904817940423041,1.0010689343246126,1.8918588281108983,1.2977984640817777,0.3259841032981575,2.0815712057108744,0.8383496802803703,1.7472868342739443,-0.07719520587663783,0.9413390291554022,1.3834950208674481,-0.5569585432839406,-1.819230204577346,0.12169655584130164,1.5616824263876785,-0.45356471914135854,0.19676060898221412,0.009000319539798945,-0.2249124640829556,-0.2188737751900468,0.10764137132759453,0.11196929653740105,1.1665818342784908,-2.020826309495809,2.793163479046665,0.30526228066973804,-0.565887028976998,-0.2001466520368511,-0.5436753674793958,-1.343875859753172,0.6112457603338765,-0.7813886684840383,-1.22303424769474,0.4600825033400545,0.1383873846734834,-0.08138809268576497,0.8471112760129539],\"xaxis\":\"x13\",\"y\":[-0.6151624147627686,0.8642179796660394,1.6150075801940003,-0.28029472345158046,-0.6419889247977699,0.08072927789314675,0.6971146264882752,-2.198296078188932,-1.0704538706327174,1.0349241595097776,-0.42263232345442175,-2.324469806169129,1.9168979306344651,-0.0009210712168260685,-1.1556686652247599,0.822030953642305,-0.12115398100375059,-0.761490690836794,0.15579305221801515,-1.4847442594265914,-0.3972192958888316,0.6560364566207801,-0.13021767709572385,-1.457154847463913,-0.5769217709750978,-0.6879928014931928,0.8548722443332224,1.0415703051612732,0.03128562644400487,-0.1581166115922977,0.4637674127723924,-0.7682640886276002,-1.4362091480158106,-0.8318808089892663,1.9187921617026056,-1.4559329748981986,1.8818154786472323,-0.7263420773813469,0.2244866827468697,-1.576549265491964,-0.27725949988951853,1.850272178734371,-0.1920227832110244,-1.042785188315941,-0.7042997286034733,-1.8633589008292812,0.18097291381572225,-0.04928432713757553,2.3487718123105985,-0.0993482754106261,-0.1857671198067143,-1.015836065676018,1.1036300679190518,-0.6625012342613555,-0.15362109984995775,0.7814957994822236,-0.48081501642828817,-0.26191947958091033,-1.1012484706391648,2.488726384379564,-0.3666419932097134,0.10953998823415359,-0.3407958793932765,-1.0896937667635471,0.6391060984350521,-0.4949108736043691,0.09934455010362163,-0.8128142011529333,1.1399540042227818,0.559091010194793,1.8450975507014156,-0.7320799455626289,0.6657571665120307,-0.21193125260343734,-1.1962078533671796,0.8246817510121213,0.005705869259143747,1.1621344546334256,-0.40672163155047486,0.43418479240070235,-0.1676393444309276,1.8753100547594126,0.803100678268245,-0.7037504704638958,-0.06803244895829572,0.26032931396568176,0.9507871650753246,0.9026830194735854,0.19134400603202567,-1.5158594202389262,0.6083905806138107,0.5847508262330771,-2.1856144816221112,1.1433174466344616,-0.20543203471603827,0.10174337986287083,-1.086343489037349,1.0460832807357685,0.46797278141809384,1.387173078757153],\"yaxis\":\"y13\",\"type\":\"scatter\"},{\"line\":{\"color\":\"rgba(128, 128, 128, 1.0)\",\"dash\":\"solid\",\"shape\":\"linear\",\"width\":1.3},\"marker\":{\"size\":2,\"symbol\":\"circle\"},\"mode\":\"markers\",\"name\":\"D\",\"text\":\"\",\"x\":[0.5645172566075981,-0.33932437899341966,-1.121520210991983,1.6002719901100757,1.5016206296259804,2.2959127591084303,0.6159086177819855,-0.7571132946788054,-1.8527379210880608,-1.1387426139167482,-1.1802914715008073,0.4863930279547499,-0.1972727517360925,-0.7045335740979844,0.11636261009340494,1.1218343682379364,0.07716204469597837,1.6172483692207498,-0.6227123975706295,-0.8638472923389473,0.7772239006064957,-1.0875868898305794,-0.8172213602844036,-1.6344710636517614,0.4380072171404136,-0.7353431531149569,-1.3292240246460292,2.64076103804586,-0.29720784590850985,1.3985332624862092,-0.05460103642841293,-1.7202047580904671,-2.307117527573707,0.26916881133700654,-1.7677313247111384,0.6385315213928748,1.059188957948073,-0.671379236360241,-1.3058207439934062,-0.15458145256593406,0.06995526962442203,2.5835499038790664,-1.046700114776581,0.44717854638131416,3.0509553348921687,1.1735076138718559,0.8596597027344738,-2.254815679656594,0.9087384098230576,1.4794324312196547,-0.5279978184819706,0.11428912177813569,-0.3206006243579793,0.6369155364690917,0.7040933544865097,2.1455364197699187,-0.310185129037482,-1.1884618328539198,-0.15786482315368378,3.2186195666514505,-0.10773828423557187,0.002865138432579824,-1.1621439679443992,1.8796177622458385,-1.011011249558588,1.26112692119876,0.8353625334967835,0.2787037798133771,-0.29289336451730547,-1.210875011885804,-0.25852796048510923,0.6324642492884567,1.8235740793505282,0.3069505716985952,-2.329145297007603,-1.2353938452853468,-1.0033728108153268,0.0558782491122532,-0.004269293450762822,-0.5134075458464393,0.8650144157816739,0.9575917608001567,-0.37212330519918413,0.22569767089282858,-1.4353961812767824,0.6047693356914953,0.831598022335903,0.3532044398283273,-0.6478073247627921,0.2147827207375652,1.1972101878705765,-0.12637330565608457,1.3462423783258188,-0.03648857415205832,0.10886015509104147,0.31893671014852615,0.10171193001652372,0.975923288760046,0.4650211235038087,-0.6218275280285074],\"xaxis\":\"x14\",\"y\":[-0.6151624147627686,0.8642179796660394,1.6150075801940003,-0.28029472345158046,-0.6419889247977699,0.08072927789314675,0.6971146264882752,-2.198296078188932,-1.0704538706327174,1.0349241595097776,-0.42263232345442175,-2.324469806169129,1.9168979306344651,-0.0009210712168260685,-1.1556686652247599,0.822030953642305,-0.12115398100375059,-0.761490690836794,0.15579305221801515,-1.4847442594265914,-0.3972192958888316,0.6560364566207801,-0.13021767709572385,-1.457154847463913,-0.5769217709750978,-0.6879928014931928,0.8548722443332224,1.0415703051612732,0.03128562644400487,-0.1581166115922977,0.4637674127723924,-0.7682640886276002,-1.4362091480158106,-0.8318808089892663,1.9187921617026056,-1.4559329748981986,1.8818154786472323,-0.7263420773813469,0.2244866827468697,-1.576549265491964,-0.27725949988951853,1.850272178734371,-0.1920227832110244,-1.042785188315941,-0.7042997286034733,-1.8633589008292812,0.18097291381572225,-0.04928432713757553,2.3487718123105985,-0.0993482754106261,-0.1857671198067143,-1.015836065676018,1.1036300679190518,-0.6625012342613555,-0.15362109984995775,0.7814957994822236,-0.48081501642828817,-0.26191947958091033,-1.1012484706391648,2.488726384379564,-0.3666419932097134,0.10953998823415359,-0.3407958793932765,-1.0896937667635471,0.6391060984350521,-0.4949108736043691,0.09934455010362163,-0.8128142011529333,1.1399540042227818,0.559091010194793,1.8450975507014156,-0.7320799455626289,0.6657571665120307,-0.21193125260343734,-1.1962078533671796,0.8246817510121213,0.005705869259143747,1.1621344546334256,-0.40672163155047486,0.43418479240070235,-0.1676393444309276,1.8753100547594126,0.803100678268245,-0.7037504704638958,-0.06803244895829572,0.26032931396568176,0.9507871650753246,0.9026830194735854,0.19134400603202567,-1.5158594202389262,0.6083905806138107,0.5847508262330771,-2.1856144816221112,1.1433174466344616,-0.20543203471603827,0.10174337986287083,-1.086343489037349,1.0460832807357685,0.46797278141809384,1.387173078757153],\"yaxis\":\"y14\",\"type\":\"scatter\"},{\"line\":{\"color\":\"rgba(128, 128, 128, 1.0)\",\"dash\":\"solid\",\"shape\":\"linear\",\"width\":1.3},\"marker\":{\"size\":2,\"symbol\":\"circle\"},\"mode\":\"markers\",\"name\":\"D\",\"text\":\"\",\"x\":[-2.146739958101434,-0.25301348382365135,-0.4678006529789959,1.4606355389564618,-1.053029059187858,0.6583564309383253,1.2557003967779428,-0.3901218292667429,-1.768170831602827,1.232214512579578,0.4953012904572992,0.10626163855495853,-0.9062865487957101,1.4377033817031488,0.12966714167566729,-0.49631683240136537,0.10118022232583321,1.2050920920572787,-0.033851344727340964,-0.3031727588393859,1.795626787097041,1.6590999074748964,1.184703108828757,-0.09339121146934552,0.1318140522807218,-0.271329903075333,-0.037433080426591,0.5266097124633199,-0.04184233624948661,-1.3867995676792457,0.22799196459083326,0.3657482881768857,-1.0692196386643802,1.350244839107939,0.7355835034493701,0.17369969979000266,-0.16081528921817426,1.226049560303817,1.3904477336174936,0.37539186396935154,-0.2923153758591823,1.339458871844019,1.1550822183337757,0.9161381319826264,0.3181408972498468,0.8878803706789242,0.14556522095000182,-0.8957929735550295,-0.8656756147440221,0.8379349253461297,-2.9106639601375672,-0.5555967419701171,0.6819306724341314,-0.9208763345554103,0.2817986122648016,0.034555487974315895,-0.2561507674698253,-1.3253918989961624,0.4900069958878561,-0.16766884745683136,0.2652274456557487,-0.35034104542085215,-1.2443926590883105,-0.1461384887203423,-0.6581989158191782,-0.191008213851882,1.2547378610543556,0.40303278215971344,0.8321172347852366,-0.5751617423396881,0.9490180361048859,-0.08506551470662083,-0.44221319644508017,-0.573269814959952,-1.3946916335305886,-0.3681650639814785,-0.358803738924242,0.7075716853587268,0.7639885922071894,-0.8461728524859302,1.5230378720062514,-2.2068407513966823,-0.1366748375999527,-0.4021695886351473,0.2791603668851864,-1.9780237332050405,-0.45856880363817376,0.7207421525794263,0.26971957755829545,0.4657562094166123,1.2492715347644403,-0.22842210975332455,-0.2870705007107389,-0.24208094259732515,0.24211934347471437,-0.28601364136514074,-0.7228755132630907,0.15762795990197426,-1.7534767132311087,-0.02027642619003036],\"xaxis\":\"x15\",\"y\":[-0.6151624147627686,0.8642179796660394,1.6150075801940003,-0.28029472345158046,-0.6419889247977699,0.08072927789314675,0.6971146264882752,-2.198296078188932,-1.0704538706327174,1.0349241595097776,-0.42263232345442175,-2.324469806169129,1.9168979306344651,-0.0009210712168260685,-1.1556686652247599,0.822030953642305,-0.12115398100375059,-0.761490690836794,0.15579305221801515,-1.4847442594265914,-0.3972192958888316,0.6560364566207801,-0.13021767709572385,-1.457154847463913,-0.5769217709750978,-0.6879928014931928,0.8548722443332224,1.0415703051612732,0.03128562644400487,-0.1581166115922977,0.4637674127723924,-0.7682640886276002,-1.4362091480158106,-0.8318808089892663,1.9187921617026056,-1.4559329748981986,1.8818154786472323,-0.7263420773813469,0.2244866827468697,-1.576549265491964,-0.27725949988951853,1.850272178734371,-0.1920227832110244,-1.042785188315941,-0.7042997286034733,-1.8633589008292812,0.18097291381572225,-0.04928432713757553,2.3487718123105985,-0.0993482754106261,-0.1857671198067143,-1.015836065676018,1.1036300679190518,-0.6625012342613555,-0.15362109984995775,0.7814957994822236,-0.48081501642828817,-0.26191947958091033,-1.1012484706391648,2.488726384379564,-0.3666419932097134,0.10953998823415359,-0.3407958793932765,-1.0896937667635471,0.6391060984350521,-0.4949108736043691,0.09934455010362163,-0.8128142011529333,1.1399540042227818,0.559091010194793,1.8450975507014156,-0.7320799455626289,0.6657571665120307,-0.21193125260343734,-1.1962078533671796,0.8246817510121213,0.005705869259143747,1.1621344546334256,-0.40672163155047486,0.43418479240070235,-0.1676393444309276,1.8753100547594126,0.803100678268245,-0.7037504704638958,-0.06803244895829572,0.26032931396568176,0.9507871650753246,0.9026830194735854,0.19134400603202567,-1.5158594202389262,0.6083905806138107,0.5847508262330771,-2.1856144816221112,1.1433174466344616,-0.20543203471603827,0.10174337986287083,-1.086343489037349,1.0460832807357685,0.46797278141809384,1.387173078757153],\"yaxis\":\"y15\",\"type\":\"scatter\"},{\"histfunc\":\"count\",\"histnorm\":\"\",\"marker\":{\"color\":\"rgba(128, 0, 128, 1.0)\",\"line\":{\"color\":\"#4D5663\",\"width\":1.3}},\"name\":\"D\",\"nbinsx\":10,\"opacity\":0.8,\"orientation\":\"v\",\"x\":[-0.6151624147627686,0.8642179796660394,1.6150075801940003,-0.28029472345158046,-0.6419889247977699,0.08072927789314675,0.6971146264882752,-2.198296078188932,-1.0704538706327174,1.0349241595097776,-0.42263232345442175,-2.324469806169129,1.9168979306344651,-0.0009210712168260685,-1.1556686652247599,0.822030953642305,-0.12115398100375059,-0.761490690836794,0.15579305221801515,-1.4847442594265914,-0.3972192958888316,0.6560364566207801,-0.13021767709572385,-1.457154847463913,-0.5769217709750978,-0.6879928014931928,0.8548722443332224,1.0415703051612732,0.03128562644400487,-0.1581166115922977,0.4637674127723924,-0.7682640886276002,-1.4362091480158106,-0.8318808089892663,1.9187921617026056,-1.4559329748981986,1.8818154786472323,-0.7263420773813469,0.2244866827468697,-1.576549265491964,-0.27725949988951853,1.850272178734371,-0.1920227832110244,-1.042785188315941,-0.7042997286034733,-1.8633589008292812,0.18097291381572225,-0.04928432713757553,2.3487718123105985,-0.0993482754106261,-0.1857671198067143,-1.015836065676018,1.1036300679190518,-0.6625012342613555,-0.15362109984995775,0.7814957994822236,-0.48081501642828817,-0.26191947958091033,-1.1012484706391648,2.488726384379564,-0.3666419932097134,0.10953998823415359,-0.3407958793932765,-1.0896937667635471,0.6391060984350521,-0.4949108736043691,0.09934455010362163,-0.8128142011529333,1.1399540042227818,0.559091010194793,1.8450975507014156,-0.7320799455626289,0.6657571665120307,-0.21193125260343734,-1.1962078533671796,0.8246817510121213,0.005705869259143747,1.1621344546334256,-0.40672163155047486,0.43418479240070235,-0.1676393444309276,1.8753100547594126,0.803100678268245,-0.7037504704638958,-0.06803244895829572,0.26032931396568176,0.9507871650753246,0.9026830194735854,0.19134400603202567,-1.5158594202389262,0.6083905806138107,0.5847508262330771,-2.1856144816221112,1.1433174466344616,-0.20543203471603827,0.10174337986287083,-1.086343489037349,1.0460832807357685,0.46797278141809384,1.387173078757153],\"xaxis\":\"x16\",\"yaxis\":\"y16\",\"type\":\"histogram\"}],                        {\"bargap\":0.02,\"legend\":{\"bgcolor\":\"#F5F6F9\",\"font\":{\"color\":\"#4D5663\"}},\"paper_bgcolor\":\"#F5F6F9\",\"plot_bgcolor\":\"#F5F6F9\",\"showlegend\":false,\"template\":{\"data\":{\"barpolar\":[{\"marker\":{\"line\":{\"color\":\"#E5ECF6\",\"width\":0.5},\"pattern\":{\"fillmode\":\"overlay\",\"size\":10,\"solidity\":0.2}},\"type\":\"barpolar\"}],\"bar\":[{\"error_x\":{\"color\":\"#2a3f5f\"},\"error_y\":{\"color\":\"#2a3f5f\"},\"marker\":{\"line\":{\"color\":\"#E5ECF6\",\"width\":0.5},\"pattern\":{\"fillmode\":\"overlay\",\"size\":10,\"solidity\":0.2}},\"type\":\"bar\"}],\"carpet\":[{\"aaxis\":{\"endlinecolor\":\"#2a3f5f\",\"gridcolor\":\"white\",\"linecolor\":\"white\",\"minorgridcolor\":\"white\",\"startlinecolor\":\"#2a3f5f\"},\"baxis\":{\"endlinecolor\":\"#2a3f5f\",\"gridcolor\":\"white\",\"linecolor\":\"white\",\"minorgridcolor\":\"white\",\"startlinecolor\":\"#2a3f5f\"},\"type\":\"carpet\"}],\"choropleth\":[{\"colorbar\":{\"outlinewidth\":0,\"ticks\":\"\"},\"type\":\"choropleth\"}],\"contourcarpet\":[{\"colorbar\":{\"outlinewidth\":0,\"ticks\":\"\"},\"type\":\"contourcarpet\"}],\"contour\":[{\"colorbar\":{\"outlinewidth\":0,\"ticks\":\"\"},\"colorscale\":[[0.0,\"#0d0887\"],[0.1111111111111111,\"#46039f\"],[0.2222222222222222,\"#7201a8\"],[0.3333333333333333,\"#9c179e\"],[0.4444444444444444,\"#bd3786\"],[0.5555555555555556,\"#d8576b\"],[0.6666666666666666,\"#ed7953\"],[0.7777777777777778,\"#fb9f3a\"],[0.8888888888888888,\"#fdca26\"],[1.0,\"#f0f921\"]],\"type\":\"contour\"}],\"heatmapgl\":[{\"colorbar\":{\"outlinewidth\":0,\"ticks\":\"\"},\"colorscale\":[[0.0,\"#0d0887\"],[0.1111111111111111,\"#46039f\"],[0.2222222222222222,\"#7201a8\"],[0.3333333333333333,\"#9c179e\"],[0.4444444444444444,\"#bd3786\"],[0.5555555555555556,\"#d8576b\"],[0.6666666666666666,\"#ed7953\"],[0.7777777777777778,\"#fb9f3a\"],[0.8888888888888888,\"#fdca26\"],[1.0,\"#f0f921\"]],\"type\":\"heatmapgl\"}],\"heatmap\":[{\"colorbar\":{\"outlinewidth\":0,\"ticks\":\"\"},\"colorscale\":[[0.0,\"#0d0887\"],[0.1111111111111111,\"#46039f\"],[0.2222222222222222,\"#7201a8\"],[0.3333333333333333,\"#9c179e\"],[0.4444444444444444,\"#bd3786\"],[0.5555555555555556,\"#d8576b\"],[0.6666666666666666,\"#ed7953\"],[0.7777777777777778,\"#fb9f3a\"],[0.8888888888888888,\"#fdca26\"],[1.0,\"#f0f921\"]],\"type\":\"heatmap\"}],\"histogram2dcontour\":[{\"colorbar\":{\"outlinewidth\":0,\"ticks\":\"\"},\"colorscale\":[[0.0,\"#0d0887\"],[0.1111111111111111,\"#46039f\"],[0.2222222222222222,\"#7201a8\"],[0.3333333333333333,\"#9c179e\"],[0.4444444444444444,\"#bd3786\"],[0.5555555555555556,\"#d8576b\"],[0.6666666666666666,\"#ed7953\"],[0.7777777777777778,\"#fb9f3a\"],[0.8888888888888888,\"#fdca26\"],[1.0,\"#f0f921\"]],\"type\":\"histogram2dcontour\"}],\"histogram2d\":[{\"colorbar\":{\"outlinewidth\":0,\"ticks\":\"\"},\"colorscale\":[[0.0,\"#0d0887\"],[0.1111111111111111,\"#46039f\"],[0.2222222222222222,\"#7201a8\"],[0.3333333333333333,\"#9c179e\"],[0.4444444444444444,\"#bd3786\"],[0.5555555555555556,\"#d8576b\"],[0.6666666666666666,\"#ed7953\"],[0.7777777777777778,\"#fb9f3a\"],[0.8888888888888888,\"#fdca26\"],[1.0,\"#f0f921\"]],\"type\":\"histogram2d\"}],\"histogram\":[{\"marker\":{\"pattern\":{\"fillmode\":\"overlay\",\"size\":10,\"solidity\":0.2}},\"type\":\"histogram\"}],\"mesh3d\":[{\"colorbar\":{\"outlinewidth\":0,\"ticks\":\"\"},\"type\":\"mesh3d\"}],\"parcoords\":[{\"line\":{\"colorbar\":{\"outlinewidth\":0,\"ticks\":\"\"}},\"type\":\"parcoords\"}],\"pie\":[{\"automargin\":true,\"type\":\"pie\"}],\"scatter3d\":[{\"line\":{\"colorbar\":{\"outlinewidth\":0,\"ticks\":\"\"}},\"marker\":{\"colorbar\":{\"outlinewidth\":0,\"ticks\":\"\"}},\"type\":\"scatter3d\"}],\"scattercarpet\":[{\"marker\":{\"colorbar\":{\"outlinewidth\":0,\"ticks\":\"\"}},\"type\":\"scattercarpet\"}],\"scattergeo\":[{\"marker\":{\"colorbar\":{\"outlinewidth\":0,\"ticks\":\"\"}},\"type\":\"scattergeo\"}],\"scattergl\":[{\"marker\":{\"colorbar\":{\"outlinewidth\":0,\"ticks\":\"\"}},\"type\":\"scattergl\"}],\"scattermapbox\":[{\"marker\":{\"colorbar\":{\"outlinewidth\":0,\"ticks\":\"\"}},\"type\":\"scattermapbox\"}],\"scatterpolargl\":[{\"marker\":{\"colorbar\":{\"outlinewidth\":0,\"ticks\":\"\"}},\"type\":\"scatterpolargl\"}],\"scatterpolar\":[{\"marker\":{\"colorbar\":{\"outlinewidth\":0,\"ticks\":\"\"}},\"type\":\"scatterpolar\"}],\"scatter\":[{\"fillpattern\":{\"fillmode\":\"overlay\",\"size\":10,\"solidity\":0.2},\"type\":\"scatter\"}],\"scatterternary\":[{\"marker\":{\"colorbar\":{\"outlinewidth\":0,\"ticks\":\"\"}},\"type\":\"scatterternary\"}],\"surface\":[{\"colorbar\":{\"outlinewidth\":0,\"ticks\":\"\"},\"colorscale\":[[0.0,\"#0d0887\"],[0.1111111111111111,\"#46039f\"],[0.2222222222222222,\"#7201a8\"],[0.3333333333333333,\"#9c179e\"],[0.4444444444444444,\"#bd3786\"],[0.5555555555555556,\"#d8576b\"],[0.6666666666666666,\"#ed7953\"],[0.7777777777777778,\"#fb9f3a\"],[0.8888888888888888,\"#fdca26\"],[1.0,\"#f0f921\"]],\"type\":\"surface\"}],\"table\":[{\"cells\":{\"fill\":{\"color\":\"#EBF0F8\"},\"line\":{\"color\":\"white\"}},\"header\":{\"fill\":{\"color\":\"#C8D4E3\"},\"line\":{\"color\":\"white\"}},\"type\":\"table\"}]},\"layout\":{\"annotationdefaults\":{\"arrowcolor\":\"#2a3f5f\",\"arrowhead\":0,\"arrowwidth\":1},\"autotypenumbers\":\"strict\",\"coloraxis\":{\"colorbar\":{\"outlinewidth\":0,\"ticks\":\"\"}},\"colorscale\":{\"diverging\":[[0,\"#8e0152\"],[0.1,\"#c51b7d\"],[0.2,\"#de77ae\"],[0.3,\"#f1b6da\"],[0.4,\"#fde0ef\"],[0.5,\"#f7f7f7\"],[0.6,\"#e6f5d0\"],[0.7,\"#b8e186\"],[0.8,\"#7fbc41\"],[0.9,\"#4d9221\"],[1,\"#276419\"]],\"sequential\":[[0.0,\"#0d0887\"],[0.1111111111111111,\"#46039f\"],[0.2222222222222222,\"#7201a8\"],[0.3333333333333333,\"#9c179e\"],[0.4444444444444444,\"#bd3786\"],[0.5555555555555556,\"#d8576b\"],[0.6666666666666666,\"#ed7953\"],[0.7777777777777778,\"#fb9f3a\"],[0.8888888888888888,\"#fdca26\"],[1.0,\"#f0f921\"]],\"sequentialminus\":[[0.0,\"#0d0887\"],[0.1111111111111111,\"#46039f\"],[0.2222222222222222,\"#7201a8\"],[0.3333333333333333,\"#9c179e\"],[0.4444444444444444,\"#bd3786\"],[0.5555555555555556,\"#d8576b\"],[0.6666666666666666,\"#ed7953\"],[0.7777777777777778,\"#fb9f3a\"],[0.8888888888888888,\"#fdca26\"],[1.0,\"#f0f921\"]]},\"colorway\":[\"#636efa\",\"#EF553B\",\"#00cc96\",\"#ab63fa\",\"#FFA15A\",\"#19d3f3\",\"#FF6692\",\"#B6E880\",\"#FF97FF\",\"#FECB52\"],\"font\":{\"color\":\"#2a3f5f\"},\"geo\":{\"bgcolor\":\"white\",\"lakecolor\":\"white\",\"landcolor\":\"#E5ECF6\",\"showlakes\":true,\"showland\":true,\"subunitcolor\":\"white\"},\"hoverlabel\":{\"align\":\"left\"},\"hovermode\":\"closest\",\"mapbox\":{\"style\":\"light\"},\"paper_bgcolor\":\"white\",\"plot_bgcolor\":\"#E5ECF6\",\"polar\":{\"angularaxis\":{\"gridcolor\":\"white\",\"linecolor\":\"white\",\"ticks\":\"\"},\"bgcolor\":\"#E5ECF6\",\"radialaxis\":{\"gridcolor\":\"white\",\"linecolor\":\"white\",\"ticks\":\"\"}},\"scene\":{\"xaxis\":{\"backgroundcolor\":\"#E5ECF6\",\"gridcolor\":\"white\",\"gridwidth\":2,\"linecolor\":\"white\",\"showbackground\":true,\"ticks\":\"\",\"zerolinecolor\":\"white\"},\"yaxis\":{\"backgroundcolor\":\"#E5ECF6\",\"gridcolor\":\"white\",\"gridwidth\":2,\"linecolor\":\"white\",\"showbackground\":true,\"ticks\":\"\",\"zerolinecolor\":\"white\"},\"zaxis\":{\"backgroundcolor\":\"#E5ECF6\",\"gridcolor\":\"white\",\"gridwidth\":2,\"linecolor\":\"white\",\"showbackground\":true,\"ticks\":\"\",\"zerolinecolor\":\"white\"}},\"shapedefaults\":{\"line\":{\"color\":\"#2a3f5f\"}},\"ternary\":{\"aaxis\":{\"gridcolor\":\"white\",\"linecolor\":\"white\",\"ticks\":\"\"},\"baxis\":{\"gridcolor\":\"white\",\"linecolor\":\"white\",\"ticks\":\"\"},\"bgcolor\":\"#E5ECF6\",\"caxis\":{\"gridcolor\":\"white\",\"linecolor\":\"white\",\"ticks\":\"\"}},\"title\":{\"x\":0.05},\"xaxis\":{\"automargin\":true,\"gridcolor\":\"white\",\"linecolor\":\"white\",\"ticks\":\"\",\"title\":{\"standoff\":15},\"zerolinecolor\":\"white\",\"zerolinewidth\":2},\"yaxis\":{\"automargin\":true,\"gridcolor\":\"white\",\"linecolor\":\"white\",\"ticks\":\"\",\"title\":{\"standoff\":15},\"zerolinecolor\":\"white\",\"zerolinewidth\":2}}},\"title\":{\"font\":{\"color\":\"#4D5663\"}},\"xaxis\":{\"anchor\":\"y\",\"domain\":[0.0,0.2125],\"gridcolor\":\"#E1E5ED\",\"showgrid\":false,\"tickfont\":{\"color\":\"#4D5663\"},\"title\":{\"font\":{\"color\":\"#4D5663\"},\"text\":\"\"},\"zerolinecolor\":\"#E1E5ED\"},\"yaxis\":{\"anchor\":\"x\",\"domain\":[0.8025,1.0],\"gridcolor\":\"#E1E5ED\",\"showgrid\":false,\"tickfont\":{\"color\":\"#4D5663\"},\"title\":{\"font\":{\"color\":\"#4D5663\"},\"text\":\"\"},\"zerolinecolor\":\"#E1E5ED\"},\"xaxis2\":{\"anchor\":\"y2\",\"domain\":[0.2625,0.475],\"gridcolor\":\"#E1E5ED\",\"showgrid\":false,\"tickfont\":{\"color\":\"#4D5663\"},\"title\":{\"font\":{\"color\":\"#4D5663\"},\"text\":\"\"},\"zerolinecolor\":\"#E1E5ED\"},\"yaxis2\":{\"anchor\":\"x2\",\"domain\":[0.8025,1.0],\"gridcolor\":\"#E1E5ED\",\"showgrid\":false,\"tickfont\":{\"color\":\"#4D5663\"},\"title\":{\"font\":{\"color\":\"#4D5663\"},\"text\":\"\"},\"zerolinecolor\":\"#E1E5ED\"},\"xaxis3\":{\"anchor\":\"y3\",\"domain\":[0.525,0.7375],\"gridcolor\":\"#E1E5ED\",\"showgrid\":false,\"tickfont\":{\"color\":\"#4D5663\"},\"title\":{\"font\":{\"color\":\"#4D5663\"},\"text\":\"\"},\"zerolinecolor\":\"#E1E5ED\"},\"yaxis3\":{\"anchor\":\"x3\",\"domain\":[0.8025,1.0],\"gridcolor\":\"#E1E5ED\",\"showgrid\":false,\"tickfont\":{\"color\":\"#4D5663\"},\"title\":{\"font\":{\"color\":\"#4D5663\"},\"text\":\"\"},\"zerolinecolor\":\"#E1E5ED\"},\"xaxis4\":{\"anchor\":\"y4\",\"domain\":[0.7875,1.0],\"gridcolor\":\"#E1E5ED\",\"showgrid\":false,\"tickfont\":{\"color\":\"#4D5663\"},\"title\":{\"font\":{\"color\":\"#4D5663\"},\"text\":\"\"},\"zerolinecolor\":\"#E1E5ED\"},\"yaxis4\":{\"anchor\":\"x4\",\"domain\":[0.8025,1.0],\"gridcolor\":\"#E1E5ED\",\"showgrid\":false,\"tickfont\":{\"color\":\"#4D5663\"},\"title\":{\"font\":{\"color\":\"#4D5663\"},\"text\":\"\"},\"zerolinecolor\":\"#E1E5ED\"},\"xaxis5\":{\"anchor\":\"y5\",\"domain\":[0.0,0.2125],\"gridcolor\":\"#E1E5ED\",\"showgrid\":false,\"tickfont\":{\"color\":\"#4D5663\"},\"title\":{\"font\":{\"color\":\"#4D5663\"},\"text\":\"\"},\"zerolinecolor\":\"#E1E5ED\"},\"yaxis5\":{\"anchor\":\"x5\",\"domain\":[0.535,0.7325],\"gridcolor\":\"#E1E5ED\",\"showgrid\":false,\"tickfont\":{\"color\":\"#4D5663\"},\"title\":{\"font\":{\"color\":\"#4D5663\"},\"text\":\"\"},\"zerolinecolor\":\"#E1E5ED\"},\"xaxis6\":{\"anchor\":\"y6\",\"domain\":[0.2625,0.475],\"gridcolor\":\"#E1E5ED\",\"showgrid\":false,\"tickfont\":{\"color\":\"#4D5663\"},\"title\":{\"font\":{\"color\":\"#4D5663\"},\"text\":\"\"},\"zerolinecolor\":\"#E1E5ED\"},\"yaxis6\":{\"anchor\":\"x6\",\"domain\":[0.535,0.7325],\"gridcolor\":\"#E1E5ED\",\"showgrid\":false,\"tickfont\":{\"color\":\"#4D5663\"},\"title\":{\"font\":{\"color\":\"#4D5663\"},\"text\":\"\"},\"zerolinecolor\":\"#E1E5ED\"},\"xaxis7\":{\"anchor\":\"y7\",\"domain\":[0.525,0.7375],\"gridcolor\":\"#E1E5ED\",\"showgrid\":false,\"tickfont\":{\"color\":\"#4D5663\"},\"title\":{\"font\":{\"color\":\"#4D5663\"},\"text\":\"\"},\"zerolinecolor\":\"#E1E5ED\"},\"yaxis7\":{\"anchor\":\"x7\",\"domain\":[0.535,0.7325],\"gridcolor\":\"#E1E5ED\",\"showgrid\":false,\"tickfont\":{\"color\":\"#4D5663\"},\"title\":{\"font\":{\"color\":\"#4D5663\"},\"text\":\"\"},\"zerolinecolor\":\"#E1E5ED\"},\"xaxis8\":{\"anchor\":\"y8\",\"domain\":[0.7875,1.0],\"gridcolor\":\"#E1E5ED\",\"showgrid\":false,\"tickfont\":{\"color\":\"#4D5663\"},\"title\":{\"font\":{\"color\":\"#4D5663\"},\"text\":\"\"},\"zerolinecolor\":\"#E1E5ED\"},\"yaxis8\":{\"anchor\":\"x8\",\"domain\":[0.535,0.7325],\"gridcolor\":\"#E1E5ED\",\"showgrid\":false,\"tickfont\":{\"color\":\"#4D5663\"},\"title\":{\"font\":{\"color\":\"#4D5663\"},\"text\":\"\"},\"zerolinecolor\":\"#E1E5ED\"},\"xaxis9\":{\"anchor\":\"y9\",\"domain\":[0.0,0.2125],\"gridcolor\":\"#E1E5ED\",\"showgrid\":false,\"tickfont\":{\"color\":\"#4D5663\"},\"title\":{\"font\":{\"color\":\"#4D5663\"},\"text\":\"\"},\"zerolinecolor\":\"#E1E5ED\"},\"yaxis9\":{\"anchor\":\"x9\",\"domain\":[0.2675,0.465],\"gridcolor\":\"#E1E5ED\",\"showgrid\":false,\"tickfont\":{\"color\":\"#4D5663\"},\"title\":{\"font\":{\"color\":\"#4D5663\"},\"text\":\"\"},\"zerolinecolor\":\"#E1E5ED\"},\"xaxis10\":{\"anchor\":\"y10\",\"domain\":[0.2625,0.475],\"gridcolor\":\"#E1E5ED\",\"showgrid\":false,\"tickfont\":{\"color\":\"#4D5663\"},\"title\":{\"font\":{\"color\":\"#4D5663\"},\"text\":\"\"},\"zerolinecolor\":\"#E1E5ED\"},\"yaxis10\":{\"anchor\":\"x10\",\"domain\":[0.2675,0.465],\"gridcolor\":\"#E1E5ED\",\"showgrid\":false,\"tickfont\":{\"color\":\"#4D5663\"},\"title\":{\"font\":{\"color\":\"#4D5663\"},\"text\":\"\"},\"zerolinecolor\":\"#E1E5ED\"},\"xaxis11\":{\"anchor\":\"y11\",\"domain\":[0.525,0.7375],\"gridcolor\":\"#E1E5ED\",\"showgrid\":false,\"tickfont\":{\"color\":\"#4D5663\"},\"title\":{\"font\":{\"color\":\"#4D5663\"},\"text\":\"\"},\"zerolinecolor\":\"#E1E5ED\"},\"yaxis11\":{\"anchor\":\"x11\",\"domain\":[0.2675,0.465],\"gridcolor\":\"#E1E5ED\",\"showgrid\":false,\"tickfont\":{\"color\":\"#4D5663\"},\"title\":{\"font\":{\"color\":\"#4D5663\"},\"text\":\"\"},\"zerolinecolor\":\"#E1E5ED\"},\"xaxis12\":{\"anchor\":\"y12\",\"domain\":[0.7875,1.0],\"gridcolor\":\"#E1E5ED\",\"showgrid\":false,\"tickfont\":{\"color\":\"#4D5663\"},\"title\":{\"font\":{\"color\":\"#4D5663\"},\"text\":\"\"},\"zerolinecolor\":\"#E1E5ED\"},\"yaxis12\":{\"anchor\":\"x12\",\"domain\":[0.2675,0.465],\"gridcolor\":\"#E1E5ED\",\"showgrid\":false,\"tickfont\":{\"color\":\"#4D5663\"},\"title\":{\"font\":{\"color\":\"#4D5663\"},\"text\":\"\"},\"zerolinecolor\":\"#E1E5ED\"},\"xaxis13\":{\"anchor\":\"y13\",\"domain\":[0.0,0.2125],\"gridcolor\":\"#E1E5ED\",\"showgrid\":false,\"tickfont\":{\"color\":\"#4D5663\"},\"title\":{\"font\":{\"color\":\"#4D5663\"},\"text\":\"\"},\"zerolinecolor\":\"#E1E5ED\"},\"yaxis13\":{\"anchor\":\"x13\",\"domain\":[0.0,0.1975],\"gridcolor\":\"#E1E5ED\",\"showgrid\":false,\"tickfont\":{\"color\":\"#4D5663\"},\"title\":{\"font\":{\"color\":\"#4D5663\"},\"text\":\"\"},\"zerolinecolor\":\"#E1E5ED\"},\"xaxis14\":{\"anchor\":\"y14\",\"domain\":[0.2625,0.475],\"gridcolor\":\"#E1E5ED\",\"showgrid\":false,\"tickfont\":{\"color\":\"#4D5663\"},\"title\":{\"font\":{\"color\":\"#4D5663\"},\"text\":\"\"},\"zerolinecolor\":\"#E1E5ED\"},\"yaxis14\":{\"anchor\":\"x14\",\"domain\":[0.0,0.1975],\"gridcolor\":\"#E1E5ED\",\"showgrid\":false,\"tickfont\":{\"color\":\"#4D5663\"},\"title\":{\"font\":{\"color\":\"#4D5663\"},\"text\":\"\"},\"zerolinecolor\":\"#E1E5ED\"},\"xaxis15\":{\"anchor\":\"y15\",\"domain\":[0.525,0.7375],\"gridcolor\":\"#E1E5ED\",\"showgrid\":false,\"tickfont\":{\"color\":\"#4D5663\"},\"title\":{\"font\":{\"color\":\"#4D5663\"},\"text\":\"\"},\"zerolinecolor\":\"#E1E5ED\"},\"yaxis15\":{\"anchor\":\"x15\",\"domain\":[0.0,0.1975],\"gridcolor\":\"#E1E5ED\",\"showgrid\":false,\"tickfont\":{\"color\":\"#4D5663\"},\"title\":{\"font\":{\"color\":\"#4D5663\"},\"text\":\"\"},\"zerolinecolor\":\"#E1E5ED\"},\"xaxis16\":{\"anchor\":\"y16\",\"domain\":[0.7875,1.0],\"gridcolor\":\"#E1E5ED\",\"showgrid\":false,\"tickfont\":{\"color\":\"#4D5663\"},\"title\":{\"font\":{\"color\":\"#4D5663\"},\"text\":\"\"},\"zerolinecolor\":\"#E1E5ED\"},\"yaxis16\":{\"anchor\":\"x16\",\"domain\":[0.0,0.1975],\"gridcolor\":\"#E1E5ED\",\"showgrid\":false,\"tickfont\":{\"color\":\"#4D5663\"},\"title\":{\"font\":{\"color\":\"#4D5663\"},\"text\":\"\"},\"zerolinecolor\":\"#E1E5ED\"}},                        {\"showLink\": true, \"linkText\": \"Export to plot.ly\", \"plotlyServerURL\": \"https://plot.ly\", \"responsive\": true}                    ).then(function(){\n",
       "                            \n",
       "var gd = document.getElementById('d57c7937-e0cd-4c7f-aeb0-2b8f6498fd5b');\n",
       "var x = new MutationObserver(function (mutations, observer) {{\n",
       "        var display = window.getComputedStyle(gd).display;\n",
       "        if (!display || display === 'none') {{\n",
       "            console.log([gd, 'removed!']);\n",
       "            Plotly.purge(gd);\n",
       "            observer.disconnect();\n",
       "        }}\n",
       "}});\n",
       "\n",
       "// Listen for the removal of the full notebook cells\n",
       "var notebookContainer = gd.closest('#notebook-container');\n",
       "if (notebookContainer) {{\n",
       "    x.observe(notebookContainer, {childList: true});\n",
       "}}\n",
       "\n",
       "// Listen for the clearing of the current output cell\n",
       "var outputEl = gd.closest('.output');\n",
       "if (outputEl) {{\n",
       "    x.observe(outputEl, {childList: true});\n",
       "}}\n",
       "\n",
       "                        })                };                });            </script>        </div>"
      ]
     },
     "metadata": {},
     "output_type": "display_data"
    }
   ],
   "source": [
    "df.scatter_matrix()"
   ]
  },
  {
   "cell_type": "markdown",
   "metadata": {
    "collapsed": true
   },
   "source": [
    "# Great Job!"
   ]
  }
 ],
 "metadata": {
  "kernelspec": {
   "display_name": "Python 3 (ipykernel)",
   "language": "python",
   "name": "python3"
  },
  "language_info": {
   "codemirror_mode": {
    "name": "ipython",
    "version": 3
   },
   "file_extension": ".py",
   "mimetype": "text/x-python",
   "name": "python",
   "nbconvert_exporter": "python",
   "pygments_lexer": "ipython3",
   "version": "3.9.13"
  }
 },
 "nbformat": 4,
 "nbformat_minor": 1
}
